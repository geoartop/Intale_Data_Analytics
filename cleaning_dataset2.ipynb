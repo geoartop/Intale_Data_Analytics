{
 "cells": [
  {
   "cell_type": "code",
   "execution_count": 24,
   "id": "initial_id",
   "metadata": {
    "collapsed": true,
    "ExecuteTime": {
     "end_time": "2023-12-28T12:23:44.742421700Z",
     "start_time": "2023-12-28T12:23:44.737040200Z"
    }
   },
   "outputs": [],
   "source": [
    "import pandas as pd"
   ]
  },
  {
   "cell_type": "code",
   "execution_count": 25,
   "outputs": [
    {
     "data": {
      "text/plain": "             StoreId       Quantity        Revenue\ncount  219224.000000  219224.000000  219224.000000\nmean     8266.473009       1.522009       4.471187\nstd      1885.948316       1.619449       7.289649\nmin      4099.000000       1.000000       0.010000\n25%      7385.000000       1.000000       1.500000\n50%      8537.000000       1.000000       2.700000\n75%     10053.000000       2.000000       4.600000\nmax     10502.000000      90.000000     375.000000",
      "text/html": "<div>\n<style scoped>\n    .dataframe tbody tr th:only-of-type {\n        vertical-align: middle;\n    }\n\n    .dataframe tbody tr th {\n        vertical-align: top;\n    }\n\n    .dataframe thead th {\n        text-align: right;\n    }\n</style>\n<table border=\"1\" class=\"dataframe\">\n  <thead>\n    <tr style=\"text-align: right;\">\n      <th></th>\n      <th>StoreId</th>\n      <th>Quantity</th>\n      <th>Revenue</th>\n    </tr>\n  </thead>\n  <tbody>\n    <tr>\n      <th>count</th>\n      <td>219224.000000</td>\n      <td>219224.000000</td>\n      <td>219224.000000</td>\n    </tr>\n    <tr>\n      <th>mean</th>\n      <td>8266.473009</td>\n      <td>1.522009</td>\n      <td>4.471187</td>\n    </tr>\n    <tr>\n      <th>std</th>\n      <td>1885.948316</td>\n      <td>1.619449</td>\n      <td>7.289649</td>\n    </tr>\n    <tr>\n      <th>min</th>\n      <td>4099.000000</td>\n      <td>1.000000</td>\n      <td>0.010000</td>\n    </tr>\n    <tr>\n      <th>25%</th>\n      <td>7385.000000</td>\n      <td>1.000000</td>\n      <td>1.500000</td>\n    </tr>\n    <tr>\n      <th>50%</th>\n      <td>8537.000000</td>\n      <td>1.000000</td>\n      <td>2.700000</td>\n    </tr>\n    <tr>\n      <th>75%</th>\n      <td>10053.000000</td>\n      <td>2.000000</td>\n      <td>4.600000</td>\n    </tr>\n    <tr>\n      <th>max</th>\n      <td>10502.000000</td>\n      <td>90.000000</td>\n      <td>375.000000</td>\n    </tr>\n  </tbody>\n</table>\n</div>"
     },
     "execution_count": 25,
     "metadata": {},
     "output_type": "execute_result"
    }
   ],
   "source": [
    "# Read dataset2 csv\n",
    "dataset2 = pd.read_csv('data/Dataset2.csv')\n",
    "\n",
    "# Group by date \n",
    "dataset2_group = dataset2.groupby('InvoiceGlobalId')['DateTime'].count().reset_index()\n",
    "dataset2.describe()"
   ],
   "metadata": {
    "collapsed": false,
    "ExecuteTime": {
     "end_time": "2023-12-28T12:23:46.355630400Z",
     "start_time": "2023-12-28T12:23:46.083136800Z"
    }
   },
   "id": "5b363bfc976541a"
  },
  {
   "cell_type": "code",
   "outputs": [
    {
     "data": {
      "text/plain": "Subcategory\nCIG                    43941\nTOBACCO ACCESSORIES    14174\nHEATED                 13709\nRYO                    11248\nENERGY DRINK           10219\n                       ...  \nCOFFEE CAPSULES           13\nESPRESSO GROUND           13\nTEQUILA                    7\nOTHER SNACKS               5\nVERMOUTH                   1\nName: count, Length: 98, dtype: int64"
     },
     "execution_count": 264,
     "metadata": {},
     "output_type": "execute_result"
    }
   ],
   "source": [
    "dataset2['Subcategory'].value_counts()"
   ],
   "metadata": {
    "collapsed": false,
    "ExecuteTime": {
     "end_time": "2023-12-28T11:58:01.756720200Z",
     "start_time": "2023-12-28T11:58:01.746881300Z"
    }
   },
   "id": "cb1ec3621590de82",
   "execution_count": 264
  },
  {
   "cell_type": "code",
   "outputs": [],
   "source": [
    "# Remove subcategories with less than 20 occurrences\n",
    "\n",
    "# Get the subcategories with less than 20 occurrences\n",
    "subcategories = dataset2['Subcategory'].value_counts()\n",
    "subcategories = subcategories[subcategories < 20].index.tolist()\n",
    "\n",
    "# Remove the subcategories from the dataset\n",
    "dataset2 = dataset2[~dataset2['Subcategory'].isin(subcategories)]"
   ],
   "metadata": {
    "collapsed": false,
    "ExecuteTime": {
     "end_time": "2023-12-28T11:42:37.445194Z",
     "start_time": "2023-12-28T11:42:37.413652100Z"
    }
   },
   "id": "5cffeec458202b7b",
   "execution_count": 234
  },
  {
   "cell_type": "code",
   "outputs": [
    {
     "data": {
      "text/plain": "Subcategory\nCIG                    43941\nTOBACCO ACCESSORIES    14174\nHEATED                 13709\nRYO                    11248\nENERGY DRINK           10219\n                       ...  \nHEATED DEVICES            51\nREST NUTRITIOUS           46\nOTHER ICE CREAM           34\nTOBACCO_PIPE              32\nFILTER COFFEE             30\nName: count, Length: 91, dtype: int64"
     },
     "execution_count": 235,
     "metadata": {},
     "output_type": "execute_result"
    }
   ],
   "source": [
    "dataset2['Subcategory'].value_counts()"
   ],
   "metadata": {
    "collapsed": false,
    "ExecuteTime": {
     "end_time": "2023-12-28T11:42:37.470194200Z",
     "start_time": "2023-12-28T11:42:37.434815600Z"
    }
   },
   "id": "6d101ac89a5c7655",
   "execution_count": 235
  },
  {
   "cell_type": "markdown",
   "source": [
    "### Now we want to keep only the columns we need for the clustering"
   ],
   "metadata": {
    "collapsed": false
   },
   "id": "1dd364e856e3e87c"
  },
  {
   "cell_type": "code",
   "outputs": [
    {
     "data": {
      "text/plain": "       InvoiceGlobalId          Subcategory\n0          8412_452536         GREEK COFFEE\n1         4099_1277028                  RYO\n2          8412_452839         ENERGY DRINK\n3          6748_853300  TOBACCO ACCESSORIES\n4         4099_1282071             JELLIES \n...                ...                  ...\n219219     8412_448618         ENERGY DRINK\n219220     8505_716266              NIBBLES\n219221     7385_404476      LONG LIFE JUICE\n219222     8553_262736            DIGESTIVE\n219223     7385_405989      LONG LIFE JUICE\n\n[219224 rows x 2 columns]",
      "text/html": "<div>\n<style scoped>\n    .dataframe tbody tr th:only-of-type {\n        vertical-align: middle;\n    }\n\n    .dataframe tbody tr th {\n        vertical-align: top;\n    }\n\n    .dataframe thead th {\n        text-align: right;\n    }\n</style>\n<table border=\"1\" class=\"dataframe\">\n  <thead>\n    <tr style=\"text-align: right;\">\n      <th></th>\n      <th>InvoiceGlobalId</th>\n      <th>Subcategory</th>\n    </tr>\n  </thead>\n  <tbody>\n    <tr>\n      <th>0</th>\n      <td>8412_452536</td>\n      <td>GREEK COFFEE</td>\n    </tr>\n    <tr>\n      <th>1</th>\n      <td>4099_1277028</td>\n      <td>RYO</td>\n    </tr>\n    <tr>\n      <th>2</th>\n      <td>8412_452839</td>\n      <td>ENERGY DRINK</td>\n    </tr>\n    <tr>\n      <th>3</th>\n      <td>6748_853300</td>\n      <td>TOBACCO ACCESSORIES</td>\n    </tr>\n    <tr>\n      <th>4</th>\n      <td>4099_1282071</td>\n      <td>JELLIES</td>\n    </tr>\n    <tr>\n      <th>...</th>\n      <td>...</td>\n      <td>...</td>\n    </tr>\n    <tr>\n      <th>219219</th>\n      <td>8412_448618</td>\n      <td>ENERGY DRINK</td>\n    </tr>\n    <tr>\n      <th>219220</th>\n      <td>8505_716266</td>\n      <td>NIBBLES</td>\n    </tr>\n    <tr>\n      <th>219221</th>\n      <td>7385_404476</td>\n      <td>LONG LIFE JUICE</td>\n    </tr>\n    <tr>\n      <th>219222</th>\n      <td>8553_262736</td>\n      <td>DIGESTIVE</td>\n    </tr>\n    <tr>\n      <th>219223</th>\n      <td>7385_405989</td>\n      <td>LONG LIFE JUICE</td>\n    </tr>\n  </tbody>\n</table>\n<p>219224 rows × 2 columns</p>\n</div>"
     },
     "execution_count": 265,
     "metadata": {},
     "output_type": "execute_result"
    }
   ],
   "source": [
    "dataset2 = dataset2[['InvoiceGlobalId', 'Subcategory']]\n",
    "dataset2"
   ],
   "metadata": {
    "collapsed": false,
    "ExecuteTime": {
     "end_time": "2023-12-28T11:58:10.449262800Z",
     "start_time": "2023-12-28T11:58:10.434235800Z"
    }
   },
   "id": "95fb2a1cb130a2b6",
   "execution_count": 265
  },
  {
   "cell_type": "code",
   "execution_count": 238,
   "outputs": [
    {
     "data": {
      "text/plain": "       InvoiceGlobalId  Subcategory_ALOE VERA  Subcategory_BAR ICE CREAM  \\\n0          8412_452536                      0                          0   \n1         4099_1277028                      0                          0   \n2          8412_452839                      0                          0   \n3          6748_853300                      0                          0   \n4         4099_1282071                      0                          0   \n...                ...                    ...                        ...   \n219219     8412_448618                      0                          0   \n219220     8505_716266                      0                          0   \n219221     7385_404476                      0                          0   \n219222     8553_262736                      0                          0   \n219223     7385_405989                      0                          0   \n\n        Subcategory_BAR SNACKS  Subcategory_BEERS  Subcategory_BUTTER  \\\n0                            0                  0                   0   \n1                            0                  0                   0   \n2                            0                  0                   0   \n3                            0                  0                   0   \n4                            0                  0                   0   \n...                        ...                ...                 ...   \n219219                       0                  0                   0   \n219220                       0                  0                   0   \n219221                       0                  0                   0   \n219222                       0                  0                   0   \n219223                       0                  0                   0   \n\n        Subcategory_CAKE  Subcategory_CANDIES  Subcategory_CHEESE  \\\n0                      0                    0                   0   \n1                      0                    0                   0   \n2                      0                    0                   0   \n3                      0                    0                   0   \n4                      0                    0                   0   \n...                  ...                  ...                 ...   \n219219                 0                    0                   0   \n219220                 0                    0                   0   \n219221                 0                    0                   0   \n219222                 0                    0                   0   \n219223                 0                    0                   0   \n\n        Subcategory_CHEWING GUMS  ...  Subcategory_TOYS  Subcategory_VAPE  \\\n0                              0  ...                 0                 0   \n1                              0  ...                 0                 0   \n2                              0  ...                 0                 0   \n3                              0  ...                 0                 0   \n4                              0  ...                 0                 0   \n...                          ...  ...               ...               ...   \n219219                         0  ...                 0                 0   \n219220                         0  ...                 0                 0   \n219221                         0  ...                 0                 0   \n219222                         0  ...                 0                 0   \n219223                         0  ...                 0                 0   \n\n        Subcategory_VAPE DEVICES  Subcategory_VODKA  Subcategory_WAFERS  \\\n0                              0                  0                   0   \n1                              0                  0                   0   \n2                              0                  0                   0   \n3                              0                  0                   0   \n4                              0                  0                   0   \n...                          ...                ...                 ...   \n219219                         0                  0                   0   \n219220                         0                  0                   0   \n219221                         0                  0                   0   \n219222                         0                  0                   0   \n219223                         0                  0                   0   \n\n        Subcategory_WHISKY  Subcategory_WINE  Subcategory_YOGURT  \\\n0                        0                 0                   0   \n1                        0                 0                   0   \n2                        0                 0                   0   \n3                        0                 0                   0   \n4                        0                 0                   0   \n...                    ...               ...                 ...   \n219219                   0                 0                   0   \n219220                   0                 0                   0   \n219221                   0                 0                   0   \n219222                   0                 0                   0   \n219223                   0                 0                   0   \n\n        Subcategory_ΟΥΖΟ  Subcategory_ΤΣΙΠΟΥΡΟ  \n0                      0                     0  \n1                      0                     0  \n2                      0                     0  \n3                      0                     0  \n4                      0                     0  \n...                  ...                   ...  \n219219                 0                     0  \n219220                 0                     0  \n219221                 0                     0  \n219222                 0                     0  \n219223                 0                     0  \n\n[219153 rows x 92 columns]",
      "text/html": "<div>\n<style scoped>\n    .dataframe tbody tr th:only-of-type {\n        vertical-align: middle;\n    }\n\n    .dataframe tbody tr th {\n        vertical-align: top;\n    }\n\n    .dataframe thead th {\n        text-align: right;\n    }\n</style>\n<table border=\"1\" class=\"dataframe\">\n  <thead>\n    <tr style=\"text-align: right;\">\n      <th></th>\n      <th>InvoiceGlobalId</th>\n      <th>Subcategory_ALOE VERA</th>\n      <th>Subcategory_BAR ICE CREAM</th>\n      <th>Subcategory_BAR SNACKS</th>\n      <th>Subcategory_BEERS</th>\n      <th>Subcategory_BUTTER</th>\n      <th>Subcategory_CAKE</th>\n      <th>Subcategory_CANDIES</th>\n      <th>Subcategory_CHEESE</th>\n      <th>Subcategory_CHEWING GUMS</th>\n      <th>...</th>\n      <th>Subcategory_TOYS</th>\n      <th>Subcategory_VAPE</th>\n      <th>Subcategory_VAPE DEVICES</th>\n      <th>Subcategory_VODKA</th>\n      <th>Subcategory_WAFERS</th>\n      <th>Subcategory_WHISKY</th>\n      <th>Subcategory_WINE</th>\n      <th>Subcategory_YOGURT</th>\n      <th>Subcategory_ΟΥΖΟ</th>\n      <th>Subcategory_ΤΣΙΠΟΥΡΟ</th>\n    </tr>\n  </thead>\n  <tbody>\n    <tr>\n      <th>0</th>\n      <td>8412_452536</td>\n      <td>0</td>\n      <td>0</td>\n      <td>0</td>\n      <td>0</td>\n      <td>0</td>\n      <td>0</td>\n      <td>0</td>\n      <td>0</td>\n      <td>0</td>\n      <td>...</td>\n      <td>0</td>\n      <td>0</td>\n      <td>0</td>\n      <td>0</td>\n      <td>0</td>\n      <td>0</td>\n      <td>0</td>\n      <td>0</td>\n      <td>0</td>\n      <td>0</td>\n    </tr>\n    <tr>\n      <th>1</th>\n      <td>4099_1277028</td>\n      <td>0</td>\n      <td>0</td>\n      <td>0</td>\n      <td>0</td>\n      <td>0</td>\n      <td>0</td>\n      <td>0</td>\n      <td>0</td>\n      <td>0</td>\n      <td>...</td>\n      <td>0</td>\n      <td>0</td>\n      <td>0</td>\n      <td>0</td>\n      <td>0</td>\n      <td>0</td>\n      <td>0</td>\n      <td>0</td>\n      <td>0</td>\n      <td>0</td>\n    </tr>\n    <tr>\n      <th>2</th>\n      <td>8412_452839</td>\n      <td>0</td>\n      <td>0</td>\n      <td>0</td>\n      <td>0</td>\n      <td>0</td>\n      <td>0</td>\n      <td>0</td>\n      <td>0</td>\n      <td>0</td>\n      <td>...</td>\n      <td>0</td>\n      <td>0</td>\n      <td>0</td>\n      <td>0</td>\n      <td>0</td>\n      <td>0</td>\n      <td>0</td>\n      <td>0</td>\n      <td>0</td>\n      <td>0</td>\n    </tr>\n    <tr>\n      <th>3</th>\n      <td>6748_853300</td>\n      <td>0</td>\n      <td>0</td>\n      <td>0</td>\n      <td>0</td>\n      <td>0</td>\n      <td>0</td>\n      <td>0</td>\n      <td>0</td>\n      <td>0</td>\n      <td>...</td>\n      <td>0</td>\n      <td>0</td>\n      <td>0</td>\n      <td>0</td>\n      <td>0</td>\n      <td>0</td>\n      <td>0</td>\n      <td>0</td>\n      <td>0</td>\n      <td>0</td>\n    </tr>\n    <tr>\n      <th>4</th>\n      <td>4099_1282071</td>\n      <td>0</td>\n      <td>0</td>\n      <td>0</td>\n      <td>0</td>\n      <td>0</td>\n      <td>0</td>\n      <td>0</td>\n      <td>0</td>\n      <td>0</td>\n      <td>...</td>\n      <td>0</td>\n      <td>0</td>\n      <td>0</td>\n      <td>0</td>\n      <td>0</td>\n      <td>0</td>\n      <td>0</td>\n      <td>0</td>\n      <td>0</td>\n      <td>0</td>\n    </tr>\n    <tr>\n      <th>...</th>\n      <td>...</td>\n      <td>...</td>\n      <td>...</td>\n      <td>...</td>\n      <td>...</td>\n      <td>...</td>\n      <td>...</td>\n      <td>...</td>\n      <td>...</td>\n      <td>...</td>\n      <td>...</td>\n      <td>...</td>\n      <td>...</td>\n      <td>...</td>\n      <td>...</td>\n      <td>...</td>\n      <td>...</td>\n      <td>...</td>\n      <td>...</td>\n      <td>...</td>\n      <td>...</td>\n    </tr>\n    <tr>\n      <th>219219</th>\n      <td>8412_448618</td>\n      <td>0</td>\n      <td>0</td>\n      <td>0</td>\n      <td>0</td>\n      <td>0</td>\n      <td>0</td>\n      <td>0</td>\n      <td>0</td>\n      <td>0</td>\n      <td>...</td>\n      <td>0</td>\n      <td>0</td>\n      <td>0</td>\n      <td>0</td>\n      <td>0</td>\n      <td>0</td>\n      <td>0</td>\n      <td>0</td>\n      <td>0</td>\n      <td>0</td>\n    </tr>\n    <tr>\n      <th>219220</th>\n      <td>8505_716266</td>\n      <td>0</td>\n      <td>0</td>\n      <td>0</td>\n      <td>0</td>\n      <td>0</td>\n      <td>0</td>\n      <td>0</td>\n      <td>0</td>\n      <td>0</td>\n      <td>...</td>\n      <td>0</td>\n      <td>0</td>\n      <td>0</td>\n      <td>0</td>\n      <td>0</td>\n      <td>0</td>\n      <td>0</td>\n      <td>0</td>\n      <td>0</td>\n      <td>0</td>\n    </tr>\n    <tr>\n      <th>219221</th>\n      <td>7385_404476</td>\n      <td>0</td>\n      <td>0</td>\n      <td>0</td>\n      <td>0</td>\n      <td>0</td>\n      <td>0</td>\n      <td>0</td>\n      <td>0</td>\n      <td>0</td>\n      <td>...</td>\n      <td>0</td>\n      <td>0</td>\n      <td>0</td>\n      <td>0</td>\n      <td>0</td>\n      <td>0</td>\n      <td>0</td>\n      <td>0</td>\n      <td>0</td>\n      <td>0</td>\n    </tr>\n    <tr>\n      <th>219222</th>\n      <td>8553_262736</td>\n      <td>0</td>\n      <td>0</td>\n      <td>0</td>\n      <td>0</td>\n      <td>0</td>\n      <td>0</td>\n      <td>0</td>\n      <td>0</td>\n      <td>0</td>\n      <td>...</td>\n      <td>0</td>\n      <td>0</td>\n      <td>0</td>\n      <td>0</td>\n      <td>0</td>\n      <td>0</td>\n      <td>0</td>\n      <td>0</td>\n      <td>0</td>\n      <td>0</td>\n    </tr>\n    <tr>\n      <th>219223</th>\n      <td>7385_405989</td>\n      <td>0</td>\n      <td>0</td>\n      <td>0</td>\n      <td>0</td>\n      <td>0</td>\n      <td>0</td>\n      <td>0</td>\n      <td>0</td>\n      <td>0</td>\n      <td>...</td>\n      <td>0</td>\n      <td>0</td>\n      <td>0</td>\n      <td>0</td>\n      <td>0</td>\n      <td>0</td>\n      <td>0</td>\n      <td>0</td>\n      <td>0</td>\n      <td>0</td>\n    </tr>\n  </tbody>\n</table>\n<p>219153 rows × 92 columns</p>\n</div>"
     },
     "execution_count": 238,
     "metadata": {},
     "output_type": "execute_result"
    }
   ],
   "source": [
    "dataset2_encoded = pd.get_dummies(dataset2, columns=['Subcategory'], dtype=int)\n",
    "dataset2_encoded"
   ],
   "metadata": {
    "collapsed": false,
    "ExecuteTime": {
     "end_time": "2023-12-28T11:42:37.725953Z",
     "start_time": "2023-12-28T11:42:37.605669100Z"
    }
   },
   "id": "65ecfbb69f5caa04"
  },
  {
   "cell_type": "code",
   "outputs": [
    {
     "data": {
      "text/plain": "       InvoiceGlobalId  Subcategory_ALOE VERA  Subcategory_BAR ICE CREAM  \\\n0         4099_1273451                      0                          0   \n1         4099_1273452                      0                          0   \n2         4099_1273453                      0                          0   \n3         4099_1273455                      0                          0   \n4         4099_1273456                      0                          0   \n...                ...                    ...                        ...   \n140595     8553_263646                      0                          0   \n140596     8553_263647                      0                          0   \n140597     8553_263648                      0                          0   \n140598     8553_263649                      0                          0   \n140599     8553_263650                      0                          0   \n\n        Subcategory_BAR SNACKS  Subcategory_BEERS  Subcategory_BUTTER  \\\n0                            0                  0                   0   \n1                            0                  0                   0   \n2                            0                  0                   0   \n3                            0                  0                   0   \n4                            0                  1                   0   \n...                        ...                ...                 ...   \n140595                       0                  0                   0   \n140596                       0                  0                   0   \n140597                       0                  1                   0   \n140598                       0                  0                   0   \n140599                       0                  0                   0   \n\n        Subcategory_CAKE  Subcategory_CANDIES  Subcategory_CHEESE  \\\n0                      0                    0                   0   \n1                      0                    0                   0   \n2                      0                    0                   0   \n3                      1                    0                   0   \n4                      0                    0                   0   \n...                  ...                  ...                 ...   \n140595                 0                    0                   0   \n140596                 0                    0                   0   \n140597                 0                    0                   0   \n140598                 0                    0                   0   \n140599                 0                    0                   0   \n\n        Subcategory_CHEWING GUMS  ...  Subcategory_TOYS  Subcategory_VAPE  \\\n0                              0  ...                 0                 0   \n1                              0  ...                 0                 0   \n2                              0  ...                 0                 0   \n3                              0  ...                 0                 0   \n4                              0  ...                 0                 0   \n...                          ...  ...               ...               ...   \n140595                         0  ...                 0                 0   \n140596                         0  ...                 0                 0   \n140597                         0  ...                 0                 0   \n140598                         0  ...                 0                 1   \n140599                         0  ...                 0                 0   \n\n        Subcategory_VAPE DEVICES  Subcategory_VODKA  Subcategory_WAFERS  \\\n0                              0                  0                   0   \n1                              0                  0                   0   \n2                              0                  0                   0   \n3                              0                  0                   0   \n4                              0                  0                   0   \n...                          ...                ...                 ...   \n140595                         0                  0                   0   \n140596                         0                  0                   0   \n140597                         0                  0                   0   \n140598                         0                  0                   0   \n140599                         0                  0                   0   \n\n        Subcategory_WHISKY  Subcategory_WINE  Subcategory_YOGURT  \\\n0                        0                 0                   0   \n1                        0                 0                   0   \n2                        0                 0                   0   \n3                        0                 0                   0   \n4                        0                 0                   0   \n...                    ...               ...                 ...   \n140595                   0                 0                   0   \n140596                   0                 0                   0   \n140597                   0                 0                   0   \n140598                   0                 0                   0   \n140599                   0                 0                   0   \n\n        Subcategory_ΟΥΖΟ  Subcategory_ΤΣΙΠΟΥΡΟ  \n0                      0                     0  \n1                      0                     0  \n2                      0                     0  \n3                      0                     0  \n4                      0                     0  \n...                  ...                   ...  \n140595                 0                     0  \n140596                 0                     0  \n140597                 0                     0  \n140598                 0                     0  \n140599                 0                     0  \n\n[140600 rows x 92 columns]",
      "text/html": "<div>\n<style scoped>\n    .dataframe tbody tr th:only-of-type {\n        vertical-align: middle;\n    }\n\n    .dataframe tbody tr th {\n        vertical-align: top;\n    }\n\n    .dataframe thead th {\n        text-align: right;\n    }\n</style>\n<table border=\"1\" class=\"dataframe\">\n  <thead>\n    <tr style=\"text-align: right;\">\n      <th></th>\n      <th>InvoiceGlobalId</th>\n      <th>Subcategory_ALOE VERA</th>\n      <th>Subcategory_BAR ICE CREAM</th>\n      <th>Subcategory_BAR SNACKS</th>\n      <th>Subcategory_BEERS</th>\n      <th>Subcategory_BUTTER</th>\n      <th>Subcategory_CAKE</th>\n      <th>Subcategory_CANDIES</th>\n      <th>Subcategory_CHEESE</th>\n      <th>Subcategory_CHEWING GUMS</th>\n      <th>...</th>\n      <th>Subcategory_TOYS</th>\n      <th>Subcategory_VAPE</th>\n      <th>Subcategory_VAPE DEVICES</th>\n      <th>Subcategory_VODKA</th>\n      <th>Subcategory_WAFERS</th>\n      <th>Subcategory_WHISKY</th>\n      <th>Subcategory_WINE</th>\n      <th>Subcategory_YOGURT</th>\n      <th>Subcategory_ΟΥΖΟ</th>\n      <th>Subcategory_ΤΣΙΠΟΥΡΟ</th>\n    </tr>\n  </thead>\n  <tbody>\n    <tr>\n      <th>0</th>\n      <td>4099_1273451</td>\n      <td>0</td>\n      <td>0</td>\n      <td>0</td>\n      <td>0</td>\n      <td>0</td>\n      <td>0</td>\n      <td>0</td>\n      <td>0</td>\n      <td>0</td>\n      <td>...</td>\n      <td>0</td>\n      <td>0</td>\n      <td>0</td>\n      <td>0</td>\n      <td>0</td>\n      <td>0</td>\n      <td>0</td>\n      <td>0</td>\n      <td>0</td>\n      <td>0</td>\n    </tr>\n    <tr>\n      <th>1</th>\n      <td>4099_1273452</td>\n      <td>0</td>\n      <td>0</td>\n      <td>0</td>\n      <td>0</td>\n      <td>0</td>\n      <td>0</td>\n      <td>0</td>\n      <td>0</td>\n      <td>0</td>\n      <td>...</td>\n      <td>0</td>\n      <td>0</td>\n      <td>0</td>\n      <td>0</td>\n      <td>0</td>\n      <td>0</td>\n      <td>0</td>\n      <td>0</td>\n      <td>0</td>\n      <td>0</td>\n    </tr>\n    <tr>\n      <th>2</th>\n      <td>4099_1273453</td>\n      <td>0</td>\n      <td>0</td>\n      <td>0</td>\n      <td>0</td>\n      <td>0</td>\n      <td>0</td>\n      <td>0</td>\n      <td>0</td>\n      <td>0</td>\n      <td>...</td>\n      <td>0</td>\n      <td>0</td>\n      <td>0</td>\n      <td>0</td>\n      <td>0</td>\n      <td>0</td>\n      <td>0</td>\n      <td>0</td>\n      <td>0</td>\n      <td>0</td>\n    </tr>\n    <tr>\n      <th>3</th>\n      <td>4099_1273455</td>\n      <td>0</td>\n      <td>0</td>\n      <td>0</td>\n      <td>0</td>\n      <td>0</td>\n      <td>1</td>\n      <td>0</td>\n      <td>0</td>\n      <td>0</td>\n      <td>...</td>\n      <td>0</td>\n      <td>0</td>\n      <td>0</td>\n      <td>0</td>\n      <td>0</td>\n      <td>0</td>\n      <td>0</td>\n      <td>0</td>\n      <td>0</td>\n      <td>0</td>\n    </tr>\n    <tr>\n      <th>4</th>\n      <td>4099_1273456</td>\n      <td>0</td>\n      <td>0</td>\n      <td>0</td>\n      <td>1</td>\n      <td>0</td>\n      <td>0</td>\n      <td>0</td>\n      <td>0</td>\n      <td>0</td>\n      <td>...</td>\n      <td>0</td>\n      <td>0</td>\n      <td>0</td>\n      <td>0</td>\n      <td>0</td>\n      <td>0</td>\n      <td>0</td>\n      <td>0</td>\n      <td>0</td>\n      <td>0</td>\n    </tr>\n    <tr>\n      <th>...</th>\n      <td>...</td>\n      <td>...</td>\n      <td>...</td>\n      <td>...</td>\n      <td>...</td>\n      <td>...</td>\n      <td>...</td>\n      <td>...</td>\n      <td>...</td>\n      <td>...</td>\n      <td>...</td>\n      <td>...</td>\n      <td>...</td>\n      <td>...</td>\n      <td>...</td>\n      <td>...</td>\n      <td>...</td>\n      <td>...</td>\n      <td>...</td>\n      <td>...</td>\n      <td>...</td>\n    </tr>\n    <tr>\n      <th>140595</th>\n      <td>8553_263646</td>\n      <td>0</td>\n      <td>0</td>\n      <td>0</td>\n      <td>0</td>\n      <td>0</td>\n      <td>0</td>\n      <td>0</td>\n      <td>0</td>\n      <td>0</td>\n      <td>...</td>\n      <td>0</td>\n      <td>0</td>\n      <td>0</td>\n      <td>0</td>\n      <td>0</td>\n      <td>0</td>\n      <td>0</td>\n      <td>0</td>\n      <td>0</td>\n      <td>0</td>\n    </tr>\n    <tr>\n      <th>140596</th>\n      <td>8553_263647</td>\n      <td>0</td>\n      <td>0</td>\n      <td>0</td>\n      <td>0</td>\n      <td>0</td>\n      <td>0</td>\n      <td>0</td>\n      <td>0</td>\n      <td>0</td>\n      <td>...</td>\n      <td>0</td>\n      <td>0</td>\n      <td>0</td>\n      <td>0</td>\n      <td>0</td>\n      <td>0</td>\n      <td>0</td>\n      <td>0</td>\n      <td>0</td>\n      <td>0</td>\n    </tr>\n    <tr>\n      <th>140597</th>\n      <td>8553_263648</td>\n      <td>0</td>\n      <td>0</td>\n      <td>0</td>\n      <td>1</td>\n      <td>0</td>\n      <td>0</td>\n      <td>0</td>\n      <td>0</td>\n      <td>0</td>\n      <td>...</td>\n      <td>0</td>\n      <td>0</td>\n      <td>0</td>\n      <td>0</td>\n      <td>0</td>\n      <td>0</td>\n      <td>0</td>\n      <td>0</td>\n      <td>0</td>\n      <td>0</td>\n    </tr>\n    <tr>\n      <th>140598</th>\n      <td>8553_263649</td>\n      <td>0</td>\n      <td>0</td>\n      <td>0</td>\n      <td>0</td>\n      <td>0</td>\n      <td>0</td>\n      <td>0</td>\n      <td>0</td>\n      <td>0</td>\n      <td>...</td>\n      <td>0</td>\n      <td>1</td>\n      <td>0</td>\n      <td>0</td>\n      <td>0</td>\n      <td>0</td>\n      <td>0</td>\n      <td>0</td>\n      <td>0</td>\n      <td>0</td>\n    </tr>\n    <tr>\n      <th>140599</th>\n      <td>8553_263650</td>\n      <td>0</td>\n      <td>0</td>\n      <td>0</td>\n      <td>0</td>\n      <td>0</td>\n      <td>0</td>\n      <td>0</td>\n      <td>0</td>\n      <td>0</td>\n      <td>...</td>\n      <td>0</td>\n      <td>0</td>\n      <td>0</td>\n      <td>0</td>\n      <td>0</td>\n      <td>0</td>\n      <td>0</td>\n      <td>0</td>\n      <td>0</td>\n      <td>0</td>\n    </tr>\n  </tbody>\n</table>\n<p>140600 rows × 92 columns</p>\n</div>"
     },
     "execution_count": 239,
     "metadata": {},
     "output_type": "execute_result"
    }
   ],
   "source": [
    "# Group by InvoiceGlobalId and sum the Subcategory columns\n",
    "dataset2_encoded = dataset2_encoded.groupby('InvoiceGlobalId').sum().reset_index()\n",
    "dataset2_encoded"
   ],
   "metadata": {
    "collapsed": false,
    "ExecuteTime": {
     "end_time": "2023-12-28T11:42:38.341678700Z",
     "start_time": "2023-12-28T11:42:37.721955800Z"
    }
   },
   "id": "3296e27facb9b102",
   "execution_count": 239
  },
  {
   "cell_type": "code",
   "outputs": [],
   "source": [
    "# Keep only the rows with sum of row less than 9\n",
    "category_columns = dataset2_encoded.columns.drop('InvoiceGlobalId')\n",
    "dataset2_encoded = dataset2_encoded[dataset2_encoded[category_columns].sum(axis=1) < 6]"
   ],
   "metadata": {
    "collapsed": false,
    "ExecuteTime": {
     "end_time": "2023-12-28T11:42:38.408011Z",
     "start_time": "2023-12-28T11:42:38.340678900Z"
    }
   },
   "id": "cdc46cc37276e872",
   "execution_count": 241
  },
  {
   "cell_type": "code",
   "outputs": [
    {
     "data": {
      "text/plain": "(139916, 92)"
     },
     "execution_count": 242,
     "metadata": {},
     "output_type": "execute_result"
    }
   ],
   "source": [
    "dataset2_encoded.shape"
   ],
   "metadata": {
    "collapsed": false,
    "ExecuteTime": {
     "end_time": "2023-12-28T11:42:38.408011Z",
     "start_time": "2023-12-28T11:42:38.394011100Z"
    }
   },
   "id": "25d84874169f9065",
   "execution_count": 242
  },
  {
   "cell_type": "markdown",
   "source": [
    "# Later we do K-Means clustering with 8 clusters."
   ],
   "metadata": {
    "collapsed": false
   },
   "id": "4056f4a9fbfc3d13"
  },
  {
   "cell_type": "markdown",
   "source": [
    "## Now for the subcategories"
   ],
   "metadata": {
    "collapsed": false
   },
   "id": "6dda5c0d04ab976f"
  },
  {
   "cell_type": "code",
   "outputs": [],
   "source": [
    "# Write the file to csv\n",
    "dataset2_encoded.to_csv('data/dataset2_encoded_subcategory.csv', index=False)"
   ],
   "metadata": {
    "collapsed": false,
    "ExecuteTime": {
     "end_time": "2023-12-28T11:58:26.728962500Z",
     "start_time": "2023-12-28T11:58:25.946483500Z"
    }
   },
   "id": "4b8a9f826bfe6d49",
   "execution_count": 266
  },
  {
   "cell_type": "markdown",
   "source": [
    "### From Category Mappings\n",
    "\n",
    "Read the Category Mappings file and merge the Category column to the dataset2_encoded dataframe."
   ],
   "metadata": {
    "collapsed": false
   },
   "id": "92f6514fb0ee41c7"
  },
  {
   "cell_type": "code",
   "outputs": [],
   "source": [
    "# Read Category Mappings csv\n",
    "category_mappings = pd.read_csv('data/Category Mapping.csv')"
   ],
   "metadata": {
    "collapsed": false,
    "ExecuteTime": {
     "end_time": "2023-12-28T12:23:52.305481700Z",
     "start_time": "2023-12-28T12:23:52.289952800Z"
    }
   },
   "id": "78569264ff789f35",
   "execution_count": 26
  },
  {
   "cell_type": "code",
   "outputs": [],
   "source": [
    "# Get the Category column from the category_mappings dataframe and merge to dataset2_encoded\n",
    "dataset2_categ = pd.merge(dataset2, category_mappings[['Subcategory', 'Category']], on='Subcategory', how='left')"
   ],
   "metadata": {
    "collapsed": false,
    "ExecuteTime": {
     "end_time": "2023-12-28T12:23:53.119310800Z",
     "start_time": "2023-12-28T12:23:53.090469400Z"
    }
   },
   "id": "11867deb2113e8a6",
   "execution_count": 27
  },
  {
   "cell_type": "code",
   "outputs": [
    {
     "data": {
      "text/plain": "       InvoiceGlobalId        Category\n0          8412_452536          COFFEE\n1         4099_1277028         TOBACCO\n2          8412_452839     SOFT DRINKS\n3          6748_853300   TOBACCO COMPL\n4         4099_1282071  GUMS & CANDIES\n...                ...             ...\n219219     8412_448618     SOFT DRINKS\n219220     8505_716266       CHOCOLATE\n219221     7385_404476     SOFT DRINKS\n219222     8553_262736        BISCUITS\n219223     7385_405989     SOFT DRINKS\n\n[219224 rows x 2 columns]",
      "text/html": "<div>\n<style scoped>\n    .dataframe tbody tr th:only-of-type {\n        vertical-align: middle;\n    }\n\n    .dataframe tbody tr th {\n        vertical-align: top;\n    }\n\n    .dataframe thead th {\n        text-align: right;\n    }\n</style>\n<table border=\"1\" class=\"dataframe\">\n  <thead>\n    <tr style=\"text-align: right;\">\n      <th></th>\n      <th>InvoiceGlobalId</th>\n      <th>Category</th>\n    </tr>\n  </thead>\n  <tbody>\n    <tr>\n      <th>0</th>\n      <td>8412_452536</td>\n      <td>COFFEE</td>\n    </tr>\n    <tr>\n      <th>1</th>\n      <td>4099_1277028</td>\n      <td>TOBACCO</td>\n    </tr>\n    <tr>\n      <th>2</th>\n      <td>8412_452839</td>\n      <td>SOFT DRINKS</td>\n    </tr>\n    <tr>\n      <th>3</th>\n      <td>6748_853300</td>\n      <td>TOBACCO COMPL</td>\n    </tr>\n    <tr>\n      <th>4</th>\n      <td>4099_1282071</td>\n      <td>GUMS &amp; CANDIES</td>\n    </tr>\n    <tr>\n      <th>...</th>\n      <td>...</td>\n      <td>...</td>\n    </tr>\n    <tr>\n      <th>219219</th>\n      <td>8412_448618</td>\n      <td>SOFT DRINKS</td>\n    </tr>\n    <tr>\n      <th>219220</th>\n      <td>8505_716266</td>\n      <td>CHOCOLATE</td>\n    </tr>\n    <tr>\n      <th>219221</th>\n      <td>7385_404476</td>\n      <td>SOFT DRINKS</td>\n    </tr>\n    <tr>\n      <th>219222</th>\n      <td>8553_262736</td>\n      <td>BISCUITS</td>\n    </tr>\n    <tr>\n      <th>219223</th>\n      <td>7385_405989</td>\n      <td>SOFT DRINKS</td>\n    </tr>\n  </tbody>\n</table>\n<p>219224 rows × 2 columns</p>\n</div>"
     },
     "execution_count": 28,
     "metadata": {},
     "output_type": "execute_result"
    }
   ],
   "source": [
    "dataset2_categ = dataset2_categ[['InvoiceGlobalId', 'Category']]\n",
    "dataset2_categ"
   ],
   "metadata": {
    "collapsed": false,
    "ExecuteTime": {
     "end_time": "2023-12-28T12:23:53.551856600Z",
     "start_time": "2023-12-28T12:23:53.541937600Z"
    }
   },
   "id": "81263bf3c1a13c0e",
   "execution_count": 28
  },
  {
   "cell_type": "code",
   "outputs": [
    {
     "data": {
      "text/plain": "       InvoiceGlobalId  Category_ALCOHOLIC BEVERAGES  Category_BISCUITS  \\\n0          8412_452536                             0                  0   \n1         4099_1277028                             0                  0   \n2          8412_452839                             0                  0   \n3          6748_853300                             0                  0   \n4         4099_1282071                             0                  0   \n...                ...                           ...                ...   \n219219     8412_448618                             0                  0   \n219220     8505_716266                             0                  0   \n219221     7385_404476                             0                  0   \n219222     8553_262736                             0                  1   \n219223     7385_405989                             0                  0   \n\n        Category_CHOCOLATE  Category_COFFEE  Category_DAIRY  \\\n0                        0                1               0   \n1                        0                0               0   \n2                        0                0               0   \n3                        0                0               0   \n4                        0                0               0   \n...                    ...              ...             ...   \n219219                   0                0               0   \n219220                   1                0               0   \n219221                   0                0               0   \n219222                   0                0               0   \n219223                   0                0               0   \n\n        Category_GUMS & CANDIES  Category_HOME & PERSONAL CARE  \\\n0                             0                              0   \n1                             0                              0   \n2                             0                              0   \n3                             0                              0   \n4                             1                              0   \n...                         ...                            ...   \n219219                        0                              0   \n219220                        0                              0   \n219221                        0                              0   \n219222                        0                              0   \n219223                        0                              0   \n\n        Category_ICE CREAM  Category_MILK  Category_PACKAGED FOOD  \\\n0                        0              0                       0   \n1                        0              0                       0   \n2                        0              0                       0   \n3                        0              0                       0   \n4                        0              0                       0   \n...                    ...            ...                     ...   \n219219                   0              0                       0   \n219220                   0              0                       0   \n219221                   0              0                       0   \n219222                   0              0                       0   \n219223                   0              0                       0   \n\n        Category_PET CARE  Category_PRINT  Category_SNACKS  \\\n0                       0               0                0   \n1                       0               0                0   \n2                       0               0                0   \n3                       0               0                0   \n4                       0               0                0   \n...                   ...             ...              ...   \n219219                  0               0                0   \n219220                  0               0                0   \n219221                  0               0                0   \n219222                  0               0                0   \n219223                  0               0                0   \n\n        Category_SOFT DRINKS  Category_TICKETING AND ADMISSION SERVICES  \\\n0                          0                                          0   \n1                          0                                          0   \n2                          1                                          0   \n3                          0                                          0   \n4                          0                                          0   \n...                      ...                                        ...   \n219219                     1                                          0   \n219220                     0                                          0   \n219221                     1                                          0   \n219222                     0                                          0   \n219223                     1                                          0   \n\n        Category_TOBACCO  Category_TOBACCO COMPL  Category_TOYS  \n0                      0                       0              0  \n1                      1                       0              0  \n2                      0                       0              0  \n3                      0                       1              0  \n4                      0                       0              0  \n...                  ...                     ...            ...  \n219219                 0                       0              0  \n219220                 0                       0              0  \n219221                 0                       0              0  \n219222                 0                       0              0  \n219223                 0                       0              0  \n\n[219224 rows x 19 columns]",
      "text/html": "<div>\n<style scoped>\n    .dataframe tbody tr th:only-of-type {\n        vertical-align: middle;\n    }\n\n    .dataframe tbody tr th {\n        vertical-align: top;\n    }\n\n    .dataframe thead th {\n        text-align: right;\n    }\n</style>\n<table border=\"1\" class=\"dataframe\">\n  <thead>\n    <tr style=\"text-align: right;\">\n      <th></th>\n      <th>InvoiceGlobalId</th>\n      <th>Category_ALCOHOLIC BEVERAGES</th>\n      <th>Category_BISCUITS</th>\n      <th>Category_CHOCOLATE</th>\n      <th>Category_COFFEE</th>\n      <th>Category_DAIRY</th>\n      <th>Category_GUMS &amp; CANDIES</th>\n      <th>Category_HOME &amp; PERSONAL CARE</th>\n      <th>Category_ICE CREAM</th>\n      <th>Category_MILK</th>\n      <th>Category_PACKAGED FOOD</th>\n      <th>Category_PET CARE</th>\n      <th>Category_PRINT</th>\n      <th>Category_SNACKS</th>\n      <th>Category_SOFT DRINKS</th>\n      <th>Category_TICKETING AND ADMISSION SERVICES</th>\n      <th>Category_TOBACCO</th>\n      <th>Category_TOBACCO COMPL</th>\n      <th>Category_TOYS</th>\n    </tr>\n  </thead>\n  <tbody>\n    <tr>\n      <th>0</th>\n      <td>8412_452536</td>\n      <td>0</td>\n      <td>0</td>\n      <td>0</td>\n      <td>1</td>\n      <td>0</td>\n      <td>0</td>\n      <td>0</td>\n      <td>0</td>\n      <td>0</td>\n      <td>0</td>\n      <td>0</td>\n      <td>0</td>\n      <td>0</td>\n      <td>0</td>\n      <td>0</td>\n      <td>0</td>\n      <td>0</td>\n      <td>0</td>\n    </tr>\n    <tr>\n      <th>1</th>\n      <td>4099_1277028</td>\n      <td>0</td>\n      <td>0</td>\n      <td>0</td>\n      <td>0</td>\n      <td>0</td>\n      <td>0</td>\n      <td>0</td>\n      <td>0</td>\n      <td>0</td>\n      <td>0</td>\n      <td>0</td>\n      <td>0</td>\n      <td>0</td>\n      <td>0</td>\n      <td>0</td>\n      <td>1</td>\n      <td>0</td>\n      <td>0</td>\n    </tr>\n    <tr>\n      <th>2</th>\n      <td>8412_452839</td>\n      <td>0</td>\n      <td>0</td>\n      <td>0</td>\n      <td>0</td>\n      <td>0</td>\n      <td>0</td>\n      <td>0</td>\n      <td>0</td>\n      <td>0</td>\n      <td>0</td>\n      <td>0</td>\n      <td>0</td>\n      <td>0</td>\n      <td>1</td>\n      <td>0</td>\n      <td>0</td>\n      <td>0</td>\n      <td>0</td>\n    </tr>\n    <tr>\n      <th>3</th>\n      <td>6748_853300</td>\n      <td>0</td>\n      <td>0</td>\n      <td>0</td>\n      <td>0</td>\n      <td>0</td>\n      <td>0</td>\n      <td>0</td>\n      <td>0</td>\n      <td>0</td>\n      <td>0</td>\n      <td>0</td>\n      <td>0</td>\n      <td>0</td>\n      <td>0</td>\n      <td>0</td>\n      <td>0</td>\n      <td>1</td>\n      <td>0</td>\n    </tr>\n    <tr>\n      <th>4</th>\n      <td>4099_1282071</td>\n      <td>0</td>\n      <td>0</td>\n      <td>0</td>\n      <td>0</td>\n      <td>0</td>\n      <td>1</td>\n      <td>0</td>\n      <td>0</td>\n      <td>0</td>\n      <td>0</td>\n      <td>0</td>\n      <td>0</td>\n      <td>0</td>\n      <td>0</td>\n      <td>0</td>\n      <td>0</td>\n      <td>0</td>\n      <td>0</td>\n    </tr>\n    <tr>\n      <th>...</th>\n      <td>...</td>\n      <td>...</td>\n      <td>...</td>\n      <td>...</td>\n      <td>...</td>\n      <td>...</td>\n      <td>...</td>\n      <td>...</td>\n      <td>...</td>\n      <td>...</td>\n      <td>...</td>\n      <td>...</td>\n      <td>...</td>\n      <td>...</td>\n      <td>...</td>\n      <td>...</td>\n      <td>...</td>\n      <td>...</td>\n      <td>...</td>\n    </tr>\n    <tr>\n      <th>219219</th>\n      <td>8412_448618</td>\n      <td>0</td>\n      <td>0</td>\n      <td>0</td>\n      <td>0</td>\n      <td>0</td>\n      <td>0</td>\n      <td>0</td>\n      <td>0</td>\n      <td>0</td>\n      <td>0</td>\n      <td>0</td>\n      <td>0</td>\n      <td>0</td>\n      <td>1</td>\n      <td>0</td>\n      <td>0</td>\n      <td>0</td>\n      <td>0</td>\n    </tr>\n    <tr>\n      <th>219220</th>\n      <td>8505_716266</td>\n      <td>0</td>\n      <td>0</td>\n      <td>1</td>\n      <td>0</td>\n      <td>0</td>\n      <td>0</td>\n      <td>0</td>\n      <td>0</td>\n      <td>0</td>\n      <td>0</td>\n      <td>0</td>\n      <td>0</td>\n      <td>0</td>\n      <td>0</td>\n      <td>0</td>\n      <td>0</td>\n      <td>0</td>\n      <td>0</td>\n    </tr>\n    <tr>\n      <th>219221</th>\n      <td>7385_404476</td>\n      <td>0</td>\n      <td>0</td>\n      <td>0</td>\n      <td>0</td>\n      <td>0</td>\n      <td>0</td>\n      <td>0</td>\n      <td>0</td>\n      <td>0</td>\n      <td>0</td>\n      <td>0</td>\n      <td>0</td>\n      <td>0</td>\n      <td>1</td>\n      <td>0</td>\n      <td>0</td>\n      <td>0</td>\n      <td>0</td>\n    </tr>\n    <tr>\n      <th>219222</th>\n      <td>8553_262736</td>\n      <td>0</td>\n      <td>1</td>\n      <td>0</td>\n      <td>0</td>\n      <td>0</td>\n      <td>0</td>\n      <td>0</td>\n      <td>0</td>\n      <td>0</td>\n      <td>0</td>\n      <td>0</td>\n      <td>0</td>\n      <td>0</td>\n      <td>0</td>\n      <td>0</td>\n      <td>0</td>\n      <td>0</td>\n      <td>0</td>\n    </tr>\n    <tr>\n      <th>219223</th>\n      <td>7385_405989</td>\n      <td>0</td>\n      <td>0</td>\n      <td>0</td>\n      <td>0</td>\n      <td>0</td>\n      <td>0</td>\n      <td>0</td>\n      <td>0</td>\n      <td>0</td>\n      <td>0</td>\n      <td>0</td>\n      <td>0</td>\n      <td>0</td>\n      <td>1</td>\n      <td>0</td>\n      <td>0</td>\n      <td>0</td>\n      <td>0</td>\n    </tr>\n  </tbody>\n</table>\n<p>219224 rows × 19 columns</p>\n</div>"
     },
     "execution_count": 29,
     "metadata": {},
     "output_type": "execute_result"
    }
   ],
   "source": [
    "# One-Hot encode the Category column\n",
    "dataset2_categ_encoded = pd.get_dummies(dataset2_categ, columns=['Category'], dtype=int)\n",
    "dataset2_categ_encoded"
   ],
   "metadata": {
    "collapsed": false,
    "ExecuteTime": {
     "end_time": "2023-12-28T12:23:55.138168800Z",
     "start_time": "2023-12-28T12:23:55.098833Z"
    }
   },
   "id": "eca68412292c8b26",
   "execution_count": 29
  },
  {
   "cell_type": "code",
   "outputs": [],
   "source": [
    "# Group by InvoiceGlobalId and sum the Subcategory columns and if the sum is greater than 1, make it 1\n",
    "dataset2_categ_encoded = dataset2_categ_encoded.groupby('InvoiceGlobalId').sum().reset_index()\n",
    "# Replace with 1 if the sum is greater than 1\n",
    "dataset2_categ_encoded[dataset2_categ_encoded.columns[1:]] = dataset2_categ_encoded[dataset2_categ_encoded.columns[1:]].map(lambda x: 1 if x > 1 else x)"
   ],
   "metadata": {
    "collapsed": false,
    "ExecuteTime": {
     "end_time": "2023-12-28T12:23:57.281049300Z",
     "start_time": "2023-12-28T12:23:56.720605400Z"
    }
   },
   "id": "30ab93769f3fbf20",
   "execution_count": 30
  },
  {
   "cell_type": "code",
   "outputs": [
    {
     "data": {
      "text/plain": "0         1\n1         1\n2         1\n3         1\n4         2\n         ..\n140612    1\n140613    2\n140614    1\n140615    3\n140616    1\nLength: 140617, dtype: int64"
     },
     "execution_count": 31,
     "metadata": {},
     "output_type": "execute_result"
    }
   ],
   "source": [
    "# Show the sum of the Category columns\n",
    "category_columns = dataset2_categ_encoded.columns.drop('InvoiceGlobalId')\n",
    "\n",
    "dataset2_categ_encoded[category_columns].sum(axis=1)"
   ],
   "metadata": {
    "collapsed": false,
    "ExecuteTime": {
     "end_time": "2023-12-28T12:24:00.744937Z",
     "start_time": "2023-12-28T12:24:00.724112600Z"
    }
   },
   "id": "3ffd7dfc2ac6b458",
   "execution_count": 31
  },
  {
   "cell_type": "markdown",
   "source": [
    "# Later we do K-Means clustering with 6 clusters."
   ],
   "metadata": {
    "collapsed": false
   },
   "id": "87f05b39c73c3b1e"
  },
  {
   "cell_type": "code",
   "outputs": [],
   "source": [
    "# Write the file to csv\n",
    "dataset2_categ_encoded.to_csv('data/dataset2_categ_encoded.csv', index=False)"
   ],
   "metadata": {
    "collapsed": false,
    "ExecuteTime": {
     "end_time": "2023-12-28T12:24:08.289284Z",
     "start_time": "2023-12-28T12:24:08.081993800Z"
    }
   },
   "id": "4ca9f64ffd14ca9d",
   "execution_count": 32
  }
 ],
 "metadata": {
  "kernelspec": {
   "display_name": "Python 3",
   "language": "python",
   "name": "python3"
  },
  "language_info": {
   "codemirror_mode": {
    "name": "ipython",
    "version": 2
   },
   "file_extension": ".py",
   "mimetype": "text/x-python",
   "name": "python",
   "nbconvert_exporter": "python",
   "pygments_lexer": "ipython2",
   "version": "2.7.6"
  }
 },
 "nbformat": 4,
 "nbformat_minor": 5
}
