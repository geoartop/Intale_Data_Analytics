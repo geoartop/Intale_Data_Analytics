{
 "cells": [
  {
   "cell_type": "code",
   "execution_count": 1,
   "id": "initial_id",
   "metadata": {
    "collapsed": true,
    "ExecuteTime": {
     "end_time": "2023-12-28T12:01:30.049508600Z",
     "start_time": "2023-12-28T12:00:59.303836900Z"
    }
   },
   "outputs": [
    {
     "data": {
      "text/plain": "        Date_Year Date_MonthName  StoreId           Subcategory  Quantity  \\\n0            2022           June     4008  SWEET BAKERY SNACKS       24.0   \n1            2021       November    10254   TOBACCO ACCESSORIES    2156.0   \n2            2022         August     5122                  ΟΥΖΟ       3.0   \n3            2022           June    10254                 CORN       51.0   \n4            2022        October    10280                 STICK     122.0   \n...           ...            ...      ...                   ...       ...   \n351094       2023          March     7986                WHISKY       1.0   \n351095       2023        January     6532              SANDWICH      29.0   \n351096       2023        January     3545               ICE TEA      11.0   \n351097       2022       December     3813                 COLAS     364.0   \n351098       2022       November     7376          GREEK COFFEE      18.0   \n\n        Revenue       Period         Type                        Area  \n0         24.40  Year Before        Kiosk         Μακεδονία και Θράκη  \n1       1437.80  Year Before        Kiosk         Μακεδονία και Θράκη  \n2         11.00  Year Before        Kiosk  Δυτική και Κεντρική Ελλάδα  \n3         74.00  Year Before        Kiosk         Μακεδονία και Θράκη  \n4        277.80  Year Before        Kiosk                      Αττική  \n...         ...          ...          ...                         ...  \n351094    23.00     Year Now  Mini-Market         Μακεδονία και Θράκη  \n351095    48.50     Year Now        Kiosk                       Νησιά  \n351096    20.00     Year Now  Mini-Market                      Αττική  \n351097   653.64     Year Now        Kiosk                Πελοπόννησος  \n351098    50.10     Year Now  Mini-Market                      Αττική  \n\n[351099 rows x 9 columns]",
      "text/html": "<div>\n<style scoped>\n    .dataframe tbody tr th:only-of-type {\n        vertical-align: middle;\n    }\n\n    .dataframe tbody tr th {\n        vertical-align: top;\n    }\n\n    .dataframe thead th {\n        text-align: right;\n    }\n</style>\n<table border=\"1\" class=\"dataframe\">\n  <thead>\n    <tr style=\"text-align: right;\">\n      <th></th>\n      <th>Date_Year</th>\n      <th>Date_MonthName</th>\n      <th>StoreId</th>\n      <th>Subcategory</th>\n      <th>Quantity</th>\n      <th>Revenue</th>\n      <th>Period</th>\n      <th>Type</th>\n      <th>Area</th>\n    </tr>\n  </thead>\n  <tbody>\n    <tr>\n      <th>0</th>\n      <td>2022</td>\n      <td>June</td>\n      <td>4008</td>\n      <td>SWEET BAKERY SNACKS</td>\n      <td>24.0</td>\n      <td>24.40</td>\n      <td>Year Before</td>\n      <td>Kiosk</td>\n      <td>Μακεδονία και Θράκη</td>\n    </tr>\n    <tr>\n      <th>1</th>\n      <td>2021</td>\n      <td>November</td>\n      <td>10254</td>\n      <td>TOBACCO ACCESSORIES</td>\n      <td>2156.0</td>\n      <td>1437.80</td>\n      <td>Year Before</td>\n      <td>Kiosk</td>\n      <td>Μακεδονία και Θράκη</td>\n    </tr>\n    <tr>\n      <th>2</th>\n      <td>2022</td>\n      <td>August</td>\n      <td>5122</td>\n      <td>ΟΥΖΟ</td>\n      <td>3.0</td>\n      <td>11.00</td>\n      <td>Year Before</td>\n      <td>Kiosk</td>\n      <td>Δυτική και Κεντρική Ελλάδα</td>\n    </tr>\n    <tr>\n      <th>3</th>\n      <td>2022</td>\n      <td>June</td>\n      <td>10254</td>\n      <td>CORN</td>\n      <td>51.0</td>\n      <td>74.00</td>\n      <td>Year Before</td>\n      <td>Kiosk</td>\n      <td>Μακεδονία και Θράκη</td>\n    </tr>\n    <tr>\n      <th>4</th>\n      <td>2022</td>\n      <td>October</td>\n      <td>10280</td>\n      <td>STICK</td>\n      <td>122.0</td>\n      <td>277.80</td>\n      <td>Year Before</td>\n      <td>Kiosk</td>\n      <td>Αττική</td>\n    </tr>\n    <tr>\n      <th>...</th>\n      <td>...</td>\n      <td>...</td>\n      <td>...</td>\n      <td>...</td>\n      <td>...</td>\n      <td>...</td>\n      <td>...</td>\n      <td>...</td>\n      <td>...</td>\n    </tr>\n    <tr>\n      <th>351094</th>\n      <td>2023</td>\n      <td>March</td>\n      <td>7986</td>\n      <td>WHISKY</td>\n      <td>1.0</td>\n      <td>23.00</td>\n      <td>Year Now</td>\n      <td>Mini-Market</td>\n      <td>Μακεδονία και Θράκη</td>\n    </tr>\n    <tr>\n      <th>351095</th>\n      <td>2023</td>\n      <td>January</td>\n      <td>6532</td>\n      <td>SANDWICH</td>\n      <td>29.0</td>\n      <td>48.50</td>\n      <td>Year Now</td>\n      <td>Kiosk</td>\n      <td>Νησιά</td>\n    </tr>\n    <tr>\n      <th>351096</th>\n      <td>2023</td>\n      <td>January</td>\n      <td>3545</td>\n      <td>ICE TEA</td>\n      <td>11.0</td>\n      <td>20.00</td>\n      <td>Year Now</td>\n      <td>Mini-Market</td>\n      <td>Αττική</td>\n    </tr>\n    <tr>\n      <th>351097</th>\n      <td>2022</td>\n      <td>December</td>\n      <td>3813</td>\n      <td>COLAS</td>\n      <td>364.0</td>\n      <td>653.64</td>\n      <td>Year Now</td>\n      <td>Kiosk</td>\n      <td>Πελοπόννησος</td>\n    </tr>\n    <tr>\n      <th>351098</th>\n      <td>2022</td>\n      <td>November</td>\n      <td>7376</td>\n      <td>GREEK COFFEE</td>\n      <td>18.0</td>\n      <td>50.10</td>\n      <td>Year Now</td>\n      <td>Mini-Market</td>\n      <td>Αττική</td>\n    </tr>\n  </tbody>\n</table>\n<p>351099 rows × 9 columns</p>\n</div>"
     },
     "execution_count": 1,
     "metadata": {},
     "output_type": "execute_result"
    }
   ],
   "source": [
    "import pandas as pd\n",
    "#mmake excel file to pd\n",
    "data1= pd.read_excel('data/data1analytical.xlsx')\n",
    "#in the period column change the valuse based on the MAT= Year Now  MATYA= Year Before \n",
    "data1['Period'] = data1['Period'].replace(['MAT','MATYA'],['Year Now','Year Before'])\n",
    "data1"
   ]
  },
  {
   "cell_type": "code",
   "execution_count": 2,
   "outputs": [
    {
     "data": {
      "text/plain": "        Date_Year Date_MonthName  StoreId           Subcategory  Quantity  \\\n0            2022           June     4008  SWEET BAKERY SNACKS       24.0   \n1            2021       November    10254   TOBACCO ACCESSORIES    2156.0   \n2            2022         August     5122                  ΟΥΖΟ       3.0   \n3            2022           June    10254                 CORN       51.0   \n4            2022        October    10280                 STICK     122.0   \n...           ...            ...      ...                   ...       ...   \n351094       2023          March     7986                WHISKY       1.0   \n351095       2023        January     6532              SANDWICH      29.0   \n351096       2023        January     3545               ICE TEA      11.0   \n351097       2022       December     3813                 COLAS     364.0   \n351098       2022       November     7376          GREEK COFFEE      18.0   \n\n        Revenue       Period         Type                        Area  \n0         24.40  Year Before        Kiosk         Μακεδονία και Θράκη  \n1       1437.80  Year Before        Kiosk         Μακεδονία και Θράκη  \n2         11.00  Year Before        Kiosk  Δυτική και Κεντρική Ελλάδα  \n3         74.00  Year Before        Kiosk         Μακεδονία και Θράκη  \n4        277.80  Year Before        Kiosk                      Αττική  \n...         ...          ...          ...                         ...  \n351094    23.00     Year Now  Mini-Market         Μακεδονία και Θράκη  \n351095    48.50     Year Now        Kiosk                       Νησιά  \n351096    20.00     Year Now  Mini-Market                      Αττική  \n351097   653.64     Year Now        Kiosk                Πελοπόννησος  \n351098    50.10     Year Now  Mini-Market                      Αττική  \n\n[351099 rows x 9 columns]",
      "text/html": "<div>\n<style scoped>\n    .dataframe tbody tr th:only-of-type {\n        vertical-align: middle;\n    }\n\n    .dataframe tbody tr th {\n        vertical-align: top;\n    }\n\n    .dataframe thead th {\n        text-align: right;\n    }\n</style>\n<table border=\"1\" class=\"dataframe\">\n  <thead>\n    <tr style=\"text-align: right;\">\n      <th></th>\n      <th>Date_Year</th>\n      <th>Date_MonthName</th>\n      <th>StoreId</th>\n      <th>Subcategory</th>\n      <th>Quantity</th>\n      <th>Revenue</th>\n      <th>Period</th>\n      <th>Type</th>\n      <th>Area</th>\n    </tr>\n  </thead>\n  <tbody>\n    <tr>\n      <th>0</th>\n      <td>2022</td>\n      <td>June</td>\n      <td>4008</td>\n      <td>SWEET BAKERY SNACKS</td>\n      <td>24.0</td>\n      <td>24.40</td>\n      <td>Year Before</td>\n      <td>Kiosk</td>\n      <td>Μακεδονία και Θράκη</td>\n    </tr>\n    <tr>\n      <th>1</th>\n      <td>2021</td>\n      <td>November</td>\n      <td>10254</td>\n      <td>TOBACCO ACCESSORIES</td>\n      <td>2156.0</td>\n      <td>1437.80</td>\n      <td>Year Before</td>\n      <td>Kiosk</td>\n      <td>Μακεδονία και Θράκη</td>\n    </tr>\n    <tr>\n      <th>2</th>\n      <td>2022</td>\n      <td>August</td>\n      <td>5122</td>\n      <td>ΟΥΖΟ</td>\n      <td>3.0</td>\n      <td>11.00</td>\n      <td>Year Before</td>\n      <td>Kiosk</td>\n      <td>Δυτική και Κεντρική Ελλάδα</td>\n    </tr>\n    <tr>\n      <th>3</th>\n      <td>2022</td>\n      <td>June</td>\n      <td>10254</td>\n      <td>CORN</td>\n      <td>51.0</td>\n      <td>74.00</td>\n      <td>Year Before</td>\n      <td>Kiosk</td>\n      <td>Μακεδονία και Θράκη</td>\n    </tr>\n    <tr>\n      <th>4</th>\n      <td>2022</td>\n      <td>October</td>\n      <td>10280</td>\n      <td>STICK</td>\n      <td>122.0</td>\n      <td>277.80</td>\n      <td>Year Before</td>\n      <td>Kiosk</td>\n      <td>Αττική</td>\n    </tr>\n    <tr>\n      <th>...</th>\n      <td>...</td>\n      <td>...</td>\n      <td>...</td>\n      <td>...</td>\n      <td>...</td>\n      <td>...</td>\n      <td>...</td>\n      <td>...</td>\n      <td>...</td>\n    </tr>\n    <tr>\n      <th>351094</th>\n      <td>2023</td>\n      <td>March</td>\n      <td>7986</td>\n      <td>WHISKY</td>\n      <td>1.0</td>\n      <td>23.00</td>\n      <td>Year Now</td>\n      <td>Mini-Market</td>\n      <td>Μακεδονία και Θράκη</td>\n    </tr>\n    <tr>\n      <th>351095</th>\n      <td>2023</td>\n      <td>January</td>\n      <td>6532</td>\n      <td>SANDWICH</td>\n      <td>29.0</td>\n      <td>48.50</td>\n      <td>Year Now</td>\n      <td>Kiosk</td>\n      <td>Νησιά</td>\n    </tr>\n    <tr>\n      <th>351096</th>\n      <td>2023</td>\n      <td>January</td>\n      <td>3545</td>\n      <td>ICE TEA</td>\n      <td>11.0</td>\n      <td>20.00</td>\n      <td>Year Now</td>\n      <td>Mini-Market</td>\n      <td>Αττική</td>\n    </tr>\n    <tr>\n      <th>351097</th>\n      <td>2022</td>\n      <td>December</td>\n      <td>3813</td>\n      <td>COLAS</td>\n      <td>364.0</td>\n      <td>653.64</td>\n      <td>Year Now</td>\n      <td>Kiosk</td>\n      <td>Πελοπόννησος</td>\n    </tr>\n    <tr>\n      <th>351098</th>\n      <td>2022</td>\n      <td>November</td>\n      <td>7376</td>\n      <td>GREEK COFFEE</td>\n      <td>18.0</td>\n      <td>50.10</td>\n      <td>Year Now</td>\n      <td>Mini-Market</td>\n      <td>Αττική</td>\n    </tr>\n  </tbody>\n</table>\n<p>351099 rows × 9 columns</p>\n</div>"
     },
     "execution_count": 2,
     "metadata": {},
     "output_type": "execute_result"
    }
   ],
   "source": [
    "data1['Period'] = data1['Period'].replace(['MAT','MATYA'],['Year Now','Year Before'])\n",
    "data1"
   ],
   "metadata": {
    "collapsed": false,
    "ExecuteTime": {
     "end_time": "2023-12-28T12:01:30.093842900Z",
     "start_time": "2023-12-28T12:01:30.044506400Z"
    }
   },
   "id": "812517b91889094a"
  },
  {
   "cell_type": "code",
   "execution_count": 3,
   "outputs": [
    {
     "data": {
      "text/plain": "        Period       Revenue\n0  Year Before  1.200199e+08\n1     Year Now  1.297343e+08",
      "text/html": "<div>\n<style scoped>\n    .dataframe tbody tr th:only-of-type {\n        vertical-align: middle;\n    }\n\n    .dataframe tbody tr th {\n        vertical-align: top;\n    }\n\n    .dataframe thead th {\n        text-align: right;\n    }\n</style>\n<table border=\"1\" class=\"dataframe\">\n  <thead>\n    <tr style=\"text-align: right;\">\n      <th></th>\n      <th>Period</th>\n      <th>Revenue</th>\n    </tr>\n  </thead>\n  <tbody>\n    <tr>\n      <th>0</th>\n      <td>Year Before</td>\n      <td>1.200199e+08</td>\n    </tr>\n    <tr>\n      <th>1</th>\n      <td>Year Now</td>\n      <td>1.297343e+08</td>\n    </tr>\n  </tbody>\n</table>\n</div>"
     },
     "execution_count": 3,
     "metadata": {},
     "output_type": "execute_result"
    }
   ],
   "source": [
    "total_mm_revenue = data1.groupby(['Period'])['Revenue'].sum().reset_index()\n",
    "total_mm_revenue"
   ],
   "metadata": {
    "collapsed": false,
    "ExecuteTime": {
     "end_time": "2023-12-28T12:01:30.139599100Z",
     "start_time": "2023-12-28T12:01:30.084843200Z"
    }
   },
   "id": "27b510b0352facbd"
  },
  {
   "cell_type": "code",
   "execution_count": 9,
   "outputs": [
    {
     "data": {
      "text/plain": "       Subcategory       Period    Revenue  Quantity\n0        ALOE VERA  Year Before   39974.16   22331.0\n1        ALOE VERA     Year Now   31501.21   17111.0\n2    BAR ICE CREAM  Year Before   54676.57   23325.0\n3    BAR ICE CREAM     Year Now   63682.87   22974.0\n4       BAR SNACKS  Year Before  153697.16   98917.0\n..             ...          ...        ...       ...\n194         YOGURT     Year Now  338554.59  141253.0\n195           ΟΥΖΟ  Year Before   86790.22   18592.0\n196           ΟΥΖΟ     Year Now  107074.29   21499.0\n197       ΤΣΙΠΟΥΡΟ  Year Before  143537.60   37168.0\n198       ΤΣΙΠΟΥΡΟ     Year Now  160993.41   39724.0\n\n[199 rows x 4 columns]",
      "text/html": "<div>\n<style scoped>\n    .dataframe tbody tr th:only-of-type {\n        vertical-align: middle;\n    }\n\n    .dataframe tbody tr th {\n        vertical-align: top;\n    }\n\n    .dataframe thead th {\n        text-align: right;\n    }\n</style>\n<table border=\"1\" class=\"dataframe\">\n  <thead>\n    <tr style=\"text-align: right;\">\n      <th></th>\n      <th>Subcategory</th>\n      <th>Period</th>\n      <th>Revenue</th>\n      <th>Quantity</th>\n    </tr>\n  </thead>\n  <tbody>\n    <tr>\n      <th>0</th>\n      <td>ALOE VERA</td>\n      <td>Year Before</td>\n      <td>39974.16</td>\n      <td>22331.0</td>\n    </tr>\n    <tr>\n      <th>1</th>\n      <td>ALOE VERA</td>\n      <td>Year Now</td>\n      <td>31501.21</td>\n      <td>17111.0</td>\n    </tr>\n    <tr>\n      <th>2</th>\n      <td>BAR ICE CREAM</td>\n      <td>Year Before</td>\n      <td>54676.57</td>\n      <td>23325.0</td>\n    </tr>\n    <tr>\n      <th>3</th>\n      <td>BAR ICE CREAM</td>\n      <td>Year Now</td>\n      <td>63682.87</td>\n      <td>22974.0</td>\n    </tr>\n    <tr>\n      <th>4</th>\n      <td>BAR SNACKS</td>\n      <td>Year Before</td>\n      <td>153697.16</td>\n      <td>98917.0</td>\n    </tr>\n    <tr>\n      <th>...</th>\n      <td>...</td>\n      <td>...</td>\n      <td>...</td>\n      <td>...</td>\n    </tr>\n    <tr>\n      <th>194</th>\n      <td>YOGURT</td>\n      <td>Year Now</td>\n      <td>338554.59</td>\n      <td>141253.0</td>\n    </tr>\n    <tr>\n      <th>195</th>\n      <td>ΟΥΖΟ</td>\n      <td>Year Before</td>\n      <td>86790.22</td>\n      <td>18592.0</td>\n    </tr>\n    <tr>\n      <th>196</th>\n      <td>ΟΥΖΟ</td>\n      <td>Year Now</td>\n      <td>107074.29</td>\n      <td>21499.0</td>\n    </tr>\n    <tr>\n      <th>197</th>\n      <td>ΤΣΙΠΟΥΡΟ</td>\n      <td>Year Before</td>\n      <td>143537.60</td>\n      <td>37168.0</td>\n    </tr>\n    <tr>\n      <th>198</th>\n      <td>ΤΣΙΠΟΥΡΟ</td>\n      <td>Year Now</td>\n      <td>160993.41</td>\n      <td>39724.0</td>\n    </tr>\n  </tbody>\n</table>\n<p>199 rows × 4 columns</p>\n</div>"
     },
     "execution_count": 9,
     "metadata": {},
     "output_type": "execute_result"
    }
   ],
   "source": [
    "sales_per_catrgory = data1.groupby(['Subcategory','Period'])[['Revenue','Quantity']].sum().reset_index()\n",
    "sales_per_catrgory"
   ],
   "metadata": {
    "collapsed": false,
    "ExecuteTime": {
     "end_time": "2023-12-28T12:04:25.841428200Z",
     "start_time": "2023-12-28T12:04:25.776985400Z"
    }
   },
   "id": "858254a97d1c9cc9"
  },
  {
   "cell_type": "code",
   "execution_count": 11,
   "outputs": [
    {
     "data": {
      "text/plain": "       Subcategory       Period    Revenue  Quantity  Revenue_pct_change\n0        ALOE VERA  Year Before   39974.16   22331.0                 NaN\n1        ALOE VERA     Year Now   31501.21   17111.0           -0.211961\n2    BAR ICE CREAM  Year Before   54676.57   23325.0                 NaN\n3    BAR ICE CREAM     Year Now   63682.87   22974.0            0.164720\n4       BAR SNACKS  Year Before  153697.16   98917.0                 NaN\n..             ...          ...        ...       ...                 ...\n194         YOGURT     Year Now  338554.59  141253.0            0.054635\n195           ΟΥΖΟ  Year Before   86790.22   18592.0                 NaN\n196           ΟΥΖΟ     Year Now  107074.29   21499.0            0.233714\n197       ΤΣΙΠΟΥΡΟ  Year Before  143537.60   37168.0                 NaN\n198       ΤΣΙΠΟΥΡΟ     Year Now  160993.41   39724.0            0.121611\n\n[199 rows x 5 columns]",
      "text/html": "<div>\n<style scoped>\n    .dataframe tbody tr th:only-of-type {\n        vertical-align: middle;\n    }\n\n    .dataframe tbody tr th {\n        vertical-align: top;\n    }\n\n    .dataframe thead th {\n        text-align: right;\n    }\n</style>\n<table border=\"1\" class=\"dataframe\">\n  <thead>\n    <tr style=\"text-align: right;\">\n      <th></th>\n      <th>Subcategory</th>\n      <th>Period</th>\n      <th>Revenue</th>\n      <th>Quantity</th>\n      <th>Revenue_pct_change</th>\n    </tr>\n  </thead>\n  <tbody>\n    <tr>\n      <th>0</th>\n      <td>ALOE VERA</td>\n      <td>Year Before</td>\n      <td>39974.16</td>\n      <td>22331.0</td>\n      <td>NaN</td>\n    </tr>\n    <tr>\n      <th>1</th>\n      <td>ALOE VERA</td>\n      <td>Year Now</td>\n      <td>31501.21</td>\n      <td>17111.0</td>\n      <td>-0.211961</td>\n    </tr>\n    <tr>\n      <th>2</th>\n      <td>BAR ICE CREAM</td>\n      <td>Year Before</td>\n      <td>54676.57</td>\n      <td>23325.0</td>\n      <td>NaN</td>\n    </tr>\n    <tr>\n      <th>3</th>\n      <td>BAR ICE CREAM</td>\n      <td>Year Now</td>\n      <td>63682.87</td>\n      <td>22974.0</td>\n      <td>0.164720</td>\n    </tr>\n    <tr>\n      <th>4</th>\n      <td>BAR SNACKS</td>\n      <td>Year Before</td>\n      <td>153697.16</td>\n      <td>98917.0</td>\n      <td>NaN</td>\n    </tr>\n    <tr>\n      <th>...</th>\n      <td>...</td>\n      <td>...</td>\n      <td>...</td>\n      <td>...</td>\n      <td>...</td>\n    </tr>\n    <tr>\n      <th>194</th>\n      <td>YOGURT</td>\n      <td>Year Now</td>\n      <td>338554.59</td>\n      <td>141253.0</td>\n      <td>0.054635</td>\n    </tr>\n    <tr>\n      <th>195</th>\n      <td>ΟΥΖΟ</td>\n      <td>Year Before</td>\n      <td>86790.22</td>\n      <td>18592.0</td>\n      <td>NaN</td>\n    </tr>\n    <tr>\n      <th>196</th>\n      <td>ΟΥΖΟ</td>\n      <td>Year Now</td>\n      <td>107074.29</td>\n      <td>21499.0</td>\n      <td>0.233714</td>\n    </tr>\n    <tr>\n      <th>197</th>\n      <td>ΤΣΙΠΟΥΡΟ</td>\n      <td>Year Before</td>\n      <td>143537.60</td>\n      <td>37168.0</td>\n      <td>NaN</td>\n    </tr>\n    <tr>\n      <th>198</th>\n      <td>ΤΣΙΠΟΥΡΟ</td>\n      <td>Year Now</td>\n      <td>160993.41</td>\n      <td>39724.0</td>\n      <td>0.121611</td>\n    </tr>\n  </tbody>\n</table>\n<p>199 rows × 5 columns</p>\n</div>"
     },
     "execution_count": 11,
     "metadata": {},
     "output_type": "execute_result"
    }
   ],
   "source": [
    "sales_per_catrgory['Revenue_pct_change'] = sales_per_catrgory.groupby(['Subcategory'])['Revenue'].pct_change()\n",
    "sales_per_catrgory"
   ],
   "metadata": {
    "collapsed": false,
    "ExecuteTime": {
     "end_time": "2023-12-28T12:05:36.596908900Z",
     "start_time": "2023-12-28T12:05:36.582148100Z"
    }
   },
   "id": "bda2ab3e7d6714a7"
  },
  {
   "cell_type": "code",
   "execution_count": 12,
   "outputs": [
    {
     "data": {
      "text/plain": "            Subcategory       Period     Revenue  Quantity  Revenue_pct_change\n180                VAPE     Year Now  2452232.80  339577.0            1.072153\n178                TOYS     Year Now   618036.87  409855.0            0.970880\n23         CHOCO COATED     Year Now    65274.79   31789.0            0.486394\n138  REST SALTY SNACKS      Year Now    62169.15   36855.0            0.374489\n19         CHEWING GUMS     Year Now   625973.51  811170.0            0.347793\n..                  ...          ...         ...       ...                 ...\n189              WHISKY  Year Before   405801.84   22269.0                 NaN\n191                WINE  Year Before   492603.59  140888.0                 NaN\n193              YOGURT  Year Before   321015.96  145765.0                 NaN\n195                ΟΥΖΟ  Year Before    86790.22   18592.0                 NaN\n197            ΤΣΙΠΟΥΡΟ  Year Before   143537.60   37168.0                 NaN\n\n[199 rows x 5 columns]",
      "text/html": "<div>\n<style scoped>\n    .dataframe tbody tr th:only-of-type {\n        vertical-align: middle;\n    }\n\n    .dataframe tbody tr th {\n        vertical-align: top;\n    }\n\n    .dataframe thead th {\n        text-align: right;\n    }\n</style>\n<table border=\"1\" class=\"dataframe\">\n  <thead>\n    <tr style=\"text-align: right;\">\n      <th></th>\n      <th>Subcategory</th>\n      <th>Period</th>\n      <th>Revenue</th>\n      <th>Quantity</th>\n      <th>Revenue_pct_change</th>\n    </tr>\n  </thead>\n  <tbody>\n    <tr>\n      <th>180</th>\n      <td>VAPE</td>\n      <td>Year Now</td>\n      <td>2452232.80</td>\n      <td>339577.0</td>\n      <td>1.072153</td>\n    </tr>\n    <tr>\n      <th>178</th>\n      <td>TOYS</td>\n      <td>Year Now</td>\n      <td>618036.87</td>\n      <td>409855.0</td>\n      <td>0.970880</td>\n    </tr>\n    <tr>\n      <th>23</th>\n      <td>CHOCO COATED</td>\n      <td>Year Now</td>\n      <td>65274.79</td>\n      <td>31789.0</td>\n      <td>0.486394</td>\n    </tr>\n    <tr>\n      <th>138</th>\n      <td>REST SALTY SNACKS</td>\n      <td>Year Now</td>\n      <td>62169.15</td>\n      <td>36855.0</td>\n      <td>0.374489</td>\n    </tr>\n    <tr>\n      <th>19</th>\n      <td>CHEWING GUMS</td>\n      <td>Year Now</td>\n      <td>625973.51</td>\n      <td>811170.0</td>\n      <td>0.347793</td>\n    </tr>\n    <tr>\n      <th>...</th>\n      <td>...</td>\n      <td>...</td>\n      <td>...</td>\n      <td>...</td>\n      <td>...</td>\n    </tr>\n    <tr>\n      <th>189</th>\n      <td>WHISKY</td>\n      <td>Year Before</td>\n      <td>405801.84</td>\n      <td>22269.0</td>\n      <td>NaN</td>\n    </tr>\n    <tr>\n      <th>191</th>\n      <td>WINE</td>\n      <td>Year Before</td>\n      <td>492603.59</td>\n      <td>140888.0</td>\n      <td>NaN</td>\n    </tr>\n    <tr>\n      <th>193</th>\n      <td>YOGURT</td>\n      <td>Year Before</td>\n      <td>321015.96</td>\n      <td>145765.0</td>\n      <td>NaN</td>\n    </tr>\n    <tr>\n      <th>195</th>\n      <td>ΟΥΖΟ</td>\n      <td>Year Before</td>\n      <td>86790.22</td>\n      <td>18592.0</td>\n      <td>NaN</td>\n    </tr>\n    <tr>\n      <th>197</th>\n      <td>ΤΣΙΠΟΥΡΟ</td>\n      <td>Year Before</td>\n      <td>143537.60</td>\n      <td>37168.0</td>\n      <td>NaN</td>\n    </tr>\n  </tbody>\n</table>\n<p>199 rows × 5 columns</p>\n</div>"
     },
     "execution_count": 12,
     "metadata": {},
     "output_type": "execute_result"
    }
   ],
   "source": [
    "sales_per_catrgory.sort_values(by=['Revenue_pct_change'],ascending=False,inplace=True)\n",
    "sales_per_catrgory"
   ],
   "metadata": {
    "collapsed": false,
    "ExecuteTime": {
     "end_time": "2023-12-28T12:05:40.999116700Z",
     "start_time": "2023-12-28T12:05:40.986318200Z"
    }
   },
   "id": "91983bf7a076e7cb"
  },
  {
   "cell_type": "code",
   "execution_count": 15,
   "outputs": [
    {
     "data": {
      "text/plain": "Subcategory  ALOE VERA  BAR ICE CREAM  BAR SNACKS      BEERS   BUTTER  \\\nStoreId                                                                 \n3435             52.50         4851.9     5103.70  115448.39      NaN   \n3439             60.80          304.1      916.60   20762.40    28.20   \n3484            101.80            NaN      296.80   20743.60      NaN   \n3493            385.82            NaN      545.30   23503.60     4.80   \n3521            182.50           67.1     1076.50   13470.00      NaN   \n...                ...            ...         ...        ...      ...   \n10821           801.00          135.2     2576.00   81835.58  1609.40   \n10884           129.60            NaN      375.50   17993.30      NaN   \n10923           239.83         1779.7     1832.31   25683.09   620.25   \n10961           722.15            NaN     2091.80   20578.80    62.50   \n10963             5.40          166.8      579.80   10008.00   156.90   \n\nSubcategory     CAKE  CANDIES  CHAMPAGNE    CHEESE  CHEWING GUMS  ...  \\\nStoreId                                                           ...   \n3435         2308.50  8937.90        NaN       NaN      11950.91  ...   \n3439         1520.10  3862.80        NaN     11.60       6236.75  ...   \n3484           13.20  2242.26        NaN       NaN       4815.30  ...   \n3493          628.00  3378.22        NaN    424.80       5073.04  ...   \n3521          692.80  2516.60        NaN       NaN       3324.90  ...   \n...              ...      ...        ...       ...           ...  ...   \n10821        2873.25  6824.30        NaN  14581.33       7191.21  ...   \n10884         272.80  1308.70        NaN     10.00       1633.30  ...   \n10923         709.80  3709.50      163.5   3895.92       6845.46  ...   \n10961        1352.60  8538.60        NaN   1186.55      11507.27  ...   \n10963         301.00  1456.96        NaN   1630.05       1347.28  ...   \n\nSubcategory      VAPE  VAPE DEVICES  VERMOUTH    VODKA   WAFERS    WHISKY  \\\nStoreId                                                                     \n3435         24747.90       1142.00       NaN   2586.7  7545.90   2845.10   \n3439         30636.00        600.00       NaN   4186.8  3548.10   2134.20   \n3484          9951.71        150.92       NaN      NaN  1651.75       NaN   \n3493         38266.80        428.00       NaN   5138.8  3066.80   4434.10   \n3521          8207.50           NaN       NaN    161.9  1968.30    590.00   \n...               ...           ...       ...      ...      ...       ...   \n10821        49471.50       2509.20     142.5  19998.5  6611.29  54916.58   \n10884         7347.90        468.00       NaN    221.0  1232.70    328.00   \n10923        29151.99        671.00      82.0   2700.6  2387.76   4043.70   \n10961        82093.17       1828.00       NaN   1469.4  3217.80   2153.60   \n10963         3810.00        109.00       NaN    176.0   569.02     88.60   \n\nSubcategory      WINE    YOGURT     ΟΥΖΟ  ΤΣΙΠΟΥΡΟ  \nStoreId                                             \n3435          4315.70   3157.00  1300.00   2624.40  \n3439          4255.50   1145.90  1512.90     26.50  \n3484          1516.00       NaN      NaN      7.80  \n3493          1148.80   1106.20   433.60       NaN  \n3521            72.50   1160.40   403.90    991.70  \n...               ...       ...      ...       ...  \n10821        34207.41  12116.75  2524.10   1636.62  \n10884          478.80     81.70   660.60    540.80  \n10923         5173.19   2541.35   641.25   1545.00  \n10961         1888.10    627.10   427.70   2783.80  \n10963           65.50    810.50   128.00    494.00  \n\n[200 rows x 100 columns]",
      "text/html": "<div>\n<style scoped>\n    .dataframe tbody tr th:only-of-type {\n        vertical-align: middle;\n    }\n\n    .dataframe tbody tr th {\n        vertical-align: top;\n    }\n\n    .dataframe thead th {\n        text-align: right;\n    }\n</style>\n<table border=\"1\" class=\"dataframe\">\n  <thead>\n    <tr style=\"text-align: right;\">\n      <th>Subcategory</th>\n      <th>ALOE VERA</th>\n      <th>BAR ICE CREAM</th>\n      <th>BAR SNACKS</th>\n      <th>BEERS</th>\n      <th>BUTTER</th>\n      <th>CAKE</th>\n      <th>CANDIES</th>\n      <th>CHAMPAGNE</th>\n      <th>CHEESE</th>\n      <th>CHEWING GUMS</th>\n      <th>...</th>\n      <th>VAPE</th>\n      <th>VAPE DEVICES</th>\n      <th>VERMOUTH</th>\n      <th>VODKA</th>\n      <th>WAFERS</th>\n      <th>WHISKY</th>\n      <th>WINE</th>\n      <th>YOGURT</th>\n      <th>ΟΥΖΟ</th>\n      <th>ΤΣΙΠΟΥΡΟ</th>\n    </tr>\n    <tr>\n      <th>StoreId</th>\n      <th></th>\n      <th></th>\n      <th></th>\n      <th></th>\n      <th></th>\n      <th></th>\n      <th></th>\n      <th></th>\n      <th></th>\n      <th></th>\n      <th></th>\n      <th></th>\n      <th></th>\n      <th></th>\n      <th></th>\n      <th></th>\n      <th></th>\n      <th></th>\n      <th></th>\n      <th></th>\n      <th></th>\n    </tr>\n  </thead>\n  <tbody>\n    <tr>\n      <th>3435</th>\n      <td>52.50</td>\n      <td>4851.9</td>\n      <td>5103.70</td>\n      <td>115448.39</td>\n      <td>NaN</td>\n      <td>2308.50</td>\n      <td>8937.90</td>\n      <td>NaN</td>\n      <td>NaN</td>\n      <td>11950.91</td>\n      <td>...</td>\n      <td>24747.90</td>\n      <td>1142.00</td>\n      <td>NaN</td>\n      <td>2586.7</td>\n      <td>7545.90</td>\n      <td>2845.10</td>\n      <td>4315.70</td>\n      <td>3157.00</td>\n      <td>1300.00</td>\n      <td>2624.40</td>\n    </tr>\n    <tr>\n      <th>3439</th>\n      <td>60.80</td>\n      <td>304.1</td>\n      <td>916.60</td>\n      <td>20762.40</td>\n      <td>28.20</td>\n      <td>1520.10</td>\n      <td>3862.80</td>\n      <td>NaN</td>\n      <td>11.60</td>\n      <td>6236.75</td>\n      <td>...</td>\n      <td>30636.00</td>\n      <td>600.00</td>\n      <td>NaN</td>\n      <td>4186.8</td>\n      <td>3548.10</td>\n      <td>2134.20</td>\n      <td>4255.50</td>\n      <td>1145.90</td>\n      <td>1512.90</td>\n      <td>26.50</td>\n    </tr>\n    <tr>\n      <th>3484</th>\n      <td>101.80</td>\n      <td>NaN</td>\n      <td>296.80</td>\n      <td>20743.60</td>\n      <td>NaN</td>\n      <td>13.20</td>\n      <td>2242.26</td>\n      <td>NaN</td>\n      <td>NaN</td>\n      <td>4815.30</td>\n      <td>...</td>\n      <td>9951.71</td>\n      <td>150.92</td>\n      <td>NaN</td>\n      <td>NaN</td>\n      <td>1651.75</td>\n      <td>NaN</td>\n      <td>1516.00</td>\n      <td>NaN</td>\n      <td>NaN</td>\n      <td>7.80</td>\n    </tr>\n    <tr>\n      <th>3493</th>\n      <td>385.82</td>\n      <td>NaN</td>\n      <td>545.30</td>\n      <td>23503.60</td>\n      <td>4.80</td>\n      <td>628.00</td>\n      <td>3378.22</td>\n      <td>NaN</td>\n      <td>424.80</td>\n      <td>5073.04</td>\n      <td>...</td>\n      <td>38266.80</td>\n      <td>428.00</td>\n      <td>NaN</td>\n      <td>5138.8</td>\n      <td>3066.80</td>\n      <td>4434.10</td>\n      <td>1148.80</td>\n      <td>1106.20</td>\n      <td>433.60</td>\n      <td>NaN</td>\n    </tr>\n    <tr>\n      <th>3521</th>\n      <td>182.50</td>\n      <td>67.1</td>\n      <td>1076.50</td>\n      <td>13470.00</td>\n      <td>NaN</td>\n      <td>692.80</td>\n      <td>2516.60</td>\n      <td>NaN</td>\n      <td>NaN</td>\n      <td>3324.90</td>\n      <td>...</td>\n      <td>8207.50</td>\n      <td>NaN</td>\n      <td>NaN</td>\n      <td>161.9</td>\n      <td>1968.30</td>\n      <td>590.00</td>\n      <td>72.50</td>\n      <td>1160.40</td>\n      <td>403.90</td>\n      <td>991.70</td>\n    </tr>\n    <tr>\n      <th>...</th>\n      <td>...</td>\n      <td>...</td>\n      <td>...</td>\n      <td>...</td>\n      <td>...</td>\n      <td>...</td>\n      <td>...</td>\n      <td>...</td>\n      <td>...</td>\n      <td>...</td>\n      <td>...</td>\n      <td>...</td>\n      <td>...</td>\n      <td>...</td>\n      <td>...</td>\n      <td>...</td>\n      <td>...</td>\n      <td>...</td>\n      <td>...</td>\n      <td>...</td>\n      <td>...</td>\n    </tr>\n    <tr>\n      <th>10821</th>\n      <td>801.00</td>\n      <td>135.2</td>\n      <td>2576.00</td>\n      <td>81835.58</td>\n      <td>1609.40</td>\n      <td>2873.25</td>\n      <td>6824.30</td>\n      <td>NaN</td>\n      <td>14581.33</td>\n      <td>7191.21</td>\n      <td>...</td>\n      <td>49471.50</td>\n      <td>2509.20</td>\n      <td>142.5</td>\n      <td>19998.5</td>\n      <td>6611.29</td>\n      <td>54916.58</td>\n      <td>34207.41</td>\n      <td>12116.75</td>\n      <td>2524.10</td>\n      <td>1636.62</td>\n    </tr>\n    <tr>\n      <th>10884</th>\n      <td>129.60</td>\n      <td>NaN</td>\n      <td>375.50</td>\n      <td>17993.30</td>\n      <td>NaN</td>\n      <td>272.80</td>\n      <td>1308.70</td>\n      <td>NaN</td>\n      <td>10.00</td>\n      <td>1633.30</td>\n      <td>...</td>\n      <td>7347.90</td>\n      <td>468.00</td>\n      <td>NaN</td>\n      <td>221.0</td>\n      <td>1232.70</td>\n      <td>328.00</td>\n      <td>478.80</td>\n      <td>81.70</td>\n      <td>660.60</td>\n      <td>540.80</td>\n    </tr>\n    <tr>\n      <th>10923</th>\n      <td>239.83</td>\n      <td>1779.7</td>\n      <td>1832.31</td>\n      <td>25683.09</td>\n      <td>620.25</td>\n      <td>709.80</td>\n      <td>3709.50</td>\n      <td>163.5</td>\n      <td>3895.92</td>\n      <td>6845.46</td>\n      <td>...</td>\n      <td>29151.99</td>\n      <td>671.00</td>\n      <td>82.0</td>\n      <td>2700.6</td>\n      <td>2387.76</td>\n      <td>4043.70</td>\n      <td>5173.19</td>\n      <td>2541.35</td>\n      <td>641.25</td>\n      <td>1545.00</td>\n    </tr>\n    <tr>\n      <th>10961</th>\n      <td>722.15</td>\n      <td>NaN</td>\n      <td>2091.80</td>\n      <td>20578.80</td>\n      <td>62.50</td>\n      <td>1352.60</td>\n      <td>8538.60</td>\n      <td>NaN</td>\n      <td>1186.55</td>\n      <td>11507.27</td>\n      <td>...</td>\n      <td>82093.17</td>\n      <td>1828.00</td>\n      <td>NaN</td>\n      <td>1469.4</td>\n      <td>3217.80</td>\n      <td>2153.60</td>\n      <td>1888.10</td>\n      <td>627.10</td>\n      <td>427.70</td>\n      <td>2783.80</td>\n    </tr>\n    <tr>\n      <th>10963</th>\n      <td>5.40</td>\n      <td>166.8</td>\n      <td>579.80</td>\n      <td>10008.00</td>\n      <td>156.90</td>\n      <td>301.00</td>\n      <td>1456.96</td>\n      <td>NaN</td>\n      <td>1630.05</td>\n      <td>1347.28</td>\n      <td>...</td>\n      <td>3810.00</td>\n      <td>109.00</td>\n      <td>NaN</td>\n      <td>176.0</td>\n      <td>569.02</td>\n      <td>88.60</td>\n      <td>65.50</td>\n      <td>810.50</td>\n      <td>128.00</td>\n      <td>494.00</td>\n    </tr>\n  </tbody>\n</table>\n<p>200 rows × 100 columns</p>\n</div>"
     },
     "execution_count": 15,
     "metadata": {},
     "output_type": "execute_result"
    }
   ],
   "source": [
    "#create a table with stie id the rows and subcategory in the columns and revenue as values\n",
    "sales_per_site = data1.pivot_table(index='StoreId',columns='Subcategory',values='Revenue',aggfunc='sum')\n",
    "sales_per_site"
   ],
   "metadata": {
    "collapsed": false,
    "ExecuteTime": {
     "end_time": "2023-12-28T12:23:56.273075Z",
     "start_time": "2023-12-28T12:23:56.194792500Z"
    }
   },
   "id": "720feee7729d4e57"
  },
  {
   "cell_type": "code",
   "execution_count": 17,
   "outputs": [
    {
     "data": {
      "text/plain": "Subcategory  ALOE VERA  BAR ICE CREAM  BAR SNACKS      BEERS   BUTTER  \\\nStoreId                                                                 \n3435             52.50         4851.9     5103.70  115448.39     0.00   \n3439             60.80          304.1      916.60   20762.40    28.20   \n3484            101.80            0.0      296.80   20743.60     0.00   \n3493            385.82            0.0      545.30   23503.60     4.80   \n3521            182.50           67.1     1076.50   13470.00     0.00   \n...                ...            ...         ...        ...      ...   \n10821           801.00          135.2     2576.00   81835.58  1609.40   \n10884           129.60            0.0      375.50   17993.30     0.00   \n10923           239.83         1779.7     1832.31   25683.09   620.25   \n10961           722.15            0.0     2091.80   20578.80    62.50   \n10963             5.40          166.8      579.80   10008.00   156.90   \n\nSubcategory     CAKE  CANDIES  CHAMPAGNE    CHEESE  CHEWING GUMS  ...  \\\nStoreId                                                           ...   \n3435         2308.50  8937.90        0.0      0.00      11950.91  ...   \n3439         1520.10  3862.80        0.0     11.60       6236.75  ...   \n3484           13.20  2242.26        0.0      0.00       4815.30  ...   \n3493          628.00  3378.22        0.0    424.80       5073.04  ...   \n3521          692.80  2516.60        0.0      0.00       3324.90  ...   \n...              ...      ...        ...       ...           ...  ...   \n10821        2873.25  6824.30        0.0  14581.33       7191.21  ...   \n10884         272.80  1308.70        0.0     10.00       1633.30  ...   \n10923         709.80  3709.50      163.5   3895.92       6845.46  ...   \n10961        1352.60  8538.60        0.0   1186.55      11507.27  ...   \n10963         301.00  1456.96        0.0   1630.05       1347.28  ...   \n\nSubcategory      VAPE  VAPE DEVICES  VERMOUTH    VODKA   WAFERS    WHISKY  \\\nStoreId                                                                     \n3435         24747.90       1142.00       0.0   2586.7  7545.90   2845.10   \n3439         30636.00        600.00       0.0   4186.8  3548.10   2134.20   \n3484          9951.71        150.92       0.0      0.0  1651.75      0.00   \n3493         38266.80        428.00       0.0   5138.8  3066.80   4434.10   \n3521          8207.50          0.00       0.0    161.9  1968.30    590.00   \n...               ...           ...       ...      ...      ...       ...   \n10821        49471.50       2509.20     142.5  19998.5  6611.29  54916.58   \n10884         7347.90        468.00       0.0    221.0  1232.70    328.00   \n10923        29151.99        671.00      82.0   2700.6  2387.76   4043.70   \n10961        82093.17       1828.00       0.0   1469.4  3217.80   2153.60   \n10963         3810.00        109.00       0.0    176.0   569.02     88.60   \n\nSubcategory      WINE    YOGURT     ΟΥΖΟ  ΤΣΙΠΟΥΡΟ  \nStoreId                                             \n3435          4315.70   3157.00  1300.00   2624.40  \n3439          4255.50   1145.90  1512.90     26.50  \n3484          1516.00      0.00     0.00      7.80  \n3493          1148.80   1106.20   433.60      0.00  \n3521            72.50   1160.40   403.90    991.70  \n...               ...       ...      ...       ...  \n10821        34207.41  12116.75  2524.10   1636.62  \n10884          478.80     81.70   660.60    540.80  \n10923         5173.19   2541.35   641.25   1545.00  \n10961         1888.10    627.10   427.70   2783.80  \n10963           65.50    810.50   128.00    494.00  \n\n[200 rows x 100 columns]",
      "text/html": "<div>\n<style scoped>\n    .dataframe tbody tr th:only-of-type {\n        vertical-align: middle;\n    }\n\n    .dataframe tbody tr th {\n        vertical-align: top;\n    }\n\n    .dataframe thead th {\n        text-align: right;\n    }\n</style>\n<table border=\"1\" class=\"dataframe\">\n  <thead>\n    <tr style=\"text-align: right;\">\n      <th>Subcategory</th>\n      <th>ALOE VERA</th>\n      <th>BAR ICE CREAM</th>\n      <th>BAR SNACKS</th>\n      <th>BEERS</th>\n      <th>BUTTER</th>\n      <th>CAKE</th>\n      <th>CANDIES</th>\n      <th>CHAMPAGNE</th>\n      <th>CHEESE</th>\n      <th>CHEWING GUMS</th>\n      <th>...</th>\n      <th>VAPE</th>\n      <th>VAPE DEVICES</th>\n      <th>VERMOUTH</th>\n      <th>VODKA</th>\n      <th>WAFERS</th>\n      <th>WHISKY</th>\n      <th>WINE</th>\n      <th>YOGURT</th>\n      <th>ΟΥΖΟ</th>\n      <th>ΤΣΙΠΟΥΡΟ</th>\n    </tr>\n    <tr>\n      <th>StoreId</th>\n      <th></th>\n      <th></th>\n      <th></th>\n      <th></th>\n      <th></th>\n      <th></th>\n      <th></th>\n      <th></th>\n      <th></th>\n      <th></th>\n      <th></th>\n      <th></th>\n      <th></th>\n      <th></th>\n      <th></th>\n      <th></th>\n      <th></th>\n      <th></th>\n      <th></th>\n      <th></th>\n      <th></th>\n    </tr>\n  </thead>\n  <tbody>\n    <tr>\n      <th>3435</th>\n      <td>52.50</td>\n      <td>4851.9</td>\n      <td>5103.70</td>\n      <td>115448.39</td>\n      <td>0.00</td>\n      <td>2308.50</td>\n      <td>8937.90</td>\n      <td>0.0</td>\n      <td>0.00</td>\n      <td>11950.91</td>\n      <td>...</td>\n      <td>24747.90</td>\n      <td>1142.00</td>\n      <td>0.0</td>\n      <td>2586.7</td>\n      <td>7545.90</td>\n      <td>2845.10</td>\n      <td>4315.70</td>\n      <td>3157.00</td>\n      <td>1300.00</td>\n      <td>2624.40</td>\n    </tr>\n    <tr>\n      <th>3439</th>\n      <td>60.80</td>\n      <td>304.1</td>\n      <td>916.60</td>\n      <td>20762.40</td>\n      <td>28.20</td>\n      <td>1520.10</td>\n      <td>3862.80</td>\n      <td>0.0</td>\n      <td>11.60</td>\n      <td>6236.75</td>\n      <td>...</td>\n      <td>30636.00</td>\n      <td>600.00</td>\n      <td>0.0</td>\n      <td>4186.8</td>\n      <td>3548.10</td>\n      <td>2134.20</td>\n      <td>4255.50</td>\n      <td>1145.90</td>\n      <td>1512.90</td>\n      <td>26.50</td>\n    </tr>\n    <tr>\n      <th>3484</th>\n      <td>101.80</td>\n      <td>0.0</td>\n      <td>296.80</td>\n      <td>20743.60</td>\n      <td>0.00</td>\n      <td>13.20</td>\n      <td>2242.26</td>\n      <td>0.0</td>\n      <td>0.00</td>\n      <td>4815.30</td>\n      <td>...</td>\n      <td>9951.71</td>\n      <td>150.92</td>\n      <td>0.0</td>\n      <td>0.0</td>\n      <td>1651.75</td>\n      <td>0.00</td>\n      <td>1516.00</td>\n      <td>0.00</td>\n      <td>0.00</td>\n      <td>7.80</td>\n    </tr>\n    <tr>\n      <th>3493</th>\n      <td>385.82</td>\n      <td>0.0</td>\n      <td>545.30</td>\n      <td>23503.60</td>\n      <td>4.80</td>\n      <td>628.00</td>\n      <td>3378.22</td>\n      <td>0.0</td>\n      <td>424.80</td>\n      <td>5073.04</td>\n      <td>...</td>\n      <td>38266.80</td>\n      <td>428.00</td>\n      <td>0.0</td>\n      <td>5138.8</td>\n      <td>3066.80</td>\n      <td>4434.10</td>\n      <td>1148.80</td>\n      <td>1106.20</td>\n      <td>433.60</td>\n      <td>0.00</td>\n    </tr>\n    <tr>\n      <th>3521</th>\n      <td>182.50</td>\n      <td>67.1</td>\n      <td>1076.50</td>\n      <td>13470.00</td>\n      <td>0.00</td>\n      <td>692.80</td>\n      <td>2516.60</td>\n      <td>0.0</td>\n      <td>0.00</td>\n      <td>3324.90</td>\n      <td>...</td>\n      <td>8207.50</td>\n      <td>0.00</td>\n      <td>0.0</td>\n      <td>161.9</td>\n      <td>1968.30</td>\n      <td>590.00</td>\n      <td>72.50</td>\n      <td>1160.40</td>\n      <td>403.90</td>\n      <td>991.70</td>\n    </tr>\n    <tr>\n      <th>...</th>\n      <td>...</td>\n      <td>...</td>\n      <td>...</td>\n      <td>...</td>\n      <td>...</td>\n      <td>...</td>\n      <td>...</td>\n      <td>...</td>\n      <td>...</td>\n      <td>...</td>\n      <td>...</td>\n      <td>...</td>\n      <td>...</td>\n      <td>...</td>\n      <td>...</td>\n      <td>...</td>\n      <td>...</td>\n      <td>...</td>\n      <td>...</td>\n      <td>...</td>\n      <td>...</td>\n    </tr>\n    <tr>\n      <th>10821</th>\n      <td>801.00</td>\n      <td>135.2</td>\n      <td>2576.00</td>\n      <td>81835.58</td>\n      <td>1609.40</td>\n      <td>2873.25</td>\n      <td>6824.30</td>\n      <td>0.0</td>\n      <td>14581.33</td>\n      <td>7191.21</td>\n      <td>...</td>\n      <td>49471.50</td>\n      <td>2509.20</td>\n      <td>142.5</td>\n      <td>19998.5</td>\n      <td>6611.29</td>\n      <td>54916.58</td>\n      <td>34207.41</td>\n      <td>12116.75</td>\n      <td>2524.10</td>\n      <td>1636.62</td>\n    </tr>\n    <tr>\n      <th>10884</th>\n      <td>129.60</td>\n      <td>0.0</td>\n      <td>375.50</td>\n      <td>17993.30</td>\n      <td>0.00</td>\n      <td>272.80</td>\n      <td>1308.70</td>\n      <td>0.0</td>\n      <td>10.00</td>\n      <td>1633.30</td>\n      <td>...</td>\n      <td>7347.90</td>\n      <td>468.00</td>\n      <td>0.0</td>\n      <td>221.0</td>\n      <td>1232.70</td>\n      <td>328.00</td>\n      <td>478.80</td>\n      <td>81.70</td>\n      <td>660.60</td>\n      <td>540.80</td>\n    </tr>\n    <tr>\n      <th>10923</th>\n      <td>239.83</td>\n      <td>1779.7</td>\n      <td>1832.31</td>\n      <td>25683.09</td>\n      <td>620.25</td>\n      <td>709.80</td>\n      <td>3709.50</td>\n      <td>163.5</td>\n      <td>3895.92</td>\n      <td>6845.46</td>\n      <td>...</td>\n      <td>29151.99</td>\n      <td>671.00</td>\n      <td>82.0</td>\n      <td>2700.6</td>\n      <td>2387.76</td>\n      <td>4043.70</td>\n      <td>5173.19</td>\n      <td>2541.35</td>\n      <td>641.25</td>\n      <td>1545.00</td>\n    </tr>\n    <tr>\n      <th>10961</th>\n      <td>722.15</td>\n      <td>0.0</td>\n      <td>2091.80</td>\n      <td>20578.80</td>\n      <td>62.50</td>\n      <td>1352.60</td>\n      <td>8538.60</td>\n      <td>0.0</td>\n      <td>1186.55</td>\n      <td>11507.27</td>\n      <td>...</td>\n      <td>82093.17</td>\n      <td>1828.00</td>\n      <td>0.0</td>\n      <td>1469.4</td>\n      <td>3217.80</td>\n      <td>2153.60</td>\n      <td>1888.10</td>\n      <td>627.10</td>\n      <td>427.70</td>\n      <td>2783.80</td>\n    </tr>\n    <tr>\n      <th>10963</th>\n      <td>5.40</td>\n      <td>166.8</td>\n      <td>579.80</td>\n      <td>10008.00</td>\n      <td>156.90</td>\n      <td>301.00</td>\n      <td>1456.96</td>\n      <td>0.0</td>\n      <td>1630.05</td>\n      <td>1347.28</td>\n      <td>...</td>\n      <td>3810.00</td>\n      <td>109.00</td>\n      <td>0.0</td>\n      <td>176.0</td>\n      <td>569.02</td>\n      <td>88.60</td>\n      <td>65.50</td>\n      <td>810.50</td>\n      <td>128.00</td>\n      <td>494.00</td>\n    </tr>\n  </tbody>\n</table>\n<p>200 rows × 100 columns</p>\n</div>"
     },
     "execution_count": 17,
     "metadata": {},
     "output_type": "execute_result"
    }
   ],
   "source": [
    "#export the table to excel\n",
    "#makes null values to 0\n",
    "sales_per_site.fillna(0,inplace=True)\n",
    "sales_per_site"
   ],
   "metadata": {
    "collapsed": false,
    "ExecuteTime": {
     "end_time": "2023-12-28T12:34:30.560277800Z",
     "start_time": "2023-12-28T12:34:30.521071700Z"
    }
   },
   "id": "2e1c9dd373ae504c"
  },
  {
   "cell_type": "code",
   "execution_count": 18,
   "outputs": [],
   "source": [
    "sales_per_site.to_excel('data/sales_per_site.xlsx')"
   ],
   "metadata": {
    "collapsed": false,
    "ExecuteTime": {
     "end_time": "2023-12-28T12:34:43.249199200Z",
     "start_time": "2023-12-28T12:34:42.861688400Z"
    }
   },
   "id": "3c7d900a580b5060"
  },
  {
   "cell_type": "code",
   "execution_count": null,
   "outputs": [],
   "source": [],
   "metadata": {
    "collapsed": false
   },
   "id": "78a881e0b68c45ec"
  }
 ],
 "metadata": {
  "kernelspec": {
   "display_name": "Python 3",
   "language": "python",
   "name": "python3"
  },
  "language_info": {
   "codemirror_mode": {
    "name": "ipython",
    "version": 2
   },
   "file_extension": ".py",
   "mimetype": "text/x-python",
   "name": "python",
   "nbconvert_exporter": "python",
   "pygments_lexer": "ipython2",
   "version": "2.7.6"
  }
 },
 "nbformat": 4,
 "nbformat_minor": 5
}
