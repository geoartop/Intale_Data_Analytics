{
 "cells": [
  {
   "cell_type": "code",
   "execution_count": null,
   "id": "ae83940b153acc65",
   "metadata": {
    "collapsed": false
   },
   "outputs": [],
   "source": [
    "import pandas as pd\n",
    "# make excel file to a dataframe\n",
    "data1 = pd.read_excel('data/data1analytical.xlsx')"
   ]
  },
  {
   "cell_type": "markdown",
   "source": [
    "## Data Exploration and Preparation"
   ],
   "metadata": {
    "collapsed": false
   },
   "id": "68785581ceccb07a"
  },
  {
   "cell_type": "code",
   "execution_count": 2,
   "outputs": [
    {
     "data": {
      "text/plain": "        Date_Year Date_MonthName  StoreId           Subcategory  Quantity  \\\n0            2022           June     4008  SWEET BAKERY SNACKS       24.0   \n1            2021       November    10254   TOBACCO ACCESSORIES    2156.0   \n2            2022         August     5122                  ΟΥΖΟ       3.0   \n3            2022           June    10254                 CORN       51.0   \n4            2022        October    10280                 STICK     122.0   \n...           ...            ...      ...                   ...       ...   \n351094       2023          March     7986                WHISKY       1.0   \n351095       2023        January     6532              SANDWICH      29.0   \n351096       2023        January     3545               ICE TEA      11.0   \n351097       2022       December     3813                 COLAS     364.0   \n351098       2022       November     7376          GREEK COFFEE      18.0   \n\n        Revenue       Period         Type                        Area  \n0         24.40  Year Before        Kiosk         Μακεδονία και Θράκη  \n1       1437.80  Year Before        Kiosk         Μακεδονία και Θράκη  \n2         11.00  Year Before        Kiosk  Δυτική και Κεντρική Ελλάδα  \n3         74.00  Year Before        Kiosk         Μακεδονία και Θράκη  \n4        277.80  Year Before        Kiosk                      Αττική  \n...         ...          ...          ...                         ...  \n351094    23.00     Year Now  Mini-Market         Μακεδονία και Θράκη  \n351095    48.50     Year Now        Kiosk                       Νησιά  \n351096    20.00     Year Now  Mini-Market                      Αττική  \n351097   653.64     Year Now        Kiosk                Πελοπόννησος  \n351098    50.10     Year Now  Mini-Market                      Αττική  \n\n[351099 rows x 9 columns]",
      "text/html": "<div>\n<style scoped>\n    .dataframe tbody tr th:only-of-type {\n        vertical-align: middle;\n    }\n\n    .dataframe tbody tr th {\n        vertical-align: top;\n    }\n\n    .dataframe thead th {\n        text-align: right;\n    }\n</style>\n<table border=\"1\" class=\"dataframe\">\n  <thead>\n    <tr style=\"text-align: right;\">\n      <th></th>\n      <th>Date_Year</th>\n      <th>Date_MonthName</th>\n      <th>StoreId</th>\n      <th>Subcategory</th>\n      <th>Quantity</th>\n      <th>Revenue</th>\n      <th>Period</th>\n      <th>Type</th>\n      <th>Area</th>\n    </tr>\n  </thead>\n  <tbody>\n    <tr>\n      <th>0</th>\n      <td>2022</td>\n      <td>June</td>\n      <td>4008</td>\n      <td>SWEET BAKERY SNACKS</td>\n      <td>24.0</td>\n      <td>24.40</td>\n      <td>Year Before</td>\n      <td>Kiosk</td>\n      <td>Μακεδονία και Θράκη</td>\n    </tr>\n    <tr>\n      <th>1</th>\n      <td>2021</td>\n      <td>November</td>\n      <td>10254</td>\n      <td>TOBACCO ACCESSORIES</td>\n      <td>2156.0</td>\n      <td>1437.80</td>\n      <td>Year Before</td>\n      <td>Kiosk</td>\n      <td>Μακεδονία και Θράκη</td>\n    </tr>\n    <tr>\n      <th>2</th>\n      <td>2022</td>\n      <td>August</td>\n      <td>5122</td>\n      <td>ΟΥΖΟ</td>\n      <td>3.0</td>\n      <td>11.00</td>\n      <td>Year Before</td>\n      <td>Kiosk</td>\n      <td>Δυτική και Κεντρική Ελλάδα</td>\n    </tr>\n    <tr>\n      <th>3</th>\n      <td>2022</td>\n      <td>June</td>\n      <td>10254</td>\n      <td>CORN</td>\n      <td>51.0</td>\n      <td>74.00</td>\n      <td>Year Before</td>\n      <td>Kiosk</td>\n      <td>Μακεδονία και Θράκη</td>\n    </tr>\n    <tr>\n      <th>4</th>\n      <td>2022</td>\n      <td>October</td>\n      <td>10280</td>\n      <td>STICK</td>\n      <td>122.0</td>\n      <td>277.80</td>\n      <td>Year Before</td>\n      <td>Kiosk</td>\n      <td>Αττική</td>\n    </tr>\n    <tr>\n      <th>...</th>\n      <td>...</td>\n      <td>...</td>\n      <td>...</td>\n      <td>...</td>\n      <td>...</td>\n      <td>...</td>\n      <td>...</td>\n      <td>...</td>\n      <td>...</td>\n    </tr>\n    <tr>\n      <th>351094</th>\n      <td>2023</td>\n      <td>March</td>\n      <td>7986</td>\n      <td>WHISKY</td>\n      <td>1.0</td>\n      <td>23.00</td>\n      <td>Year Now</td>\n      <td>Mini-Market</td>\n      <td>Μακεδονία και Θράκη</td>\n    </tr>\n    <tr>\n      <th>351095</th>\n      <td>2023</td>\n      <td>January</td>\n      <td>6532</td>\n      <td>SANDWICH</td>\n      <td>29.0</td>\n      <td>48.50</td>\n      <td>Year Now</td>\n      <td>Kiosk</td>\n      <td>Νησιά</td>\n    </tr>\n    <tr>\n      <th>351096</th>\n      <td>2023</td>\n      <td>January</td>\n      <td>3545</td>\n      <td>ICE TEA</td>\n      <td>11.0</td>\n      <td>20.00</td>\n      <td>Year Now</td>\n      <td>Mini-Market</td>\n      <td>Αττική</td>\n    </tr>\n    <tr>\n      <th>351097</th>\n      <td>2022</td>\n      <td>December</td>\n      <td>3813</td>\n      <td>COLAS</td>\n      <td>364.0</td>\n      <td>653.64</td>\n      <td>Year Now</td>\n      <td>Kiosk</td>\n      <td>Πελοπόννησος</td>\n    </tr>\n    <tr>\n      <th>351098</th>\n      <td>2022</td>\n      <td>November</td>\n      <td>7376</td>\n      <td>GREEK COFFEE</td>\n      <td>18.0</td>\n      <td>50.10</td>\n      <td>Year Now</td>\n      <td>Mini-Market</td>\n      <td>Αττική</td>\n    </tr>\n  </tbody>\n</table>\n<p>351099 rows × 9 columns</p>\n</div>"
     },
     "execution_count": 2,
     "metadata": {},
     "output_type": "execute_result"
    }
   ],
   "source": [
    "data1['Period'] = data1['Period'].replace(['MAT','MATYA'],['Year Now','Year Before'])\n",
    "data1"
   ],
   "metadata": {
    "collapsed": false,
    "ExecuteTime": {
     "end_time": "2023-12-28T12:01:30.093842900Z",
     "start_time": "2023-12-28T12:01:30.044506400Z"
    }
   },
   "id": "812517b91889094a"
  },
  {
   "cell_type": "code",
   "execution_count": 3,
   "outputs": [
    {
     "data": {
      "text/plain": "        Period       Revenue\n0  Year Before  1.200199e+08\n1     Year Now  1.297343e+08",
      "text/html": "<div>\n<style scoped>\n    .dataframe tbody tr th:only-of-type {\n        vertical-align: middle;\n    }\n\n    .dataframe tbody tr th {\n        vertical-align: top;\n    }\n\n    .dataframe thead th {\n        text-align: right;\n    }\n</style>\n<table border=\"1\" class=\"dataframe\">\n  <thead>\n    <tr style=\"text-align: right;\">\n      <th></th>\n      <th>Period</th>\n      <th>Revenue</th>\n    </tr>\n  </thead>\n  <tbody>\n    <tr>\n      <th>0</th>\n      <td>Year Before</td>\n      <td>1.200199e+08</td>\n    </tr>\n    <tr>\n      <th>1</th>\n      <td>Year Now</td>\n      <td>1.297343e+08</td>\n    </tr>\n  </tbody>\n</table>\n</div>"
     },
     "execution_count": 3,
     "metadata": {},
     "output_type": "execute_result"
    }
   ],
   "source": [
    "total_mm_revenue = data1.groupby(['Period'])['Revenue'].sum().reset_index()\n",
    "total_mm_revenue"
   ],
   "metadata": {
    "collapsed": false,
    "ExecuteTime": {
     "end_time": "2023-12-28T12:01:30.139599100Z",
     "start_time": "2023-12-28T12:01:30.084843200Z"
    }
   },
   "id": "27b510b0352facbd"
  },
  {
   "cell_type": "code",
   "execution_count": 9,
   "outputs": [
    {
     "data": {
      "text/plain": "       Subcategory       Period    Revenue  Quantity\n0        ALOE VERA  Year Before   39974.16   22331.0\n1        ALOE VERA     Year Now   31501.21   17111.0\n2    BAR ICE CREAM  Year Before   54676.57   23325.0\n3    BAR ICE CREAM     Year Now   63682.87   22974.0\n4       BAR SNACKS  Year Before  153697.16   98917.0\n..             ...          ...        ...       ...\n194         YOGURT     Year Now  338554.59  141253.0\n195           ΟΥΖΟ  Year Before   86790.22   18592.0\n196           ΟΥΖΟ     Year Now  107074.29   21499.0\n197       ΤΣΙΠΟΥΡΟ  Year Before  143537.60   37168.0\n198       ΤΣΙΠΟΥΡΟ     Year Now  160993.41   39724.0\n\n[199 rows x 4 columns]",
      "text/html": "<div>\n<style scoped>\n    .dataframe tbody tr th:only-of-type {\n        vertical-align: middle;\n    }\n\n    .dataframe tbody tr th {\n        vertical-align: top;\n    }\n\n    .dataframe thead th {\n        text-align: right;\n    }\n</style>\n<table border=\"1\" class=\"dataframe\">\n  <thead>\n    <tr style=\"text-align: right;\">\n      <th></th>\n      <th>Subcategory</th>\n      <th>Period</th>\n      <th>Revenue</th>\n      <th>Quantity</th>\n    </tr>\n  </thead>\n  <tbody>\n    <tr>\n      <th>0</th>\n      <td>ALOE VERA</td>\n      <td>Year Before</td>\n      <td>39974.16</td>\n      <td>22331.0</td>\n    </tr>\n    <tr>\n      <th>1</th>\n      <td>ALOE VERA</td>\n      <td>Year Now</td>\n      <td>31501.21</td>\n      <td>17111.0</td>\n    </tr>\n    <tr>\n      <th>2</th>\n      <td>BAR ICE CREAM</td>\n      <td>Year Before</td>\n      <td>54676.57</td>\n      <td>23325.0</td>\n    </tr>\n    <tr>\n      <th>3</th>\n      <td>BAR ICE CREAM</td>\n      <td>Year Now</td>\n      <td>63682.87</td>\n      <td>22974.0</td>\n    </tr>\n    <tr>\n      <th>4</th>\n      <td>BAR SNACKS</td>\n      <td>Year Before</td>\n      <td>153697.16</td>\n      <td>98917.0</td>\n    </tr>\n    <tr>\n      <th>...</th>\n      <td>...</td>\n      <td>...</td>\n      <td>...</td>\n      <td>...</td>\n    </tr>\n    <tr>\n      <th>194</th>\n      <td>YOGURT</td>\n      <td>Year Now</td>\n      <td>338554.59</td>\n      <td>141253.0</td>\n    </tr>\n    <tr>\n      <th>195</th>\n      <td>ΟΥΖΟ</td>\n      <td>Year Before</td>\n      <td>86790.22</td>\n      <td>18592.0</td>\n    </tr>\n    <tr>\n      <th>196</th>\n      <td>ΟΥΖΟ</td>\n      <td>Year Now</td>\n      <td>107074.29</td>\n      <td>21499.0</td>\n    </tr>\n    <tr>\n      <th>197</th>\n      <td>ΤΣΙΠΟΥΡΟ</td>\n      <td>Year Before</td>\n      <td>143537.60</td>\n      <td>37168.0</td>\n    </tr>\n    <tr>\n      <th>198</th>\n      <td>ΤΣΙΠΟΥΡΟ</td>\n      <td>Year Now</td>\n      <td>160993.41</td>\n      <td>39724.0</td>\n    </tr>\n  </tbody>\n</table>\n<p>199 rows × 4 columns</p>\n</div>"
     },
     "execution_count": 9,
     "metadata": {},
     "output_type": "execute_result"
    }
   ],
   "source": [
    "sales_per_category = data1.groupby(['Subcategory','Period'])[['Revenue','Quantity']].sum().reset_index()\n",
    "sales_per_category"
   ],
   "metadata": {
    "collapsed": false,
    "ExecuteTime": {
     "end_time": "2023-12-28T12:04:25.841428200Z",
     "start_time": "2023-12-28T12:04:25.776985400Z"
    }
   },
   "id": "858254a97d1c9cc9"
  },
  {
   "cell_type": "code",
   "execution_count": 11,
   "outputs": [
    {
     "data": {
      "text/plain": "       Subcategory       Period    Revenue  Quantity  Revenue_pct_change\n0        ALOE VERA  Year Before   39974.16   22331.0                 NaN\n1        ALOE VERA     Year Now   31501.21   17111.0           -0.211961\n2    BAR ICE CREAM  Year Before   54676.57   23325.0                 NaN\n3    BAR ICE CREAM     Year Now   63682.87   22974.0            0.164720\n4       BAR SNACKS  Year Before  153697.16   98917.0                 NaN\n..             ...          ...        ...       ...                 ...\n194         YOGURT     Year Now  338554.59  141253.0            0.054635\n195           ΟΥΖΟ  Year Before   86790.22   18592.0                 NaN\n196           ΟΥΖΟ     Year Now  107074.29   21499.0            0.233714\n197       ΤΣΙΠΟΥΡΟ  Year Before  143537.60   37168.0                 NaN\n198       ΤΣΙΠΟΥΡΟ     Year Now  160993.41   39724.0            0.121611\n\n[199 rows x 5 columns]",
      "text/html": "<div>\n<style scoped>\n    .dataframe tbody tr th:only-of-type {\n        vertical-align: middle;\n    }\n\n    .dataframe tbody tr th {\n        vertical-align: top;\n    }\n\n    .dataframe thead th {\n        text-align: right;\n    }\n</style>\n<table border=\"1\" class=\"dataframe\">\n  <thead>\n    <tr style=\"text-align: right;\">\n      <th></th>\n      <th>Subcategory</th>\n      <th>Period</th>\n      <th>Revenue</th>\n      <th>Quantity</th>\n      <th>Revenue_pct_change</th>\n    </tr>\n  </thead>\n  <tbody>\n    <tr>\n      <th>0</th>\n      <td>ALOE VERA</td>\n      <td>Year Before</td>\n      <td>39974.16</td>\n      <td>22331.0</td>\n      <td>NaN</td>\n    </tr>\n    <tr>\n      <th>1</th>\n      <td>ALOE VERA</td>\n      <td>Year Now</td>\n      <td>31501.21</td>\n      <td>17111.0</td>\n      <td>-0.211961</td>\n    </tr>\n    <tr>\n      <th>2</th>\n      <td>BAR ICE CREAM</td>\n      <td>Year Before</td>\n      <td>54676.57</td>\n      <td>23325.0</td>\n      <td>NaN</td>\n    </tr>\n    <tr>\n      <th>3</th>\n      <td>BAR ICE CREAM</td>\n      <td>Year Now</td>\n      <td>63682.87</td>\n      <td>22974.0</td>\n      <td>0.164720</td>\n    </tr>\n    <tr>\n      <th>4</th>\n      <td>BAR SNACKS</td>\n      <td>Year Before</td>\n      <td>153697.16</td>\n      <td>98917.0</td>\n      <td>NaN</td>\n    </tr>\n    <tr>\n      <th>...</th>\n      <td>...</td>\n      <td>...</td>\n      <td>...</td>\n      <td>...</td>\n      <td>...</td>\n    </tr>\n    <tr>\n      <th>194</th>\n      <td>YOGURT</td>\n      <td>Year Now</td>\n      <td>338554.59</td>\n      <td>141253.0</td>\n      <td>0.054635</td>\n    </tr>\n    <tr>\n      <th>195</th>\n      <td>ΟΥΖΟ</td>\n      <td>Year Before</td>\n      <td>86790.22</td>\n      <td>18592.0</td>\n      <td>NaN</td>\n    </tr>\n    <tr>\n      <th>196</th>\n      <td>ΟΥΖΟ</td>\n      <td>Year Now</td>\n      <td>107074.29</td>\n      <td>21499.0</td>\n      <td>0.233714</td>\n    </tr>\n    <tr>\n      <th>197</th>\n      <td>ΤΣΙΠΟΥΡΟ</td>\n      <td>Year Before</td>\n      <td>143537.60</td>\n      <td>37168.0</td>\n      <td>NaN</td>\n    </tr>\n    <tr>\n      <th>198</th>\n      <td>ΤΣΙΠΟΥΡΟ</td>\n      <td>Year Now</td>\n      <td>160993.41</td>\n      <td>39724.0</td>\n      <td>0.121611</td>\n    </tr>\n  </tbody>\n</table>\n<p>199 rows × 5 columns</p>\n</div>"
     },
     "execution_count": 11,
     "metadata": {},
     "output_type": "execute_result"
    }
   ],
   "source": [
    "sales_per_category['Revenue_pct_change'] = sales_per_category.groupby(['Subcategory'])['Revenue'].pct_change()\n",
    "sales_per_category"
   ],
   "metadata": {
    "collapsed": false,
    "ExecuteTime": {
     "end_time": "2023-12-28T12:05:36.596908900Z",
     "start_time": "2023-12-28T12:05:36.582148100Z"
    }
   },
   "id": "bda2ab3e7d6714a7"
  },
  {
   "cell_type": "code",
   "execution_count": 12,
   "outputs": [
    {
     "data": {
      "text/plain": "            Subcategory       Period     Revenue  Quantity  Revenue_pct_change\n180                VAPE     Year Now  2452232.80  339577.0            1.072153\n178                TOYS     Year Now   618036.87  409855.0            0.970880\n23         CHOCO COATED     Year Now    65274.79   31789.0            0.486394\n138  REST SALTY SNACKS      Year Now    62169.15   36855.0            0.374489\n19         CHEWING GUMS     Year Now   625973.51  811170.0            0.347793\n..                  ...          ...         ...       ...                 ...\n189              WHISKY  Year Before   405801.84   22269.0                 NaN\n191                WINE  Year Before   492603.59  140888.0                 NaN\n193              YOGURT  Year Before   321015.96  145765.0                 NaN\n195                ΟΥΖΟ  Year Before    86790.22   18592.0                 NaN\n197            ΤΣΙΠΟΥΡΟ  Year Before   143537.60   37168.0                 NaN\n\n[199 rows x 5 columns]",
      "text/html": "<div>\n<style scoped>\n    .dataframe tbody tr th:only-of-type {\n        vertical-align: middle;\n    }\n\n    .dataframe tbody tr th {\n        vertical-align: top;\n    }\n\n    .dataframe thead th {\n        text-align: right;\n    }\n</style>\n<table border=\"1\" class=\"dataframe\">\n  <thead>\n    <tr style=\"text-align: right;\">\n      <th></th>\n      <th>Subcategory</th>\n      <th>Period</th>\n      <th>Revenue</th>\n      <th>Quantity</th>\n      <th>Revenue_pct_change</th>\n    </tr>\n  </thead>\n  <tbody>\n    <tr>\n      <th>180</th>\n      <td>VAPE</td>\n      <td>Year Now</td>\n      <td>2452232.80</td>\n      <td>339577.0</td>\n      <td>1.072153</td>\n    </tr>\n    <tr>\n      <th>178</th>\n      <td>TOYS</td>\n      <td>Year Now</td>\n      <td>618036.87</td>\n      <td>409855.0</td>\n      <td>0.970880</td>\n    </tr>\n    <tr>\n      <th>23</th>\n      <td>CHOCO COATED</td>\n      <td>Year Now</td>\n      <td>65274.79</td>\n      <td>31789.0</td>\n      <td>0.486394</td>\n    </tr>\n    <tr>\n      <th>138</th>\n      <td>REST SALTY SNACKS</td>\n      <td>Year Now</td>\n      <td>62169.15</td>\n      <td>36855.0</td>\n      <td>0.374489</td>\n    </tr>\n    <tr>\n      <th>19</th>\n      <td>CHEWING GUMS</td>\n      <td>Year Now</td>\n      <td>625973.51</td>\n      <td>811170.0</td>\n      <td>0.347793</td>\n    </tr>\n    <tr>\n      <th>...</th>\n      <td>...</td>\n      <td>...</td>\n      <td>...</td>\n      <td>...</td>\n      <td>...</td>\n    </tr>\n    <tr>\n      <th>189</th>\n      <td>WHISKY</td>\n      <td>Year Before</td>\n      <td>405801.84</td>\n      <td>22269.0</td>\n      <td>NaN</td>\n    </tr>\n    <tr>\n      <th>191</th>\n      <td>WINE</td>\n      <td>Year Before</td>\n      <td>492603.59</td>\n      <td>140888.0</td>\n      <td>NaN</td>\n    </tr>\n    <tr>\n      <th>193</th>\n      <td>YOGURT</td>\n      <td>Year Before</td>\n      <td>321015.96</td>\n      <td>145765.0</td>\n      <td>NaN</td>\n    </tr>\n    <tr>\n      <th>195</th>\n      <td>ΟΥΖΟ</td>\n      <td>Year Before</td>\n      <td>86790.22</td>\n      <td>18592.0</td>\n      <td>NaN</td>\n    </tr>\n    <tr>\n      <th>197</th>\n      <td>ΤΣΙΠΟΥΡΟ</td>\n      <td>Year Before</td>\n      <td>143537.60</td>\n      <td>37168.0</td>\n      <td>NaN</td>\n    </tr>\n  </tbody>\n</table>\n<p>199 rows × 5 columns</p>\n</div>"
     },
     "execution_count": 12,
     "metadata": {},
     "output_type": "execute_result"
    }
   ],
   "source": [
    "sales_per_category.sort_values(by=['Revenue_pct_change'],ascending=False,inplace=True)\n",
    "sales_per_category"
   ],
   "metadata": {
    "collapsed": false,
    "ExecuteTime": {
     "end_time": "2023-12-28T12:05:40.999116700Z",
     "start_time": "2023-12-28T12:05:40.986318200Z"
    }
   },
   "id": "91983bf7a076e7cb"
  }
 ],
 "metadata": {
  "kernelspec": {
   "display_name": "Python 3",
   "language": "python",
   "name": "python3"
  },
  "language_info": {
   "codemirror_mode": {
    "name": "ipython",
    "version": 2
   },
   "file_extension": ".py",
   "mimetype": "text/x-python",
   "name": "python",
   "nbconvert_exporter": "python",
   "pygments_lexer": "ipython2",
   "version": "2.7.6"
  }
 },
 "nbformat": 4,
 "nbformat_minor": 5
}
