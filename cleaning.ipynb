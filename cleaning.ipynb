{
 "cells": [
  {
   "cell_type": "code",
   "execution_count": 2,
   "id": "initial_id",
   "metadata": {
    "collapsed": true,
    "ExecuteTime": {
     "end_time": "2023-12-17T23:19:57.702684Z",
     "start_time": "2023-12-17T23:19:56.911036900Z"
    }
   },
   "outputs": [],
   "source": [
    "import pandas as pd"
   ]
  },
  {
   "cell_type": "code",
   "execution_count": 3,
   "outputs": [],
   "source": [
    "# Read excel file and write each sheet to a csv file (warning: takes a long time)\n",
    "\n",
    "# Read excel file\n",
    "xls = pd.ExcelFile('intale.xlsx')\n",
    "\n",
    "# Get the sheet names\n",
    "sheet_names = xls.sheet_names\n",
    "\n",
    "# Loop through each sheet and write to csv file\n",
    "for sheet in sheet_names:\n",
    "    df = pd.read_excel('intale.xlsx', sheet_name=sheet)\n",
    "    df.to_csv(sheet + '.csv', index=False)\n"
   ],
   "metadata": {
    "collapsed": false,
    "ExecuteTime": {
     "end_time": "2023-12-17T23:21:39.059653600Z",
     "start_time": "2023-12-17T23:19:57.703684600Z"
    }
   },
   "id": "598fcb35920d9f7a"
  },
  {
   "cell_type": "code",
   "execution_count": 3,
   "outputs": [],
   "source": [],
   "metadata": {
    "collapsed": false,
    "ExecuteTime": {
     "end_time": "2023-12-17T23:21:39.061865600Z",
     "start_time": "2023-12-17T23:21:39.060357500Z"
    }
   },
   "id": "5b363bfc976541a"
  }
 ],
 "metadata": {
  "kernelspec": {
   "display_name": "Python 3",
   "language": "python",
   "name": "python3"
  },
  "language_info": {
   "codemirror_mode": {
    "name": "ipython",
    "version": 2
   },
   "file_extension": ".py",
   "mimetype": "text/x-python",
   "name": "python",
   "nbconvert_exporter": "python",
   "pygments_lexer": "ipython2",
   "version": "2.7.6"
  }
 },
 "nbformat": 4,
 "nbformat_minor": 5
}
