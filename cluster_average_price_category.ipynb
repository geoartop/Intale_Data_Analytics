{
 "cells": [
  {
   "cell_type": "code",
   "execution_count": 1,
   "id": "initial_id",
   "metadata": {
    "collapsed": true,
    "jupyter": {
     "outputs_hidden": true
    },
    "ExecuteTime": {
     "end_time": "2024-01-22T14:31:01.478537500Z",
     "start_time": "2024-01-22T14:31:01.475540300Z"
    }
   },
   "outputs": [],
   "source": [
    "import pandas as pd"
   ]
  },
  {
   "cell_type": "code",
   "execution_count": 2,
   "id": "59bbac5333e2289",
   "metadata": {
    "collapsed": false,
    "ExecuteTime": {
     "end_time": "2024-01-22T14:31:01.766191300Z",
     "start_time": "2024-01-22T14:31:01.478537500Z"
    }
   },
   "outputs": [],
   "source": [
    "data = pd.read_csv('data/data1analytical.csv')\n",
    "\n",
    "# Read Category Mappings csv\n",
    "category_mappings = pd.read_csv('data/Category Mapping.csv')\n",
    "# Get the Category column from the category_mappings dataframe and merge to dataset2_encoded\n",
    "data1 = pd.merge(data, category_mappings[['Subcategory', 'Category']], on='Subcategory', how='left')"
   ]
  },
  {
   "cell_type": "code",
   "execution_count": 3,
   "id": "3f47478d77de80b7",
   "metadata": {
    "collapsed": false,
    "ExecuteTime": {
     "end_time": "2024-01-22T14:31:01.780489Z",
     "start_time": "2024-01-22T14:31:01.767192Z"
    }
   },
   "outputs": [
    {
     "data": {
      "text/plain": "        Date_Year Date_MonthName  StoreId           Subcategory  Quantity  \\\n0            2022           June     4008  SWEET BAKERY SNACKS       24.0   \n1            2021       November    10254   TOBACCO ACCESSORIES    2156.0   \n2            2022         August     5122                  ΟΥΖΟ       3.0   \n3            2022           June    10254                 CORN       51.0   \n4            2022        October    10280                 STICK     122.0   \n...           ...            ...      ...                   ...       ...   \n351094       2023          March     7986                WHISKY       1.0   \n351095       2023        January     6532              SANDWICH      29.0   \n351096       2023        January     3545               ICE TEA      11.0   \n351097       2022       December     3813                 COLAS     364.0   \n351098       2022       November     7376          GREEK COFFEE      18.0   \n\n        Revenue Period         Type                        Area  \\\n0         24.40  MATYA        Kiosk         Μακεδονία και Θράκη   \n1       1437.80  MATYA        Kiosk         Μακεδονία και Θράκη   \n2         11.00  MATYA        Kiosk  Δυτική και Κεντρική Ελλάδα   \n3         74.00  MATYA        Kiosk         Μακεδονία και Θράκη   \n4        277.80  MATYA        Kiosk                      Αττική   \n...         ...    ...          ...                         ...   \n351094    23.00    MAT  Mini-Market         Μακεδονία και Θράκη   \n351095    48.50    MAT        Kiosk                       Νησιά   \n351096    20.00    MAT  Mini-Market                      Αττική   \n351097   653.64    MAT        Kiosk                Πελοπόννησος   \n351098    50.10    MAT  Mini-Market                      Αττική   \n\n                   Category  \n0                    SNACKS  \n1             TOBACCO COMPL  \n2       ALCOHOLIC BEVERAGES  \n3                    SNACKS  \n4                 ICE CREAM  \n...                     ...  \n351094  ALCOHOLIC BEVERAGES  \n351095             BISCUITS  \n351096          SOFT DRINKS  \n351097          SOFT DRINKS  \n351098               COFFEE  \n\n[351099 rows x 10 columns]",
      "text/html": "<div>\n<style scoped>\n    .dataframe tbody tr th:only-of-type {\n        vertical-align: middle;\n    }\n\n    .dataframe tbody tr th {\n        vertical-align: top;\n    }\n\n    .dataframe thead th {\n        text-align: right;\n    }\n</style>\n<table border=\"1\" class=\"dataframe\">\n  <thead>\n    <tr style=\"text-align: right;\">\n      <th></th>\n      <th>Date_Year</th>\n      <th>Date_MonthName</th>\n      <th>StoreId</th>\n      <th>Subcategory</th>\n      <th>Quantity</th>\n      <th>Revenue</th>\n      <th>Period</th>\n      <th>Type</th>\n      <th>Area</th>\n      <th>Category</th>\n    </tr>\n  </thead>\n  <tbody>\n    <tr>\n      <th>0</th>\n      <td>2022</td>\n      <td>June</td>\n      <td>4008</td>\n      <td>SWEET BAKERY SNACKS</td>\n      <td>24.0</td>\n      <td>24.40</td>\n      <td>MATYA</td>\n      <td>Kiosk</td>\n      <td>Μακεδονία και Θράκη</td>\n      <td>SNACKS</td>\n    </tr>\n    <tr>\n      <th>1</th>\n      <td>2021</td>\n      <td>November</td>\n      <td>10254</td>\n      <td>TOBACCO ACCESSORIES</td>\n      <td>2156.0</td>\n      <td>1437.80</td>\n      <td>MATYA</td>\n      <td>Kiosk</td>\n      <td>Μακεδονία και Θράκη</td>\n      <td>TOBACCO COMPL</td>\n    </tr>\n    <tr>\n      <th>2</th>\n      <td>2022</td>\n      <td>August</td>\n      <td>5122</td>\n      <td>ΟΥΖΟ</td>\n      <td>3.0</td>\n      <td>11.00</td>\n      <td>MATYA</td>\n      <td>Kiosk</td>\n      <td>Δυτική και Κεντρική Ελλάδα</td>\n      <td>ALCOHOLIC BEVERAGES</td>\n    </tr>\n    <tr>\n      <th>3</th>\n      <td>2022</td>\n      <td>June</td>\n      <td>10254</td>\n      <td>CORN</td>\n      <td>51.0</td>\n      <td>74.00</td>\n      <td>MATYA</td>\n      <td>Kiosk</td>\n      <td>Μακεδονία και Θράκη</td>\n      <td>SNACKS</td>\n    </tr>\n    <tr>\n      <th>4</th>\n      <td>2022</td>\n      <td>October</td>\n      <td>10280</td>\n      <td>STICK</td>\n      <td>122.0</td>\n      <td>277.80</td>\n      <td>MATYA</td>\n      <td>Kiosk</td>\n      <td>Αττική</td>\n      <td>ICE CREAM</td>\n    </tr>\n    <tr>\n      <th>...</th>\n      <td>...</td>\n      <td>...</td>\n      <td>...</td>\n      <td>...</td>\n      <td>...</td>\n      <td>...</td>\n      <td>...</td>\n      <td>...</td>\n      <td>...</td>\n      <td>...</td>\n    </tr>\n    <tr>\n      <th>351094</th>\n      <td>2023</td>\n      <td>March</td>\n      <td>7986</td>\n      <td>WHISKY</td>\n      <td>1.0</td>\n      <td>23.00</td>\n      <td>MAT</td>\n      <td>Mini-Market</td>\n      <td>Μακεδονία και Θράκη</td>\n      <td>ALCOHOLIC BEVERAGES</td>\n    </tr>\n    <tr>\n      <th>351095</th>\n      <td>2023</td>\n      <td>January</td>\n      <td>6532</td>\n      <td>SANDWICH</td>\n      <td>29.0</td>\n      <td>48.50</td>\n      <td>MAT</td>\n      <td>Kiosk</td>\n      <td>Νησιά</td>\n      <td>BISCUITS</td>\n    </tr>\n    <tr>\n      <th>351096</th>\n      <td>2023</td>\n      <td>January</td>\n      <td>3545</td>\n      <td>ICE TEA</td>\n      <td>11.0</td>\n      <td>20.00</td>\n      <td>MAT</td>\n      <td>Mini-Market</td>\n      <td>Αττική</td>\n      <td>SOFT DRINKS</td>\n    </tr>\n    <tr>\n      <th>351097</th>\n      <td>2022</td>\n      <td>December</td>\n      <td>3813</td>\n      <td>COLAS</td>\n      <td>364.0</td>\n      <td>653.64</td>\n      <td>MAT</td>\n      <td>Kiosk</td>\n      <td>Πελοπόννησος</td>\n      <td>SOFT DRINKS</td>\n    </tr>\n    <tr>\n      <th>351098</th>\n      <td>2022</td>\n      <td>November</td>\n      <td>7376</td>\n      <td>GREEK COFFEE</td>\n      <td>18.0</td>\n      <td>50.10</td>\n      <td>MAT</td>\n      <td>Mini-Market</td>\n      <td>Αττική</td>\n      <td>COFFEE</td>\n    </tr>\n  </tbody>\n</table>\n<p>351099 rows × 10 columns</p>\n</div>"
     },
     "execution_count": 3,
     "metadata": {},
     "output_type": "execute_result"
    }
   ],
   "source": [
    "data1"
   ]
  },
  {
   "cell_type": "code",
   "execution_count": 4,
   "id": "5c82cfe6c4725b64",
   "metadata": {
    "collapsed": false,
    "ExecuteTime": {
     "end_time": "2024-01-22T14:31:01.786154200Z",
     "start_time": "2024-01-22T14:31:01.778490900Z"
    }
   },
   "outputs": [
    {
     "data": {
      "text/plain": "        Date_Year Date_MonthName  StoreId           Subcategory  Quantity  \\\n0            2022           June     4008  SWEET BAKERY SNACKS       24.0   \n1            2021       November    10254   TOBACCO ACCESSORIES    2156.0   \n2            2022         August     5122                  ΟΥΖΟ       3.0   \n3            2022           June    10254                 CORN       51.0   \n4            2022        October    10280                 STICK     122.0   \n...           ...            ...      ...                   ...       ...   \n351094       2023          March     7986                WHISKY       1.0   \n351095       2023        January     6532              SANDWICH      29.0   \n351096       2023        January     3545               ICE TEA      11.0   \n351097       2022       December     3813                 COLAS     364.0   \n351098       2022       November     7376          GREEK COFFEE      18.0   \n\n        Revenue Period         Type                        Area  \\\n0         24.40  MATYA        Kiosk         Μακεδονία και Θράκη   \n1       1437.80  MATYA        Kiosk         Μακεδονία και Θράκη   \n2         11.00  MATYA        Kiosk  Δυτική και Κεντρική Ελλάδα   \n3         74.00  MATYA        Kiosk         Μακεδονία και Θράκη   \n4        277.80  MATYA        Kiosk                      Αττική   \n...         ...    ...          ...                         ...   \n351094    23.00    MAT  Mini-Market         Μακεδονία και Θράκη   \n351095    48.50    MAT        Kiosk                       Νησιά   \n351096    20.00    MAT  Mini-Market                      Αττική   \n351097   653.64    MAT        Kiosk                Πελοπόννησος   \n351098    50.10    MAT  Mini-Market                      Αττική   \n\n                   Category      Price  \n0                    SNACKS   1.016667  \n1             TOBACCO COMPL   0.666883  \n2       ALCOHOLIC BEVERAGES   3.666667  \n3                    SNACKS   1.450980  \n4                 ICE CREAM   2.277049  \n...                     ...        ...  \n351094  ALCOHOLIC BEVERAGES  23.000000  \n351095             BISCUITS   1.672414  \n351096          SOFT DRINKS   1.818182  \n351097          SOFT DRINKS   1.795714  \n351098               COFFEE   2.783333  \n\n[351099 rows x 11 columns]",
      "text/html": "<div>\n<style scoped>\n    .dataframe tbody tr th:only-of-type {\n        vertical-align: middle;\n    }\n\n    .dataframe tbody tr th {\n        vertical-align: top;\n    }\n\n    .dataframe thead th {\n        text-align: right;\n    }\n</style>\n<table border=\"1\" class=\"dataframe\">\n  <thead>\n    <tr style=\"text-align: right;\">\n      <th></th>\n      <th>Date_Year</th>\n      <th>Date_MonthName</th>\n      <th>StoreId</th>\n      <th>Subcategory</th>\n      <th>Quantity</th>\n      <th>Revenue</th>\n      <th>Period</th>\n      <th>Type</th>\n      <th>Area</th>\n      <th>Category</th>\n      <th>Price</th>\n    </tr>\n  </thead>\n  <tbody>\n    <tr>\n      <th>0</th>\n      <td>2022</td>\n      <td>June</td>\n      <td>4008</td>\n      <td>SWEET BAKERY SNACKS</td>\n      <td>24.0</td>\n      <td>24.40</td>\n      <td>MATYA</td>\n      <td>Kiosk</td>\n      <td>Μακεδονία και Θράκη</td>\n      <td>SNACKS</td>\n      <td>1.016667</td>\n    </tr>\n    <tr>\n      <th>1</th>\n      <td>2021</td>\n      <td>November</td>\n      <td>10254</td>\n      <td>TOBACCO ACCESSORIES</td>\n      <td>2156.0</td>\n      <td>1437.80</td>\n      <td>MATYA</td>\n      <td>Kiosk</td>\n      <td>Μακεδονία και Θράκη</td>\n      <td>TOBACCO COMPL</td>\n      <td>0.666883</td>\n    </tr>\n    <tr>\n      <th>2</th>\n      <td>2022</td>\n      <td>August</td>\n      <td>5122</td>\n      <td>ΟΥΖΟ</td>\n      <td>3.0</td>\n      <td>11.00</td>\n      <td>MATYA</td>\n      <td>Kiosk</td>\n      <td>Δυτική και Κεντρική Ελλάδα</td>\n      <td>ALCOHOLIC BEVERAGES</td>\n      <td>3.666667</td>\n    </tr>\n    <tr>\n      <th>3</th>\n      <td>2022</td>\n      <td>June</td>\n      <td>10254</td>\n      <td>CORN</td>\n      <td>51.0</td>\n      <td>74.00</td>\n      <td>MATYA</td>\n      <td>Kiosk</td>\n      <td>Μακεδονία και Θράκη</td>\n      <td>SNACKS</td>\n      <td>1.450980</td>\n    </tr>\n    <tr>\n      <th>4</th>\n      <td>2022</td>\n      <td>October</td>\n      <td>10280</td>\n      <td>STICK</td>\n      <td>122.0</td>\n      <td>277.80</td>\n      <td>MATYA</td>\n      <td>Kiosk</td>\n      <td>Αττική</td>\n      <td>ICE CREAM</td>\n      <td>2.277049</td>\n    </tr>\n    <tr>\n      <th>...</th>\n      <td>...</td>\n      <td>...</td>\n      <td>...</td>\n      <td>...</td>\n      <td>...</td>\n      <td>...</td>\n      <td>...</td>\n      <td>...</td>\n      <td>...</td>\n      <td>...</td>\n      <td>...</td>\n    </tr>\n    <tr>\n      <th>351094</th>\n      <td>2023</td>\n      <td>March</td>\n      <td>7986</td>\n      <td>WHISKY</td>\n      <td>1.0</td>\n      <td>23.00</td>\n      <td>MAT</td>\n      <td>Mini-Market</td>\n      <td>Μακεδονία και Θράκη</td>\n      <td>ALCOHOLIC BEVERAGES</td>\n      <td>23.000000</td>\n    </tr>\n    <tr>\n      <th>351095</th>\n      <td>2023</td>\n      <td>January</td>\n      <td>6532</td>\n      <td>SANDWICH</td>\n      <td>29.0</td>\n      <td>48.50</td>\n      <td>MAT</td>\n      <td>Kiosk</td>\n      <td>Νησιά</td>\n      <td>BISCUITS</td>\n      <td>1.672414</td>\n    </tr>\n    <tr>\n      <th>351096</th>\n      <td>2023</td>\n      <td>January</td>\n      <td>3545</td>\n      <td>ICE TEA</td>\n      <td>11.0</td>\n      <td>20.00</td>\n      <td>MAT</td>\n      <td>Mini-Market</td>\n      <td>Αττική</td>\n      <td>SOFT DRINKS</td>\n      <td>1.818182</td>\n    </tr>\n    <tr>\n      <th>351097</th>\n      <td>2022</td>\n      <td>December</td>\n      <td>3813</td>\n      <td>COLAS</td>\n      <td>364.0</td>\n      <td>653.64</td>\n      <td>MAT</td>\n      <td>Kiosk</td>\n      <td>Πελοπόννησος</td>\n      <td>SOFT DRINKS</td>\n      <td>1.795714</td>\n    </tr>\n    <tr>\n      <th>351098</th>\n      <td>2022</td>\n      <td>November</td>\n      <td>7376</td>\n      <td>GREEK COFFEE</td>\n      <td>18.0</td>\n      <td>50.10</td>\n      <td>MAT</td>\n      <td>Mini-Market</td>\n      <td>Αττική</td>\n      <td>COFFEE</td>\n      <td>2.783333</td>\n    </tr>\n  </tbody>\n</table>\n<p>351099 rows × 11 columns</p>\n</div>"
     },
     "execution_count": 4,
     "metadata": {},
     "output_type": "execute_result"
    }
   ],
   "source": [
    "# Calculate price (Revenue/Quantity) for each product\n",
    "data1['Price'] = data1['Revenue'] / data1['Quantity']\n",
    "data1"
   ]
  },
  {
   "cell_type": "code",
   "execution_count": 5,
   "id": "9fa78fbe0d3e5a4",
   "metadata": {
    "collapsed": false,
    "ExecuteTime": {
     "end_time": "2024-01-22T14:31:01.881916800Z",
     "start_time": "2024-01-22T14:31:01.787155900Z"
    }
   },
   "outputs": [
    {
     "data": {
      "text/plain": "      StoreId                          Category      Price\n0        3435               ALCOHOLIC BEVERAGES   3.470383\n1        3435                          BISCUITS   1.914825\n2        3435                         CHOCOLATE   1.208003\n3        3435                            COFFEE   1.486962\n4        3435                             DAIRY   1.536078\n...       ...                               ...        ...\n3344    10963                       SOFT DRINKS   1.339156\n3345    10963  TICKETING AND ADMISSION SERVICES  12.609595\n3346    10963                           TOBACCO   4.735000\n3347    10963                     TOBACCO COMPL   5.364182\n3348    10963                              TOYS   1.407894\n\n[3349 rows x 3 columns]",
      "text/html": "<div>\n<style scoped>\n    .dataframe tbody tr th:only-of-type {\n        vertical-align: middle;\n    }\n\n    .dataframe tbody tr th {\n        vertical-align: top;\n    }\n\n    .dataframe thead th {\n        text-align: right;\n    }\n</style>\n<table border=\"1\" class=\"dataframe\">\n  <thead>\n    <tr style=\"text-align: right;\">\n      <th></th>\n      <th>StoreId</th>\n      <th>Category</th>\n      <th>Price</th>\n    </tr>\n  </thead>\n  <tbody>\n    <tr>\n      <th>0</th>\n      <td>3435</td>\n      <td>ALCOHOLIC BEVERAGES</td>\n      <td>3.470383</td>\n    </tr>\n    <tr>\n      <th>1</th>\n      <td>3435</td>\n      <td>BISCUITS</td>\n      <td>1.914825</td>\n    </tr>\n    <tr>\n      <th>2</th>\n      <td>3435</td>\n      <td>CHOCOLATE</td>\n      <td>1.208003</td>\n    </tr>\n    <tr>\n      <th>3</th>\n      <td>3435</td>\n      <td>COFFEE</td>\n      <td>1.486962</td>\n    </tr>\n    <tr>\n      <th>4</th>\n      <td>3435</td>\n      <td>DAIRY</td>\n      <td>1.536078</td>\n    </tr>\n    <tr>\n      <th>...</th>\n      <td>...</td>\n      <td>...</td>\n      <td>...</td>\n    </tr>\n    <tr>\n      <th>3344</th>\n      <td>10963</td>\n      <td>SOFT DRINKS</td>\n      <td>1.339156</td>\n    </tr>\n    <tr>\n      <th>3345</th>\n      <td>10963</td>\n      <td>TICKETING AND ADMISSION SERVICES</td>\n      <td>12.609595</td>\n    </tr>\n    <tr>\n      <th>3346</th>\n      <td>10963</td>\n      <td>TOBACCO</td>\n      <td>4.735000</td>\n    </tr>\n    <tr>\n      <th>3347</th>\n      <td>10963</td>\n      <td>TOBACCO COMPL</td>\n      <td>5.364182</td>\n    </tr>\n    <tr>\n      <th>3348</th>\n      <td>10963</td>\n      <td>TOYS</td>\n      <td>1.407894</td>\n    </tr>\n  </tbody>\n</table>\n<p>3349 rows × 3 columns</p>\n</div>"
     },
     "execution_count": 5,
     "metadata": {},
     "output_type": "execute_result"
    }
   ],
   "source": [
    "# Group by StoreId, Category and calculate the average price\n",
    "data1_grouped = data1.groupby(['StoreId', 'Category']).agg({'Price': 'mean'}).reset_index()\n",
    "data1_grouped"
   ]
  },
  {
   "cell_type": "code",
   "execution_count": 6,
   "id": "a8670d50ec50be5e",
   "metadata": {
    "collapsed": false,
    "ExecuteTime": {
     "end_time": "2024-01-22T14:31:01.886916200Z",
     "start_time": "2024-01-22T14:31:01.821553900Z"
    }
   },
   "outputs": [
    {
     "data": {
      "text/plain": "Category  ALCOHOLIC BEVERAGES  BISCUITS  CHOCOLATE    COFFEE     DAIRY  \\\nStoreId                                                                  \n3435                 3.470383  1.914825   1.208003  1.486962  1.536078   \n3439                 9.141535  1.882501   1.228549  1.284929  1.830063   \n3484                 2.064949  1.775431   1.139830  1.270534  2.450265   \n3493                 9.231740  1.933585   1.206842  2.172899  2.237394   \n3521                 4.049897  2.056706   1.297419  1.722533  1.823618   \n...                       ...       ...        ...       ...       ...   \n10821               10.839360  1.849414   1.483641  4.215388  2.345838   \n10884                3.013471  2.072286   1.305166  1.323659  1.533017   \n10923               12.099238  1.950711   1.519720  3.952904  3.051917   \n10961                5.526114  1.864816   1.284742  3.139324  2.258838   \n10963                4.604762  2.055528   1.282532  2.738986  2.672000   \n\nCategory  GUMS & CANDIES  HOME & PERSONAL CARE  ICE CREAM      MILK  \\\nStoreId                                                               \n3435            0.898700              1.588678   3.389018  1.733993   \n3439            0.798500              2.089121   3.788234  2.060565   \n3484            0.852711              1.465896   3.163403  2.104242   \n3493            1.156505              1.674337   3.529221  2.038474   \n3521            1.255403              1.737125   3.206563  1.656821   \n...                  ...                   ...        ...       ...   \n10821           1.011315              2.544034   3.482408  1.844392   \n10884           1.072148              1.622393   3.287024  2.003002   \n10923           1.202852              2.269755   3.338147  2.364278   \n10961           1.231848              1.968284   3.125604  2.151728   \n10963           1.057651              1.972764   3.114476  2.179061   \n\nCategory  PACKAGED FOOD  PET CARE     PRINT    SNACKS  SOFT DRINKS  \\\nStoreId                                                              \n3435           1.943256  1.065002  3.910922  1.418956     1.245465   \n3439           2.588497  1.293965  3.367313  1.489890     1.361490   \n3484           2.444061  1.561944  3.436929  1.319170     1.219009   \n3493           2.472950  1.246037  1.006043  1.487343     1.335024   \n3521           2.276981  1.561944  3.367313  1.384882     1.369818   \n...                 ...       ...       ...       ...          ...   \n10821          2.254305  1.428394  2.887416  1.451801     1.278314   \n10884          2.440610  1.239286  8.225000  1.577135     1.399605   \n10923          2.726771  2.669831  3.367313  1.684127     1.411453   \n10961          1.997217  1.152290  2.381747  1.427463     1.290439   \n10963          1.979619  0.828540  2.310859  1.431373     1.339156   \n\nCategory  TICKETING AND ADMISSION SERVICES   TOBACCO  TOBACCO COMPL      TOYS  \nStoreId                                                                        \n3435                             14.736045  5.891249      10.016374  1.705755  \n3439                             16.912949  5.893667      13.749944  2.183153  \n3484                             16.157533  4.690231       5.731688  2.704545  \n3493                              7.190363  4.837268       6.437890  1.789471  \n3521                             14.926262  5.041051       0.739705  1.393636  \n...                                    ...       ...            ...       ...  \n10821                            10.200531  6.008421      16.697911  1.148856  \n10884                            19.035465  6.087118      10.894068  1.228902  \n10923                            14.543019  5.316389      19.804796  1.819147  \n10961                             7.357535  4.779196      22.528158  2.059861  \n10963                            12.609595  4.735000       5.364182  1.407894  \n\n[200 rows x 18 columns]",
      "text/html": "<div>\n<style scoped>\n    .dataframe tbody tr th:only-of-type {\n        vertical-align: middle;\n    }\n\n    .dataframe tbody tr th {\n        vertical-align: top;\n    }\n\n    .dataframe thead th {\n        text-align: right;\n    }\n</style>\n<table border=\"1\" class=\"dataframe\">\n  <thead>\n    <tr style=\"text-align: right;\">\n      <th>Category</th>\n      <th>ALCOHOLIC BEVERAGES</th>\n      <th>BISCUITS</th>\n      <th>CHOCOLATE</th>\n      <th>COFFEE</th>\n      <th>DAIRY</th>\n      <th>GUMS &amp; CANDIES</th>\n      <th>HOME &amp; PERSONAL CARE</th>\n      <th>ICE CREAM</th>\n      <th>MILK</th>\n      <th>PACKAGED FOOD</th>\n      <th>PET CARE</th>\n      <th>PRINT</th>\n      <th>SNACKS</th>\n      <th>SOFT DRINKS</th>\n      <th>TICKETING AND ADMISSION SERVICES</th>\n      <th>TOBACCO</th>\n      <th>TOBACCO COMPL</th>\n      <th>TOYS</th>\n    </tr>\n    <tr>\n      <th>StoreId</th>\n      <th></th>\n      <th></th>\n      <th></th>\n      <th></th>\n      <th></th>\n      <th></th>\n      <th></th>\n      <th></th>\n      <th></th>\n      <th></th>\n      <th></th>\n      <th></th>\n      <th></th>\n      <th></th>\n      <th></th>\n      <th></th>\n      <th></th>\n      <th></th>\n    </tr>\n  </thead>\n  <tbody>\n    <tr>\n      <th>3435</th>\n      <td>3.470383</td>\n      <td>1.914825</td>\n      <td>1.208003</td>\n      <td>1.486962</td>\n      <td>1.536078</td>\n      <td>0.898700</td>\n      <td>1.588678</td>\n      <td>3.389018</td>\n      <td>1.733993</td>\n      <td>1.943256</td>\n      <td>1.065002</td>\n      <td>3.910922</td>\n      <td>1.418956</td>\n      <td>1.245465</td>\n      <td>14.736045</td>\n      <td>5.891249</td>\n      <td>10.016374</td>\n      <td>1.705755</td>\n    </tr>\n    <tr>\n      <th>3439</th>\n      <td>9.141535</td>\n      <td>1.882501</td>\n      <td>1.228549</td>\n      <td>1.284929</td>\n      <td>1.830063</td>\n      <td>0.798500</td>\n      <td>2.089121</td>\n      <td>3.788234</td>\n      <td>2.060565</td>\n      <td>2.588497</td>\n      <td>1.293965</td>\n      <td>3.367313</td>\n      <td>1.489890</td>\n      <td>1.361490</td>\n      <td>16.912949</td>\n      <td>5.893667</td>\n      <td>13.749944</td>\n      <td>2.183153</td>\n    </tr>\n    <tr>\n      <th>3484</th>\n      <td>2.064949</td>\n      <td>1.775431</td>\n      <td>1.139830</td>\n      <td>1.270534</td>\n      <td>2.450265</td>\n      <td>0.852711</td>\n      <td>1.465896</td>\n      <td>3.163403</td>\n      <td>2.104242</td>\n      <td>2.444061</td>\n      <td>1.561944</td>\n      <td>3.436929</td>\n      <td>1.319170</td>\n      <td>1.219009</td>\n      <td>16.157533</td>\n      <td>4.690231</td>\n      <td>5.731688</td>\n      <td>2.704545</td>\n    </tr>\n    <tr>\n      <th>3493</th>\n      <td>9.231740</td>\n      <td>1.933585</td>\n      <td>1.206842</td>\n      <td>2.172899</td>\n      <td>2.237394</td>\n      <td>1.156505</td>\n      <td>1.674337</td>\n      <td>3.529221</td>\n      <td>2.038474</td>\n      <td>2.472950</td>\n      <td>1.246037</td>\n      <td>1.006043</td>\n      <td>1.487343</td>\n      <td>1.335024</td>\n      <td>7.190363</td>\n      <td>4.837268</td>\n      <td>6.437890</td>\n      <td>1.789471</td>\n    </tr>\n    <tr>\n      <th>3521</th>\n      <td>4.049897</td>\n      <td>2.056706</td>\n      <td>1.297419</td>\n      <td>1.722533</td>\n      <td>1.823618</td>\n      <td>1.255403</td>\n      <td>1.737125</td>\n      <td>3.206563</td>\n      <td>1.656821</td>\n      <td>2.276981</td>\n      <td>1.561944</td>\n      <td>3.367313</td>\n      <td>1.384882</td>\n      <td>1.369818</td>\n      <td>14.926262</td>\n      <td>5.041051</td>\n      <td>0.739705</td>\n      <td>1.393636</td>\n    </tr>\n    <tr>\n      <th>...</th>\n      <td>...</td>\n      <td>...</td>\n      <td>...</td>\n      <td>...</td>\n      <td>...</td>\n      <td>...</td>\n      <td>...</td>\n      <td>...</td>\n      <td>...</td>\n      <td>...</td>\n      <td>...</td>\n      <td>...</td>\n      <td>...</td>\n      <td>...</td>\n      <td>...</td>\n      <td>...</td>\n      <td>...</td>\n      <td>...</td>\n    </tr>\n    <tr>\n      <th>10821</th>\n      <td>10.839360</td>\n      <td>1.849414</td>\n      <td>1.483641</td>\n      <td>4.215388</td>\n      <td>2.345838</td>\n      <td>1.011315</td>\n      <td>2.544034</td>\n      <td>3.482408</td>\n      <td>1.844392</td>\n      <td>2.254305</td>\n      <td>1.428394</td>\n      <td>2.887416</td>\n      <td>1.451801</td>\n      <td>1.278314</td>\n      <td>10.200531</td>\n      <td>6.008421</td>\n      <td>16.697911</td>\n      <td>1.148856</td>\n    </tr>\n    <tr>\n      <th>10884</th>\n      <td>3.013471</td>\n      <td>2.072286</td>\n      <td>1.305166</td>\n      <td>1.323659</td>\n      <td>1.533017</td>\n      <td>1.072148</td>\n      <td>1.622393</td>\n      <td>3.287024</td>\n      <td>2.003002</td>\n      <td>2.440610</td>\n      <td>1.239286</td>\n      <td>8.225000</td>\n      <td>1.577135</td>\n      <td>1.399605</td>\n      <td>19.035465</td>\n      <td>6.087118</td>\n      <td>10.894068</td>\n      <td>1.228902</td>\n    </tr>\n    <tr>\n      <th>10923</th>\n      <td>12.099238</td>\n      <td>1.950711</td>\n      <td>1.519720</td>\n      <td>3.952904</td>\n      <td>3.051917</td>\n      <td>1.202852</td>\n      <td>2.269755</td>\n      <td>3.338147</td>\n      <td>2.364278</td>\n      <td>2.726771</td>\n      <td>2.669831</td>\n      <td>3.367313</td>\n      <td>1.684127</td>\n      <td>1.411453</td>\n      <td>14.543019</td>\n      <td>5.316389</td>\n      <td>19.804796</td>\n      <td>1.819147</td>\n    </tr>\n    <tr>\n      <th>10961</th>\n      <td>5.526114</td>\n      <td>1.864816</td>\n      <td>1.284742</td>\n      <td>3.139324</td>\n      <td>2.258838</td>\n      <td>1.231848</td>\n      <td>1.968284</td>\n      <td>3.125604</td>\n      <td>2.151728</td>\n      <td>1.997217</td>\n      <td>1.152290</td>\n      <td>2.381747</td>\n      <td>1.427463</td>\n      <td>1.290439</td>\n      <td>7.357535</td>\n      <td>4.779196</td>\n      <td>22.528158</td>\n      <td>2.059861</td>\n    </tr>\n    <tr>\n      <th>10963</th>\n      <td>4.604762</td>\n      <td>2.055528</td>\n      <td>1.282532</td>\n      <td>2.738986</td>\n      <td>2.672000</td>\n      <td>1.057651</td>\n      <td>1.972764</td>\n      <td>3.114476</td>\n      <td>2.179061</td>\n      <td>1.979619</td>\n      <td>0.828540</td>\n      <td>2.310859</td>\n      <td>1.431373</td>\n      <td>1.339156</td>\n      <td>12.609595</td>\n      <td>4.735000</td>\n      <td>5.364182</td>\n      <td>1.407894</td>\n    </tr>\n  </tbody>\n</table>\n<p>200 rows × 18 columns</p>\n</div>"
     },
     "execution_count": 6,
     "metadata": {},
     "output_type": "execute_result"
    }
   ],
   "source": [
    "# Pivot the data1_grouped dataframe\n",
    "data1_pivot = data1_grouped.pivot(columns='Category', index='StoreId', values='Price')\n",
    "# Fill NaNs with the average price for each category\n",
    "data1_pivot = data1_pivot.fillna(data1_pivot.mean())\n",
    "data1_pivot"
   ]
  },
  {
   "cell_type": "markdown",
   "source": [
    "## Product Price Preprocessing"
   ],
   "metadata": {
    "collapsed": false
   },
   "id": "34d3468b7fb635c9"
  },
  {
   "cell_type": "code",
   "execution_count": 7,
   "id": "901f7d1f8642aa15",
   "metadata": {
    "collapsed": false,
    "ExecuteTime": {
     "end_time": "2024-01-22T14:31:02.013370300Z",
     "start_time": "2024-01-22T14:31:01.833916Z"
    }
   },
   "outputs": [],
   "source": [
    "from sklearn.compose import ColumnTransformer\n",
    "# Scale the data\n",
    "from sklearn.preprocessing import StandardScaler\n",
    "\n",
    "# Get all the column names\n",
    "columns = data1_pivot.columns\n",
    "\n",
    "# Create a StandardScaler instance\n",
    "scaler = StandardScaler()\n",
    "preprocessor = ColumnTransformer(\n",
    "    transformers=[\n",
    "        ('num', StandardScaler(), columns)\n",
    "    ])"
   ]
  },
  {
   "cell_type": "code",
   "execution_count": 8,
   "id": "cc1b12ae2470eb59",
   "metadata": {
    "collapsed": false,
    "ExecuteTime": {
     "end_time": "2024-01-22T14:31:02.014370800Z",
     "start_time": "2024-01-22T14:31:01.942683700Z"
    }
   },
   "outputs": [
    {
     "data": {
      "text/plain": "array([[-0.99915617,  0.19930215, -0.35712053, ...,  1.13283299,\n         0.08862074, -0.40378852],\n       [ 0.63795503,  0.01335642, -0.2087179 , ...,  1.13695384,\n         0.76704517,  0.11600447],\n       [-1.4048678 , -0.60255261, -0.84953559, ..., -0.91391435,\n        -0.68994663,  0.68369905],\n       ...,\n       [ 1.49176521,  0.4057332 ,  1.89442285, ...,  0.15317028,\n         1.8672683 , -0.28032707],\n       [-0.40572114, -0.08837558,  0.19716858, ..., -0.76230234,\n         2.3621286 , -0.01823611],\n       [-0.67169115,  1.00868284,  0.18120677, ..., -0.83762002,\n        -0.7567259 , -0.7281008 ]])"
     },
     "execution_count": 8,
     "metadata": {},
     "output_type": "execute_result"
    }
   ],
   "source": [
    "# Apply the transformations\n",
    "data_preprocessed = preprocessor.fit_transform(data1_pivot)\n",
    "data_preprocessed"
   ]
  },
  {
   "cell_type": "code",
   "execution_count": 9,
   "id": "d23d2673305fa07f",
   "metadata": {
    "collapsed": false,
    "ExecuteTime": {
     "end_time": "2024-01-22T14:31:03.302394700Z",
     "start_time": "2024-01-22T14:31:01.950370500Z"
    }
   },
   "outputs": [
    {
     "data": {
      "text/plain": "<Figure size 800x550 with 2 Axes>",
      "image/png": "[encoded data removed]"
     },
     "metadata": {},
     "output_type": "display_data"
    },
    {
     "data": {
      "text/plain": "<Axes: title={'center': 'Distortion Score Elbow for KMeans Clustering'}, xlabel='k', ylabel='distortion score'>"
     },
     "execution_count": 9,
     "metadata": {},
     "output_type": "execute_result"
    }
   ],
   "source": [
    "from yellowbrick.cluster import KElbowVisualizer\n",
    "from sklearn.cluster import KMeans\n",
    "\n",
    "# Perform the elbow method to find the optimal number of clusters\n",
    "model = KMeans(n_init='auto', max_iter=1000, random_state=0)\n",
    "visualizer = KElbowVisualizer(model, k=(2, 10))\n",
    "visualizer.fit(data_preprocessed)\n",
    "visualizer.show()"
   ]
  },
  {
   "cell_type": "code",
   "execution_count": 10,
   "id": "489ebc34cc53437c",
   "metadata": {
    "collapsed": false,
    "ExecuteTime": {
     "end_time": "2024-01-22T14:31:03.324394Z",
     "start_time": "2024-01-22T14:31:03.303396Z"
    }
   },
   "outputs": [
    {
     "data": {
      "text/plain": "[{'k': 2, 'score': 0.14306578946062218},\n {'k': 5, 'score': 0.10292652114553683},\n {'k': 4, 'score': 0.1018323472741967},\n {'k': 3, 'score': 0.09926972007829699}]"
     },
     "execution_count": 10,
     "metadata": {},
     "output_type": "execute_result"
    }
   ],
   "source": [
    "# Sort the silhouette scores for k = 2 to 5\n",
    "from sklearn.metrics import silhouette_score\n",
    "\n",
    "scores = []\n",
    "\n",
    "for i in range(2, 6):\n",
    "    model = KMeans(n_clusters=i, n_init='auto', max_iter=1000, random_state=42)\n",
    "    model.fit(data_preprocessed)\n",
    "    score = silhouette_score(data_preprocessed, model.labels_)\n",
    "    scores.append({'k': i, 'score': score})\n",
    "\n",
    "scores.sort(key=lambda x: x['score'], reverse=True)\n",
    "scores"
   ]
  },
  {
   "cell_type": "markdown",
   "source": [
    "## K-Means Clustering"
   ],
   "metadata": {
    "collapsed": false
   },
   "id": "457ca9eb603df951"
  },
  {
   "cell_type": "code",
   "execution_count": 11,
   "id": "381c2b972413b7fa",
   "metadata": {
    "collapsed": false,
    "ExecuteTime": {
     "end_time": "2024-01-22T14:31:03.379496900Z",
     "start_time": "2024-01-22T14:31:03.320393400Z"
    }
   },
   "outputs": [
    {
     "data": {
      "text/plain": "Category  ALCOHOLIC BEVERAGES  BISCUITS  CHOCOLATE    COFFEE     DAIRY  \\\nStoreId                                                                  \n3435                 3.470383  1.914825   1.208003  1.486962  1.536078   \n3439                 9.141535  1.882501   1.228549  1.284929  1.830063   \n3484                 2.064949  1.775431   1.139830  1.270534  2.450265   \n3493                 9.231740  1.933585   1.206842  2.172899  2.237394   \n3521                 4.049897  2.056706   1.297419  1.722533  1.823618   \n...                       ...       ...        ...       ...       ...   \n10821               10.839360  1.849414   1.483641  4.215388  2.345838   \n10884                3.013471  2.072286   1.305166  1.323659  1.533017   \n10923               12.099238  1.950711   1.519720  3.952904  3.051917   \n10961                5.526114  1.864816   1.284742  3.139324  2.258838   \n10963                4.604762  2.055528   1.282532  2.738986  2.672000   \n\nCategory  GUMS & CANDIES  HOME & PERSONAL CARE  ICE CREAM      MILK  \\\nStoreId                                                               \n3435            0.898700              1.588678   3.389018  1.733993   \n3439            0.798500              2.089121   3.788234  2.060565   \n3484            0.852711              1.465896   3.163403  2.104242   \n3493            1.156505              1.674337   3.529221  2.038474   \n3521            1.255403              1.737125   3.206563  1.656821   \n...                  ...                   ...        ...       ...   \n10821           1.011315              2.544034   3.482408  1.844392   \n10884           1.072148              1.622393   3.287024  2.003002   \n10923           1.202852              2.269755   3.338147  2.364278   \n10961           1.231848              1.968284   3.125604  2.151728   \n10963           1.057651              1.972764   3.114476  2.179061   \n\nCategory  PACKAGED FOOD  PET CARE     PRINT    SNACKS  SOFT DRINKS  \\\nStoreId                                                              \n3435           1.943256  1.065002  3.910922  1.418956     1.245465   \n3439           2.588497  1.293965  3.367313  1.489890     1.361490   \n3484           2.444061  1.561944  3.436929  1.319170     1.219009   \n3493           2.472950  1.246037  1.006043  1.487343     1.335024   \n3521           2.276981  1.561944  3.367313  1.384882     1.369818   \n...                 ...       ...       ...       ...          ...   \n10821          2.254305  1.428394  2.887416  1.451801     1.278314   \n10884          2.440610  1.239286  8.225000  1.577135     1.399605   \n10923          2.726771  2.669831  3.367313  1.684127     1.411453   \n10961          1.997217  1.152290  2.381747  1.427463     1.290439   \n10963          1.979619  0.828540  2.310859  1.431373     1.339156   \n\nCategory  TICKETING AND ADMISSION SERVICES   TOBACCO  TOBACCO COMPL      TOYS  \\\nStoreId                                                                         \n3435                             14.736045  5.891249      10.016374  1.705755   \n3439                             16.912949  5.893667      13.749944  2.183153   \n3484                             16.157533  4.690231       5.731688  2.704545   \n3493                              7.190363  4.837268       6.437890  1.789471   \n3521                             14.926262  5.041051       0.739705  1.393636   \n...                                    ...       ...            ...       ...   \n10821                            10.200531  6.008421      16.697911  1.148856   \n10884                            19.035465  6.087118      10.894068  1.228902   \n10923                            14.543019  5.316389      19.804796  1.819147   \n10961                             7.357535  4.779196      22.528158  2.059861   \n10963                            12.609595  4.735000       5.364182  1.407894   \n\nCategory  cluster  \nStoreId            \n3435            2  \n3439            2  \n3484            1  \n3493            2  \n3521            2  \n...           ...  \n10821           2  \n10884           2  \n10923           0  \n10961           2  \n10963           2  \n\n[200 rows x 19 columns]",
      "text/html": "<div>\n<style scoped>\n    .dataframe tbody tr th:only-of-type {\n        vertical-align: middle;\n    }\n\n    .dataframe tbody tr th {\n        vertical-align: top;\n    }\n\n    .dataframe thead th {\n        text-align: right;\n    }\n</style>\n<table border=\"1\" class=\"dataframe\">\n  <thead>\n    <tr style=\"text-align: right;\">\n      <th>Category</th>\n      <th>ALCOHOLIC BEVERAGES</th>\n      <th>BISCUITS</th>\n      <th>CHOCOLATE</th>\n      <th>COFFEE</th>\n      <th>DAIRY</th>\n      <th>GUMS &amp; CANDIES</th>\n      <th>HOME &amp; PERSONAL CARE</th>\n      <th>ICE CREAM</th>\n      <th>MILK</th>\n      <th>PACKAGED FOOD</th>\n      <th>PET CARE</th>\n      <th>PRINT</th>\n      <th>SNACKS</th>\n      <th>SOFT DRINKS</th>\n      <th>TICKETING AND ADMISSION SERVICES</th>\n      <th>TOBACCO</th>\n      <th>TOBACCO COMPL</th>\n      <th>TOYS</th>\n      <th>cluster</th>\n    </tr>\n    <tr>\n      <th>StoreId</th>\n      <th></th>\n      <th></th>\n      <th></th>\n      <th></th>\n      <th></th>\n      <th></th>\n      <th></th>\n      <th></th>\n      <th></th>\n      <th></th>\n      <th></th>\n      <th></th>\n      <th></th>\n      <th></th>\n      <th></th>\n      <th></th>\n      <th></th>\n      <th></th>\n      <th></th>\n    </tr>\n  </thead>\n  <tbody>\n    <tr>\n      <th>3435</th>\n      <td>3.470383</td>\n      <td>1.914825</td>\n      <td>1.208003</td>\n      <td>1.486962</td>\n      <td>1.536078</td>\n      <td>0.898700</td>\n      <td>1.588678</td>\n      <td>3.389018</td>\n      <td>1.733993</td>\n      <td>1.943256</td>\n      <td>1.065002</td>\n      <td>3.910922</td>\n      <td>1.418956</td>\n      <td>1.245465</td>\n      <td>14.736045</td>\n      <td>5.891249</td>\n      <td>10.016374</td>\n      <td>1.705755</td>\n      <td>2</td>\n    </tr>\n    <tr>\n      <th>3439</th>\n      <td>9.141535</td>\n      <td>1.882501</td>\n      <td>1.228549</td>\n      <td>1.284929</td>\n      <td>1.830063</td>\n      <td>0.798500</td>\n      <td>2.089121</td>\n      <td>3.788234</td>\n      <td>2.060565</td>\n      <td>2.588497</td>\n      <td>1.293965</td>\n      <td>3.367313</td>\n      <td>1.489890</td>\n      <td>1.361490</td>\n      <td>16.912949</td>\n      <td>5.893667</td>\n      <td>13.749944</td>\n      <td>2.183153</td>\n      <td>2</td>\n    </tr>\n    <tr>\n      <th>3484</th>\n      <td>2.064949</td>\n      <td>1.775431</td>\n      <td>1.139830</td>\n      <td>1.270534</td>\n      <td>2.450265</td>\n      <td>0.852711</td>\n      <td>1.465896</td>\n      <td>3.163403</td>\n      <td>2.104242</td>\n      <td>2.444061</td>\n      <td>1.561944</td>\n      <td>3.436929</td>\n      <td>1.319170</td>\n      <td>1.219009</td>\n      <td>16.157533</td>\n      <td>4.690231</td>\n      <td>5.731688</td>\n      <td>2.704545</td>\n      <td>1</td>\n    </tr>\n    <tr>\n      <th>3493</th>\n      <td>9.231740</td>\n      <td>1.933585</td>\n      <td>1.206842</td>\n      <td>2.172899</td>\n      <td>2.237394</td>\n      <td>1.156505</td>\n      <td>1.674337</td>\n      <td>3.529221</td>\n      <td>2.038474</td>\n      <td>2.472950</td>\n      <td>1.246037</td>\n      <td>1.006043</td>\n      <td>1.487343</td>\n      <td>1.335024</td>\n      <td>7.190363</td>\n      <td>4.837268</td>\n      <td>6.437890</td>\n      <td>1.789471</td>\n      <td>2</td>\n    </tr>\n    <tr>\n      <th>3521</th>\n      <td>4.049897</td>\n      <td>2.056706</td>\n      <td>1.297419</td>\n      <td>1.722533</td>\n      <td>1.823618</td>\n      <td>1.255403</td>\n      <td>1.737125</td>\n      <td>3.206563</td>\n      <td>1.656821</td>\n      <td>2.276981</td>\n      <td>1.561944</td>\n      <td>3.367313</td>\n      <td>1.384882</td>\n      <td>1.369818</td>\n      <td>14.926262</td>\n      <td>5.041051</td>\n      <td>0.739705</td>\n      <td>1.393636</td>\n      <td>2</td>\n    </tr>\n    <tr>\n      <th>...</th>\n      <td>...</td>\n      <td>...</td>\n      <td>...</td>\n      <td>...</td>\n      <td>...</td>\n      <td>...</td>\n      <td>...</td>\n      <td>...</td>\n      <td>...</td>\n      <td>...</td>\n      <td>...</td>\n      <td>...</td>\n      <td>...</td>\n      <td>...</td>\n      <td>...</td>\n      <td>...</td>\n      <td>...</td>\n      <td>...</td>\n      <td>...</td>\n    </tr>\n    <tr>\n      <th>10821</th>\n      <td>10.839360</td>\n      <td>1.849414</td>\n      <td>1.483641</td>\n      <td>4.215388</td>\n      <td>2.345838</td>\n      <td>1.011315</td>\n      <td>2.544034</td>\n      <td>3.482408</td>\n      <td>1.844392</td>\n      <td>2.254305</td>\n      <td>1.428394</td>\n      <td>2.887416</td>\n      <td>1.451801</td>\n      <td>1.278314</td>\n      <td>10.200531</td>\n      <td>6.008421</td>\n      <td>16.697911</td>\n      <td>1.148856</td>\n      <td>2</td>\n    </tr>\n    <tr>\n      <th>10884</th>\n      <td>3.013471</td>\n      <td>2.072286</td>\n      <td>1.305166</td>\n      <td>1.323659</td>\n      <td>1.533017</td>\n      <td>1.072148</td>\n      <td>1.622393</td>\n      <td>3.287024</td>\n      <td>2.003002</td>\n      <td>2.440610</td>\n      <td>1.239286</td>\n      <td>8.225000</td>\n      <td>1.577135</td>\n      <td>1.399605</td>\n      <td>19.035465</td>\n      <td>6.087118</td>\n      <td>10.894068</td>\n      <td>1.228902</td>\n      <td>2</td>\n    </tr>\n    <tr>\n      <th>10923</th>\n      <td>12.099238</td>\n      <td>1.950711</td>\n      <td>1.519720</td>\n      <td>3.952904</td>\n      <td>3.051917</td>\n      <td>1.202852</td>\n      <td>2.269755</td>\n      <td>3.338147</td>\n      <td>2.364278</td>\n      <td>2.726771</td>\n      <td>2.669831</td>\n      <td>3.367313</td>\n      <td>1.684127</td>\n      <td>1.411453</td>\n      <td>14.543019</td>\n      <td>5.316389</td>\n      <td>19.804796</td>\n      <td>1.819147</td>\n      <td>0</td>\n    </tr>\n    <tr>\n      <th>10961</th>\n      <td>5.526114</td>\n      <td>1.864816</td>\n      <td>1.284742</td>\n      <td>3.139324</td>\n      <td>2.258838</td>\n      <td>1.231848</td>\n      <td>1.968284</td>\n      <td>3.125604</td>\n      <td>2.151728</td>\n      <td>1.997217</td>\n      <td>1.152290</td>\n      <td>2.381747</td>\n      <td>1.427463</td>\n      <td>1.290439</td>\n      <td>7.357535</td>\n      <td>4.779196</td>\n      <td>22.528158</td>\n      <td>2.059861</td>\n      <td>2</td>\n    </tr>\n    <tr>\n      <th>10963</th>\n      <td>4.604762</td>\n      <td>2.055528</td>\n      <td>1.282532</td>\n      <td>2.738986</td>\n      <td>2.672000</td>\n      <td>1.057651</td>\n      <td>1.972764</td>\n      <td>3.114476</td>\n      <td>2.179061</td>\n      <td>1.979619</td>\n      <td>0.828540</td>\n      <td>2.310859</td>\n      <td>1.431373</td>\n      <td>1.339156</td>\n      <td>12.609595</td>\n      <td>4.735000</td>\n      <td>5.364182</td>\n      <td>1.407894</td>\n      <td>2</td>\n    </tr>\n  </tbody>\n</table>\n<p>200 rows × 19 columns</p>\n</div>"
     },
     "execution_count": 11,
     "metadata": {},
     "output_type": "execute_result"
    }
   ],
   "source": [
    "# Choosing an appropriate number of clusters (k)\n",
    "k = 3  # Adjust the number of clusters as needed\n",
    "\n",
    "# Apply K-Means clustering\n",
    "kmeans = KMeans(n_clusters=k, random_state=42, n_init='auto', max_iter=1000)\n",
    "kmeans.fit(data_preprocessed)\n",
    "\n",
    "# Assigning the clusters to each row in the dataframe\n",
    "data1_pivot['cluster'] = kmeans.labels_\n",
    "data1_pivot"
   ]
  },
  {
   "cell_type": "markdown",
   "source": [
    "## Cluster Analysis"
   ],
   "metadata": {
    "collapsed": false
   },
   "id": "4ec14147f76d0c43"
  },
  {
   "cell_type": "code",
   "execution_count": 12,
   "id": "da87f82c41e4e6a6",
   "metadata": {
    "collapsed": false,
    "ExecuteTime": {
     "end_time": "2024-01-22T14:31:03.380496300Z",
     "start_time": "2024-01-22T14:31:03.333695100Z"
    }
   },
   "outputs": [
    {
     "data": {
      "text/plain": "cluster                                   0          1          2\nCategory                                                         \nALCOHOLIC BEVERAGES                9.520202   4.613509   7.090709\nBISCUITS                           2.034278   1.714036   1.905415\nCHOCOLATE                          1.394289   1.164367   1.249357\nCOFFEE                             3.517739   1.943872   2.463229\nDAIRY                              3.002298   2.222481   2.334929\nGUMS & CANDIES                     1.138327   0.932492   1.017856\nHOME & PERSONAL CARE               2.488499   1.682506   1.993604\nICE CREAM                          3.377782   2.801378   3.289340\nMILK                               2.249819   1.808224   2.036871\nPACKAGED FOOD                      2.339823   1.987475   2.111648\nPET CARE                           1.914735   1.447236   1.470953\nPRINT                              3.554384   3.365400   3.286073\nSNACKS                             1.679442   1.334767   1.447531\nSOFT DRINKS                        1.436388   1.250773   1.330731\nTICKETING AND ADMISSION SERVICES  15.039012  14.135523  14.552979\nTOBACCO                            5.440005   4.891378   5.320246\nTOBACCO COMPL                      9.531439   6.349930  11.307542\nTOYS                               1.983752   2.093976   2.107742",
      "text/html": "<div>\n<style scoped>\n    .dataframe tbody tr th:only-of-type {\n        vertical-align: middle;\n    }\n\n    .dataframe tbody tr th {\n        vertical-align: top;\n    }\n\n    .dataframe thead th {\n        text-align: right;\n    }\n</style>\n<table border=\"1\" class=\"dataframe\">\n  <thead>\n    <tr style=\"text-align: right;\">\n      <th>cluster</th>\n      <th>0</th>\n      <th>1</th>\n      <th>2</th>\n    </tr>\n    <tr>\n      <th>Category</th>\n      <th></th>\n      <th></th>\n      <th></th>\n    </tr>\n  </thead>\n  <tbody>\n    <tr>\n      <th>ALCOHOLIC BEVERAGES</th>\n      <td>9.520202</td>\n      <td>4.613509</td>\n      <td>7.090709</td>\n    </tr>\n    <tr>\n      <th>BISCUITS</th>\n      <td>2.034278</td>\n      <td>1.714036</td>\n      <td>1.905415</td>\n    </tr>\n    <tr>\n      <th>CHOCOLATE</th>\n      <td>1.394289</td>\n      <td>1.164367</td>\n      <td>1.249357</td>\n    </tr>\n    <tr>\n      <th>COFFEE</th>\n      <td>3.517739</td>\n      <td>1.943872</td>\n      <td>2.463229</td>\n    </tr>\n    <tr>\n      <th>DAIRY</th>\n      <td>3.002298</td>\n      <td>2.222481</td>\n      <td>2.334929</td>\n    </tr>\n    <tr>\n      <th>GUMS &amp; CANDIES</th>\n      <td>1.138327</td>\n      <td>0.932492</td>\n      <td>1.017856</td>\n    </tr>\n    <tr>\n      <th>HOME &amp; PERSONAL CARE</th>\n      <td>2.488499</td>\n      <td>1.682506</td>\n      <td>1.993604</td>\n    </tr>\n    <tr>\n      <th>ICE CREAM</th>\n      <td>3.377782</td>\n      <td>2.801378</td>\n      <td>3.289340</td>\n    </tr>\n    <tr>\n      <th>MILK</th>\n      <td>2.249819</td>\n      <td>1.808224</td>\n      <td>2.036871</td>\n    </tr>\n    <tr>\n      <th>PACKAGED FOOD</th>\n      <td>2.339823</td>\n      <td>1.987475</td>\n      <td>2.111648</td>\n    </tr>\n    <tr>\n      <th>PET CARE</th>\n      <td>1.914735</td>\n      <td>1.447236</td>\n      <td>1.470953</td>\n    </tr>\n    <tr>\n      <th>PRINT</th>\n      <td>3.554384</td>\n      <td>3.365400</td>\n      <td>3.286073</td>\n    </tr>\n    <tr>\n      <th>SNACKS</th>\n      <td>1.679442</td>\n      <td>1.334767</td>\n      <td>1.447531</td>\n    </tr>\n    <tr>\n      <th>SOFT DRINKS</th>\n      <td>1.436388</td>\n      <td>1.250773</td>\n      <td>1.330731</td>\n    </tr>\n    <tr>\n      <th>TICKETING AND ADMISSION SERVICES</th>\n      <td>15.039012</td>\n      <td>14.135523</td>\n      <td>14.552979</td>\n    </tr>\n    <tr>\n      <th>TOBACCO</th>\n      <td>5.440005</td>\n      <td>4.891378</td>\n      <td>5.320246</td>\n    </tr>\n    <tr>\n      <th>TOBACCO COMPL</th>\n      <td>9.531439</td>\n      <td>6.349930</td>\n      <td>11.307542</td>\n    </tr>\n    <tr>\n      <th>TOYS</th>\n      <td>1.983752</td>\n      <td>2.093976</td>\n      <td>2.107742</td>\n    </tr>\n  </tbody>\n</table>\n</div>"
     },
     "execution_count": 12,
     "metadata": {},
     "output_type": "execute_result"
    }
   ],
   "source": [
    "# Code to analyze the characteristics of each cluster\n",
    "# Grouping the data by cluster and calculating mean values for each subcategory\n",
    "cluster_analysis = data1_pivot.groupby('cluster').mean()\n",
    "\n",
    "# Transposing the cluster analysis for better readability\n",
    "cluster_analysis = cluster_analysis.transpose()\n",
    "cluster_analysis"
   ]
  },
  {
   "cell_type": "code",
   "execution_count": 13,
   "id": "4374bd64893d40d",
   "metadata": {
    "collapsed": false,
    "ExecuteTime": {
     "end_time": "2024-01-22T14:31:03.381496200Z",
     "start_time": "2024-01-22T14:31:03.340698Z"
    }
   },
   "outputs": [],
   "source": [
    "# Make the index a column\n",
    "data1_pivot.reset_index(inplace=True)"
   ]
  },
  {
   "cell_type": "code",
   "execution_count": 14,
   "id": "c907e4a2b7e272d",
   "metadata": {
    "collapsed": false,
    "ExecuteTime": {
     "end_time": "2024-01-22T14:31:03.382497600Z",
     "start_time": "2024-01-22T14:31:03.342533Z"
    }
   },
   "outputs": [
    {
     "data": {
      "text/plain": "Category  StoreId  ALCOHOLIC BEVERAGES  BISCUITS  CHOCOLATE    COFFEE  \\\n0            3435             3.470383  1.914825   1.208003  1.486962   \n1            3439             9.141535  1.882501   1.228549  1.284929   \n2            3484             2.064949  1.775431   1.139830  1.270534   \n3            3493             9.231740  1.933585   1.206842  2.172899   \n4            3521             4.049897  2.056706   1.297419  1.722533   \n..            ...                  ...       ...        ...       ...   \n195         10821            10.839360  1.849414   1.483641  4.215388   \n196         10884             3.013471  2.072286   1.305166  1.323659   \n197         10923            12.099238  1.950711   1.519720  3.952904   \n198         10961             5.526114  1.864816   1.284742  3.139324   \n199         10963             4.604762  2.055528   1.282532  2.738986   \n\nCategory     DAIRY  GUMS & CANDIES  HOME & PERSONAL CARE  ICE CREAM      MILK  \\\n0         1.536078        0.898700              1.588678   3.389018  1.733993   \n1         1.830063        0.798500              2.089121   3.788234  2.060565   \n2         2.450265        0.852711              1.465896   3.163403  2.104242   \n3         2.237394        1.156505              1.674337   3.529221  2.038474   \n4         1.823618        1.255403              1.737125   3.206563  1.656821   \n..             ...             ...                   ...        ...       ...   \n195       2.345838        1.011315              2.544034   3.482408  1.844392   \n196       1.533017        1.072148              1.622393   3.287024  2.003002   \n197       3.051917        1.202852              2.269755   3.338147  2.364278   \n198       2.258838        1.231848              1.968284   3.125604  2.151728   \n199       2.672000        1.057651              1.972764   3.114476  2.179061   \n\nCategory  PACKAGED FOOD  PET CARE     PRINT    SNACKS  SOFT DRINKS  \\\n0              1.943256  1.065002  3.910922  1.418956     1.245465   \n1              2.588497  1.293965  3.367313  1.489890     1.361490   \n2              2.444061  1.561944  3.436929  1.319170     1.219009   \n3              2.472950  1.246037  1.006043  1.487343     1.335024   \n4              2.276981  1.561944  3.367313  1.384882     1.369818   \n..                  ...       ...       ...       ...          ...   \n195            2.254305  1.428394  2.887416  1.451801     1.278314   \n196            2.440610  1.239286  8.225000  1.577135     1.399605   \n197            2.726771  2.669831  3.367313  1.684127     1.411453   \n198            1.997217  1.152290  2.381747  1.427463     1.290439   \n199            1.979619  0.828540  2.310859  1.431373     1.339156   \n\nCategory  TICKETING AND ADMISSION SERVICES   TOBACCO  TOBACCO COMPL      TOYS  \\\n0                                14.736045  5.891249      10.016374  1.705755   \n1                                16.912949  5.893667      13.749944  2.183153   \n2                                16.157533  4.690231       5.731688  2.704545   \n3                                 7.190363  4.837268       6.437890  1.789471   \n4                                14.926262  5.041051       0.739705  1.393636   \n..                                     ...       ...            ...       ...   \n195                              10.200531  6.008421      16.697911  1.148856   \n196                              19.035465  6.087118      10.894068  1.228902   \n197                              14.543019  5.316389      19.804796  1.819147   \n198                               7.357535  4.779196      22.528158  2.059861   \n199                              12.609595  4.735000       5.364182  1.407894   \n\nCategory  cluster  \n0               2  \n1               2  \n2               1  \n3               2  \n4               2  \n..            ...  \n195             2  \n196             2  \n197             0  \n198             2  \n199             2  \n\n[200 rows x 20 columns]",
      "text/html": "<div>\n<style scoped>\n    .dataframe tbody tr th:only-of-type {\n        vertical-align: middle;\n    }\n\n    .dataframe tbody tr th {\n        vertical-align: top;\n    }\n\n    .dataframe thead th {\n        text-align: right;\n    }\n</style>\n<table border=\"1\" class=\"dataframe\">\n  <thead>\n    <tr style=\"text-align: right;\">\n      <th>Category</th>\n      <th>StoreId</th>\n      <th>ALCOHOLIC BEVERAGES</th>\n      <th>BISCUITS</th>\n      <th>CHOCOLATE</th>\n      <th>COFFEE</th>\n      <th>DAIRY</th>\n      <th>GUMS &amp; CANDIES</th>\n      <th>HOME &amp; PERSONAL CARE</th>\n      <th>ICE CREAM</th>\n      <th>MILK</th>\n      <th>PACKAGED FOOD</th>\n      <th>PET CARE</th>\n      <th>PRINT</th>\n      <th>SNACKS</th>\n      <th>SOFT DRINKS</th>\n      <th>TICKETING AND ADMISSION SERVICES</th>\n      <th>TOBACCO</th>\n      <th>TOBACCO COMPL</th>\n      <th>TOYS</th>\n      <th>cluster</th>\n    </tr>\n  </thead>\n  <tbody>\n    <tr>\n      <th>0</th>\n      <td>3435</td>\n      <td>3.470383</td>\n      <td>1.914825</td>\n      <td>1.208003</td>\n      <td>1.486962</td>\n      <td>1.536078</td>\n      <td>0.898700</td>\n      <td>1.588678</td>\n      <td>3.389018</td>\n      <td>1.733993</td>\n      <td>1.943256</td>\n      <td>1.065002</td>\n      <td>3.910922</td>\n      <td>1.418956</td>\n      <td>1.245465</td>\n      <td>14.736045</td>\n      <td>5.891249</td>\n      <td>10.016374</td>\n      <td>1.705755</td>\n      <td>2</td>\n    </tr>\n    <tr>\n      <th>1</th>\n      <td>3439</td>\n      <td>9.141535</td>\n      <td>1.882501</td>\n      <td>1.228549</td>\n      <td>1.284929</td>\n      <td>1.830063</td>\n      <td>0.798500</td>\n      <td>2.089121</td>\n      <td>3.788234</td>\n      <td>2.060565</td>\n      <td>2.588497</td>\n      <td>1.293965</td>\n      <td>3.367313</td>\n      <td>1.489890</td>\n      <td>1.361490</td>\n      <td>16.912949</td>\n      <td>5.893667</td>\n      <td>13.749944</td>\n      <td>2.183153</td>\n      <td>2</td>\n    </tr>\n    <tr>\n      <th>2</th>\n      <td>3484</td>\n      <td>2.064949</td>\n      <td>1.775431</td>\n      <td>1.139830</td>\n      <td>1.270534</td>\n      <td>2.450265</td>\n      <td>0.852711</td>\n      <td>1.465896</td>\n      <td>3.163403</td>\n      <td>2.104242</td>\n      <td>2.444061</td>\n      <td>1.561944</td>\n      <td>3.436929</td>\n      <td>1.319170</td>\n      <td>1.219009</td>\n      <td>16.157533</td>\n      <td>4.690231</td>\n      <td>5.731688</td>\n      <td>2.704545</td>\n      <td>1</td>\n    </tr>\n    <tr>\n      <th>3</th>\n      <td>3493</td>\n      <td>9.231740</td>\n      <td>1.933585</td>\n      <td>1.206842</td>\n      <td>2.172899</td>\n      <td>2.237394</td>\n      <td>1.156505</td>\n      <td>1.674337</td>\n      <td>3.529221</td>\n      <td>2.038474</td>\n      <td>2.472950</td>\n      <td>1.246037</td>\n      <td>1.006043</td>\n      <td>1.487343</td>\n      <td>1.335024</td>\n      <td>7.190363</td>\n      <td>4.837268</td>\n      <td>6.437890</td>\n      <td>1.789471</td>\n      <td>2</td>\n    </tr>\n    <tr>\n      <th>4</th>\n      <td>3521</td>\n      <td>4.049897</td>\n      <td>2.056706</td>\n      <td>1.297419</td>\n      <td>1.722533</td>\n      <td>1.823618</td>\n      <td>1.255403</td>\n      <td>1.737125</td>\n      <td>3.206563</td>\n      <td>1.656821</td>\n      <td>2.276981</td>\n      <td>1.561944</td>\n      <td>3.367313</td>\n      <td>1.384882</td>\n      <td>1.369818</td>\n      <td>14.926262</td>\n      <td>5.041051</td>\n      <td>0.739705</td>\n      <td>1.393636</td>\n      <td>2</td>\n    </tr>\n    <tr>\n      <th>...</th>\n      <td>...</td>\n      <td>...</td>\n      <td>...</td>\n      <td>...</td>\n      <td>...</td>\n      <td>...</td>\n      <td>...</td>\n      <td>...</td>\n      <td>...</td>\n      <td>...</td>\n      <td>...</td>\n      <td>...</td>\n      <td>...</td>\n      <td>...</td>\n      <td>...</td>\n      <td>...</td>\n      <td>...</td>\n      <td>...</td>\n      <td>...</td>\n      <td>...</td>\n    </tr>\n    <tr>\n      <th>195</th>\n      <td>10821</td>\n      <td>10.839360</td>\n      <td>1.849414</td>\n      <td>1.483641</td>\n      <td>4.215388</td>\n      <td>2.345838</td>\n      <td>1.011315</td>\n      <td>2.544034</td>\n      <td>3.482408</td>\n      <td>1.844392</td>\n      <td>2.254305</td>\n      <td>1.428394</td>\n      <td>2.887416</td>\n      <td>1.451801</td>\n      <td>1.278314</td>\n      <td>10.200531</td>\n      <td>6.008421</td>\n      <td>16.697911</td>\n      <td>1.148856</td>\n      <td>2</td>\n    </tr>\n    <tr>\n      <th>196</th>\n      <td>10884</td>\n      <td>3.013471</td>\n      <td>2.072286</td>\n      <td>1.305166</td>\n      <td>1.323659</td>\n      <td>1.533017</td>\n      <td>1.072148</td>\n      <td>1.622393</td>\n      <td>3.287024</td>\n      <td>2.003002</td>\n      <td>2.440610</td>\n      <td>1.239286</td>\n      <td>8.225000</td>\n      <td>1.577135</td>\n      <td>1.399605</td>\n      <td>19.035465</td>\n      <td>6.087118</td>\n      <td>10.894068</td>\n      <td>1.228902</td>\n      <td>2</td>\n    </tr>\n    <tr>\n      <th>197</th>\n      <td>10923</td>\n      <td>12.099238</td>\n      <td>1.950711</td>\n      <td>1.519720</td>\n      <td>3.952904</td>\n      <td>3.051917</td>\n      <td>1.202852</td>\n      <td>2.269755</td>\n      <td>3.338147</td>\n      <td>2.364278</td>\n      <td>2.726771</td>\n      <td>2.669831</td>\n      <td>3.367313</td>\n      <td>1.684127</td>\n      <td>1.411453</td>\n      <td>14.543019</td>\n      <td>5.316389</td>\n      <td>19.804796</td>\n      <td>1.819147</td>\n      <td>0</td>\n    </tr>\n    <tr>\n      <th>198</th>\n      <td>10961</td>\n      <td>5.526114</td>\n      <td>1.864816</td>\n      <td>1.284742</td>\n      <td>3.139324</td>\n      <td>2.258838</td>\n      <td>1.231848</td>\n      <td>1.968284</td>\n      <td>3.125604</td>\n      <td>2.151728</td>\n      <td>1.997217</td>\n      <td>1.152290</td>\n      <td>2.381747</td>\n      <td>1.427463</td>\n      <td>1.290439</td>\n      <td>7.357535</td>\n      <td>4.779196</td>\n      <td>22.528158</td>\n      <td>2.059861</td>\n      <td>2</td>\n    </tr>\n    <tr>\n      <th>199</th>\n      <td>10963</td>\n      <td>4.604762</td>\n      <td>2.055528</td>\n      <td>1.282532</td>\n      <td>2.738986</td>\n      <td>2.672000</td>\n      <td>1.057651</td>\n      <td>1.972764</td>\n      <td>3.114476</td>\n      <td>2.179061</td>\n      <td>1.979619</td>\n      <td>0.828540</td>\n      <td>2.310859</td>\n      <td>1.431373</td>\n      <td>1.339156</td>\n      <td>12.609595</td>\n      <td>4.735000</td>\n      <td>5.364182</td>\n      <td>1.407894</td>\n      <td>2</td>\n    </tr>\n  </tbody>\n</table>\n<p>200 rows × 20 columns</p>\n</div>"
     },
     "execution_count": 14,
     "metadata": {},
     "output_type": "execute_result"
    }
   ],
   "source": [
    "data1_pivot"
   ]
  },
  {
   "cell_type": "code",
   "execution_count": 15,
   "id": "9ec782ea52397dfc",
   "metadata": {
    "collapsed": false,
    "ExecuteTime": {
     "end_time": "2024-01-22T14:31:03.382497600Z",
     "start_time": "2024-01-22T14:31:03.356798500Z"
    }
   },
   "outputs": [
    {
     "data": {
      "text/plain": "Category  StoreId  cluster\n0            3435        2\n1            3439        2\n2            3484        1\n3            3493        2\n4            3521        2\n..            ...      ...\n195         10821        2\n196         10884        2\n197         10923        0\n198         10961        2\n199         10963        2\n\n[200 rows x 2 columns]",
      "text/html": "<div>\n<style scoped>\n    .dataframe tbody tr th:only-of-type {\n        vertical-align: middle;\n    }\n\n    .dataframe tbody tr th {\n        vertical-align: top;\n    }\n\n    .dataframe thead th {\n        text-align: right;\n    }\n</style>\n<table border=\"1\" class=\"dataframe\">\n  <thead>\n    <tr style=\"text-align: right;\">\n      <th>Category</th>\n      <th>StoreId</th>\n      <th>cluster</th>\n    </tr>\n  </thead>\n  <tbody>\n    <tr>\n      <th>0</th>\n      <td>3435</td>\n      <td>2</td>\n    </tr>\n    <tr>\n      <th>1</th>\n      <td>3439</td>\n      <td>2</td>\n    </tr>\n    <tr>\n      <th>2</th>\n      <td>3484</td>\n      <td>1</td>\n    </tr>\n    <tr>\n      <th>3</th>\n      <td>3493</td>\n      <td>2</td>\n    </tr>\n    <tr>\n      <th>4</th>\n      <td>3521</td>\n      <td>2</td>\n    </tr>\n    <tr>\n      <th>...</th>\n      <td>...</td>\n      <td>...</td>\n    </tr>\n    <tr>\n      <th>195</th>\n      <td>10821</td>\n      <td>2</td>\n    </tr>\n    <tr>\n      <th>196</th>\n      <td>10884</td>\n      <td>2</td>\n    </tr>\n    <tr>\n      <th>197</th>\n      <td>10923</td>\n      <td>0</td>\n    </tr>\n    <tr>\n      <th>198</th>\n      <td>10961</td>\n      <td>2</td>\n    </tr>\n    <tr>\n      <th>199</th>\n      <td>10963</td>\n      <td>2</td>\n    </tr>\n  </tbody>\n</table>\n<p>200 rows × 2 columns</p>\n</div>"
     },
     "execution_count": 15,
     "metadata": {},
     "output_type": "execute_result"
    }
   ],
   "source": [
    "data_merge = data1_pivot[['StoreId', 'cluster']]\n",
    "data_merge"
   ]
  },
  {
   "cell_type": "code",
   "execution_count": 16,
   "id": "f45ceb3335e7ff98",
   "metadata": {
    "collapsed": false,
    "ExecuteTime": {
     "end_time": "2024-01-22T14:31:03.405496600Z",
     "start_time": "2024-01-22T14:31:03.360963200Z"
    }
   },
   "outputs": [],
   "source": [
    "# Read the Store Mapping csv\n",
    "store_mapping = pd.read_csv('data/Store Mapping.csv')\n",
    "# Merge the data_merge dataframe with the data_merge dataframe\n",
    "stores = pd.merge(store_mapping, data_merge, on='StoreId', how='left')"
   ]
  },
  {
   "cell_type": "code",
   "execution_count": 17,
   "id": "2e1e6fa1cfbfa2f8",
   "metadata": {
    "collapsed": false,
    "ExecuteTime": {
     "end_time": "2024-01-22T14:31:03.406496500Z",
     "start_time": "2024-01-22T14:31:03.368965Z"
    }
   },
   "outputs": [
    {
     "data": {
      "text/plain": "     StoreId    StoreType                        Area  cluster\n0       3435        Kiosk                      Αττική        2\n1       3439        Kiosk                       Κρήτη        2\n2       3484        Kiosk         Μακεδονία και Θράκη        1\n3       3493        Kiosk                       Κρήτη        2\n4       3521        Kiosk                      Αττική        2\n..       ...          ...                         ...      ...\n195    10812  Mini-Market  Δυτική και Κεντρική Ελλάδα        1\n196    10821  Mini-Market  Δυτική και Κεντρική Ελλάδα        2\n197    10923  Mini-Market                      Αττική        0\n198    10961  Mini-Market                      Αττική        2\n199    10963  Mini-Market  Δυτική και Κεντρική Ελλάδα        2\n\n[200 rows x 4 columns]",
      "text/html": "<div>\n<style scoped>\n    .dataframe tbody tr th:only-of-type {\n        vertical-align: middle;\n    }\n\n    .dataframe tbody tr th {\n        vertical-align: top;\n    }\n\n    .dataframe thead th {\n        text-align: right;\n    }\n</style>\n<table border=\"1\" class=\"dataframe\">\n  <thead>\n    <tr style=\"text-align: right;\">\n      <th></th>\n      <th>StoreId</th>\n      <th>StoreType</th>\n      <th>Area</th>\n      <th>cluster</th>\n    </tr>\n  </thead>\n  <tbody>\n    <tr>\n      <th>0</th>\n      <td>3435</td>\n      <td>Kiosk</td>\n      <td>Αττική</td>\n      <td>2</td>\n    </tr>\n    <tr>\n      <th>1</th>\n      <td>3439</td>\n      <td>Kiosk</td>\n      <td>Κρήτη</td>\n      <td>2</td>\n    </tr>\n    <tr>\n      <th>2</th>\n      <td>3484</td>\n      <td>Kiosk</td>\n      <td>Μακεδονία και Θράκη</td>\n      <td>1</td>\n    </tr>\n    <tr>\n      <th>3</th>\n      <td>3493</td>\n      <td>Kiosk</td>\n      <td>Κρήτη</td>\n      <td>2</td>\n    </tr>\n    <tr>\n      <th>4</th>\n      <td>3521</td>\n      <td>Kiosk</td>\n      <td>Αττική</td>\n      <td>2</td>\n    </tr>\n    <tr>\n      <th>...</th>\n      <td>...</td>\n      <td>...</td>\n      <td>...</td>\n      <td>...</td>\n    </tr>\n    <tr>\n      <th>195</th>\n      <td>10812</td>\n      <td>Mini-Market</td>\n      <td>Δυτική και Κεντρική Ελλάδα</td>\n      <td>1</td>\n    </tr>\n    <tr>\n      <th>196</th>\n      <td>10821</td>\n      <td>Mini-Market</td>\n      <td>Δυτική και Κεντρική Ελλάδα</td>\n      <td>2</td>\n    </tr>\n    <tr>\n      <th>197</th>\n      <td>10923</td>\n      <td>Mini-Market</td>\n      <td>Αττική</td>\n      <td>0</td>\n    </tr>\n    <tr>\n      <th>198</th>\n      <td>10961</td>\n      <td>Mini-Market</td>\n      <td>Αττική</td>\n      <td>2</td>\n    </tr>\n    <tr>\n      <th>199</th>\n      <td>10963</td>\n      <td>Mini-Market</td>\n      <td>Δυτική και Κεντρική Ελλάδα</td>\n      <td>2</td>\n    </tr>\n  </tbody>\n</table>\n<p>200 rows × 4 columns</p>\n</div>"
     },
     "execution_count": 17,
     "metadata": {},
     "output_type": "execute_result"
    }
   ],
   "source": [
    "stores"
   ]
  },
  {
   "cell_type": "code",
   "execution_count": 18,
   "id": "ee1fc8af12801ea7",
   "metadata": {
    "collapsed": false,
    "ExecuteTime": {
     "end_time": "2024-01-22T14:31:03.407495700Z",
     "start_time": "2024-01-22T14:31:03.375933Z"
    }
   },
   "outputs": [],
   "source": [
    "# Merge the data1analytical.csv with the stores dataframe on StoreId\n",
    "# Create a new column called Price Tier where\n",
    "# Expensive = cluster 0\n",
    "# Moderate = cluster 2\n",
    "# Cheap = cluster 1\n",
    "stores['Price Tier'] = stores['cluster'].map({0: 'Expensive', 1: 'Cheap', 2: 'Moderate'})"
   ]
  },
  {
   "cell_type": "code",
   "execution_count": 19,
   "id": "fe1be8cba5e97fc4",
   "metadata": {
    "collapsed": false,
    "ExecuteTime": {
     "end_time": "2024-01-22T14:31:03.562048800Z",
     "start_time": "2024-01-22T14:31:03.380496300Z"
    }
   },
   "outputs": [
    {
     "data": {
      "text/plain": "        Date_Year Date_MonthName  StoreId           Subcategory  Quantity  \\\n0            2022           June     4008  SWEET BAKERY SNACKS       24.0   \n1            2021       November    10254   TOBACCO ACCESSORIES    2156.0   \n2            2022         August     5122                  ΟΥΖΟ       3.0   \n3            2022           June    10254                 CORN       51.0   \n4            2022        October    10280                 STICK     122.0   \n...           ...            ...      ...                   ...       ...   \n351094       2023          March     7986                WHISKY       1.0   \n351095       2023        January     6532              SANDWICH      29.0   \n351096       2023        January     3545               ICE TEA      11.0   \n351097       2022       December     3813                 COLAS     364.0   \n351098       2022       November     7376          GREEK COFFEE      18.0   \n\n        Revenue Period         Type                      Area_x    StoreType  \\\n0         24.40  MATYA        Kiosk         Μακεδονία και Θράκη        Kiosk   \n1       1437.80  MATYA        Kiosk         Μακεδονία και Θράκη        Kiosk   \n2         11.00  MATYA        Kiosk  Δυτική και Κεντρική Ελλάδα        Kiosk   \n3         74.00  MATYA        Kiosk         Μακεδονία και Θράκη        Kiosk   \n4        277.80  MATYA        Kiosk                      Αττική        Kiosk   \n...         ...    ...          ...                         ...          ...   \n351094    23.00    MAT  Mini-Market         Μακεδονία και Θράκη  Mini-Market   \n351095    48.50    MAT        Kiosk                       Νησιά        Kiosk   \n351096    20.00    MAT  Mini-Market                      Αττική  Mini-Market   \n351097   653.64    MAT        Kiosk                Πελοπόννησος        Kiosk   \n351098    50.10    MAT  Mini-Market                      Αττική  Mini-Market   \n\n                            Area_y  cluster Price Tier  \n0              Μακεδονία και Θράκη        2   Moderate  \n1              Μακεδονία και Θράκη        2   Moderate  \n2       Δυτική και Κεντρική Ελλάδα        2   Moderate  \n3              Μακεδονία και Θράκη        2   Moderate  \n4                           Αττική        1      Cheap  \n...                            ...      ...        ...  \n351094         Μακεδονία και Θράκη        2   Moderate  \n351095                       Νησιά        0  Expensive  \n351096                      Αττική        0  Expensive  \n351097                Πελοπόννησος        1      Cheap  \n351098                      Αττική        0  Expensive  \n\n[351099 rows x 13 columns]",
      "text/html": "<div>\n<style scoped>\n    .dataframe tbody tr th:only-of-type {\n        vertical-align: middle;\n    }\n\n    .dataframe tbody tr th {\n        vertical-align: top;\n    }\n\n    .dataframe thead th {\n        text-align: right;\n    }\n</style>\n<table border=\"1\" class=\"dataframe\">\n  <thead>\n    <tr style=\"text-align: right;\">\n      <th></th>\n      <th>Date_Year</th>\n      <th>Date_MonthName</th>\n      <th>StoreId</th>\n      <th>Subcategory</th>\n      <th>Quantity</th>\n      <th>Revenue</th>\n      <th>Period</th>\n      <th>Type</th>\n      <th>Area_x</th>\n      <th>StoreType</th>\n      <th>Area_y</th>\n      <th>cluster</th>\n      <th>Price Tier</th>\n    </tr>\n  </thead>\n  <tbody>\n    <tr>\n      <th>0</th>\n      <td>2022</td>\n      <td>June</td>\n      <td>4008</td>\n      <td>SWEET BAKERY SNACKS</td>\n      <td>24.0</td>\n      <td>24.40</td>\n      <td>MATYA</td>\n      <td>Kiosk</td>\n      <td>Μακεδονία και Θράκη</td>\n      <td>Kiosk</td>\n      <td>Μακεδονία και Θράκη</td>\n      <td>2</td>\n      <td>Moderate</td>\n    </tr>\n    <tr>\n      <th>1</th>\n      <td>2021</td>\n      <td>November</td>\n      <td>10254</td>\n      <td>TOBACCO ACCESSORIES</td>\n      <td>2156.0</td>\n      <td>1437.80</td>\n      <td>MATYA</td>\n      <td>Kiosk</td>\n      <td>Μακεδονία και Θράκη</td>\n      <td>Kiosk</td>\n      <td>Μακεδονία και Θράκη</td>\n      <td>2</td>\n      <td>Moderate</td>\n    </tr>\n    <tr>\n      <th>2</th>\n      <td>2022</td>\n      <td>August</td>\n      <td>5122</td>\n      <td>ΟΥΖΟ</td>\n      <td>3.0</td>\n      <td>11.00</td>\n      <td>MATYA</td>\n      <td>Kiosk</td>\n      <td>Δυτική και Κεντρική Ελλάδα</td>\n      <td>Kiosk</td>\n      <td>Δυτική και Κεντρική Ελλάδα</td>\n      <td>2</td>\n      <td>Moderate</td>\n    </tr>\n    <tr>\n      <th>3</th>\n      <td>2022</td>\n      <td>June</td>\n      <td>10254</td>\n      <td>CORN</td>\n      <td>51.0</td>\n      <td>74.00</td>\n      <td>MATYA</td>\n      <td>Kiosk</td>\n      <td>Μακεδονία και Θράκη</td>\n      <td>Kiosk</td>\n      <td>Μακεδονία και Θράκη</td>\n      <td>2</td>\n      <td>Moderate</td>\n    </tr>\n    <tr>\n      <th>4</th>\n      <td>2022</td>\n      <td>October</td>\n      <td>10280</td>\n      <td>STICK</td>\n      <td>122.0</td>\n      <td>277.80</td>\n      <td>MATYA</td>\n      <td>Kiosk</td>\n      <td>Αττική</td>\n      <td>Kiosk</td>\n      <td>Αττική</td>\n      <td>1</td>\n      <td>Cheap</td>\n    </tr>\n    <tr>\n      <th>...</th>\n      <td>...</td>\n      <td>...</td>\n      <td>...</td>\n      <td>...</td>\n      <td>...</td>\n      <td>...</td>\n      <td>...</td>\n      <td>...</td>\n      <td>...</td>\n      <td>...</td>\n      <td>...</td>\n      <td>...</td>\n      <td>...</td>\n    </tr>\n    <tr>\n      <th>351094</th>\n      <td>2023</td>\n      <td>March</td>\n      <td>7986</td>\n      <td>WHISKY</td>\n      <td>1.0</td>\n      <td>23.00</td>\n      <td>MAT</td>\n      <td>Mini-Market</td>\n      <td>Μακεδονία και Θράκη</td>\n      <td>Mini-Market</td>\n      <td>Μακεδονία και Θράκη</td>\n      <td>2</td>\n      <td>Moderate</td>\n    </tr>\n    <tr>\n      <th>351095</th>\n      <td>2023</td>\n      <td>January</td>\n      <td>6532</td>\n      <td>SANDWICH</td>\n      <td>29.0</td>\n      <td>48.50</td>\n      <td>MAT</td>\n      <td>Kiosk</td>\n      <td>Νησιά</td>\n      <td>Kiosk</td>\n      <td>Νησιά</td>\n      <td>0</td>\n      <td>Expensive</td>\n    </tr>\n    <tr>\n      <th>351096</th>\n      <td>2023</td>\n      <td>January</td>\n      <td>3545</td>\n      <td>ICE TEA</td>\n      <td>11.0</td>\n      <td>20.00</td>\n      <td>MAT</td>\n      <td>Mini-Market</td>\n      <td>Αττική</td>\n      <td>Mini-Market</td>\n      <td>Αττική</td>\n      <td>0</td>\n      <td>Expensive</td>\n    </tr>\n    <tr>\n      <th>351097</th>\n      <td>2022</td>\n      <td>December</td>\n      <td>3813</td>\n      <td>COLAS</td>\n      <td>364.0</td>\n      <td>653.64</td>\n      <td>MAT</td>\n      <td>Kiosk</td>\n      <td>Πελοπόννησος</td>\n      <td>Kiosk</td>\n      <td>Πελοπόννησος</td>\n      <td>1</td>\n      <td>Cheap</td>\n    </tr>\n    <tr>\n      <th>351098</th>\n      <td>2022</td>\n      <td>November</td>\n      <td>7376</td>\n      <td>GREEK COFFEE</td>\n      <td>18.0</td>\n      <td>50.10</td>\n      <td>MAT</td>\n      <td>Mini-Market</td>\n      <td>Αττική</td>\n      <td>Mini-Market</td>\n      <td>Αττική</td>\n      <td>0</td>\n      <td>Expensive</td>\n    </tr>\n  </tbody>\n</table>\n<p>351099 rows × 13 columns</p>\n</div>"
     },
     "execution_count": 19,
     "metadata": {},
     "output_type": "execute_result"
    }
   ],
   "source": [
    "data2 = pd.merge(data, stores, on='StoreId', how='left')\n",
    "data2"
   ]
  },
  {
   "cell_type": "markdown",
   "source": [
    "## Write the data2 dataframe to a csv file for later use"
   ],
   "metadata": {
    "collapsed": false
   },
   "id": "382b3f7c65af926b"
  },
  {
   "cell_type": "code",
   "execution_count": 20,
   "id": "269f2588ad1ad66d",
   "metadata": {
    "collapsed": false,
    "ExecuteTime": {
     "end_time": "2024-01-22T14:31:03.563049600Z",
     "start_time": "2024-01-22T14:31:03.433527Z"
    }
   },
   "outputs": [],
   "source": [
    "#data2.to_csv('data/data1analytical_with_avg_clust.csv', index=False)"
   ]
  },
  {
   "cell_type": "code",
   "execution_count": 21,
   "id": "5c609573c20194d6",
   "metadata": {
    "collapsed": false,
    "ExecuteTime": {
     "end_time": "2024-01-22T14:31:03.623051500Z",
     "start_time": "2024-01-22T14:31:03.435043300Z"
    }
   },
   "outputs": [
    {
     "data": {
      "text/plain": "   Price Tier                        Area  StoreId\n0       Cheap                      Αττική        7\n1       Cheap  Δυτική και Κεντρική Ελλάδα       12\n2       Cheap         Μακεδονία και Θράκη       26\n3       Cheap                       Νησιά        3\n4       Cheap                Πελοπόννησος        8\n5   Expensive                      Αττική       24\n6   Expensive  Δυτική και Κεντρική Ελλάδα        1\n7   Expensive                       Κρήτη        4\n8   Expensive         Μακεδονία και Θράκη        2\n9   Expensive                       Νησιά        8\n10  Expensive                Πελοπόννησος        5\n11   Moderate                      Αττική       44\n12   Moderate  Δυτική και Κεντρική Ελλάδα        7\n13   Moderate                       Κρήτη        6\n14   Moderate         Μακεδονία και Θράκη       32\n15   Moderate                       Νησιά        4\n16   Moderate                Πελοπόννησος        7",
      "text/html": "<div>\n<style scoped>\n    .dataframe tbody tr th:only-of-type {\n        vertical-align: middle;\n    }\n\n    .dataframe tbody tr th {\n        vertical-align: top;\n    }\n\n    .dataframe thead th {\n        text-align: right;\n    }\n</style>\n<table border=\"1\" class=\"dataframe\">\n  <thead>\n    <tr style=\"text-align: right;\">\n      <th></th>\n      <th>Price Tier</th>\n      <th>Area</th>\n      <th>StoreId</th>\n    </tr>\n  </thead>\n  <tbody>\n    <tr>\n      <th>0</th>\n      <td>Cheap</td>\n      <td>Αττική</td>\n      <td>7</td>\n    </tr>\n    <tr>\n      <th>1</th>\n      <td>Cheap</td>\n      <td>Δυτική και Κεντρική Ελλάδα</td>\n      <td>12</td>\n    </tr>\n    <tr>\n      <th>2</th>\n      <td>Cheap</td>\n      <td>Μακεδονία και Θράκη</td>\n      <td>26</td>\n    </tr>\n    <tr>\n      <th>3</th>\n      <td>Cheap</td>\n      <td>Νησιά</td>\n      <td>3</td>\n    </tr>\n    <tr>\n      <th>4</th>\n      <td>Cheap</td>\n      <td>Πελοπόννησος</td>\n      <td>8</td>\n    </tr>\n    <tr>\n      <th>5</th>\n      <td>Expensive</td>\n      <td>Αττική</td>\n      <td>24</td>\n    </tr>\n    <tr>\n      <th>6</th>\n      <td>Expensive</td>\n      <td>Δυτική και Κεντρική Ελλάδα</td>\n      <td>1</td>\n    </tr>\n    <tr>\n      <th>7</th>\n      <td>Expensive</td>\n      <td>Κρήτη</td>\n      <td>4</td>\n    </tr>\n    <tr>\n      <th>8</th>\n      <td>Expensive</td>\n      <td>Μακεδονία και Θράκη</td>\n      <td>2</td>\n    </tr>\n    <tr>\n      <th>9</th>\n      <td>Expensive</td>\n      <td>Νησιά</td>\n      <td>8</td>\n    </tr>\n    <tr>\n      <th>10</th>\n      <td>Expensive</td>\n      <td>Πελοπόννησος</td>\n      <td>5</td>\n    </tr>\n    <tr>\n      <th>11</th>\n      <td>Moderate</td>\n      <td>Αττική</td>\n      <td>44</td>\n    </tr>\n    <tr>\n      <th>12</th>\n      <td>Moderate</td>\n      <td>Δυτική και Κεντρική Ελλάδα</td>\n      <td>7</td>\n    </tr>\n    <tr>\n      <th>13</th>\n      <td>Moderate</td>\n      <td>Κρήτη</td>\n      <td>6</td>\n    </tr>\n    <tr>\n      <th>14</th>\n      <td>Moderate</td>\n      <td>Μακεδονία και Θράκη</td>\n      <td>32</td>\n    </tr>\n    <tr>\n      <th>15</th>\n      <td>Moderate</td>\n      <td>Νησιά</td>\n      <td>4</td>\n    </tr>\n    <tr>\n      <th>16</th>\n      <td>Moderate</td>\n      <td>Πελοπόννησος</td>\n      <td>7</td>\n    </tr>\n  </tbody>\n</table>\n</div>"
     },
     "execution_count": 21,
     "metadata": {},
     "output_type": "execute_result"
    }
   ],
   "source": [
    "# Group by cluster and Area and calculate the count for each Area\n",
    "stores_grouped_area = stores.groupby(['Price Tier', 'Area']).agg({'StoreId': 'count'}).reset_index()\n",
    "stores_grouped_area"
   ]
  },
  {
   "cell_type": "markdown",
   "id": "a4b66d22502cc523",
   "metadata": {
    "collapsed": false
   },
   "source": [
    "## Chi-Square Tests of Independence"
   ]
  },
  {
   "cell_type": "code",
   "execution_count": 22,
   "id": "f8f85cbf31afe1df",
   "metadata": {
    "collapsed": false,
    "ExecuteTime": {
     "end_time": "2024-01-22T14:31:03.624049700Z",
     "start_time": "2024-01-22T14:31:03.445178900Z"
    }
   },
   "outputs": [
    {
     "name": "stdout",
     "output_type": "stream",
     "text": [
      "Chi-Square Statistic: 54.538354978354974\n",
      "p-value: 3.851193492665751e-08\n"
     ]
    }
   ],
   "source": [
    "from scipy.stats import chi2_contingency\n",
    "\n",
    "# Creating a contingency table\n",
    "contingency_table = pd.pivot_table(stores_grouped_area, values='StoreId', index='Price Tier', columns='Area', fill_value=0)\n",
    "\n",
    "# Performing the Chi-Square test\n",
    "chi2, p, dof, expected = chi2_contingency(contingency_table)\n",
    "\n",
    "# Output the results\n",
    "print(f\"Chi-Square Statistic: {chi2}\")\n",
    "print(f\"p-value: {p}\")"
   ]
  },
  {
   "cell_type": "code",
   "execution_count": 23,
   "id": "6b617f08467bbfd9",
   "metadata": {
    "collapsed": false,
    "ExecuteTime": {
     "end_time": "2024-01-22T14:31:03.624049700Z",
     "start_time": "2024-01-22T14:31:03.453120700Z"
    }
   },
   "outputs": [
    {
     "data": {
      "text/plain": "array([[21. ,  5.6,  2.8, 16.8,  4.2,  5.6],\n       [16.5,  4.4,  2.2, 13.2,  3.3,  4.4],\n       [37.5, 10. ,  5. , 30. ,  7.5, 10. ]])"
     },
     "execution_count": 23,
     "metadata": {},
     "output_type": "execute_result"
    }
   ],
   "source": [
    "expected"
   ]
  },
  {
   "cell_type": "code",
   "execution_count": 24,
   "id": "f41c2c4813b13895",
   "metadata": {
    "collapsed": false,
    "ExecuteTime": {
     "end_time": "2024-01-22T14:31:03.646054200Z",
     "start_time": "2024-01-22T14:31:03.456618300Z"
    }
   },
   "outputs": [
    {
     "data": {
      "text/plain": "Area           Αττική  Δυτική και Κεντρική Ελλάδα       Κρήτη  \\\nPrice Tier                                                      \nCheap      -66.666667                  114.285714 -100.000000   \nExpensive   45.454545                  -77.272727   81.818182   \nModerate    17.333333                  -30.000000   20.000000   \n\nArea        Μακεδονία και Θράκη       Νησιά  Πελοπόννησος  \nPrice Tier                                                 \nCheap                 54.761905  -28.571429     42.857143  \nExpensive            -84.848485  142.424242     13.636364  \nModerate               6.666667  -46.666667    -30.000000  ",
      "text/html": "<div>\n<style scoped>\n    .dataframe tbody tr th:only-of-type {\n        vertical-align: middle;\n    }\n\n    .dataframe tbody tr th {\n        vertical-align: top;\n    }\n\n    .dataframe thead th {\n        text-align: right;\n    }\n</style>\n<table border=\"1\" class=\"dataframe\">\n  <thead>\n    <tr style=\"text-align: right;\">\n      <th>Area</th>\n      <th>Αττική</th>\n      <th>Δυτική και Κεντρική Ελλάδα</th>\n      <th>Κρήτη</th>\n      <th>Μακεδονία και Θράκη</th>\n      <th>Νησιά</th>\n      <th>Πελοπόννησος</th>\n    </tr>\n    <tr>\n      <th>Price Tier</th>\n      <th></th>\n      <th></th>\n      <th></th>\n      <th></th>\n      <th></th>\n      <th></th>\n    </tr>\n  </thead>\n  <tbody>\n    <tr>\n      <th>Cheap</th>\n      <td>-66.666667</td>\n      <td>114.285714</td>\n      <td>-100.000000</td>\n      <td>54.761905</td>\n      <td>-28.571429</td>\n      <td>42.857143</td>\n    </tr>\n    <tr>\n      <th>Expensive</th>\n      <td>45.454545</td>\n      <td>-77.272727</td>\n      <td>81.818182</td>\n      <td>-84.848485</td>\n      <td>142.424242</td>\n      <td>13.636364</td>\n    </tr>\n    <tr>\n      <th>Moderate</th>\n      <td>17.333333</td>\n      <td>-30.000000</td>\n      <td>20.000000</td>\n      <td>6.666667</td>\n      <td>-46.666667</td>\n      <td>-30.000000</td>\n    </tr>\n  </tbody>\n</table>\n</div>"
     },
     "execution_count": 24,
     "metadata": {},
     "output_type": "execute_result"
    }
   ],
   "source": [
    "# Print the percentage changes between the observed and expected values\n",
    "percentage_change = (contingency_table - expected) / expected * 100\n",
    "percentage_change"
   ]
  },
  {
   "cell_type": "code",
   "execution_count": 25,
   "id": "81792b17693ee680",
   "metadata": {
    "collapsed": false,
    "ExecuteTime": {
     "end_time": "2024-01-22T14:31:03.650049400Z",
     "start_time": "2024-01-22T14:31:03.465329100Z"
    }
   },
   "outputs": [
    {
     "data": {
      "text/plain": "  Price Tier    StoreType  StoreId\n0      Cheap        Kiosk       32\n1      Cheap  Mini-Market       24\n2  Expensive        Kiosk        8\n3  Expensive  Mini-Market       36\n4   Moderate        Kiosk       49\n5   Moderate  Mini-Market       51",
      "text/html": "<div>\n<style scoped>\n    .dataframe tbody tr th:only-of-type {\n        vertical-align: middle;\n    }\n\n    .dataframe tbody tr th {\n        vertical-align: top;\n    }\n\n    .dataframe thead th {\n        text-align: right;\n    }\n</style>\n<table border=\"1\" class=\"dataframe\">\n  <thead>\n    <tr style=\"text-align: right;\">\n      <th></th>\n      <th>Price Tier</th>\n      <th>StoreType</th>\n      <th>StoreId</th>\n    </tr>\n  </thead>\n  <tbody>\n    <tr>\n      <th>0</th>\n      <td>Cheap</td>\n      <td>Kiosk</td>\n      <td>32</td>\n    </tr>\n    <tr>\n      <th>1</th>\n      <td>Cheap</td>\n      <td>Mini-Market</td>\n      <td>24</td>\n    </tr>\n    <tr>\n      <th>2</th>\n      <td>Expensive</td>\n      <td>Kiosk</td>\n      <td>8</td>\n    </tr>\n    <tr>\n      <th>3</th>\n      <td>Expensive</td>\n      <td>Mini-Market</td>\n      <td>36</td>\n    </tr>\n    <tr>\n      <th>4</th>\n      <td>Moderate</td>\n      <td>Kiosk</td>\n      <td>49</td>\n    </tr>\n    <tr>\n      <th>5</th>\n      <td>Moderate</td>\n      <td>Mini-Market</td>\n      <td>51</td>\n    </tr>\n  </tbody>\n</table>\n</div>"
     },
     "execution_count": 25,
     "metadata": {},
     "output_type": "execute_result"
    }
   ],
   "source": [
    "# Group by cluster and Area and calculate the count for each Area\n",
    "stores_grouped_type = stores.groupby(['Price Tier', 'StoreType']).agg({'StoreId': 'count'}).reset_index()\n",
    "stores_grouped_type"
   ]
  },
  {
   "cell_type": "code",
   "execution_count": 26,
   "id": "322a95f78faa8652",
   "metadata": {
    "collapsed": false,
    "ExecuteTime": {
     "end_time": "2024-01-22T14:31:03.672054700Z",
     "start_time": "2024-01-22T14:31:03.472037100Z"
    }
   },
   "outputs": [
    {
     "name": "stdout",
     "output_type": "stream",
     "text": [
      "Chi-Square Statistic: 16.78412689648644\n",
      "p-value: 0.00022665909617606937\n"
     ]
    }
   ],
   "source": [
    "from scipy.stats import chi2_contingency\n",
    "\n",
    "# Creating a contingency table\n",
    "contingency_table = pd.pivot_table(stores_grouped_type, values='StoreId', index='Price Tier', columns='StoreType', fill_value=0)\n",
    "\n",
    "# Performing the Chi-Square test\n",
    "chi2, p, dof, expected = chi2_contingency(contingency_table)\n",
    "\n",
    "# Output the results\n",
    "print(f\"Chi-Square Statistic: {chi2}\")\n",
    "print(f\"p-value: {p}\")"
   ]
  },
  {
   "cell_type": "code",
   "outputs": [
    {
     "data": {
      "text/plain": "array([[24.92, 31.08],\n       [19.58, 24.42],\n       [44.5 , 55.5 ]])"
     },
     "execution_count": 27,
     "metadata": {},
     "output_type": "execute_result"
    }
   ],
   "source": [
    "expected"
   ],
   "metadata": {
    "collapsed": false,
    "ExecuteTime": {
     "end_time": "2024-01-22T14:31:03.675053500Z",
     "start_time": "2024-01-22T14:31:03.479036800Z"
    }
   },
   "id": "8fd8e5e4cdf9f1da",
   "execution_count": 27
  },
  {
   "cell_type": "code",
   "execution_count": 28,
   "id": "3e118275e2c3bf8a",
   "metadata": {
    "collapsed": false,
    "ExecuteTime": {
     "end_time": "2024-01-22T14:31:03.675053500Z",
     "start_time": "2024-01-22T14:31:03.484535Z"
    }
   },
   "outputs": [
    {
     "data": {
      "text/plain": "StoreType       Kiosk  Mini-Market\nPrice Tier                        \nCheap       28.410915   -22.779923\nExpensive  -59.141982    47.420147\nModerate    10.112360    -8.108108",
      "text/html": "<div>\n<style scoped>\n    .dataframe tbody tr th:only-of-type {\n        vertical-align: middle;\n    }\n\n    .dataframe tbody tr th {\n        vertical-align: top;\n    }\n\n    .dataframe thead th {\n        text-align: right;\n    }\n</style>\n<table border=\"1\" class=\"dataframe\">\n  <thead>\n    <tr style=\"text-align: right;\">\n      <th>StoreType</th>\n      <th>Kiosk</th>\n      <th>Mini-Market</th>\n    </tr>\n    <tr>\n      <th>Price Tier</th>\n      <th></th>\n      <th></th>\n    </tr>\n  </thead>\n  <tbody>\n    <tr>\n      <th>Cheap</th>\n      <td>28.410915</td>\n      <td>-22.779923</td>\n    </tr>\n    <tr>\n      <th>Expensive</th>\n      <td>-59.141982</td>\n      <td>47.420147</td>\n    </tr>\n    <tr>\n      <th>Moderate</th>\n      <td>10.112360</td>\n      <td>-8.108108</td>\n    </tr>\n  </tbody>\n</table>\n</div>"
     },
     "execution_count": 28,
     "metadata": {},
     "output_type": "execute_result"
    }
   ],
   "source": [
    "# Print the percentage changes between the observed and expected values\n",
    "percentage_change = (contingency_table - expected) / expected * 100\n",
    "percentage_change"
   ]
  }
 ],
 "metadata": {
  "kernelspec": {
   "display_name": "Python 3 (ipykernel)",
   "language": "python",
   "name": "python3"
  },
  "language_info": {
   "codemirror_mode": {
    "name": "ipython",
    "version": 3
   },
   "file_extension": ".py",
   "mimetype": "text/x-python",
   "name": "python",
   "nbconvert_exporter": "python",
   "pygments_lexer": "ipython3",
   "version": "3.11.5"
  }
 },
 "nbformat": 4,
 "nbformat_minor": 5
}
