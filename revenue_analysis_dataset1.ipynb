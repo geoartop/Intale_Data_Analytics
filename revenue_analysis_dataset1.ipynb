{
 "cells": [
  {
   "cell_type": "code",
   "execution_count": 1,
   "id": "initial_id",
   "metadata": {
    "collapsed": true,
    "ExecuteTime": {
     "end_time": "2024-01-22T15:35:02.956790600Z",
     "start_time": "2024-01-22T15:35:02.950780900Z"
    }
   },
   "outputs": [],
   "source": [
    "import pandas as pd"
   ]
  },
  {
   "cell_type": "code",
   "outputs": [],
   "source": [
    "# Read the csv\n",
    "data1 = pd.read_csv('data/data1analytical.csv')"
   ],
   "metadata": {
    "collapsed": false,
    "ExecuteTime": {
     "end_time": "2024-01-22T15:35:03.205695100Z",
     "start_time": "2024-01-22T15:35:02.953789Z"
    }
   },
   "id": "c09d7ccd9a1d3c53",
   "execution_count": 2
  },
  {
   "cell_type": "code",
   "outputs": [],
   "source": [
    "# Read Category Mappings csv\n",
    "category_mappings = pd.read_csv('data/Category Mapping.csv')"
   ],
   "metadata": {
    "collapsed": false,
    "ExecuteTime": {
     "end_time": "2024-01-22T15:35:03.221220900Z",
     "start_time": "2024-01-22T15:35:03.216752600Z"
    }
   },
   "id": "5680f67d3812c7cc",
   "execution_count": 4
  },
  {
   "cell_type": "code",
   "outputs": [],
   "source": [
    "# Get the Category column from the category_mappings dataframe and merge to dataset2_encoded\n",
    "data1 = pd.merge(data1, category_mappings[['Subcategory', 'Category']], on='Subcategory', how='left')"
   ],
   "metadata": {
    "collapsed": false,
    "ExecuteTime": {
     "end_time": "2024-01-22T15:35:03.269311900Z",
     "start_time": "2024-01-22T15:35:03.220218400Z"
    }
   },
   "id": "f23395b4feb9052a",
   "execution_count": 5
  },
  {
   "cell_type": "code",
   "outputs": [],
   "source": [
    "# Calculate the price column (revenue/quantity)\n",
    "data1['Average_Price'] = data1['Revenue'] / data1['Quantity']"
   ],
   "metadata": {
    "collapsed": false,
    "ExecuteTime": {
     "end_time": "2024-01-22T15:35:03.270313Z",
     "start_time": "2024-01-22T15:35:03.259792100Z"
    }
   },
   "id": "530eff9e6e15279e",
   "execution_count": 6
  },
  {
   "cell_type": "code",
   "outputs": [
    {
     "data": {
      "text/plain": "        Date_Year Date_MonthName  StoreId           Subcategory  Quantity  \\\n0            2022           June     4008  SWEET BAKERY SNACKS       24.0   \n1            2021       November    10254   TOBACCO ACCESSORIES    2156.0   \n2            2022         August     5122                  ΟΥΖΟ       3.0   \n3            2022           June    10254                 CORN       51.0   \n4            2022        October    10280                 STICK     122.0   \n...           ...            ...      ...                   ...       ...   \n351094       2023          March     7986                WHISKY       1.0   \n351095       2023        January     6532              SANDWICH      29.0   \n351096       2023        January     3545               ICE TEA      11.0   \n351097       2022       December     3813                 COLAS     364.0   \n351098       2022       November     7376          GREEK COFFEE      18.0   \n\n        Revenue Period         Type                        Area  \\\n0         24.40  MATYA        Kiosk         Μακεδονία και Θράκη   \n1       1437.80  MATYA        Kiosk         Μακεδονία και Θράκη   \n2         11.00  MATYA        Kiosk  Δυτική και Κεντρική Ελλάδα   \n3         74.00  MATYA        Kiosk         Μακεδονία και Θράκη   \n4        277.80  MATYA        Kiosk                      Αττική   \n...         ...    ...          ...                         ...   \n351094    23.00    MAT  Mini-Market         Μακεδονία και Θράκη   \n351095    48.50    MAT        Kiosk                       Νησιά   \n351096    20.00    MAT  Mini-Market                      Αττική   \n351097   653.64    MAT        Kiosk                Πελοπόννησος   \n351098    50.10    MAT  Mini-Market                      Αττική   \n\n                   Category  Average_Price  \n0                    SNACKS       1.016667  \n1             TOBACCO COMPL       0.666883  \n2       ALCOHOLIC BEVERAGES       3.666667  \n3                    SNACKS       1.450980  \n4                 ICE CREAM       2.277049  \n...                     ...            ...  \n351094  ALCOHOLIC BEVERAGES      23.000000  \n351095             BISCUITS       1.672414  \n351096          SOFT DRINKS       1.818182  \n351097          SOFT DRINKS       1.795714  \n351098               COFFEE       2.783333  \n\n[351099 rows x 11 columns]",
      "text/html": "<div>\n<style scoped>\n    .dataframe tbody tr th:only-of-type {\n        vertical-align: middle;\n    }\n\n    .dataframe tbody tr th {\n        vertical-align: top;\n    }\n\n    .dataframe thead th {\n        text-align: right;\n    }\n</style>\n<table border=\"1\" class=\"dataframe\">\n  <thead>\n    <tr style=\"text-align: right;\">\n      <th></th>\n      <th>Date_Year</th>\n      <th>Date_MonthName</th>\n      <th>StoreId</th>\n      <th>Subcategory</th>\n      <th>Quantity</th>\n      <th>Revenue</th>\n      <th>Period</th>\n      <th>Type</th>\n      <th>Area</th>\n      <th>Category</th>\n      <th>Average_Price</th>\n    </tr>\n  </thead>\n  <tbody>\n    <tr>\n      <th>0</th>\n      <td>2022</td>\n      <td>June</td>\n      <td>4008</td>\n      <td>SWEET BAKERY SNACKS</td>\n      <td>24.0</td>\n      <td>24.40</td>\n      <td>MATYA</td>\n      <td>Kiosk</td>\n      <td>Μακεδονία και Θράκη</td>\n      <td>SNACKS</td>\n      <td>1.016667</td>\n    </tr>\n    <tr>\n      <th>1</th>\n      <td>2021</td>\n      <td>November</td>\n      <td>10254</td>\n      <td>TOBACCO ACCESSORIES</td>\n      <td>2156.0</td>\n      <td>1437.80</td>\n      <td>MATYA</td>\n      <td>Kiosk</td>\n      <td>Μακεδονία και Θράκη</td>\n      <td>TOBACCO COMPL</td>\n      <td>0.666883</td>\n    </tr>\n    <tr>\n      <th>2</th>\n      <td>2022</td>\n      <td>August</td>\n      <td>5122</td>\n      <td>ΟΥΖΟ</td>\n      <td>3.0</td>\n      <td>11.00</td>\n      <td>MATYA</td>\n      <td>Kiosk</td>\n      <td>Δυτική και Κεντρική Ελλάδα</td>\n      <td>ALCOHOLIC BEVERAGES</td>\n      <td>3.666667</td>\n    </tr>\n    <tr>\n      <th>3</th>\n      <td>2022</td>\n      <td>June</td>\n      <td>10254</td>\n      <td>CORN</td>\n      <td>51.0</td>\n      <td>74.00</td>\n      <td>MATYA</td>\n      <td>Kiosk</td>\n      <td>Μακεδονία και Θράκη</td>\n      <td>SNACKS</td>\n      <td>1.450980</td>\n    </tr>\n    <tr>\n      <th>4</th>\n      <td>2022</td>\n      <td>October</td>\n      <td>10280</td>\n      <td>STICK</td>\n      <td>122.0</td>\n      <td>277.80</td>\n      <td>MATYA</td>\n      <td>Kiosk</td>\n      <td>Αττική</td>\n      <td>ICE CREAM</td>\n      <td>2.277049</td>\n    </tr>\n    <tr>\n      <th>...</th>\n      <td>...</td>\n      <td>...</td>\n      <td>...</td>\n      <td>...</td>\n      <td>...</td>\n      <td>...</td>\n      <td>...</td>\n      <td>...</td>\n      <td>...</td>\n      <td>...</td>\n      <td>...</td>\n    </tr>\n    <tr>\n      <th>351094</th>\n      <td>2023</td>\n      <td>March</td>\n      <td>7986</td>\n      <td>WHISKY</td>\n      <td>1.0</td>\n      <td>23.00</td>\n      <td>MAT</td>\n      <td>Mini-Market</td>\n      <td>Μακεδονία και Θράκη</td>\n      <td>ALCOHOLIC BEVERAGES</td>\n      <td>23.000000</td>\n    </tr>\n    <tr>\n      <th>351095</th>\n      <td>2023</td>\n      <td>January</td>\n      <td>6532</td>\n      <td>SANDWICH</td>\n      <td>29.0</td>\n      <td>48.50</td>\n      <td>MAT</td>\n      <td>Kiosk</td>\n      <td>Νησιά</td>\n      <td>BISCUITS</td>\n      <td>1.672414</td>\n    </tr>\n    <tr>\n      <th>351096</th>\n      <td>2023</td>\n      <td>January</td>\n      <td>3545</td>\n      <td>ICE TEA</td>\n      <td>11.0</td>\n      <td>20.00</td>\n      <td>MAT</td>\n      <td>Mini-Market</td>\n      <td>Αττική</td>\n      <td>SOFT DRINKS</td>\n      <td>1.818182</td>\n    </tr>\n    <tr>\n      <th>351097</th>\n      <td>2022</td>\n      <td>December</td>\n      <td>3813</td>\n      <td>COLAS</td>\n      <td>364.0</td>\n      <td>653.64</td>\n      <td>MAT</td>\n      <td>Kiosk</td>\n      <td>Πελοπόννησος</td>\n      <td>SOFT DRINKS</td>\n      <td>1.795714</td>\n    </tr>\n    <tr>\n      <th>351098</th>\n      <td>2022</td>\n      <td>November</td>\n      <td>7376</td>\n      <td>GREEK COFFEE</td>\n      <td>18.0</td>\n      <td>50.10</td>\n      <td>MAT</td>\n      <td>Mini-Market</td>\n      <td>Αττική</td>\n      <td>COFFEE</td>\n      <td>2.783333</td>\n    </tr>\n  </tbody>\n</table>\n<p>351099 rows × 11 columns</p>\n</div>"
     },
     "execution_count": 7,
     "metadata": {},
     "output_type": "execute_result"
    }
   ],
   "source": [
    "data1"
   ],
   "metadata": {
    "collapsed": false,
    "ExecuteTime": {
     "end_time": "2024-01-22T15:35:03.286827500Z",
     "start_time": "2024-01-22T15:35:03.264313Z"
    }
   },
   "id": "bc14f649ec32a506",
   "execution_count": 7
  },
  {
   "cell_type": "code",
   "outputs": [
    {
     "data": {
      "text/plain": "       StoreId    Subcategory         Type                        Area  \\\n0         3435      ALOE VERA        Kiosk                      Αττική   \n1         3435  BAR ICE CREAM        Kiosk                      Αττική   \n2         3435     BAR SNACKS        Kiosk                      Αττική   \n3         3435          BEERS        Kiosk                      Αττική   \n4         3435           CAKE        Kiosk                      Αττική   \n...        ...            ...          ...                         ...   \n16797    10963         WHISKY  Mini-Market  Δυτική και Κεντρική Ελλάδα   \n16798    10963           WINE  Mini-Market  Δυτική και Κεντρική Ελλάδα   \n16799    10963         YOGURT  Mini-Market  Δυτική και Κεντρική Ελλάδα   \n16800    10963           ΟΥΖΟ  Mini-Market  Δυτική και Κεντρική Ελλάδα   \n16801    10963       ΤΣΙΠΟΥΡΟ  Mini-Market  Δυτική και Κεντρική Ελλάδα   \n\n         Revenue  Quantity  Average_Price  \n0          52.50      35.0       1.500000  \n1        4851.90    1892.0       2.400836  \n2        5103.70    2889.0       1.758919  \n3      115448.39   70713.0       1.617208  \n4        2308.50    2426.0       0.963478  \n...          ...       ...            ...  \n16797      88.60      11.0       8.775000  \n16798      65.50      14.0       4.710000  \n16799     810.50     474.0       1.722212  \n16800     128.00      32.0       4.000000  \n16801     494.00      97.0       5.133413  \n\n[16802 rows x 7 columns]",
      "text/html": "<div>\n<style scoped>\n    .dataframe tbody tr th:only-of-type {\n        vertical-align: middle;\n    }\n\n    .dataframe tbody tr th {\n        vertical-align: top;\n    }\n\n    .dataframe thead th {\n        text-align: right;\n    }\n</style>\n<table border=\"1\" class=\"dataframe\">\n  <thead>\n    <tr style=\"text-align: right;\">\n      <th></th>\n      <th>StoreId</th>\n      <th>Subcategory</th>\n      <th>Type</th>\n      <th>Area</th>\n      <th>Revenue</th>\n      <th>Quantity</th>\n      <th>Average_Price</th>\n    </tr>\n  </thead>\n  <tbody>\n    <tr>\n      <th>0</th>\n      <td>3435</td>\n      <td>ALOE VERA</td>\n      <td>Kiosk</td>\n      <td>Αττική</td>\n      <td>52.50</td>\n      <td>35.0</td>\n      <td>1.500000</td>\n    </tr>\n    <tr>\n      <th>1</th>\n      <td>3435</td>\n      <td>BAR ICE CREAM</td>\n      <td>Kiosk</td>\n      <td>Αττική</td>\n      <td>4851.90</td>\n      <td>1892.0</td>\n      <td>2.400836</td>\n    </tr>\n    <tr>\n      <th>2</th>\n      <td>3435</td>\n      <td>BAR SNACKS</td>\n      <td>Kiosk</td>\n      <td>Αττική</td>\n      <td>5103.70</td>\n      <td>2889.0</td>\n      <td>1.758919</td>\n    </tr>\n    <tr>\n      <th>3</th>\n      <td>3435</td>\n      <td>BEERS</td>\n      <td>Kiosk</td>\n      <td>Αττική</td>\n      <td>115448.39</td>\n      <td>70713.0</td>\n      <td>1.617208</td>\n    </tr>\n    <tr>\n      <th>4</th>\n      <td>3435</td>\n      <td>CAKE</td>\n      <td>Kiosk</td>\n      <td>Αττική</td>\n      <td>2308.50</td>\n      <td>2426.0</td>\n      <td>0.963478</td>\n    </tr>\n    <tr>\n      <th>...</th>\n      <td>...</td>\n      <td>...</td>\n      <td>...</td>\n      <td>...</td>\n      <td>...</td>\n      <td>...</td>\n      <td>...</td>\n    </tr>\n    <tr>\n      <th>16797</th>\n      <td>10963</td>\n      <td>WHISKY</td>\n      <td>Mini-Market</td>\n      <td>Δυτική και Κεντρική Ελλάδα</td>\n      <td>88.60</td>\n      <td>11.0</td>\n      <td>8.775000</td>\n    </tr>\n    <tr>\n      <th>16798</th>\n      <td>10963</td>\n      <td>WINE</td>\n      <td>Mini-Market</td>\n      <td>Δυτική και Κεντρική Ελλάδα</td>\n      <td>65.50</td>\n      <td>14.0</td>\n      <td>4.710000</td>\n    </tr>\n    <tr>\n      <th>16799</th>\n      <td>10963</td>\n      <td>YOGURT</td>\n      <td>Mini-Market</td>\n      <td>Δυτική και Κεντρική Ελλάδα</td>\n      <td>810.50</td>\n      <td>474.0</td>\n      <td>1.722212</td>\n    </tr>\n    <tr>\n      <th>16800</th>\n      <td>10963</td>\n      <td>ΟΥΖΟ</td>\n      <td>Mini-Market</td>\n      <td>Δυτική και Κεντρική Ελλάδα</td>\n      <td>128.00</td>\n      <td>32.0</td>\n      <td>4.000000</td>\n    </tr>\n    <tr>\n      <th>16801</th>\n      <td>10963</td>\n      <td>ΤΣΙΠΟΥΡΟ</td>\n      <td>Mini-Market</td>\n      <td>Δυτική και Κεντρική Ελλάδα</td>\n      <td>494.00</td>\n      <td>97.0</td>\n      <td>5.133413</td>\n    </tr>\n  </tbody>\n</table>\n<p>16802 rows × 7 columns</p>\n</div>"
     },
     "execution_count": 8,
     "metadata": {},
     "output_type": "execute_result"
    }
   ],
   "source": [
    "# Group by subcategory and StoreId and calculate the sum of the revenue\n",
    "data1_grouped = data1.groupby(['StoreId', 'Subcategory', 'Type', 'Area']).agg(\n",
    "    {'Revenue': 'sum', 'Quantity': 'sum', 'Average_Price': 'mean'}).reset_index()\n",
    "data1_grouped"
   ],
   "metadata": {
    "collapsed": false,
    "ExecuteTime": {
     "end_time": "2024-01-22T15:35:03.354889500Z",
     "start_time": "2024-01-22T15:35:03.272829300Z"
    }
   },
   "id": "d6f461b297a0dd40",
   "execution_count": 8
  },
  {
   "cell_type": "code",
   "outputs": [],
   "source": [
    "# Create separate dataframes for each Type\n",
    "data1_grouped_kiosk = data1_grouped[data1_grouped['Type'] == 'Kiosk']\n",
    "data1_grouped_mini_market = data1_grouped[data1_grouped['Type'] == 'Mini-Market']"
   ],
   "metadata": {
    "collapsed": false,
    "ExecuteTime": {
     "end_time": "2024-01-22T15:35:03.355890300Z",
     "start_time": "2024-01-22T15:35:03.347889600Z"
    }
   },
   "id": "9385fd5eda134f04",
   "execution_count": 9
  },
  {
   "cell_type": "markdown",
   "source": [
    "## Analysis for mini-markets"
   ],
   "metadata": {
    "collapsed": false
   },
   "id": "d77e5d29981dc059"
  },
  {
   "cell_type": "code",
   "outputs": [
    {
     "data": {
      "text/plain": "       StoreId    Subcategory         Type                        Area  \\\n409       3545      ALOE VERA  Mini-Market                      Αττική   \n410       3545  BAR ICE CREAM  Mini-Market                      Αττική   \n411       3545     BAR SNACKS  Mini-Market                      Αττική   \n412       3545          BEERS  Mini-Market                      Αττική   \n413       3545         BUTTER  Mini-Market                      Αττική   \n...        ...            ...          ...                         ...   \n16797    10963         WHISKY  Mini-Market  Δυτική και Κεντρική Ελλάδα   \n16798    10963           WINE  Mini-Market  Δυτική και Κεντρική Ελλάδα   \n16799    10963         YOGURT  Mini-Market  Δυτική και Κεντρική Ελλάδα   \n16800    10963           ΟΥΖΟ  Mini-Market  Δυτική και Κεντρική Ελλάδα   \n16801    10963       ΤΣΙΠΟΥΡΟ  Mini-Market  Δυτική και Κεντρική Ελλάδα   \n\n        Revenue  Quantity  Average_Price  \n409       36.40      24.0       1.510000  \n410       42.00       7.0       6.000000  \n411      277.20     225.0       1.206179  \n412    10663.98    6226.0       1.666956  \n413      396.35     152.0       2.470255  \n...         ...       ...            ...  \n16797     88.60      11.0       8.775000  \n16798     65.50      14.0       4.710000  \n16799    810.50     474.0       1.722212  \n16800    128.00      32.0       4.000000  \n16801    494.00      97.0       5.133413  \n\n[9778 rows x 7 columns]",
      "text/html": "<div>\n<style scoped>\n    .dataframe tbody tr th:only-of-type {\n        vertical-align: middle;\n    }\n\n    .dataframe tbody tr th {\n        vertical-align: top;\n    }\n\n    .dataframe thead th {\n        text-align: right;\n    }\n</style>\n<table border=\"1\" class=\"dataframe\">\n  <thead>\n    <tr style=\"text-align: right;\">\n      <th></th>\n      <th>StoreId</th>\n      <th>Subcategory</th>\n      <th>Type</th>\n      <th>Area</th>\n      <th>Revenue</th>\n      <th>Quantity</th>\n      <th>Average_Price</th>\n    </tr>\n  </thead>\n  <tbody>\n    <tr>\n      <th>409</th>\n      <td>3545</td>\n      <td>ALOE VERA</td>\n      <td>Mini-Market</td>\n      <td>Αττική</td>\n      <td>36.40</td>\n      <td>24.0</td>\n      <td>1.510000</td>\n    </tr>\n    <tr>\n      <th>410</th>\n      <td>3545</td>\n      <td>BAR ICE CREAM</td>\n      <td>Mini-Market</td>\n      <td>Αττική</td>\n      <td>42.00</td>\n      <td>7.0</td>\n      <td>6.000000</td>\n    </tr>\n    <tr>\n      <th>411</th>\n      <td>3545</td>\n      <td>BAR SNACKS</td>\n      <td>Mini-Market</td>\n      <td>Αττική</td>\n      <td>277.20</td>\n      <td>225.0</td>\n      <td>1.206179</td>\n    </tr>\n    <tr>\n      <th>412</th>\n      <td>3545</td>\n      <td>BEERS</td>\n      <td>Mini-Market</td>\n      <td>Αττική</td>\n      <td>10663.98</td>\n      <td>6226.0</td>\n      <td>1.666956</td>\n    </tr>\n    <tr>\n      <th>413</th>\n      <td>3545</td>\n      <td>BUTTER</td>\n      <td>Mini-Market</td>\n      <td>Αττική</td>\n      <td>396.35</td>\n      <td>152.0</td>\n      <td>2.470255</td>\n    </tr>\n    <tr>\n      <th>...</th>\n      <td>...</td>\n      <td>...</td>\n      <td>...</td>\n      <td>...</td>\n      <td>...</td>\n      <td>...</td>\n      <td>...</td>\n    </tr>\n    <tr>\n      <th>16797</th>\n      <td>10963</td>\n      <td>WHISKY</td>\n      <td>Mini-Market</td>\n      <td>Δυτική και Κεντρική Ελλάδα</td>\n      <td>88.60</td>\n      <td>11.0</td>\n      <td>8.775000</td>\n    </tr>\n    <tr>\n      <th>16798</th>\n      <td>10963</td>\n      <td>WINE</td>\n      <td>Mini-Market</td>\n      <td>Δυτική και Κεντρική Ελλάδα</td>\n      <td>65.50</td>\n      <td>14.0</td>\n      <td>4.710000</td>\n    </tr>\n    <tr>\n      <th>16799</th>\n      <td>10963</td>\n      <td>YOGURT</td>\n      <td>Mini-Market</td>\n      <td>Δυτική και Κεντρική Ελλάδα</td>\n      <td>810.50</td>\n      <td>474.0</td>\n      <td>1.722212</td>\n    </tr>\n    <tr>\n      <th>16800</th>\n      <td>10963</td>\n      <td>ΟΥΖΟ</td>\n      <td>Mini-Market</td>\n      <td>Δυτική και Κεντρική Ελλάδα</td>\n      <td>128.00</td>\n      <td>32.0</td>\n      <td>4.000000</td>\n    </tr>\n    <tr>\n      <th>16801</th>\n      <td>10963</td>\n      <td>ΤΣΙΠΟΥΡΟ</td>\n      <td>Mini-Market</td>\n      <td>Δυτική και Κεντρική Ελλάδα</td>\n      <td>494.00</td>\n      <td>97.0</td>\n      <td>5.133413</td>\n    </tr>\n  </tbody>\n</table>\n<p>9778 rows × 7 columns</p>\n</div>"
     },
     "execution_count": 10,
     "metadata": {},
     "output_type": "execute_result"
    }
   ],
   "source": [
    "data1_grouped_mini_market"
   ],
   "metadata": {
    "collapsed": false,
    "ExecuteTime": {
     "end_time": "2024-01-22T15:35:03.367743300Z",
     "start_time": "2024-01-22T15:35:03.352891700Z"
    }
   },
   "id": "74ff606762229f52",
   "execution_count": 10
  },
  {
   "cell_type": "markdown",
   "source": [
    "### For each StoreId get the top 3 categories by revenue"
   ],
   "metadata": {
    "collapsed": false
   },
   "id": "6474303c3ffc4a3c"
  },
  {
   "cell_type": "code",
   "outputs": [
    {
     "data": {
      "text/plain": "       StoreId                       Subcategory         Type  \\\n422       3545                               CIG  Mini-Market   \n445       3545                            HEATED  Mini-Market   \n475       3545                               RYO  Mini-Market   \n596       3557                               CIG  Mini-Market   \n664       3557  TICKETING AND ADMISSION SERVICES  Mini-Market   \n...        ...                               ...          ...   \n16658    10961                            HEATED  Mini-Market   \n16690    10961                               RYO  Mini-Market   \n16726    10963                               CIG  Mini-Market   \n16750    10963                            HEATED  Mini-Market   \n16780    10963                               RYO  Mini-Market   \n\n                             Area    Revenue  Quantity  Average_Price  \n422                        Αττική  456298.10  106586.0       4.283428  \n445                        Αττική  146056.20   37874.0       3.857268  \n475                        Αττική  127676.20   16540.0       7.723747  \n596           Μακεδονία και Θράκη  294470.00   69587.0       4.233650  \n664           Μακεδονία και Θράκη  154542.25   15074.0      10.227903  \n...                           ...        ...       ...            ...  \n16658                      Αττική  249443.68   65111.0       3.813447  \n16690                      Αττική  169470.10   21730.0       7.798052  \n16726  Δυτική και Κεντρική Ελλάδα  192744.30   44849.0       4.296499  \n16750  Δυτική και Κεντρική Ελλάδα   61855.10   16081.0       3.859937  \n16780  Δυτική και Κεντρική Ελλάδα   52508.60    6825.0       7.683453  \n\n[333 rows x 7 columns]",
      "text/html": "<div>\n<style scoped>\n    .dataframe tbody tr th:only-of-type {\n        vertical-align: middle;\n    }\n\n    .dataframe tbody tr th {\n        vertical-align: top;\n    }\n\n    .dataframe thead th {\n        text-align: right;\n    }\n</style>\n<table border=\"1\" class=\"dataframe\">\n  <thead>\n    <tr style=\"text-align: right;\">\n      <th></th>\n      <th>StoreId</th>\n      <th>Subcategory</th>\n      <th>Type</th>\n      <th>Area</th>\n      <th>Revenue</th>\n      <th>Quantity</th>\n      <th>Average_Price</th>\n    </tr>\n  </thead>\n  <tbody>\n    <tr>\n      <th>422</th>\n      <td>3545</td>\n      <td>CIG</td>\n      <td>Mini-Market</td>\n      <td>Αττική</td>\n      <td>456298.10</td>\n      <td>106586.0</td>\n      <td>4.283428</td>\n    </tr>\n    <tr>\n      <th>445</th>\n      <td>3545</td>\n      <td>HEATED</td>\n      <td>Mini-Market</td>\n      <td>Αττική</td>\n      <td>146056.20</td>\n      <td>37874.0</td>\n      <td>3.857268</td>\n    </tr>\n    <tr>\n      <th>475</th>\n      <td>3545</td>\n      <td>RYO</td>\n      <td>Mini-Market</td>\n      <td>Αττική</td>\n      <td>127676.20</td>\n      <td>16540.0</td>\n      <td>7.723747</td>\n    </tr>\n    <tr>\n      <th>596</th>\n      <td>3557</td>\n      <td>CIG</td>\n      <td>Mini-Market</td>\n      <td>Μακεδονία και Θράκη</td>\n      <td>294470.00</td>\n      <td>69587.0</td>\n      <td>4.233650</td>\n    </tr>\n    <tr>\n      <th>664</th>\n      <td>3557</td>\n      <td>TICKETING AND ADMISSION SERVICES</td>\n      <td>Mini-Market</td>\n      <td>Μακεδονία και Θράκη</td>\n      <td>154542.25</td>\n      <td>15074.0</td>\n      <td>10.227903</td>\n    </tr>\n    <tr>\n      <th>...</th>\n      <td>...</td>\n      <td>...</td>\n      <td>...</td>\n      <td>...</td>\n      <td>...</td>\n      <td>...</td>\n      <td>...</td>\n    </tr>\n    <tr>\n      <th>16658</th>\n      <td>10961</td>\n      <td>HEATED</td>\n      <td>Mini-Market</td>\n      <td>Αττική</td>\n      <td>249443.68</td>\n      <td>65111.0</td>\n      <td>3.813447</td>\n    </tr>\n    <tr>\n      <th>16690</th>\n      <td>10961</td>\n      <td>RYO</td>\n      <td>Mini-Market</td>\n      <td>Αττική</td>\n      <td>169470.10</td>\n      <td>21730.0</td>\n      <td>7.798052</td>\n    </tr>\n    <tr>\n      <th>16726</th>\n      <td>10963</td>\n      <td>CIG</td>\n      <td>Mini-Market</td>\n      <td>Δυτική και Κεντρική Ελλάδα</td>\n      <td>192744.30</td>\n      <td>44849.0</td>\n      <td>4.296499</td>\n    </tr>\n    <tr>\n      <th>16750</th>\n      <td>10963</td>\n      <td>HEATED</td>\n      <td>Mini-Market</td>\n      <td>Δυτική και Κεντρική Ελλάδα</td>\n      <td>61855.10</td>\n      <td>16081.0</td>\n      <td>3.859937</td>\n    </tr>\n    <tr>\n      <th>16780</th>\n      <td>10963</td>\n      <td>RYO</td>\n      <td>Mini-Market</td>\n      <td>Δυτική και Κεντρική Ελλάδα</td>\n      <td>52508.60</td>\n      <td>6825.0</td>\n      <td>7.683453</td>\n    </tr>\n  </tbody>\n</table>\n<p>333 rows × 7 columns</p>\n</div>"
     },
     "execution_count": 12,
     "metadata": {},
     "output_type": "execute_result"
    }
   ],
   "source": [
    "data1_grouped_mini_market_store = data1_grouped_mini_market.sort_values(['StoreId', 'Revenue'], ascending=[True,False])\n",
    "data1_grouped_mini_market_store.groupby('StoreId').head(3)"
   ],
   "metadata": {
    "collapsed": false,
    "ExecuteTime": {
     "end_time": "2024-01-22T15:35:03.391117800Z",
     "start_time": "2024-01-22T15:35:03.364743100Z"
    }
   },
   "id": "87a837eb6465b389",
   "execution_count": 12
  },
  {
   "cell_type": "code",
   "outputs": [
    {
     "data": {
      "text/plain": "       StoreId          Subcategory         Type    Area    Revenue  Quantity  \\\n422       3545                  CIG  Mini-Market  Αττική  456298.10  106586.0   \n445       3545               HEATED  Mini-Market  Αττική  146056.20   37874.0   \n475       3545                  RYO  Mini-Market  Αττική  127676.20   16540.0   \n423       3545           CIGARILLOS  Mini-Market  Αττική   22306.78   10061.0   \n486       3545  TOBACCO ACCESSORIES  Mini-Market  Αττική   16569.44   26169.0   \n...        ...                  ...          ...     ...        ...       ...   \n16678    10961     PLANT BASED MILK  Mini-Market  Αττική      48.60      18.0   \n16689    10961                  RUM  Mini-Market  Αττική      48.30       2.0   \n16647    10961      ESPRESSO GROUND  Mini-Market  Αττική      17.70       3.0   \n16636    10961      COFFEE CAPSULES  Mini-Market  Αττική       7.80       2.0   \n16652    10961       FLAVORED WATER  Mini-Market  Αττική       4.80       2.0   \n\n       Average_Price  \n422         4.283428  \n445         3.857268  \n475         7.723747  \n423         2.220386  \n486         0.633006  \n...              ...  \n16678       2.718182  \n16689      24.150000  \n16647       5.900000  \n16636       3.900000  \n16652       2.400000  \n\n[3621 rows x 7 columns]",
      "text/html": "<div>\n<style scoped>\n    .dataframe tbody tr th:only-of-type {\n        vertical-align: middle;\n    }\n\n    .dataframe tbody tr th {\n        vertical-align: top;\n    }\n\n    .dataframe thead th {\n        text-align: right;\n    }\n</style>\n<table border=\"1\" class=\"dataframe\">\n  <thead>\n    <tr style=\"text-align: right;\">\n      <th></th>\n      <th>StoreId</th>\n      <th>Subcategory</th>\n      <th>Type</th>\n      <th>Area</th>\n      <th>Revenue</th>\n      <th>Quantity</th>\n      <th>Average_Price</th>\n    </tr>\n  </thead>\n  <tbody>\n    <tr>\n      <th>422</th>\n      <td>3545</td>\n      <td>CIG</td>\n      <td>Mini-Market</td>\n      <td>Αττική</td>\n      <td>456298.10</td>\n      <td>106586.0</td>\n      <td>4.283428</td>\n    </tr>\n    <tr>\n      <th>445</th>\n      <td>3545</td>\n      <td>HEATED</td>\n      <td>Mini-Market</td>\n      <td>Αττική</td>\n      <td>146056.20</td>\n      <td>37874.0</td>\n      <td>3.857268</td>\n    </tr>\n    <tr>\n      <th>475</th>\n      <td>3545</td>\n      <td>RYO</td>\n      <td>Mini-Market</td>\n      <td>Αττική</td>\n      <td>127676.20</td>\n      <td>16540.0</td>\n      <td>7.723747</td>\n    </tr>\n    <tr>\n      <th>423</th>\n      <td>3545</td>\n      <td>CIGARILLOS</td>\n      <td>Mini-Market</td>\n      <td>Αττική</td>\n      <td>22306.78</td>\n      <td>10061.0</td>\n      <td>2.220386</td>\n    </tr>\n    <tr>\n      <th>486</th>\n      <td>3545</td>\n      <td>TOBACCO ACCESSORIES</td>\n      <td>Mini-Market</td>\n      <td>Αττική</td>\n      <td>16569.44</td>\n      <td>26169.0</td>\n      <td>0.633006</td>\n    </tr>\n    <tr>\n      <th>...</th>\n      <td>...</td>\n      <td>...</td>\n      <td>...</td>\n      <td>...</td>\n      <td>...</td>\n      <td>...</td>\n      <td>...</td>\n    </tr>\n    <tr>\n      <th>16678</th>\n      <td>10961</td>\n      <td>PLANT BASED MILK</td>\n      <td>Mini-Market</td>\n      <td>Αττική</td>\n      <td>48.60</td>\n      <td>18.0</td>\n      <td>2.718182</td>\n    </tr>\n    <tr>\n      <th>16689</th>\n      <td>10961</td>\n      <td>RUM</td>\n      <td>Mini-Market</td>\n      <td>Αττική</td>\n      <td>48.30</td>\n      <td>2.0</td>\n      <td>24.150000</td>\n    </tr>\n    <tr>\n      <th>16647</th>\n      <td>10961</td>\n      <td>ESPRESSO GROUND</td>\n      <td>Mini-Market</td>\n      <td>Αττική</td>\n      <td>17.70</td>\n      <td>3.0</td>\n      <td>5.900000</td>\n    </tr>\n    <tr>\n      <th>16636</th>\n      <td>10961</td>\n      <td>COFFEE CAPSULES</td>\n      <td>Mini-Market</td>\n      <td>Αττική</td>\n      <td>7.80</td>\n      <td>2.0</td>\n      <td>3.900000</td>\n    </tr>\n    <tr>\n      <th>16652</th>\n      <td>10961</td>\n      <td>FLAVORED WATER</td>\n      <td>Mini-Market</td>\n      <td>Αττική</td>\n      <td>4.80</td>\n      <td>2.0</td>\n      <td>2.400000</td>\n    </tr>\n  </tbody>\n</table>\n<p>3621 rows × 7 columns</p>\n</div>"
     },
     "execution_count": 13,
     "metadata": {},
     "output_type": "execute_result"
    }
   ],
   "source": [
    "# Keep stores with area Αττική in a new dataframe\n",
    "data1_grouped_mini_market_store_attiki = data1_grouped_mini_market_store[data1_grouped_mini_market_store['Area'] == 'Αττική']\n",
    "data1_grouped_mini_market_store_attiki"
   ],
   "metadata": {
    "collapsed": false,
    "ExecuteTime": {
     "end_time": "2024-01-22T15:35:03.427675500Z",
     "start_time": "2024-01-22T15:35:03.376395300Z"
    }
   },
   "id": "ed7250e706af4bb8",
   "execution_count": 13
  },
  {
   "cell_type": "code",
   "outputs": [
    {
     "data": {
      "text/plain": "                                              Total_Revenue  Average_Price\nType        Category                                                      \nKiosk       TOBACCO                            8.854807e+07    7834.032587\n            TICKETING AND ADMISSION SERVICES   1.220773e+07    7044.273145\n            SOFT DRINKS                        7.171087e+06     323.955864\n            ALCOHOLIC BEVERAGES                4.204491e+06     315.037546\n            SNACKS                             3.268556e+06     133.732481\n            TOBACCO COMPL                      3.125745e+06     686.072290\n            ICE CREAM                          2.674374e+06     227.528866\n            CHOCOLATE                          1.851378e+06     182.527613\n            GUMS & CANDIES                     1.307872e+06     208.891798\n            PACKAGED FOOD                      8.566987e+05     535.771538\n            HOME & PERSONAL CARE               8.059883e+05     382.166079\n            BISCUITS                           6.557452e+05      37.589291\n            MILK                               5.311333e+05      88.433780\n            PRINT                              4.514242e+05     503.259989\n            TOYS                               3.577348e+05     214.469323\n            COFFEE                             2.872203e+05      52.098730\n            DAIRY                              2.112147e+05      93.333917\n            PET CARE                           7.566646e+04     108.404670\nMini-Market TOBACCO                            7.056440e+07    5189.703976\n            TICKETING AND ADMISSION SERVICES   1.002931e+07    4967.463214\n            SOFT DRINKS                        7.882508e+06     274.336391\n            ALCOHOLIC BEVERAGES                6.452327e+06     297.602825\n            SNACKS                             4.609219e+06     141.123033\n            PACKAGED FOOD                      3.396565e+06    1317.008564\n            TOBACCO COMPL                      3.183681e+06     576.336233\n            ICE CREAM                          3.048554e+06     201.837551\n            CHOCOLATE                          2.482590e+06     191.498744\n            HOME & PERSONAL CARE               1.998395e+06     756.394836\n            MILK                               1.722253e+06     134.551042\n            DAIRY                              1.556008e+06     178.810365\n            GUMS & CANDIES                     1.314102e+06     167.444191\n            BISCUITS                           9.870278e+05      39.284689\n            COFFEE                             6.528784e+05      65.708371\n            TOYS                               5.738862e+05     265.934305\n            PRINT                              3.747640e+05     414.103845\n            PET CARE                           3.335960e+05     148.264911",
      "text/html": "<div>\n<style scoped>\n    .dataframe tbody tr th:only-of-type {\n        vertical-align: middle;\n    }\n\n    .dataframe tbody tr th {\n        vertical-align: top;\n    }\n\n    .dataframe thead th {\n        text-align: right;\n    }\n</style>\n<table border=\"1\" class=\"dataframe\">\n  <thead>\n    <tr style=\"text-align: right;\">\n      <th></th>\n      <th></th>\n      <th>Total_Revenue</th>\n      <th>Average_Price</th>\n    </tr>\n    <tr>\n      <th>Type</th>\n      <th>Category</th>\n      <th></th>\n      <th></th>\n    </tr>\n  </thead>\n  <tbody>\n    <tr>\n      <th rowspan=\"18\" valign=\"top\">Kiosk</th>\n      <th>TOBACCO</th>\n      <td>8.854807e+07</td>\n      <td>7834.032587</td>\n    </tr>\n    <tr>\n      <th>TICKETING AND ADMISSION SERVICES</th>\n      <td>1.220773e+07</td>\n      <td>7044.273145</td>\n    </tr>\n    <tr>\n      <th>SOFT DRINKS</th>\n      <td>7.171087e+06</td>\n      <td>323.955864</td>\n    </tr>\n    <tr>\n      <th>ALCOHOLIC BEVERAGES</th>\n      <td>4.204491e+06</td>\n      <td>315.037546</td>\n    </tr>\n    <tr>\n      <th>SNACKS</th>\n      <td>3.268556e+06</td>\n      <td>133.732481</td>\n    </tr>\n    <tr>\n      <th>TOBACCO COMPL</th>\n      <td>3.125745e+06</td>\n      <td>686.072290</td>\n    </tr>\n    <tr>\n      <th>ICE CREAM</th>\n      <td>2.674374e+06</td>\n      <td>227.528866</td>\n    </tr>\n    <tr>\n      <th>CHOCOLATE</th>\n      <td>1.851378e+06</td>\n      <td>182.527613</td>\n    </tr>\n    <tr>\n      <th>GUMS &amp; CANDIES</th>\n      <td>1.307872e+06</td>\n      <td>208.891798</td>\n    </tr>\n    <tr>\n      <th>PACKAGED FOOD</th>\n      <td>8.566987e+05</td>\n      <td>535.771538</td>\n    </tr>\n    <tr>\n      <th>HOME &amp; PERSONAL CARE</th>\n      <td>8.059883e+05</td>\n      <td>382.166079</td>\n    </tr>\n    <tr>\n      <th>BISCUITS</th>\n      <td>6.557452e+05</td>\n      <td>37.589291</td>\n    </tr>\n    <tr>\n      <th>MILK</th>\n      <td>5.311333e+05</td>\n      <td>88.433780</td>\n    </tr>\n    <tr>\n      <th>PRINT</th>\n      <td>4.514242e+05</td>\n      <td>503.259989</td>\n    </tr>\n    <tr>\n      <th>TOYS</th>\n      <td>3.577348e+05</td>\n      <td>214.469323</td>\n    </tr>\n    <tr>\n      <th>COFFEE</th>\n      <td>2.872203e+05</td>\n      <td>52.098730</td>\n    </tr>\n    <tr>\n      <th>DAIRY</th>\n      <td>2.112147e+05</td>\n      <td>93.333917</td>\n    </tr>\n    <tr>\n      <th>PET CARE</th>\n      <td>7.566646e+04</td>\n      <td>108.404670</td>\n    </tr>\n    <tr>\n      <th rowspan=\"18\" valign=\"top\">Mini-Market</th>\n      <th>TOBACCO</th>\n      <td>7.056440e+07</td>\n      <td>5189.703976</td>\n    </tr>\n    <tr>\n      <th>TICKETING AND ADMISSION SERVICES</th>\n      <td>1.002931e+07</td>\n      <td>4967.463214</td>\n    </tr>\n    <tr>\n      <th>SOFT DRINKS</th>\n      <td>7.882508e+06</td>\n      <td>274.336391</td>\n    </tr>\n    <tr>\n      <th>ALCOHOLIC BEVERAGES</th>\n      <td>6.452327e+06</td>\n      <td>297.602825</td>\n    </tr>\n    <tr>\n      <th>SNACKS</th>\n      <td>4.609219e+06</td>\n      <td>141.123033</td>\n    </tr>\n    <tr>\n      <th>PACKAGED FOOD</th>\n      <td>3.396565e+06</td>\n      <td>1317.008564</td>\n    </tr>\n    <tr>\n      <th>TOBACCO COMPL</th>\n      <td>3.183681e+06</td>\n      <td>576.336233</td>\n    </tr>\n    <tr>\n      <th>ICE CREAM</th>\n      <td>3.048554e+06</td>\n      <td>201.837551</td>\n    </tr>\n    <tr>\n      <th>CHOCOLATE</th>\n      <td>2.482590e+06</td>\n      <td>191.498744</td>\n    </tr>\n    <tr>\n      <th>HOME &amp; PERSONAL CARE</th>\n      <td>1.998395e+06</td>\n      <td>756.394836</td>\n    </tr>\n    <tr>\n      <th>MILK</th>\n      <td>1.722253e+06</td>\n      <td>134.551042</td>\n    </tr>\n    <tr>\n      <th>DAIRY</th>\n      <td>1.556008e+06</td>\n      <td>178.810365</td>\n    </tr>\n    <tr>\n      <th>GUMS &amp; CANDIES</th>\n      <td>1.314102e+06</td>\n      <td>167.444191</td>\n    </tr>\n    <tr>\n      <th>BISCUITS</th>\n      <td>9.870278e+05</td>\n      <td>39.284689</td>\n    </tr>\n    <tr>\n      <th>COFFEE</th>\n      <td>6.528784e+05</td>\n      <td>65.708371</td>\n    </tr>\n    <tr>\n      <th>TOYS</th>\n      <td>5.738862e+05</td>\n      <td>265.934305</td>\n    </tr>\n    <tr>\n      <th>PRINT</th>\n      <td>3.747640e+05</td>\n      <td>414.103845</td>\n    </tr>\n    <tr>\n      <th>PET CARE</th>\n      <td>3.335960e+05</td>\n      <td>148.264911</td>\n    </tr>\n  </tbody>\n</table>\n</div>"
     },
     "execution_count": 14,
     "metadata": {},
     "output_type": "execute_result"
    }
   ],
   "source": [
    "# Grouping data by Store Type and Subcategory, then calculating total revenue and average price per product\n",
    "store_type_subcategory_analysis = data1.groupby(['Type', 'Category']).agg(\n",
    "    Total_Revenue=('Revenue', 'sum'),\n",
    "    Average_Price=('Revenue', 'mean')\n",
    ")\n",
    "\n",
    "# Sorting the results by Store Type and then by Total Revenue for each subcategory\n",
    "store_type_subcategory_analysis_sorted = store_type_subcategory_analysis.sort_values(\n",
    "    by=['Type', 'Total_Revenue'], ascending=[True, False])\n",
    "store_type_subcategory_analysis_sorted"
   ],
   "metadata": {
    "collapsed": false,
    "ExecuteTime": {
     "end_time": "2024-01-22T15:35:03.473680600Z",
     "start_time": "2024-01-22T15:35:03.386117200Z"
    }
   },
   "id": "edcfc82a880a3b85",
   "execution_count": 14
  },
  {
   "cell_type": "code",
   "outputs": [
    {
     "data": {
      "text/plain": "                                                            Total_Revenue  \\\nType        Category            Area                                        \nKiosk       ALCOHOLIC BEVERAGES Αττική                         2224112.27   \n                                Μακεδονία και Θράκη             651516.87   \n                                Πελοπόννησος                    561715.12   \n                                Νησιά                           361296.37   \n                                Κρήτη                           240063.11   \n...                                                                   ...   \nMini-Market TOYS                Μακεδονία και Θράκη             180605.60   \n                                Νησιά                            40768.99   \n                                Δυτική και Κεντρική Ελλάδα       28609.97   \n                                Πελοπόννησος                     19427.87   \n                                Κρήτη                             4204.92   \n\n                                                            Average_Price  \nType        Category            Area                                       \nKiosk       ALCOHOLIC BEVERAGES Αττική                         349.044612  \n                                Μακεδονία και Θράκη            258.949471  \n                                Πελοπόννησος                   329.645023  \n                                Νησιά                          363.477233  \n                                Κρήτη                          278.818943  \n...                                                                   ...  \nMini-Market TOYS                Μακεδονία και Θράκη            217.074038  \n                                Νησιά                          219.188118  \n                                Δυτική και Κεντρική Ελλάδα     193.310608  \n                                Πελοπόννησος                   170.419912  \n                                Κρήτη                           46.207912  \n\n[216 rows x 2 columns]",
      "text/html": "<div>\n<style scoped>\n    .dataframe tbody tr th:only-of-type {\n        vertical-align: middle;\n    }\n\n    .dataframe tbody tr th {\n        vertical-align: top;\n    }\n\n    .dataframe thead th {\n        text-align: right;\n    }\n</style>\n<table border=\"1\" class=\"dataframe\">\n  <thead>\n    <tr style=\"text-align: right;\">\n      <th></th>\n      <th></th>\n      <th></th>\n      <th>Total_Revenue</th>\n      <th>Average_Price</th>\n    </tr>\n    <tr>\n      <th>Type</th>\n      <th>Category</th>\n      <th>Area</th>\n      <th></th>\n      <th></th>\n    </tr>\n  </thead>\n  <tbody>\n    <tr>\n      <th rowspan=\"5\" valign=\"top\">Kiosk</th>\n      <th rowspan=\"5\" valign=\"top\">ALCOHOLIC BEVERAGES</th>\n      <th>Αττική</th>\n      <td>2224112.27</td>\n      <td>349.044612</td>\n    </tr>\n    <tr>\n      <th>Μακεδονία και Θράκη</th>\n      <td>651516.87</td>\n      <td>258.949471</td>\n    </tr>\n    <tr>\n      <th>Πελοπόννησος</th>\n      <td>561715.12</td>\n      <td>329.645023</td>\n    </tr>\n    <tr>\n      <th>Νησιά</th>\n      <td>361296.37</td>\n      <td>363.477233</td>\n    </tr>\n    <tr>\n      <th>Κρήτη</th>\n      <td>240063.11</td>\n      <td>278.818943</td>\n    </tr>\n    <tr>\n      <th>...</th>\n      <th>...</th>\n      <th>...</th>\n      <td>...</td>\n      <td>...</td>\n    </tr>\n    <tr>\n      <th rowspan=\"5\" valign=\"top\">Mini-Market</th>\n      <th rowspan=\"5\" valign=\"top\">TOYS</th>\n      <th>Μακεδονία και Θράκη</th>\n      <td>180605.60</td>\n      <td>217.074038</td>\n    </tr>\n    <tr>\n      <th>Νησιά</th>\n      <td>40768.99</td>\n      <td>219.188118</td>\n    </tr>\n    <tr>\n      <th>Δυτική και Κεντρική Ελλάδα</th>\n      <td>28609.97</td>\n      <td>193.310608</td>\n    </tr>\n    <tr>\n      <th>Πελοπόννησος</th>\n      <td>19427.87</td>\n      <td>170.419912</td>\n    </tr>\n    <tr>\n      <th>Κρήτη</th>\n      <td>4204.92</td>\n      <td>46.207912</td>\n    </tr>\n  </tbody>\n</table>\n<p>216 rows × 2 columns</p>\n</div>"
     },
     "execution_count": 15,
     "metadata": {},
     "output_type": "execute_result"
    }
   ],
   "source": [
    "# Analysis of Sales by Store Type, taking into account Product Subcategories and Area\n",
    "\n",
    "# Grouping data by Store Type, Subcategory, and Area, then calculating total revenue and average price per product\n",
    "store_type_subcategory_area_analysis = data1.groupby(['Type', 'Category', 'Area']).agg(\n",
    "    Total_Revenue=('Revenue', 'sum'),\n",
    "    Average_Price=('Revenue', 'mean')\n",
    ")\n",
    "\n",
    "# Sorting the results by Store Type, Subcategory and then by Total Revenue for each area\n",
    "store_type_subcategory_area_analysis_sorted = store_type_subcategory_area_analysis.sort_values(\n",
    "    by=['Type', 'Category', 'Total_Revenue'], ascending=[True, True, False])\n",
    "\n",
    "store_type_subcategory_area_analysis_sorted"
   ],
   "metadata": {
    "collapsed": false,
    "ExecuteTime": {
     "end_time": "2024-01-22T15:35:03.548353500Z",
     "start_time": "2024-01-22T15:35:03.428676100Z"
    }
   },
   "id": "4fd3931c14451e75",
   "execution_count": 15
  },
  {
   "cell_type": "markdown",
   "source": [
    "--------------------------\n",
    "\n",
    "## Analysis for Kiosks\n",
    "\n",
    "---------------------------"
   ],
   "metadata": {
    "collapsed": false
   },
   "id": "9eb6c2411937331"
  },
  {
   "cell_type": "code",
   "outputs": [
    {
     "name": "stderr",
     "output_type": "stream",
     "text": [
      "C:\\Users\\panagiotis\\AppData\\Local\\Temp\\ipykernel_38952\\3629798348.py:1: SettingWithCopyWarning: \n",
      "A value is trying to be set on a copy of a slice from a DataFrame\n",
      "\n",
      "See the caveats in the documentation: https://pandas.pydata.org/pandas-docs/stable/user_guide/indexing.html#returning-a-view-versus-a-copy\n",
      "  data1_grouped_kiosk.drop(columns=['Type'], inplace=True)\n"
     ]
    },
    {
     "data": {
      "text/plain": "       StoreId    Subcategory    Area    Revenue  Quantity  Average_Price\n0         3435      ALOE VERA  Αττική      52.50      35.0       1.500000\n1         3435  BAR ICE CREAM  Αττική    4851.90    1892.0       2.400836\n2         3435     BAR SNACKS  Αττική    5103.70    2889.0       1.758919\n3         3435          BEERS  Αττική  115448.39   70713.0       1.617208\n4         3435           CAKE  Αττική    2308.50    2426.0       0.963478\n...        ...            ...     ...        ...       ...            ...\n16522    10884         WHISKY  Αττική     328.00      56.0       7.016071\n16523    10884           WINE  Αττική     478.80     163.0       2.876710\n16524    10884         YOGURT  Αττική      81.70      55.0       1.419255\n16525    10884           ΟΥΖΟ  Αττική     660.60     176.0       3.468173\n16526    10884       ΤΣΙΠΟΥΡΟ  Αττική     540.80     187.0       3.099617\n\n[7024 rows x 6 columns]",
      "text/html": "<div>\n<style scoped>\n    .dataframe tbody tr th:only-of-type {\n        vertical-align: middle;\n    }\n\n    .dataframe tbody tr th {\n        vertical-align: top;\n    }\n\n    .dataframe thead th {\n        text-align: right;\n    }\n</style>\n<table border=\"1\" class=\"dataframe\">\n  <thead>\n    <tr style=\"text-align: right;\">\n      <th></th>\n      <th>StoreId</th>\n      <th>Subcategory</th>\n      <th>Area</th>\n      <th>Revenue</th>\n      <th>Quantity</th>\n      <th>Average_Price</th>\n    </tr>\n  </thead>\n  <tbody>\n    <tr>\n      <th>0</th>\n      <td>3435</td>\n      <td>ALOE VERA</td>\n      <td>Αττική</td>\n      <td>52.50</td>\n      <td>35.0</td>\n      <td>1.500000</td>\n    </tr>\n    <tr>\n      <th>1</th>\n      <td>3435</td>\n      <td>BAR ICE CREAM</td>\n      <td>Αττική</td>\n      <td>4851.90</td>\n      <td>1892.0</td>\n      <td>2.400836</td>\n    </tr>\n    <tr>\n      <th>2</th>\n      <td>3435</td>\n      <td>BAR SNACKS</td>\n      <td>Αττική</td>\n      <td>5103.70</td>\n      <td>2889.0</td>\n      <td>1.758919</td>\n    </tr>\n    <tr>\n      <th>3</th>\n      <td>3435</td>\n      <td>BEERS</td>\n      <td>Αττική</td>\n      <td>115448.39</td>\n      <td>70713.0</td>\n      <td>1.617208</td>\n    </tr>\n    <tr>\n      <th>4</th>\n      <td>3435</td>\n      <td>CAKE</td>\n      <td>Αττική</td>\n      <td>2308.50</td>\n      <td>2426.0</td>\n      <td>0.963478</td>\n    </tr>\n    <tr>\n      <th>...</th>\n      <td>...</td>\n      <td>...</td>\n      <td>...</td>\n      <td>...</td>\n      <td>...</td>\n      <td>...</td>\n    </tr>\n    <tr>\n      <th>16522</th>\n      <td>10884</td>\n      <td>WHISKY</td>\n      <td>Αττική</td>\n      <td>328.00</td>\n      <td>56.0</td>\n      <td>7.016071</td>\n    </tr>\n    <tr>\n      <th>16523</th>\n      <td>10884</td>\n      <td>WINE</td>\n      <td>Αττική</td>\n      <td>478.80</td>\n      <td>163.0</td>\n      <td>2.876710</td>\n    </tr>\n    <tr>\n      <th>16524</th>\n      <td>10884</td>\n      <td>YOGURT</td>\n      <td>Αττική</td>\n      <td>81.70</td>\n      <td>55.0</td>\n      <td>1.419255</td>\n    </tr>\n    <tr>\n      <th>16525</th>\n      <td>10884</td>\n      <td>ΟΥΖΟ</td>\n      <td>Αττική</td>\n      <td>660.60</td>\n      <td>176.0</td>\n      <td>3.468173</td>\n    </tr>\n    <tr>\n      <th>16526</th>\n      <td>10884</td>\n      <td>ΤΣΙΠΟΥΡΟ</td>\n      <td>Αττική</td>\n      <td>540.80</td>\n      <td>187.0</td>\n      <td>3.099617</td>\n    </tr>\n  </tbody>\n</table>\n<p>7024 rows × 6 columns</p>\n</div>"
     },
     "execution_count": 16,
     "metadata": {},
     "output_type": "execute_result"
    }
   ],
   "source": [
    "data1_grouped_kiosk.drop(columns=['Type'], inplace=True)\n",
    "data1_grouped_kiosk"
   ],
   "metadata": {
    "collapsed": false,
    "ExecuteTime": {
     "end_time": "2024-01-22T15:35:03.564354100Z",
     "start_time": "2024-01-22T15:35:03.490034700Z"
    }
   },
   "id": "d37ad39a0b57aa4c",
   "execution_count": 16
  },
  {
   "cell_type": "code",
   "outputs": [
    {
     "data": {
      "text/plain": "       StoreId    Subcategory    Area    Revenue  Quantity  Average_Price\n0         3435      ALOE VERA  Αττική      52.50      35.0       1.500000\n1         3435  BAR ICE CREAM  Αττική    4851.90    1892.0       2.400836\n2         3435     BAR SNACKS  Αττική    5103.70    2889.0       1.758919\n3         3435          BEERS  Αττική  115448.39   70713.0       1.617208\n4         3435           CAKE  Αττική    2308.50    2426.0       0.963478\n...        ...            ...     ...        ...       ...            ...\n16522    10884         WHISKY  Αττική     328.00      56.0       7.016071\n16523    10884           WINE  Αττική     478.80     163.0       2.876710\n16524    10884         YOGURT  Αττική      81.70      55.0       1.419255\n16525    10884           ΟΥΖΟ  Αττική     660.60     176.0       3.468173\n16526    10884       ΤΣΙΠΟΥΡΟ  Αττική     540.80     187.0       3.099617\n\n[7024 rows x 6 columns]",
      "text/html": "<div>\n<style scoped>\n    .dataframe tbody tr th:only-of-type {\n        vertical-align: middle;\n    }\n\n    .dataframe tbody tr th {\n        vertical-align: top;\n    }\n\n    .dataframe thead th {\n        text-align: right;\n    }\n</style>\n<table border=\"1\" class=\"dataframe\">\n  <thead>\n    <tr style=\"text-align: right;\">\n      <th></th>\n      <th>StoreId</th>\n      <th>Subcategory</th>\n      <th>Area</th>\n      <th>Revenue</th>\n      <th>Quantity</th>\n      <th>Average_Price</th>\n    </tr>\n  </thead>\n  <tbody>\n    <tr>\n      <th>0</th>\n      <td>3435</td>\n      <td>ALOE VERA</td>\n      <td>Αττική</td>\n      <td>52.50</td>\n      <td>35.0</td>\n      <td>1.500000</td>\n    </tr>\n    <tr>\n      <th>1</th>\n      <td>3435</td>\n      <td>BAR ICE CREAM</td>\n      <td>Αττική</td>\n      <td>4851.90</td>\n      <td>1892.0</td>\n      <td>2.400836</td>\n    </tr>\n    <tr>\n      <th>2</th>\n      <td>3435</td>\n      <td>BAR SNACKS</td>\n      <td>Αττική</td>\n      <td>5103.70</td>\n      <td>2889.0</td>\n      <td>1.758919</td>\n    </tr>\n    <tr>\n      <th>3</th>\n      <td>3435</td>\n      <td>BEERS</td>\n      <td>Αττική</td>\n      <td>115448.39</td>\n      <td>70713.0</td>\n      <td>1.617208</td>\n    </tr>\n    <tr>\n      <th>4</th>\n      <td>3435</td>\n      <td>CAKE</td>\n      <td>Αττική</td>\n      <td>2308.50</td>\n      <td>2426.0</td>\n      <td>0.963478</td>\n    </tr>\n    <tr>\n      <th>...</th>\n      <td>...</td>\n      <td>...</td>\n      <td>...</td>\n      <td>...</td>\n      <td>...</td>\n      <td>...</td>\n    </tr>\n    <tr>\n      <th>16522</th>\n      <td>10884</td>\n      <td>WHISKY</td>\n      <td>Αττική</td>\n      <td>328.00</td>\n      <td>56.0</td>\n      <td>7.016071</td>\n    </tr>\n    <tr>\n      <th>16523</th>\n      <td>10884</td>\n      <td>WINE</td>\n      <td>Αττική</td>\n      <td>478.80</td>\n      <td>163.0</td>\n      <td>2.876710</td>\n    </tr>\n    <tr>\n      <th>16524</th>\n      <td>10884</td>\n      <td>YOGURT</td>\n      <td>Αττική</td>\n      <td>81.70</td>\n      <td>55.0</td>\n      <td>1.419255</td>\n    </tr>\n    <tr>\n      <th>16525</th>\n      <td>10884</td>\n      <td>ΟΥΖΟ</td>\n      <td>Αττική</td>\n      <td>660.60</td>\n      <td>176.0</td>\n      <td>3.468173</td>\n    </tr>\n    <tr>\n      <th>16526</th>\n      <td>10884</td>\n      <td>ΤΣΙΠΟΥΡΟ</td>\n      <td>Αττική</td>\n      <td>540.80</td>\n      <td>187.0</td>\n      <td>3.099617</td>\n    </tr>\n  </tbody>\n</table>\n<p>7024 rows × 6 columns</p>\n</div>"
     },
     "execution_count": 17,
     "metadata": {},
     "output_type": "execute_result"
    }
   ],
   "source": [
    "data1_grouped_kiosk"
   ],
   "metadata": {
    "collapsed": false,
    "ExecuteTime": {
     "end_time": "2024-01-22T15:35:03.579349700Z",
     "start_time": "2024-01-22T15:35:03.497835400Z"
    }
   },
   "id": "ac95de15c10454b7",
   "execution_count": 17
  },
  {
   "cell_type": "code",
   "outputs": [
    {
     "data": {
      "text/plain": "             Area    Subcategory     Revenue   Quantity  Average_Price\n0          Αττική      ALOE VERA    17757.64     9594.0       1.878193\n1          Αττική  BAR ICE CREAM    24943.22    10005.0       2.294783\n2          Αττική     BAR SNACKS    60328.95    35092.0       1.678684\n3          Αττική          BEERS  1779605.69  1125702.0       1.625587\n4          Αττική         BUTTER     3359.41     1140.0       3.292449\n..            ...            ...         ...        ...            ...\n569  Πελοπόννησος         WHISKY    35465.15     2345.0      14.513651\n570  Πελοπόννησος           WINE    35947.20     8189.0       3.198722\n571  Πελοπόννησος         YOGURT    38187.77    13102.0       2.185376\n572  Πελοπόννησος           ΟΥΖΟ     5674.65     1630.0       3.712851\n573  Πελοπόννησος       ΤΣΙΠΟΥΡΟ    25810.17     9279.0       3.387828\n\n[574 rows x 5 columns]",
      "text/html": "<div>\n<style scoped>\n    .dataframe tbody tr th:only-of-type {\n        vertical-align: middle;\n    }\n\n    .dataframe tbody tr th {\n        vertical-align: top;\n    }\n\n    .dataframe thead th {\n        text-align: right;\n    }\n</style>\n<table border=\"1\" class=\"dataframe\">\n  <thead>\n    <tr style=\"text-align: right;\">\n      <th></th>\n      <th>Area</th>\n      <th>Subcategory</th>\n      <th>Revenue</th>\n      <th>Quantity</th>\n      <th>Average_Price</th>\n    </tr>\n  </thead>\n  <tbody>\n    <tr>\n      <th>0</th>\n      <td>Αττική</td>\n      <td>ALOE VERA</td>\n      <td>17757.64</td>\n      <td>9594.0</td>\n      <td>1.878193</td>\n    </tr>\n    <tr>\n      <th>1</th>\n      <td>Αττική</td>\n      <td>BAR ICE CREAM</td>\n      <td>24943.22</td>\n      <td>10005.0</td>\n      <td>2.294783</td>\n    </tr>\n    <tr>\n      <th>2</th>\n      <td>Αττική</td>\n      <td>BAR SNACKS</td>\n      <td>60328.95</td>\n      <td>35092.0</td>\n      <td>1.678684</td>\n    </tr>\n    <tr>\n      <th>3</th>\n      <td>Αττική</td>\n      <td>BEERS</td>\n      <td>1779605.69</td>\n      <td>1125702.0</td>\n      <td>1.625587</td>\n    </tr>\n    <tr>\n      <th>4</th>\n      <td>Αττική</td>\n      <td>BUTTER</td>\n      <td>3359.41</td>\n      <td>1140.0</td>\n      <td>3.292449</td>\n    </tr>\n    <tr>\n      <th>...</th>\n      <td>...</td>\n      <td>...</td>\n      <td>...</td>\n      <td>...</td>\n      <td>...</td>\n    </tr>\n    <tr>\n      <th>569</th>\n      <td>Πελοπόννησος</td>\n      <td>WHISKY</td>\n      <td>35465.15</td>\n      <td>2345.0</td>\n      <td>14.513651</td>\n    </tr>\n    <tr>\n      <th>570</th>\n      <td>Πελοπόννησος</td>\n      <td>WINE</td>\n      <td>35947.20</td>\n      <td>8189.0</td>\n      <td>3.198722</td>\n    </tr>\n    <tr>\n      <th>571</th>\n      <td>Πελοπόννησος</td>\n      <td>YOGURT</td>\n      <td>38187.77</td>\n      <td>13102.0</td>\n      <td>2.185376</td>\n    </tr>\n    <tr>\n      <th>572</th>\n      <td>Πελοπόννησος</td>\n      <td>ΟΥΖΟ</td>\n      <td>5674.65</td>\n      <td>1630.0</td>\n      <td>3.712851</td>\n    </tr>\n    <tr>\n      <th>573</th>\n      <td>Πελοπόννησος</td>\n      <td>ΤΣΙΠΟΥΡΟ</td>\n      <td>25810.17</td>\n      <td>9279.0</td>\n      <td>3.387828</td>\n    </tr>\n  </tbody>\n</table>\n<p>574 rows × 5 columns</p>\n</div>"
     },
     "execution_count": 19,
     "metadata": {},
     "output_type": "execute_result"
    }
   ],
   "source": [
    "# Group by Area and Subcategory and calculate the sum of the revenue\n",
    "data1_grouped_kiosk = data1_grouped_kiosk.groupby(['Area', 'Subcategory']).agg(\n",
    "    {'Revenue': 'sum', 'Quantity': 'sum', 'Average_Price': 'mean'}).reset_index()\n",
    "data1_grouped_kiosk"
   ],
   "metadata": {
    "collapsed": false,
    "ExecuteTime": {
     "end_time": "2024-01-22T15:35:33.415930300Z",
     "start_time": "2024-01-22T15:35:33.401684700Z"
    }
   },
   "id": "c4769abfa11e1996",
   "execution_count": 19
  },
  {
   "cell_type": "code",
   "outputs": [
    {
     "data": {
      "text/plain": "                         Area       Revenue      Quantity  Average_Price\n0                      Αττική  5.659161e+07  1.914790e+07       3.681190\n1  Δυτική και Κεντρική Ελλάδα  1.156298e+07  3.510833e+06       3.263753\n2                       Κρήτη  8.937910e+06  3.137664e+06       3.746801\n3         Μακεδονία και Θράκη  2.037837e+07  6.667072e+06       3.762339\n4                       Νησιά  1.367641e+07  4.264125e+06       3.842525\n5                Πελοπόννησος  1.744485e+07  6.315637e+06       4.372466",
      "text/html": "<div>\n<style scoped>\n    .dataframe tbody tr th:only-of-type {\n        vertical-align: middle;\n    }\n\n    .dataframe tbody tr th {\n        vertical-align: top;\n    }\n\n    .dataframe thead th {\n        text-align: right;\n    }\n</style>\n<table border=\"1\" class=\"dataframe\">\n  <thead>\n    <tr style=\"text-align: right;\">\n      <th></th>\n      <th>Area</th>\n      <th>Revenue</th>\n      <th>Quantity</th>\n      <th>Average_Price</th>\n    </tr>\n  </thead>\n  <tbody>\n    <tr>\n      <th>0</th>\n      <td>Αττική</td>\n      <td>5.659161e+07</td>\n      <td>1.914790e+07</td>\n      <td>3.681190</td>\n    </tr>\n    <tr>\n      <th>1</th>\n      <td>Δυτική και Κεντρική Ελλάδα</td>\n      <td>1.156298e+07</td>\n      <td>3.510833e+06</td>\n      <td>3.263753</td>\n    </tr>\n    <tr>\n      <th>2</th>\n      <td>Κρήτη</td>\n      <td>8.937910e+06</td>\n      <td>3.137664e+06</td>\n      <td>3.746801</td>\n    </tr>\n    <tr>\n      <th>3</th>\n      <td>Μακεδονία και Θράκη</td>\n      <td>2.037837e+07</td>\n      <td>6.667072e+06</td>\n      <td>3.762339</td>\n    </tr>\n    <tr>\n      <th>4</th>\n      <td>Νησιά</td>\n      <td>1.367641e+07</td>\n      <td>4.264125e+06</td>\n      <td>3.842525</td>\n    </tr>\n    <tr>\n      <th>5</th>\n      <td>Πελοπόννησος</td>\n      <td>1.744485e+07</td>\n      <td>6.315637e+06</td>\n      <td>4.372466</td>\n    </tr>\n  </tbody>\n</table>\n</div>"
     },
     "execution_count": 20,
     "metadata": {},
     "output_type": "execute_result"
    }
   ],
   "source": [
    "# Calculate the total revenue per area \n",
    "data1_grouped_kiosk_area = data1_grouped_kiosk.groupby(['Area']).agg(\n",
    "    {'Revenue': 'sum', 'Quantity': 'sum', 'Average_Price': 'mean'}).reset_index()\n",
    "data1_grouped_kiosk_area"
   ],
   "metadata": {
    "collapsed": false,
    "ExecuteTime": {
     "end_time": "2024-01-22T15:35:35.310333300Z",
     "start_time": "2024-01-22T15:35:35.304010500Z"
    }
   },
   "id": "564b5f153514bb73",
   "execution_count": 20
  },
  {
   "cell_type": "code",
   "outputs": [
    {
     "data": {
      "text/plain": "             Area    Subcategory     Revenue   Quantity  Average_Price  \\\n0          Αττική      ALOE VERA    17757.64     9594.0       1.878193   \n1          Αττική  BAR ICE CREAM    24943.22    10005.0       2.294783   \n2          Αττική     BAR SNACKS    60328.95    35092.0       1.678684   \n3          Αττική          BEERS  1779605.69  1125702.0       1.625587   \n4          Αττική         BUTTER     3359.41     1140.0       3.292449   \n..            ...            ...         ...        ...            ...   \n569  Πελοπόννησος         WHISKY    35465.15     2345.0      14.513651   \n570  Πελοπόννησος           WINE    35947.20     8189.0       3.198722   \n571  Πελοπόννησος         YOGURT    38187.77    13102.0       2.185376   \n572  Πελοπόννησος           ΟΥΖΟ     5674.65     1630.0       3.712851   \n573  Πελοπόννησος       ΤΣΙΠΟΥΡΟ    25810.17     9279.0       3.387828   \n\n     Revenue_total  Quantity_total  Average_Price_total  Revenue_percentage  \n0     5.659161e+07    1.914790e+07             3.681190            0.000314  \n1     5.659161e+07    1.914790e+07             3.681190            0.000441  \n2     5.659161e+07    1.914790e+07             3.681190            0.001066  \n3     5.659161e+07    1.914790e+07             3.681190            0.031446  \n4     5.659161e+07    1.914790e+07             3.681190            0.000059  \n..             ...             ...                  ...                 ...  \n569   1.744485e+07    6.315637e+06             4.372466            0.002033  \n570   1.744485e+07    6.315637e+06             4.372466            0.002061  \n571   1.744485e+07    6.315637e+06             4.372466            0.002189  \n572   1.744485e+07    6.315637e+06             4.372466            0.000325  \n573   1.744485e+07    6.315637e+06             4.372466            0.001480  \n\n[574 rows x 9 columns]",
      "text/html": "<div>\n<style scoped>\n    .dataframe tbody tr th:only-of-type {\n        vertical-align: middle;\n    }\n\n    .dataframe tbody tr th {\n        vertical-align: top;\n    }\n\n    .dataframe thead th {\n        text-align: right;\n    }\n</style>\n<table border=\"1\" class=\"dataframe\">\n  <thead>\n    <tr style=\"text-align: right;\">\n      <th></th>\n      <th>Area</th>\n      <th>Subcategory</th>\n      <th>Revenue</th>\n      <th>Quantity</th>\n      <th>Average_Price</th>\n      <th>Revenue_total</th>\n      <th>Quantity_total</th>\n      <th>Average_Price_total</th>\n      <th>Revenue_percentage</th>\n    </tr>\n  </thead>\n  <tbody>\n    <tr>\n      <th>0</th>\n      <td>Αττική</td>\n      <td>ALOE VERA</td>\n      <td>17757.64</td>\n      <td>9594.0</td>\n      <td>1.878193</td>\n      <td>5.659161e+07</td>\n      <td>1.914790e+07</td>\n      <td>3.681190</td>\n      <td>0.000314</td>\n    </tr>\n    <tr>\n      <th>1</th>\n      <td>Αττική</td>\n      <td>BAR ICE CREAM</td>\n      <td>24943.22</td>\n      <td>10005.0</td>\n      <td>2.294783</td>\n      <td>5.659161e+07</td>\n      <td>1.914790e+07</td>\n      <td>3.681190</td>\n      <td>0.000441</td>\n    </tr>\n    <tr>\n      <th>2</th>\n      <td>Αττική</td>\n      <td>BAR SNACKS</td>\n      <td>60328.95</td>\n      <td>35092.0</td>\n      <td>1.678684</td>\n      <td>5.659161e+07</td>\n      <td>1.914790e+07</td>\n      <td>3.681190</td>\n      <td>0.001066</td>\n    </tr>\n    <tr>\n      <th>3</th>\n      <td>Αττική</td>\n      <td>BEERS</td>\n      <td>1779605.69</td>\n      <td>1125702.0</td>\n      <td>1.625587</td>\n      <td>5.659161e+07</td>\n      <td>1.914790e+07</td>\n      <td>3.681190</td>\n      <td>0.031446</td>\n    </tr>\n    <tr>\n      <th>4</th>\n      <td>Αττική</td>\n      <td>BUTTER</td>\n      <td>3359.41</td>\n      <td>1140.0</td>\n      <td>3.292449</td>\n      <td>5.659161e+07</td>\n      <td>1.914790e+07</td>\n      <td>3.681190</td>\n      <td>0.000059</td>\n    </tr>\n    <tr>\n      <th>...</th>\n      <td>...</td>\n      <td>...</td>\n      <td>...</td>\n      <td>...</td>\n      <td>...</td>\n      <td>...</td>\n      <td>...</td>\n      <td>...</td>\n      <td>...</td>\n    </tr>\n    <tr>\n      <th>569</th>\n      <td>Πελοπόννησος</td>\n      <td>WHISKY</td>\n      <td>35465.15</td>\n      <td>2345.0</td>\n      <td>14.513651</td>\n      <td>1.744485e+07</td>\n      <td>6.315637e+06</td>\n      <td>4.372466</td>\n      <td>0.002033</td>\n    </tr>\n    <tr>\n      <th>570</th>\n      <td>Πελοπόννησος</td>\n      <td>WINE</td>\n      <td>35947.20</td>\n      <td>8189.0</td>\n      <td>3.198722</td>\n      <td>1.744485e+07</td>\n      <td>6.315637e+06</td>\n      <td>4.372466</td>\n      <td>0.002061</td>\n    </tr>\n    <tr>\n      <th>571</th>\n      <td>Πελοπόννησος</td>\n      <td>YOGURT</td>\n      <td>38187.77</td>\n      <td>13102.0</td>\n      <td>2.185376</td>\n      <td>1.744485e+07</td>\n      <td>6.315637e+06</td>\n      <td>4.372466</td>\n      <td>0.002189</td>\n    </tr>\n    <tr>\n      <th>572</th>\n      <td>Πελοπόννησος</td>\n      <td>ΟΥΖΟ</td>\n      <td>5674.65</td>\n      <td>1630.0</td>\n      <td>3.712851</td>\n      <td>1.744485e+07</td>\n      <td>6.315637e+06</td>\n      <td>4.372466</td>\n      <td>0.000325</td>\n    </tr>\n    <tr>\n      <th>573</th>\n      <td>Πελοπόννησος</td>\n      <td>ΤΣΙΠΟΥΡΟ</td>\n      <td>25810.17</td>\n      <td>9279.0</td>\n      <td>3.387828</td>\n      <td>1.744485e+07</td>\n      <td>6.315637e+06</td>\n      <td>4.372466</td>\n      <td>0.001480</td>\n    </tr>\n  </tbody>\n</table>\n<p>574 rows × 9 columns</p>\n</div>"
     },
     "execution_count": 21,
     "metadata": {},
     "output_type": "execute_result"
    }
   ],
   "source": [
    "# For each subcategory, calculate the percentage of revenue per area\n",
    "data1_grouped_kiosk = data1_grouped_kiosk.merge(data1_grouped_kiosk_area, on='Area', suffixes=('', '_total'))\n",
    "data1_grouped_kiosk['Revenue_percentage'] = (data1_grouped_kiosk['Revenue'] / data1_grouped_kiosk['Revenue_total'])\n",
    "data1_grouped_kiosk"
   ],
   "metadata": {
    "collapsed": false,
    "ExecuteTime": {
     "end_time": "2024-01-22T15:35:35.654496700Z",
     "start_time": "2024-01-22T15:35:35.642429500Z"
    }
   },
   "id": "7bb1d8a16465bb8f",
   "execution_count": 21
  },
  {
   "cell_type": "code",
   "outputs": [
    {
     "data": {
      "text/plain": "                           Area                       Subcategory  \\\n14                       Αττική                               CIG   \n74                       Αττική                               RYO   \n39                       Αττική                            HEATED   \n86                       Αττική  TICKETING AND ADMISSION SERVICES   \n3                        Αττική                             BEERS   \n113  Δυτική και Κεντρική Ελλάδα                               CIG   \n180  Δυτική και Κεντρική Ελλάδα  TICKETING AND ADMISSION SERVICES   \n168  Δυτική και Κεντρική Ελλάδα                               RYO   \n135  Δυτική και Κεντρική Ελλάδα                            HEATED   \n114  Δυτική και Κεντρική Ελλάδα                        CIGARILLOS   \n206                       Κρήτη                               CIG   \n262                       Κρήτη                               RYO   \n229                       Κρήτη                            HEATED   \n274                       Κρήτη  TICKETING AND ADMISSION SERVICES   \n207                       Κρήτη                        CIGARILLOS   \n300         Μακεδονία και Θράκη                               CIG   \n323         Μακεδονία και Θράκη                            HEATED   \n357         Μακεδονία και Θράκη                               RYO   \n369         Μακεδονία και Θράκη  TICKETING AND ADMISSION SERVICES   \n370         Μακεδονία και Θράκη               TOBACCO ACCESSORIES   \n396                       Νησιά                               CIG   \n451                       Νησιά                               RYO   \n463                       Νησιά  TICKETING AND ADMISSION SERVICES   \n418                       Νησιά                            HEATED   \n464                       Νησιά               TOBACCO ACCESSORIES   \n490                Πελοπόννησος                               CIG   \n560                Πελοπόννησος  TICKETING AND ADMISSION SERVICES   \n548                Πελοπόννησος                               RYO   \n515                Πελοπόννησος                            HEATED   \n479                Πελοπόννησος                             BEERS   \n\n         Revenue   Quantity  Average_Price  Revenue_total  Quantity_total  \\\n14   22807857.24  5307418.0       4.295660   5.659161e+07    1.914790e+07   \n74    7141070.87   917698.0       7.773514   5.659161e+07    1.914790e+07   \n39    6408264.47  1683206.0       3.792217   5.659161e+07    1.914790e+07   \n86    4374789.46   255047.0      14.999683   5.659161e+07    1.914790e+07   \n3     1779605.69  1125702.0       1.625587   5.659161e+07    1.914790e+07   \n113   5131806.60  1207177.0       4.256958   1.156298e+07    3.510833e+06   \n180   1705293.00    99093.0      16.663068   1.156298e+07    3.510833e+06   \n168   1484163.00   191788.0       7.742695   1.156298e+07    3.510833e+06   \n135   1091104.90   285240.0       3.805455   1.156298e+07    3.510833e+06   \n114    273578.87   186545.0       1.523248   1.156298e+07    3.510833e+06   \n206   3397604.30   794739.0       4.281051   8.937910e+06    3.137664e+06   \n262   1232030.30   158407.0       7.781539   8.937910e+06    3.137664e+06   \n229    924917.02   243140.0       3.802784   8.937910e+06    3.137664e+06   \n274    836253.50   155073.0      10.087035   8.937910e+06    3.137664e+06   \n207    258001.45   134976.0       1.773360   8.937910e+06    3.137664e+06   \n300   8951721.63  2095908.0       4.266477   2.037837e+07    6.667072e+06   \n323   2640005.30   684537.0       3.820447   2.037837e+07    6.667072e+06   \n357   2300793.20   297342.0       7.743391   2.037837e+07    6.667072e+06   \n369   1795665.48   130084.0      15.292861   2.037837e+07    6.667072e+06   \n370    467854.44   635198.0       0.741545   2.037837e+07    6.667072e+06   \n396   5505396.24  1282991.0       4.289068   1.367641e+07    4.264125e+06   \n451   1856345.05   235839.0       7.854077   1.367641e+07    4.264125e+06   \n463   1566581.50    90518.0      14.985939   1.367641e+07    4.264125e+06   \n418   1350640.80   353374.0       3.791213   1.367641e+07    4.264125e+06   \n464    357377.04   464604.0       0.753131   1.367641e+07    4.264125e+06   \n490   8257546.63  1944546.0       4.249070   1.744485e+07    6.315637e+06   \n560   1929142.42   121424.0      16.901979   1.744485e+07    6.315637e+06   \n548   1720580.10   221821.0       7.731208   1.744485e+07    6.315637e+06   \n515   1185503.97   314705.0       3.744499   1.744485e+07    6.315637e+06   \n479    390624.16   267229.0       1.454676   1.744485e+07    6.315637e+06   \n\n     Average_Price_total  Revenue_percentage  \n14              3.681190            0.403025  \n74              3.681190            0.126186  \n39              3.681190            0.113237  \n86              3.681190            0.077305  \n3               3.681190            0.031446  \n113             3.263753            0.443814  \n180             3.263753            0.147479  \n168             3.263753            0.128355  \n135             3.263753            0.094362  \n114             3.263753            0.023660  \n206             3.746801            0.380134  \n262             3.746801            0.137843  \n229             3.746801            0.103482  \n274             3.746801            0.093563  \n207             3.746801            0.028866  \n300             3.762339            0.439276  \n323             3.762339            0.129549  \n357             3.762339            0.112904  \n369             3.762339            0.088116  \n370             3.762339            0.022958  \n396             3.842525            0.402547  \n451             3.842525            0.135733  \n463             3.842525            0.114546  \n418             3.842525            0.098757  \n464             3.842525            0.026131  \n490             4.372466            0.473352  \n560             4.372466            0.110585  \n548             4.372466            0.098630  \n515             4.372466            0.067957  \n479             4.372466            0.022392  ",
      "text/html": "<div>\n<style scoped>\n    .dataframe tbody tr th:only-of-type {\n        vertical-align: middle;\n    }\n\n    .dataframe tbody tr th {\n        vertical-align: top;\n    }\n\n    .dataframe thead th {\n        text-align: right;\n    }\n</style>\n<table border=\"1\" class=\"dataframe\">\n  <thead>\n    <tr style=\"text-align: right;\">\n      <th></th>\n      <th>Area</th>\n      <th>Subcategory</th>\n      <th>Revenue</th>\n      <th>Quantity</th>\n      <th>Average_Price</th>\n      <th>Revenue_total</th>\n      <th>Quantity_total</th>\n      <th>Average_Price_total</th>\n      <th>Revenue_percentage</th>\n    </tr>\n  </thead>\n  <tbody>\n    <tr>\n      <th>14</th>\n      <td>Αττική</td>\n      <td>CIG</td>\n      <td>22807857.24</td>\n      <td>5307418.0</td>\n      <td>4.295660</td>\n      <td>5.659161e+07</td>\n      <td>1.914790e+07</td>\n      <td>3.681190</td>\n      <td>0.403025</td>\n    </tr>\n    <tr>\n      <th>74</th>\n      <td>Αττική</td>\n      <td>RYO</td>\n      <td>7141070.87</td>\n      <td>917698.0</td>\n      <td>7.773514</td>\n      <td>5.659161e+07</td>\n      <td>1.914790e+07</td>\n      <td>3.681190</td>\n      <td>0.126186</td>\n    </tr>\n    <tr>\n      <th>39</th>\n      <td>Αττική</td>\n      <td>HEATED</td>\n      <td>6408264.47</td>\n      <td>1683206.0</td>\n      <td>3.792217</td>\n      <td>5.659161e+07</td>\n      <td>1.914790e+07</td>\n      <td>3.681190</td>\n      <td>0.113237</td>\n    </tr>\n    <tr>\n      <th>86</th>\n      <td>Αττική</td>\n      <td>TICKETING AND ADMISSION SERVICES</td>\n      <td>4374789.46</td>\n      <td>255047.0</td>\n      <td>14.999683</td>\n      <td>5.659161e+07</td>\n      <td>1.914790e+07</td>\n      <td>3.681190</td>\n      <td>0.077305</td>\n    </tr>\n    <tr>\n      <th>3</th>\n      <td>Αττική</td>\n      <td>BEERS</td>\n      <td>1779605.69</td>\n      <td>1125702.0</td>\n      <td>1.625587</td>\n      <td>5.659161e+07</td>\n      <td>1.914790e+07</td>\n      <td>3.681190</td>\n      <td>0.031446</td>\n    </tr>\n    <tr>\n      <th>113</th>\n      <td>Δυτική και Κεντρική Ελλάδα</td>\n      <td>CIG</td>\n      <td>5131806.60</td>\n      <td>1207177.0</td>\n      <td>4.256958</td>\n      <td>1.156298e+07</td>\n      <td>3.510833e+06</td>\n      <td>3.263753</td>\n      <td>0.443814</td>\n    </tr>\n    <tr>\n      <th>180</th>\n      <td>Δυτική και Κεντρική Ελλάδα</td>\n      <td>TICKETING AND ADMISSION SERVICES</td>\n      <td>1705293.00</td>\n      <td>99093.0</td>\n      <td>16.663068</td>\n      <td>1.156298e+07</td>\n      <td>3.510833e+06</td>\n      <td>3.263753</td>\n      <td>0.147479</td>\n    </tr>\n    <tr>\n      <th>168</th>\n      <td>Δυτική και Κεντρική Ελλάδα</td>\n      <td>RYO</td>\n      <td>1484163.00</td>\n      <td>191788.0</td>\n      <td>7.742695</td>\n      <td>1.156298e+07</td>\n      <td>3.510833e+06</td>\n      <td>3.263753</td>\n      <td>0.128355</td>\n    </tr>\n    <tr>\n      <th>135</th>\n      <td>Δυτική και Κεντρική Ελλάδα</td>\n      <td>HEATED</td>\n      <td>1091104.90</td>\n      <td>285240.0</td>\n      <td>3.805455</td>\n      <td>1.156298e+07</td>\n      <td>3.510833e+06</td>\n      <td>3.263753</td>\n      <td>0.094362</td>\n    </tr>\n    <tr>\n      <th>114</th>\n      <td>Δυτική και Κεντρική Ελλάδα</td>\n      <td>CIGARILLOS</td>\n      <td>273578.87</td>\n      <td>186545.0</td>\n      <td>1.523248</td>\n      <td>1.156298e+07</td>\n      <td>3.510833e+06</td>\n      <td>3.263753</td>\n      <td>0.023660</td>\n    </tr>\n    <tr>\n      <th>206</th>\n      <td>Κρήτη</td>\n      <td>CIG</td>\n      <td>3397604.30</td>\n      <td>794739.0</td>\n      <td>4.281051</td>\n      <td>8.937910e+06</td>\n      <td>3.137664e+06</td>\n      <td>3.746801</td>\n      <td>0.380134</td>\n    </tr>\n    <tr>\n      <th>262</th>\n      <td>Κρήτη</td>\n      <td>RYO</td>\n      <td>1232030.30</td>\n      <td>158407.0</td>\n      <td>7.781539</td>\n      <td>8.937910e+06</td>\n      <td>3.137664e+06</td>\n      <td>3.746801</td>\n      <td>0.137843</td>\n    </tr>\n    <tr>\n      <th>229</th>\n      <td>Κρήτη</td>\n      <td>HEATED</td>\n      <td>924917.02</td>\n      <td>243140.0</td>\n      <td>3.802784</td>\n      <td>8.937910e+06</td>\n      <td>3.137664e+06</td>\n      <td>3.746801</td>\n      <td>0.103482</td>\n    </tr>\n    <tr>\n      <th>274</th>\n      <td>Κρήτη</td>\n      <td>TICKETING AND ADMISSION SERVICES</td>\n      <td>836253.50</td>\n      <td>155073.0</td>\n      <td>10.087035</td>\n      <td>8.937910e+06</td>\n      <td>3.137664e+06</td>\n      <td>3.746801</td>\n      <td>0.093563</td>\n    </tr>\n    <tr>\n      <th>207</th>\n      <td>Κρήτη</td>\n      <td>CIGARILLOS</td>\n      <td>258001.45</td>\n      <td>134976.0</td>\n      <td>1.773360</td>\n      <td>8.937910e+06</td>\n      <td>3.137664e+06</td>\n      <td>3.746801</td>\n      <td>0.028866</td>\n    </tr>\n    <tr>\n      <th>300</th>\n      <td>Μακεδονία και Θράκη</td>\n      <td>CIG</td>\n      <td>8951721.63</td>\n      <td>2095908.0</td>\n      <td>4.266477</td>\n      <td>2.037837e+07</td>\n      <td>6.667072e+06</td>\n      <td>3.762339</td>\n      <td>0.439276</td>\n    </tr>\n    <tr>\n      <th>323</th>\n      <td>Μακεδονία και Θράκη</td>\n      <td>HEATED</td>\n      <td>2640005.30</td>\n      <td>684537.0</td>\n      <td>3.820447</td>\n      <td>2.037837e+07</td>\n      <td>6.667072e+06</td>\n      <td>3.762339</td>\n      <td>0.129549</td>\n    </tr>\n    <tr>\n      <th>357</th>\n      <td>Μακεδονία και Θράκη</td>\n      <td>RYO</td>\n      <td>2300793.20</td>\n      <td>297342.0</td>\n      <td>7.743391</td>\n      <td>2.037837e+07</td>\n      <td>6.667072e+06</td>\n      <td>3.762339</td>\n      <td>0.112904</td>\n    </tr>\n    <tr>\n      <th>369</th>\n      <td>Μακεδονία και Θράκη</td>\n      <td>TICKETING AND ADMISSION SERVICES</td>\n      <td>1795665.48</td>\n      <td>130084.0</td>\n      <td>15.292861</td>\n      <td>2.037837e+07</td>\n      <td>6.667072e+06</td>\n      <td>3.762339</td>\n      <td>0.088116</td>\n    </tr>\n    <tr>\n      <th>370</th>\n      <td>Μακεδονία και Θράκη</td>\n      <td>TOBACCO ACCESSORIES</td>\n      <td>467854.44</td>\n      <td>635198.0</td>\n      <td>0.741545</td>\n      <td>2.037837e+07</td>\n      <td>6.667072e+06</td>\n      <td>3.762339</td>\n      <td>0.022958</td>\n    </tr>\n    <tr>\n      <th>396</th>\n      <td>Νησιά</td>\n      <td>CIG</td>\n      <td>5505396.24</td>\n      <td>1282991.0</td>\n      <td>4.289068</td>\n      <td>1.367641e+07</td>\n      <td>4.264125e+06</td>\n      <td>3.842525</td>\n      <td>0.402547</td>\n    </tr>\n    <tr>\n      <th>451</th>\n      <td>Νησιά</td>\n      <td>RYO</td>\n      <td>1856345.05</td>\n      <td>235839.0</td>\n      <td>7.854077</td>\n      <td>1.367641e+07</td>\n      <td>4.264125e+06</td>\n      <td>3.842525</td>\n      <td>0.135733</td>\n    </tr>\n    <tr>\n      <th>463</th>\n      <td>Νησιά</td>\n      <td>TICKETING AND ADMISSION SERVICES</td>\n      <td>1566581.50</td>\n      <td>90518.0</td>\n      <td>14.985939</td>\n      <td>1.367641e+07</td>\n      <td>4.264125e+06</td>\n      <td>3.842525</td>\n      <td>0.114546</td>\n    </tr>\n    <tr>\n      <th>418</th>\n      <td>Νησιά</td>\n      <td>HEATED</td>\n      <td>1350640.80</td>\n      <td>353374.0</td>\n      <td>3.791213</td>\n      <td>1.367641e+07</td>\n      <td>4.264125e+06</td>\n      <td>3.842525</td>\n      <td>0.098757</td>\n    </tr>\n    <tr>\n      <th>464</th>\n      <td>Νησιά</td>\n      <td>TOBACCO ACCESSORIES</td>\n      <td>357377.04</td>\n      <td>464604.0</td>\n      <td>0.753131</td>\n      <td>1.367641e+07</td>\n      <td>4.264125e+06</td>\n      <td>3.842525</td>\n      <td>0.026131</td>\n    </tr>\n    <tr>\n      <th>490</th>\n      <td>Πελοπόννησος</td>\n      <td>CIG</td>\n      <td>8257546.63</td>\n      <td>1944546.0</td>\n      <td>4.249070</td>\n      <td>1.744485e+07</td>\n      <td>6.315637e+06</td>\n      <td>4.372466</td>\n      <td>0.473352</td>\n    </tr>\n    <tr>\n      <th>560</th>\n      <td>Πελοπόννησος</td>\n      <td>TICKETING AND ADMISSION SERVICES</td>\n      <td>1929142.42</td>\n      <td>121424.0</td>\n      <td>16.901979</td>\n      <td>1.744485e+07</td>\n      <td>6.315637e+06</td>\n      <td>4.372466</td>\n      <td>0.110585</td>\n    </tr>\n    <tr>\n      <th>548</th>\n      <td>Πελοπόννησος</td>\n      <td>RYO</td>\n      <td>1720580.10</td>\n      <td>221821.0</td>\n      <td>7.731208</td>\n      <td>1.744485e+07</td>\n      <td>6.315637e+06</td>\n      <td>4.372466</td>\n      <td>0.098630</td>\n    </tr>\n    <tr>\n      <th>515</th>\n      <td>Πελοπόννησος</td>\n      <td>HEATED</td>\n      <td>1185503.97</td>\n      <td>314705.0</td>\n      <td>3.744499</td>\n      <td>1.744485e+07</td>\n      <td>6.315637e+06</td>\n      <td>4.372466</td>\n      <td>0.067957</td>\n    </tr>\n    <tr>\n      <th>479</th>\n      <td>Πελοπόννησος</td>\n      <td>BEERS</td>\n      <td>390624.16</td>\n      <td>267229.0</td>\n      <td>1.454676</td>\n      <td>1.744485e+07</td>\n      <td>6.315637e+06</td>\n      <td>4.372466</td>\n      <td>0.022392</td>\n    </tr>\n  </tbody>\n</table>\n</div>"
     },
     "execution_count": 22,
     "metadata": {},
     "output_type": "execute_result"
    }
   ],
   "source": [
    "# Group by Area and keep the top 3 categories of each area\n",
    "data1_grouped_kiosk = data1_grouped_kiosk.sort_values(['Area', 'Revenue_percentage'], ascending=[True, False])\n",
    "data1_grouped_kiosk = data1_grouped_kiosk.groupby('Area').head(5)\n",
    "data1_grouped_kiosk"
   ],
   "metadata": {
    "collapsed": false,
    "ExecuteTime": {
     "end_time": "2024-01-22T15:35:35.951720200Z",
     "start_time": "2024-01-22T15:35:35.935067200Z"
    }
   },
   "id": "5b019ae0f5e9ac20",
   "execution_count": 22
  },
  {
   "cell_type": "code",
   "outputs": [
    {
     "data": {
      "text/plain": "                         Area  Revenue_percentage\n0                      Αττική            0.751199\n1  Δυτική και Κεντρική Ελλάδα            0.837669\n2                       Κρήτη            0.743888\n3         Μακεδονία και Θράκη            0.792803\n4                       Νησιά            0.777714\n5                Πελοπόννησος            0.772916",
      "text/html": "<div>\n<style scoped>\n    .dataframe tbody tr th:only-of-type {\n        vertical-align: middle;\n    }\n\n    .dataframe tbody tr th {\n        vertical-align: top;\n    }\n\n    .dataframe thead th {\n        text-align: right;\n    }\n</style>\n<table border=\"1\" class=\"dataframe\">\n  <thead>\n    <tr style=\"text-align: right;\">\n      <th></th>\n      <th>Area</th>\n      <th>Revenue_percentage</th>\n    </tr>\n  </thead>\n  <tbody>\n    <tr>\n      <th>0</th>\n      <td>Αττική</td>\n      <td>0.751199</td>\n    </tr>\n    <tr>\n      <th>1</th>\n      <td>Δυτική και Κεντρική Ελλάδα</td>\n      <td>0.837669</td>\n    </tr>\n    <tr>\n      <th>2</th>\n      <td>Κρήτη</td>\n      <td>0.743888</td>\n    </tr>\n    <tr>\n      <th>3</th>\n      <td>Μακεδονία και Θράκη</td>\n      <td>0.792803</td>\n    </tr>\n    <tr>\n      <th>4</th>\n      <td>Νησιά</td>\n      <td>0.777714</td>\n    </tr>\n    <tr>\n      <th>5</th>\n      <td>Πελοπόννησος</td>\n      <td>0.772916</td>\n    </tr>\n  </tbody>\n</table>\n</div>"
     },
     "execution_count": 23,
     "metadata": {},
     "output_type": "execute_result"
    }
   ],
   "source": [
    "# Group by Area and calculate the sum of the percentage of revenue\n",
    "data1_grouped_kiosk_area = data1_grouped_kiosk.groupby(['Area']).agg(\n",
    "    {'Revenue_percentage': 'sum'}).reset_index()\n",
    "data1_grouped_kiosk_area"
   ],
   "metadata": {
    "collapsed": false,
    "ExecuteTime": {
     "end_time": "2024-01-22T15:35:36.519503700Z",
     "start_time": "2024-01-22T15:35:36.511730800Z"
    }
   },
   "id": "98768cc05debddc8",
   "execution_count": 23
  }
 ],
 "metadata": {
  "kernelspec": {
   "display_name": "Python 3",
   "language": "python",
   "name": "python3"
  },
  "language_info": {
   "codemirror_mode": {
    "name": "ipython",
    "version": 2
   },
   "file_extension": ".py",
   "mimetype": "text/x-python",
   "name": "python",
   "nbconvert_exporter": "python",
   "pygments_lexer": "ipython2",
   "version": "2.7.6"
  }
 },
 "nbformat": 4,
 "nbformat_minor": 5
}
