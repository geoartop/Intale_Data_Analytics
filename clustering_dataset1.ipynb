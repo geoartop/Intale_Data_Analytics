{
 "cells": [
  {
   "cell_type": "code",
   "execution_count": 217,
   "id": "initial_id",
   "metadata": {
    "collapsed": true,
    "ExecuteTime": {
     "end_time": "2024-01-04T12:31:35.436900700Z",
     "start_time": "2024-01-04T12:31:35.340390600Z"
    }
   },
   "outputs": [],
   "source": [
    "import pandas as pd"
   ]
  },
  {
   "cell_type": "code",
   "outputs": [],
   "source": [
    "# Read the csv\n",
    "data1 = pd.read_csv('data/data1analytical.csv')"
   ],
   "metadata": {
    "collapsed": false,
    "ExecuteTime": {
     "end_time": "2024-01-04T12:31:35.697727Z",
     "start_time": "2024-01-04T12:31:35.437900900Z"
    }
   },
   "id": "c09d7ccd9a1d3c53",
   "execution_count": 218
  },
  {
   "cell_type": "code",
   "outputs": [
    {
     "data": {
      "text/plain": "        Date_Year Date_MonthName  StoreId           Subcategory  Quantity  \\\n0            2022           June     4008  SWEET BAKERY SNACKS       24.0   \n1            2021       November    10254   TOBACCO ACCESSORIES    2156.0   \n2            2022         August     5122                  ΟΥΖΟ       3.0   \n3            2022           June    10254                 CORN       51.0   \n4            2022        October    10280                 STICK     122.0   \n...           ...            ...      ...                   ...       ...   \n351094       2023          March     7986                WHISKY       1.0   \n351095       2023        January     6532              SANDWICH      29.0   \n351096       2023        January     3545               ICE TEA      11.0   \n351097       2022       December     3813                 COLAS     364.0   \n351098       2022       November     7376          GREEK COFFEE      18.0   \n\n        Revenue Period         Type                        Area  \n0         24.40  MATYA        Kiosk         Μακεδονία και Θράκη  \n1       1437.80  MATYA        Kiosk         Μακεδονία και Θράκη  \n2         11.00  MATYA        Kiosk  Δυτική και Κεντρική Ελλάδα  \n3         74.00  MATYA        Kiosk         Μακεδονία και Θράκη  \n4        277.80  MATYA        Kiosk                      Αττική  \n...         ...    ...          ...                         ...  \n351094    23.00    MAT  Mini-Market         Μακεδονία και Θράκη  \n351095    48.50    MAT        Kiosk                       Νησιά  \n351096    20.00    MAT  Mini-Market                      Αττική  \n351097   653.64    MAT        Kiosk                Πελοπόννησος  \n351098    50.10    MAT  Mini-Market                      Αττική  \n\n[351099 rows x 9 columns]",
      "text/html": "<div>\n<style scoped>\n    .dataframe tbody tr th:only-of-type {\n        vertical-align: middle;\n    }\n\n    .dataframe tbody tr th {\n        vertical-align: top;\n    }\n\n    .dataframe thead th {\n        text-align: right;\n    }\n</style>\n<table border=\"1\" class=\"dataframe\">\n  <thead>\n    <tr style=\"text-align: right;\">\n      <th></th>\n      <th>Date_Year</th>\n      <th>Date_MonthName</th>\n      <th>StoreId</th>\n      <th>Subcategory</th>\n      <th>Quantity</th>\n      <th>Revenue</th>\n      <th>Period</th>\n      <th>Type</th>\n      <th>Area</th>\n    </tr>\n  </thead>\n  <tbody>\n    <tr>\n      <th>0</th>\n      <td>2022</td>\n      <td>June</td>\n      <td>4008</td>\n      <td>SWEET BAKERY SNACKS</td>\n      <td>24.0</td>\n      <td>24.40</td>\n      <td>MATYA</td>\n      <td>Kiosk</td>\n      <td>Μακεδονία και Θράκη</td>\n    </tr>\n    <tr>\n      <th>1</th>\n      <td>2021</td>\n      <td>November</td>\n      <td>10254</td>\n      <td>TOBACCO ACCESSORIES</td>\n      <td>2156.0</td>\n      <td>1437.80</td>\n      <td>MATYA</td>\n      <td>Kiosk</td>\n      <td>Μακεδονία και Θράκη</td>\n    </tr>\n    <tr>\n      <th>2</th>\n      <td>2022</td>\n      <td>August</td>\n      <td>5122</td>\n      <td>ΟΥΖΟ</td>\n      <td>3.0</td>\n      <td>11.00</td>\n      <td>MATYA</td>\n      <td>Kiosk</td>\n      <td>Δυτική και Κεντρική Ελλάδα</td>\n    </tr>\n    <tr>\n      <th>3</th>\n      <td>2022</td>\n      <td>June</td>\n      <td>10254</td>\n      <td>CORN</td>\n      <td>51.0</td>\n      <td>74.00</td>\n      <td>MATYA</td>\n      <td>Kiosk</td>\n      <td>Μακεδονία και Θράκη</td>\n    </tr>\n    <tr>\n      <th>4</th>\n      <td>2022</td>\n      <td>October</td>\n      <td>10280</td>\n      <td>STICK</td>\n      <td>122.0</td>\n      <td>277.80</td>\n      <td>MATYA</td>\n      <td>Kiosk</td>\n      <td>Αττική</td>\n    </tr>\n    <tr>\n      <th>...</th>\n      <td>...</td>\n      <td>...</td>\n      <td>...</td>\n      <td>...</td>\n      <td>...</td>\n      <td>...</td>\n      <td>...</td>\n      <td>...</td>\n      <td>...</td>\n    </tr>\n    <tr>\n      <th>351094</th>\n      <td>2023</td>\n      <td>March</td>\n      <td>7986</td>\n      <td>WHISKY</td>\n      <td>1.0</td>\n      <td>23.00</td>\n      <td>MAT</td>\n      <td>Mini-Market</td>\n      <td>Μακεδονία και Θράκη</td>\n    </tr>\n    <tr>\n      <th>351095</th>\n      <td>2023</td>\n      <td>January</td>\n      <td>6532</td>\n      <td>SANDWICH</td>\n      <td>29.0</td>\n      <td>48.50</td>\n      <td>MAT</td>\n      <td>Kiosk</td>\n      <td>Νησιά</td>\n    </tr>\n    <tr>\n      <th>351096</th>\n      <td>2023</td>\n      <td>January</td>\n      <td>3545</td>\n      <td>ICE TEA</td>\n      <td>11.0</td>\n      <td>20.00</td>\n      <td>MAT</td>\n      <td>Mini-Market</td>\n      <td>Αττική</td>\n    </tr>\n    <tr>\n      <th>351097</th>\n      <td>2022</td>\n      <td>December</td>\n      <td>3813</td>\n      <td>COLAS</td>\n      <td>364.0</td>\n      <td>653.64</td>\n      <td>MAT</td>\n      <td>Kiosk</td>\n      <td>Πελοπόννησος</td>\n    </tr>\n    <tr>\n      <th>351098</th>\n      <td>2022</td>\n      <td>November</td>\n      <td>7376</td>\n      <td>GREEK COFFEE</td>\n      <td>18.0</td>\n      <td>50.10</td>\n      <td>MAT</td>\n      <td>Mini-Market</td>\n      <td>Αττική</td>\n    </tr>\n  </tbody>\n</table>\n<p>351099 rows × 9 columns</p>\n</div>"
     },
     "execution_count": 219,
     "metadata": {},
     "output_type": "execute_result"
    }
   ],
   "source": [
    "data1"
   ],
   "metadata": {
    "collapsed": false,
    "ExecuteTime": {
     "end_time": "2024-01-04T12:31:35.709958200Z",
     "start_time": "2024-01-04T12:31:35.698727700Z"
    }
   },
   "id": "2db6bc64b3561580",
   "execution_count": 219
  },
  {
   "cell_type": "code",
   "outputs": [],
   "source": [
    "# Read Category Mappings csv\n",
    "category_mappings = pd.read_csv('data/Category Mapping.csv')"
   ],
   "metadata": {
    "collapsed": false,
    "ExecuteTime": {
     "end_time": "2024-01-04T12:31:35.712906900Z",
     "start_time": "2024-01-04T12:31:35.707959800Z"
    }
   },
   "id": "5680f67d3812c7cc",
   "execution_count": 220
  },
  {
   "cell_type": "code",
   "outputs": [],
   "source": [
    "# Get the Category column from the category_mappings dataframe and merge to dataset2_encoded\n",
    "data1 = pd.merge(data1, category_mappings[['Subcategory', 'Category']], on='Subcategory', how='left')"
   ],
   "metadata": {
    "collapsed": false,
    "ExecuteTime": {
     "end_time": "2024-01-04T12:31:35.778062800Z",
     "start_time": "2024-01-04T12:31:35.713907400Z"
    }
   },
   "id": "f23395b4feb9052a",
   "execution_count": 221
  },
  {
   "cell_type": "code",
   "outputs": [],
   "source": [
    "# Calculate the price column (revenue/quantity)\n",
    "data1['Average_Price'] = data1['Revenue'] / data1['Quantity']"
   ],
   "metadata": {
    "collapsed": false,
    "ExecuteTime": {
     "end_time": "2024-01-04T12:31:35.778062800Z",
     "start_time": "2024-01-04T12:31:35.754424100Z"
    }
   },
   "id": "530eff9e6e15279e",
   "execution_count": 222
  },
  {
   "cell_type": "code",
   "outputs": [
    {
     "data": {
      "text/plain": "        Date_Year Date_MonthName  StoreId           Subcategory  Quantity  \\\n0            2022           June     4008  SWEET BAKERY SNACKS       24.0   \n1            2021       November    10254   TOBACCO ACCESSORIES    2156.0   \n2            2022         August     5122                  ΟΥΖΟ       3.0   \n3            2022           June    10254                 CORN       51.0   \n4            2022        October    10280                 STICK     122.0   \n...           ...            ...      ...                   ...       ...   \n351094       2023          March     7986                WHISKY       1.0   \n351095       2023        January     6532              SANDWICH      29.0   \n351096       2023        January     3545               ICE TEA      11.0   \n351097       2022       December     3813                 COLAS     364.0   \n351098       2022       November     7376          GREEK COFFEE      18.0   \n\n        Revenue Period         Type                        Area  \\\n0         24.40  MATYA        Kiosk         Μακεδονία και Θράκη   \n1       1437.80  MATYA        Kiosk         Μακεδονία και Θράκη   \n2         11.00  MATYA        Kiosk  Δυτική και Κεντρική Ελλάδα   \n3         74.00  MATYA        Kiosk         Μακεδονία και Θράκη   \n4        277.80  MATYA        Kiosk                      Αττική   \n...         ...    ...          ...                         ...   \n351094    23.00    MAT  Mini-Market         Μακεδονία και Θράκη   \n351095    48.50    MAT        Kiosk                       Νησιά   \n351096    20.00    MAT  Mini-Market                      Αττική   \n351097   653.64    MAT        Kiosk                Πελοπόννησος   \n351098    50.10    MAT  Mini-Market                      Αττική   \n\n                   Category  Average_Price  \n0                    SNACKS       1.016667  \n1             TOBACCO COMPL       0.666883  \n2       ALCOHOLIC BEVERAGES       3.666667  \n3                    SNACKS       1.450980  \n4                 ICE CREAM       2.277049  \n...                     ...            ...  \n351094  ALCOHOLIC BEVERAGES      23.000000  \n351095             BISCUITS       1.672414  \n351096          SOFT DRINKS       1.818182  \n351097          SOFT DRINKS       1.795714  \n351098               COFFEE       2.783333  \n\n[351099 rows x 11 columns]",
      "text/html": "<div>\n<style scoped>\n    .dataframe tbody tr th:only-of-type {\n        vertical-align: middle;\n    }\n\n    .dataframe tbody tr th {\n        vertical-align: top;\n    }\n\n    .dataframe thead th {\n        text-align: right;\n    }\n</style>\n<table border=\"1\" class=\"dataframe\">\n  <thead>\n    <tr style=\"text-align: right;\">\n      <th></th>\n      <th>Date_Year</th>\n      <th>Date_MonthName</th>\n      <th>StoreId</th>\n      <th>Subcategory</th>\n      <th>Quantity</th>\n      <th>Revenue</th>\n      <th>Period</th>\n      <th>Type</th>\n      <th>Area</th>\n      <th>Category</th>\n      <th>Average_Price</th>\n    </tr>\n  </thead>\n  <tbody>\n    <tr>\n      <th>0</th>\n      <td>2022</td>\n      <td>June</td>\n      <td>4008</td>\n      <td>SWEET BAKERY SNACKS</td>\n      <td>24.0</td>\n      <td>24.40</td>\n      <td>MATYA</td>\n      <td>Kiosk</td>\n      <td>Μακεδονία και Θράκη</td>\n      <td>SNACKS</td>\n      <td>1.016667</td>\n    </tr>\n    <tr>\n      <th>1</th>\n      <td>2021</td>\n      <td>November</td>\n      <td>10254</td>\n      <td>TOBACCO ACCESSORIES</td>\n      <td>2156.0</td>\n      <td>1437.80</td>\n      <td>MATYA</td>\n      <td>Kiosk</td>\n      <td>Μακεδονία και Θράκη</td>\n      <td>TOBACCO COMPL</td>\n      <td>0.666883</td>\n    </tr>\n    <tr>\n      <th>2</th>\n      <td>2022</td>\n      <td>August</td>\n      <td>5122</td>\n      <td>ΟΥΖΟ</td>\n      <td>3.0</td>\n      <td>11.00</td>\n      <td>MATYA</td>\n      <td>Kiosk</td>\n      <td>Δυτική και Κεντρική Ελλάδα</td>\n      <td>ALCOHOLIC BEVERAGES</td>\n      <td>3.666667</td>\n    </tr>\n    <tr>\n      <th>3</th>\n      <td>2022</td>\n      <td>June</td>\n      <td>10254</td>\n      <td>CORN</td>\n      <td>51.0</td>\n      <td>74.00</td>\n      <td>MATYA</td>\n      <td>Kiosk</td>\n      <td>Μακεδονία και Θράκη</td>\n      <td>SNACKS</td>\n      <td>1.450980</td>\n    </tr>\n    <tr>\n      <th>4</th>\n      <td>2022</td>\n      <td>October</td>\n      <td>10280</td>\n      <td>STICK</td>\n      <td>122.0</td>\n      <td>277.80</td>\n      <td>MATYA</td>\n      <td>Kiosk</td>\n      <td>Αττική</td>\n      <td>ICE CREAM</td>\n      <td>2.277049</td>\n    </tr>\n    <tr>\n      <th>...</th>\n      <td>...</td>\n      <td>...</td>\n      <td>...</td>\n      <td>...</td>\n      <td>...</td>\n      <td>...</td>\n      <td>...</td>\n      <td>...</td>\n      <td>...</td>\n      <td>...</td>\n      <td>...</td>\n    </tr>\n    <tr>\n      <th>351094</th>\n      <td>2023</td>\n      <td>March</td>\n      <td>7986</td>\n      <td>WHISKY</td>\n      <td>1.0</td>\n      <td>23.00</td>\n      <td>MAT</td>\n      <td>Mini-Market</td>\n      <td>Μακεδονία και Θράκη</td>\n      <td>ALCOHOLIC BEVERAGES</td>\n      <td>23.000000</td>\n    </tr>\n    <tr>\n      <th>351095</th>\n      <td>2023</td>\n      <td>January</td>\n      <td>6532</td>\n      <td>SANDWICH</td>\n      <td>29.0</td>\n      <td>48.50</td>\n      <td>MAT</td>\n      <td>Kiosk</td>\n      <td>Νησιά</td>\n      <td>BISCUITS</td>\n      <td>1.672414</td>\n    </tr>\n    <tr>\n      <th>351096</th>\n      <td>2023</td>\n      <td>January</td>\n      <td>3545</td>\n      <td>ICE TEA</td>\n      <td>11.0</td>\n      <td>20.00</td>\n      <td>MAT</td>\n      <td>Mini-Market</td>\n      <td>Αττική</td>\n      <td>SOFT DRINKS</td>\n      <td>1.818182</td>\n    </tr>\n    <tr>\n      <th>351097</th>\n      <td>2022</td>\n      <td>December</td>\n      <td>3813</td>\n      <td>COLAS</td>\n      <td>364.0</td>\n      <td>653.64</td>\n      <td>MAT</td>\n      <td>Kiosk</td>\n      <td>Πελοπόννησος</td>\n      <td>SOFT DRINKS</td>\n      <td>1.795714</td>\n    </tr>\n    <tr>\n      <th>351098</th>\n      <td>2022</td>\n      <td>November</td>\n      <td>7376</td>\n      <td>GREEK COFFEE</td>\n      <td>18.0</td>\n      <td>50.10</td>\n      <td>MAT</td>\n      <td>Mini-Market</td>\n      <td>Αττική</td>\n      <td>COFFEE</td>\n      <td>2.783333</td>\n    </tr>\n  </tbody>\n</table>\n<p>351099 rows × 11 columns</p>\n</div>"
     },
     "execution_count": 223,
     "metadata": {},
     "output_type": "execute_result"
    }
   ],
   "source": [
    "data1"
   ],
   "metadata": {
    "collapsed": false,
    "ExecuteTime": {
     "end_time": "2024-01-04T12:31:35.779063300Z",
     "start_time": "2024-01-04T12:31:35.757316400Z"
    }
   },
   "id": "bc14f649ec32a506",
   "execution_count": 223
  },
  {
   "cell_type": "code",
   "outputs": [
    {
     "data": {
      "text/plain": "       StoreId    Subcategory         Type                        Area  \\\n0         3435      ALOE VERA        Kiosk                      Αττική   \n1         3435  BAR ICE CREAM        Kiosk                      Αττική   \n2         3435     BAR SNACKS        Kiosk                      Αττική   \n3         3435          BEERS        Kiosk                      Αττική   \n4         3435           CAKE        Kiosk                      Αττική   \n...        ...            ...          ...                         ...   \n16797    10963         WHISKY  Mini-Market  Δυτική και Κεντρική Ελλάδα   \n16798    10963           WINE  Mini-Market  Δυτική και Κεντρική Ελλάδα   \n16799    10963         YOGURT  Mini-Market  Δυτική και Κεντρική Ελλάδα   \n16800    10963           ΟΥΖΟ  Mini-Market  Δυτική και Κεντρική Ελλάδα   \n16801    10963       ΤΣΙΠΟΥΡΟ  Mini-Market  Δυτική και Κεντρική Ελλάδα   \n\n         Revenue  Quantity  Average_Price  \n0          52.50      35.0       1.500000  \n1        4851.90    1892.0       2.400836  \n2        5103.70    2889.0       1.758919  \n3      115448.39   70713.0       1.617208  \n4        2308.50    2426.0       0.963478  \n...          ...       ...            ...  \n16797      88.60      11.0       8.775000  \n16798      65.50      14.0       4.710000  \n16799     810.50     474.0       1.722212  \n16800     128.00      32.0       4.000000  \n16801     494.00      97.0       5.133413  \n\n[16802 rows x 7 columns]",
      "text/html": "<div>\n<style scoped>\n    .dataframe tbody tr th:only-of-type {\n        vertical-align: middle;\n    }\n\n    .dataframe tbody tr th {\n        vertical-align: top;\n    }\n\n    .dataframe thead th {\n        text-align: right;\n    }\n</style>\n<table border=\"1\" class=\"dataframe\">\n  <thead>\n    <tr style=\"text-align: right;\">\n      <th></th>\n      <th>StoreId</th>\n      <th>Subcategory</th>\n      <th>Type</th>\n      <th>Area</th>\n      <th>Revenue</th>\n      <th>Quantity</th>\n      <th>Average_Price</th>\n    </tr>\n  </thead>\n  <tbody>\n    <tr>\n      <th>0</th>\n      <td>3435</td>\n      <td>ALOE VERA</td>\n      <td>Kiosk</td>\n      <td>Αττική</td>\n      <td>52.50</td>\n      <td>35.0</td>\n      <td>1.500000</td>\n    </tr>\n    <tr>\n      <th>1</th>\n      <td>3435</td>\n      <td>BAR ICE CREAM</td>\n      <td>Kiosk</td>\n      <td>Αττική</td>\n      <td>4851.90</td>\n      <td>1892.0</td>\n      <td>2.400836</td>\n    </tr>\n    <tr>\n      <th>2</th>\n      <td>3435</td>\n      <td>BAR SNACKS</td>\n      <td>Kiosk</td>\n      <td>Αττική</td>\n      <td>5103.70</td>\n      <td>2889.0</td>\n      <td>1.758919</td>\n    </tr>\n    <tr>\n      <th>3</th>\n      <td>3435</td>\n      <td>BEERS</td>\n      <td>Kiosk</td>\n      <td>Αττική</td>\n      <td>115448.39</td>\n      <td>70713.0</td>\n      <td>1.617208</td>\n    </tr>\n    <tr>\n      <th>4</th>\n      <td>3435</td>\n      <td>CAKE</td>\n      <td>Kiosk</td>\n      <td>Αττική</td>\n      <td>2308.50</td>\n      <td>2426.0</td>\n      <td>0.963478</td>\n    </tr>\n    <tr>\n      <th>...</th>\n      <td>...</td>\n      <td>...</td>\n      <td>...</td>\n      <td>...</td>\n      <td>...</td>\n      <td>...</td>\n      <td>...</td>\n    </tr>\n    <tr>\n      <th>16797</th>\n      <td>10963</td>\n      <td>WHISKY</td>\n      <td>Mini-Market</td>\n      <td>Δυτική και Κεντρική Ελλάδα</td>\n      <td>88.60</td>\n      <td>11.0</td>\n      <td>8.775000</td>\n    </tr>\n    <tr>\n      <th>16798</th>\n      <td>10963</td>\n      <td>WINE</td>\n      <td>Mini-Market</td>\n      <td>Δυτική και Κεντρική Ελλάδα</td>\n      <td>65.50</td>\n      <td>14.0</td>\n      <td>4.710000</td>\n    </tr>\n    <tr>\n      <th>16799</th>\n      <td>10963</td>\n      <td>YOGURT</td>\n      <td>Mini-Market</td>\n      <td>Δυτική και Κεντρική Ελλάδα</td>\n      <td>810.50</td>\n      <td>474.0</td>\n      <td>1.722212</td>\n    </tr>\n    <tr>\n      <th>16800</th>\n      <td>10963</td>\n      <td>ΟΥΖΟ</td>\n      <td>Mini-Market</td>\n      <td>Δυτική και Κεντρική Ελλάδα</td>\n      <td>128.00</td>\n      <td>32.0</td>\n      <td>4.000000</td>\n    </tr>\n    <tr>\n      <th>16801</th>\n      <td>10963</td>\n      <td>ΤΣΙΠΟΥΡΟ</td>\n      <td>Mini-Market</td>\n      <td>Δυτική και Κεντρική Ελλάδα</td>\n      <td>494.00</td>\n      <td>97.0</td>\n      <td>5.133413</td>\n    </tr>\n  </tbody>\n</table>\n<p>16802 rows × 7 columns</p>\n</div>"
     },
     "execution_count": 241,
     "metadata": {},
     "output_type": "execute_result"
    }
   ],
   "source": [
    "# Group by subcategory and StoreId and calculate the sum of the revenue\n",
    "data1_grouped = data1.groupby(['StoreId', 'Subcategory', 'Type', 'Area']).agg(\n",
    "    {'Revenue': 'sum', 'Quantity': 'sum', 'Average_Price': 'mean'}).reset_index()\n",
    "data1_grouped"
   ],
   "metadata": {
    "collapsed": false,
    "ExecuteTime": {
     "end_time": "2024-01-04T12:43:07.127567300Z",
     "start_time": "2024-01-04T12:43:07.039570200Z"
    }
   },
   "id": "d6f461b297a0dd40",
   "execution_count": 241
  },
  {
   "cell_type": "code",
   "outputs": [],
   "source": [
    "# Create separate dataframes for each Type\n",
    "data1_grouped_kiosk = data1_grouped[data1_grouped['Type'] == 'Kiosk']\n",
    "data1_grouped_mini_market = data1_grouped[data1_grouped['Type'] == 'Mini-Market']"
   ],
   "metadata": {
    "collapsed": false,
    "ExecuteTime": {
     "end_time": "2024-01-04T12:43:07.222625900Z",
     "start_time": "2024-01-04T12:43:07.206070800Z"
    }
   },
   "id": "9385fd5eda134f04",
   "execution_count": 242
  },
  {
   "cell_type": "markdown",
   "source": [
    "## For mini-markets"
   ],
   "metadata": {
    "collapsed": false
   },
   "id": "d77e5d29981dc059"
  },
  {
   "cell_type": "code",
   "outputs": [
    {
     "data": {
      "text/plain": "       StoreId    Subcategory         Type                        Area  \\\n409       3545      ALOE VERA  Mini-Market                      Αττική   \n410       3545  BAR ICE CREAM  Mini-Market                      Αττική   \n411       3545     BAR SNACKS  Mini-Market                      Αττική   \n412       3545          BEERS  Mini-Market                      Αττική   \n413       3545         BUTTER  Mini-Market                      Αττική   \n...        ...            ...          ...                         ...   \n16797    10963         WHISKY  Mini-Market  Δυτική και Κεντρική Ελλάδα   \n16798    10963           WINE  Mini-Market  Δυτική και Κεντρική Ελλάδα   \n16799    10963         YOGURT  Mini-Market  Δυτική και Κεντρική Ελλάδα   \n16800    10963           ΟΥΖΟ  Mini-Market  Δυτική και Κεντρική Ελλάδα   \n16801    10963       ΤΣΙΠΟΥΡΟ  Mini-Market  Δυτική και Κεντρική Ελλάδα   \n\n        Revenue  Quantity  Average_Price  \n409       36.40      24.0       1.510000  \n410       42.00       7.0       6.000000  \n411      277.20     225.0       1.206179  \n412    10663.98    6226.0       1.666956  \n413      396.35     152.0       2.470255  \n...         ...       ...            ...  \n16797     88.60      11.0       8.775000  \n16798     65.50      14.0       4.710000  \n16799    810.50     474.0       1.722212  \n16800    128.00      32.0       4.000000  \n16801    494.00      97.0       5.133413  \n\n[9778 rows x 7 columns]",
      "text/html": "<div>\n<style scoped>\n    .dataframe tbody tr th:only-of-type {\n        vertical-align: middle;\n    }\n\n    .dataframe tbody tr th {\n        vertical-align: top;\n    }\n\n    .dataframe thead th {\n        text-align: right;\n    }\n</style>\n<table border=\"1\" class=\"dataframe\">\n  <thead>\n    <tr style=\"text-align: right;\">\n      <th></th>\n      <th>StoreId</th>\n      <th>Subcategory</th>\n      <th>Type</th>\n      <th>Area</th>\n      <th>Revenue</th>\n      <th>Quantity</th>\n      <th>Average_Price</th>\n    </tr>\n  </thead>\n  <tbody>\n    <tr>\n      <th>409</th>\n      <td>3545</td>\n      <td>ALOE VERA</td>\n      <td>Mini-Market</td>\n      <td>Αττική</td>\n      <td>36.40</td>\n      <td>24.0</td>\n      <td>1.510000</td>\n    </tr>\n    <tr>\n      <th>410</th>\n      <td>3545</td>\n      <td>BAR ICE CREAM</td>\n      <td>Mini-Market</td>\n      <td>Αττική</td>\n      <td>42.00</td>\n      <td>7.0</td>\n      <td>6.000000</td>\n    </tr>\n    <tr>\n      <th>411</th>\n      <td>3545</td>\n      <td>BAR SNACKS</td>\n      <td>Mini-Market</td>\n      <td>Αττική</td>\n      <td>277.20</td>\n      <td>225.0</td>\n      <td>1.206179</td>\n    </tr>\n    <tr>\n      <th>412</th>\n      <td>3545</td>\n      <td>BEERS</td>\n      <td>Mini-Market</td>\n      <td>Αττική</td>\n      <td>10663.98</td>\n      <td>6226.0</td>\n      <td>1.666956</td>\n    </tr>\n    <tr>\n      <th>413</th>\n      <td>3545</td>\n      <td>BUTTER</td>\n      <td>Mini-Market</td>\n      <td>Αττική</td>\n      <td>396.35</td>\n      <td>152.0</td>\n      <td>2.470255</td>\n    </tr>\n    <tr>\n      <th>...</th>\n      <td>...</td>\n      <td>...</td>\n      <td>...</td>\n      <td>...</td>\n      <td>...</td>\n      <td>...</td>\n      <td>...</td>\n    </tr>\n    <tr>\n      <th>16797</th>\n      <td>10963</td>\n      <td>WHISKY</td>\n      <td>Mini-Market</td>\n      <td>Δυτική και Κεντρική Ελλάδα</td>\n      <td>88.60</td>\n      <td>11.0</td>\n      <td>8.775000</td>\n    </tr>\n    <tr>\n      <th>16798</th>\n      <td>10963</td>\n      <td>WINE</td>\n      <td>Mini-Market</td>\n      <td>Δυτική και Κεντρική Ελλάδα</td>\n      <td>65.50</td>\n      <td>14.0</td>\n      <td>4.710000</td>\n    </tr>\n    <tr>\n      <th>16799</th>\n      <td>10963</td>\n      <td>YOGURT</td>\n      <td>Mini-Market</td>\n      <td>Δυτική και Κεντρική Ελλάδα</td>\n      <td>810.50</td>\n      <td>474.0</td>\n      <td>1.722212</td>\n    </tr>\n    <tr>\n      <th>16800</th>\n      <td>10963</td>\n      <td>ΟΥΖΟ</td>\n      <td>Mini-Market</td>\n      <td>Δυτική και Κεντρική Ελλάδα</td>\n      <td>128.00</td>\n      <td>32.0</td>\n      <td>4.000000</td>\n    </tr>\n    <tr>\n      <th>16801</th>\n      <td>10963</td>\n      <td>ΤΣΙΠΟΥΡΟ</td>\n      <td>Mini-Market</td>\n      <td>Δυτική και Κεντρική Ελλάδα</td>\n      <td>494.00</td>\n      <td>97.0</td>\n      <td>5.133413</td>\n    </tr>\n  </tbody>\n</table>\n<p>9778 rows × 7 columns</p>\n</div>"
     },
     "execution_count": 246,
     "metadata": {},
     "output_type": "execute_result"
    }
   ],
   "source": [
    "data1_grouped_mini_market"
   ],
   "metadata": {
    "collapsed": false,
    "ExecuteTime": {
     "end_time": "2024-01-04T12:43:52.795996200Z",
     "start_time": "2024-01-04T12:43:52.786289900Z"
    }
   },
   "id": "74ff606762229f52",
   "execution_count": 246
  },
  {
   "cell_type": "code",
   "outputs": [],
   "source": [
    "# For each StoreId get the top 3 categories by revenue"
   ],
   "metadata": {
    "collapsed": false,
    "ExecuteTime": {
     "end_time": "2024-01-04T12:43:53.004588200Z",
     "start_time": "2024-01-04T12:43:52.998075800Z"
    }
   },
   "id": "7df75995590cae27",
   "execution_count": 247
  },
  {
   "cell_type": "code",
   "outputs": [
    {
     "data": {
      "text/plain": "       StoreId                       Subcategory         Type  \\\n422       3545                               CIG  Mini-Market   \n445       3545                            HEATED  Mini-Market   \n475       3545                               RYO  Mini-Market   \n596       3557                               CIG  Mini-Market   \n664       3557  TICKETING AND ADMISSION SERVICES  Mini-Market   \n...        ...                               ...          ...   \n16658    10961                            HEATED  Mini-Market   \n16690    10961                               RYO  Mini-Market   \n16726    10963                               CIG  Mini-Market   \n16750    10963                            HEATED  Mini-Market   \n16780    10963                               RYO  Mini-Market   \n\n                             Area    Revenue  Quantity  Average_Price  \n422                        Αττική  456298.10  106586.0       4.283428  \n445                        Αττική  146056.20   37874.0       3.857268  \n475                        Αττική  127676.20   16540.0       7.723747  \n596           Μακεδονία και Θράκη  294470.00   69587.0       4.233650  \n664           Μακεδονία και Θράκη  154542.25   15074.0      10.227903  \n...                           ...        ...       ...            ...  \n16658                      Αττική  249443.68   65111.0       3.813447  \n16690                      Αττική  169470.10   21730.0       7.798052  \n16726  Δυτική και Κεντρική Ελλάδα  192744.30   44849.0       4.296499  \n16750  Δυτική και Κεντρική Ελλάδα   61855.10   16081.0       3.859937  \n16780  Δυτική και Κεντρική Ελλάδα   52508.60    6825.0       7.683453  \n\n[333 rows x 7 columns]",
      "text/html": "<div>\n<style scoped>\n    .dataframe tbody tr th:only-of-type {\n        vertical-align: middle;\n    }\n\n    .dataframe tbody tr th {\n        vertical-align: top;\n    }\n\n    .dataframe thead th {\n        text-align: right;\n    }\n</style>\n<table border=\"1\" class=\"dataframe\">\n  <thead>\n    <tr style=\"text-align: right;\">\n      <th></th>\n      <th>StoreId</th>\n      <th>Subcategory</th>\n      <th>Type</th>\n      <th>Area</th>\n      <th>Revenue</th>\n      <th>Quantity</th>\n      <th>Average_Price</th>\n    </tr>\n  </thead>\n  <tbody>\n    <tr>\n      <th>422</th>\n      <td>3545</td>\n      <td>CIG</td>\n      <td>Mini-Market</td>\n      <td>Αττική</td>\n      <td>456298.10</td>\n      <td>106586.0</td>\n      <td>4.283428</td>\n    </tr>\n    <tr>\n      <th>445</th>\n      <td>3545</td>\n      <td>HEATED</td>\n      <td>Mini-Market</td>\n      <td>Αττική</td>\n      <td>146056.20</td>\n      <td>37874.0</td>\n      <td>3.857268</td>\n    </tr>\n    <tr>\n      <th>475</th>\n      <td>3545</td>\n      <td>RYO</td>\n      <td>Mini-Market</td>\n      <td>Αττική</td>\n      <td>127676.20</td>\n      <td>16540.0</td>\n      <td>7.723747</td>\n    </tr>\n    <tr>\n      <th>596</th>\n      <td>3557</td>\n      <td>CIG</td>\n      <td>Mini-Market</td>\n      <td>Μακεδονία και Θράκη</td>\n      <td>294470.00</td>\n      <td>69587.0</td>\n      <td>4.233650</td>\n    </tr>\n    <tr>\n      <th>664</th>\n      <td>3557</td>\n      <td>TICKETING AND ADMISSION SERVICES</td>\n      <td>Mini-Market</td>\n      <td>Μακεδονία και Θράκη</td>\n      <td>154542.25</td>\n      <td>15074.0</td>\n      <td>10.227903</td>\n    </tr>\n    <tr>\n      <th>...</th>\n      <td>...</td>\n      <td>...</td>\n      <td>...</td>\n      <td>...</td>\n      <td>...</td>\n      <td>...</td>\n      <td>...</td>\n    </tr>\n    <tr>\n      <th>16658</th>\n      <td>10961</td>\n      <td>HEATED</td>\n      <td>Mini-Market</td>\n      <td>Αττική</td>\n      <td>249443.68</td>\n      <td>65111.0</td>\n      <td>3.813447</td>\n    </tr>\n    <tr>\n      <th>16690</th>\n      <td>10961</td>\n      <td>RYO</td>\n      <td>Mini-Market</td>\n      <td>Αττική</td>\n      <td>169470.10</td>\n      <td>21730.0</td>\n      <td>7.798052</td>\n    </tr>\n    <tr>\n      <th>16726</th>\n      <td>10963</td>\n      <td>CIG</td>\n      <td>Mini-Market</td>\n      <td>Δυτική και Κεντρική Ελλάδα</td>\n      <td>192744.30</td>\n      <td>44849.0</td>\n      <td>4.296499</td>\n    </tr>\n    <tr>\n      <th>16750</th>\n      <td>10963</td>\n      <td>HEATED</td>\n      <td>Mini-Market</td>\n      <td>Δυτική και Κεντρική Ελλάδα</td>\n      <td>61855.10</td>\n      <td>16081.0</td>\n      <td>3.859937</td>\n    </tr>\n    <tr>\n      <th>16780</th>\n      <td>10963</td>\n      <td>RYO</td>\n      <td>Mini-Market</td>\n      <td>Δυτική και Κεντρική Ελλάδα</td>\n      <td>52508.60</td>\n      <td>6825.0</td>\n      <td>7.683453</td>\n    </tr>\n  </tbody>\n</table>\n<p>333 rows × 7 columns</p>\n</div>"
     },
     "execution_count": 249,
     "metadata": {},
     "output_type": "execute_result"
    }
   ],
   "source": [
    "data1_grouped_mini_market_store = data1_grouped_mini_market.sort_values(['StoreId', 'Revenue'], ascending=[True,False])\n",
    "data1_grouped_mini_market_store.groupby('StoreId').head(3)"
   ],
   "metadata": {
    "collapsed": false,
    "ExecuteTime": {
     "end_time": "2024-01-04T12:44:08.998133700Z",
     "start_time": "2024-01-04T12:44:08.982201Z"
    }
   },
   "id": "87a837eb6465b389",
   "execution_count": 249
  },
  {
   "cell_type": "code",
   "outputs": [
    {
     "data": {
      "text/plain": "      StoreId                          Category         Type    Area  \\\n99       3545  TICKETING AND ADMISSION SERVICES  Mini-Market  Αττική   \n100      3545                           TOBACCO  Mini-Market  Αττική   \n85       3545               ALCOHOLIC BEVERAGES  Mini-Market  Αττική   \n88       3545                            COFFEE  Mini-Market  Αττική   \n92       3545                         ICE CREAM  Mini-Market  Αττική   \n...       ...                               ...          ...     ...   \n3325    10961                            SNACKS  Mini-Market  Αττική   \n3326    10961                       SOFT DRINKS  Mini-Market  Αττική   \n3315    10961                         CHOCOLATE  Mini-Market  Αττική   \n3318    10961                    GUMS & CANDIES  Mini-Market  Αττική   \n3323    10961                          PET CARE  Mini-Market  Αττική   \n\n        Revenue  Quantity  Average_Price  \n99        12.00       1.0      12.000000  \n100   762792.58  172510.0       5.951649  \n85     12736.68    6708.0       5.172544  \n88      3149.00    1094.0       3.843351  \n92     17465.60    5875.0       3.722286  \n...         ...       ...            ...  \n3325   62513.88   42880.0       1.427463  \n3326  151077.58  137175.0       1.290439  \n3315   28044.62   21910.0       1.284742  \n3318   38836.06   30272.0       1.231848  \n3323     506.10     505.0       1.152290  \n\n[691 rows x 7 columns]",
      "text/html": "<div>\n<style scoped>\n    .dataframe tbody tr th:only-of-type {\n        vertical-align: middle;\n    }\n\n    .dataframe tbody tr th {\n        vertical-align: top;\n    }\n\n    .dataframe thead th {\n        text-align: right;\n    }\n</style>\n<table border=\"1\" class=\"dataframe\">\n  <thead>\n    <tr style=\"text-align: right;\">\n      <th></th>\n      <th>StoreId</th>\n      <th>Category</th>\n      <th>Type</th>\n      <th>Area</th>\n      <th>Revenue</th>\n      <th>Quantity</th>\n      <th>Average_Price</th>\n    </tr>\n  </thead>\n  <tbody>\n    <tr>\n      <th>99</th>\n      <td>3545</td>\n      <td>TICKETING AND ADMISSION SERVICES</td>\n      <td>Mini-Market</td>\n      <td>Αττική</td>\n      <td>12.00</td>\n      <td>1.0</td>\n      <td>12.000000</td>\n    </tr>\n    <tr>\n      <th>100</th>\n      <td>3545</td>\n      <td>TOBACCO</td>\n      <td>Mini-Market</td>\n      <td>Αττική</td>\n      <td>762792.58</td>\n      <td>172510.0</td>\n      <td>5.951649</td>\n    </tr>\n    <tr>\n      <th>85</th>\n      <td>3545</td>\n      <td>ALCOHOLIC BEVERAGES</td>\n      <td>Mini-Market</td>\n      <td>Αττική</td>\n      <td>12736.68</td>\n      <td>6708.0</td>\n      <td>5.172544</td>\n    </tr>\n    <tr>\n      <th>88</th>\n      <td>3545</td>\n      <td>COFFEE</td>\n      <td>Mini-Market</td>\n      <td>Αττική</td>\n      <td>3149.00</td>\n      <td>1094.0</td>\n      <td>3.843351</td>\n    </tr>\n    <tr>\n      <th>92</th>\n      <td>3545</td>\n      <td>ICE CREAM</td>\n      <td>Mini-Market</td>\n      <td>Αττική</td>\n      <td>17465.60</td>\n      <td>5875.0</td>\n      <td>3.722286</td>\n    </tr>\n    <tr>\n      <th>...</th>\n      <td>...</td>\n      <td>...</td>\n      <td>...</td>\n      <td>...</td>\n      <td>...</td>\n      <td>...</td>\n      <td>...</td>\n    </tr>\n    <tr>\n      <th>3325</th>\n      <td>10961</td>\n      <td>SNACKS</td>\n      <td>Mini-Market</td>\n      <td>Αττική</td>\n      <td>62513.88</td>\n      <td>42880.0</td>\n      <td>1.427463</td>\n    </tr>\n    <tr>\n      <th>3326</th>\n      <td>10961</td>\n      <td>SOFT DRINKS</td>\n      <td>Mini-Market</td>\n      <td>Αττική</td>\n      <td>151077.58</td>\n      <td>137175.0</td>\n      <td>1.290439</td>\n    </tr>\n    <tr>\n      <th>3315</th>\n      <td>10961</td>\n      <td>CHOCOLATE</td>\n      <td>Mini-Market</td>\n      <td>Αττική</td>\n      <td>28044.62</td>\n      <td>21910.0</td>\n      <td>1.284742</td>\n    </tr>\n    <tr>\n      <th>3318</th>\n      <td>10961</td>\n      <td>GUMS &amp; CANDIES</td>\n      <td>Mini-Market</td>\n      <td>Αττική</td>\n      <td>38836.06</td>\n      <td>30272.0</td>\n      <td>1.231848</td>\n    </tr>\n    <tr>\n      <th>3323</th>\n      <td>10961</td>\n      <td>PET CARE</td>\n      <td>Mini-Market</td>\n      <td>Αττική</td>\n      <td>506.10</td>\n      <td>505.0</td>\n      <td>1.152290</td>\n    </tr>\n  </tbody>\n</table>\n<p>691 rows × 7 columns</p>\n</div>"
     },
     "execution_count": 245,
     "metadata": {},
     "output_type": "execute_result"
    }
   ],
   "source": [
    "# Keep stores with area Αττική in a new dataframe\n",
    "data1_grouped_mini_market_store_attiki = data1_grouped_mini_market_store[data1_grouped_mini_market_store['Area'] == 'Αττική']\n",
    "data1_grouped_mini_market_store_attiki"
   ],
   "metadata": {
    "collapsed": false,
    "ExecuteTime": {
     "end_time": "2024-01-04T12:43:13.712104Z",
     "start_time": "2024-01-04T12:43:13.690508600Z"
    }
   },
   "id": "ed7250e706af4bb8",
   "execution_count": 245
  },
  {
   "cell_type": "code",
   "outputs": [],
   "source": [],
   "metadata": {
    "collapsed": false
   },
   "id": "edcfc82a880a3b85"
  },
  {
   "cell_type": "markdown",
   "source": [
    "--------------------------\n",
    "\n",
    "## For Kiosks\n",
    "\n",
    "---------------------------"
   ],
   "metadata": {
    "collapsed": false
   },
   "id": "9eb6c2411937331"
  },
  {
   "cell_type": "code",
   "outputs": [
    {
     "name": "stderr",
     "output_type": "stream",
     "text": [
      "C:\\Users\\panagiotis\\AppData\\Local\\Temp\\ipykernel_36668\\3629798348.py:1: SettingWithCopyWarning: \n",
      "A value is trying to be set on a copy of a slice from a DataFrame\n",
      "\n",
      "See the caveats in the documentation: https://pandas.pydata.org/pandas-docs/stable/user_guide/indexing.html#returning-a-view-versus-a-copy\n",
      "  data1_grouped_kiosk.drop(columns=['Type'], inplace=True)\n"
     ]
    },
    {
     "data": {
      "text/plain": "      StoreId                          Category    Area    Revenue  Quantity  \\\n0        3435               ALCOHOLIC BEVERAGES  Αττική  133290.69   76194.0   \n1        3435                          BISCUITS  Αττική   10480.80    5845.0   \n2        3435                         CHOCOLATE  Αττική   43941.14   34656.0   \n3        3435                            COFFEE  Αττική    6115.90    5059.0   \n4        3435                             DAIRY  Αττική    3157.00    2080.0   \n...       ...                               ...     ...        ...       ...   \n3292    10884                       SOFT DRINKS  Αττική   34130.54   31972.0   \n3293    10884  TICKETING AND ADMISSION SERVICES  Αττική   66159.90    3401.0   \n3294    10884                           TOBACCO  Αττική  435476.75   99541.0   \n3295    10884                     TOBACCO COMPL  Αττική   15430.00   20181.0   \n3296    10884                              TOYS  Αττική    1074.75     777.0   \n\n      Average_Price  \n0          3.470383  \n1          1.914825  \n2          1.208003  \n3          1.486962  \n4          1.536078  \n...             ...  \n3292       1.399605  \n3293      19.035465  \n3294       6.087118  \n3295      10.894068  \n3296       1.228902  \n\n[1455 rows x 6 columns]",
      "text/html": "<div>\n<style scoped>\n    .dataframe tbody tr th:only-of-type {\n        vertical-align: middle;\n    }\n\n    .dataframe tbody tr th {\n        vertical-align: top;\n    }\n\n    .dataframe thead th {\n        text-align: right;\n    }\n</style>\n<table border=\"1\" class=\"dataframe\">\n  <thead>\n    <tr style=\"text-align: right;\">\n      <th></th>\n      <th>StoreId</th>\n      <th>Category</th>\n      <th>Area</th>\n      <th>Revenue</th>\n      <th>Quantity</th>\n      <th>Average_Price</th>\n    </tr>\n  </thead>\n  <tbody>\n    <tr>\n      <th>0</th>\n      <td>3435</td>\n      <td>ALCOHOLIC BEVERAGES</td>\n      <td>Αττική</td>\n      <td>133290.69</td>\n      <td>76194.0</td>\n      <td>3.470383</td>\n    </tr>\n    <tr>\n      <th>1</th>\n      <td>3435</td>\n      <td>BISCUITS</td>\n      <td>Αττική</td>\n      <td>10480.80</td>\n      <td>5845.0</td>\n      <td>1.914825</td>\n    </tr>\n    <tr>\n      <th>2</th>\n      <td>3435</td>\n      <td>CHOCOLATE</td>\n      <td>Αττική</td>\n      <td>43941.14</td>\n      <td>34656.0</td>\n      <td>1.208003</td>\n    </tr>\n    <tr>\n      <th>3</th>\n      <td>3435</td>\n      <td>COFFEE</td>\n      <td>Αττική</td>\n      <td>6115.90</td>\n      <td>5059.0</td>\n      <td>1.486962</td>\n    </tr>\n    <tr>\n      <th>4</th>\n      <td>3435</td>\n      <td>DAIRY</td>\n      <td>Αττική</td>\n      <td>3157.00</td>\n      <td>2080.0</td>\n      <td>1.536078</td>\n    </tr>\n    <tr>\n      <th>...</th>\n      <td>...</td>\n      <td>...</td>\n      <td>...</td>\n      <td>...</td>\n      <td>...</td>\n      <td>...</td>\n    </tr>\n    <tr>\n      <th>3292</th>\n      <td>10884</td>\n      <td>SOFT DRINKS</td>\n      <td>Αττική</td>\n      <td>34130.54</td>\n      <td>31972.0</td>\n      <td>1.399605</td>\n    </tr>\n    <tr>\n      <th>3293</th>\n      <td>10884</td>\n      <td>TICKETING AND ADMISSION SERVICES</td>\n      <td>Αττική</td>\n      <td>66159.90</td>\n      <td>3401.0</td>\n      <td>19.035465</td>\n    </tr>\n    <tr>\n      <th>3294</th>\n      <td>10884</td>\n      <td>TOBACCO</td>\n      <td>Αττική</td>\n      <td>435476.75</td>\n      <td>99541.0</td>\n      <td>6.087118</td>\n    </tr>\n    <tr>\n      <th>3295</th>\n      <td>10884</td>\n      <td>TOBACCO COMPL</td>\n      <td>Αττική</td>\n      <td>15430.00</td>\n      <td>20181.0</td>\n      <td>10.894068</td>\n    </tr>\n    <tr>\n      <th>3296</th>\n      <td>10884</td>\n      <td>TOYS</td>\n      <td>Αττική</td>\n      <td>1074.75</td>\n      <td>777.0</td>\n      <td>1.228902</td>\n    </tr>\n  </tbody>\n</table>\n<p>1455 rows × 6 columns</p>\n</div>"
     },
     "execution_count": 226,
     "metadata": {},
     "output_type": "execute_result"
    }
   ],
   "source": [
    "data1_grouped_kiosk.drop(columns=['Type'], inplace=True)\n",
    "data1_grouped_kiosk"
   ],
   "metadata": {
    "collapsed": false,
    "ExecuteTime": {
     "end_time": "2024-01-04T12:31:35.859476400Z",
     "start_time": "2024-01-04T12:31:35.842998300Z"
    }
   },
   "id": "d37ad39a0b57aa4c",
   "execution_count": 226
  },
  {
   "cell_type": "code",
   "outputs": [
    {
     "data": {
      "text/plain": "      StoreId                          Category    Area    Revenue  Quantity  \\\n0        3435               ALCOHOLIC BEVERAGES  Αττική  133290.69   76194.0   \n1        3435                          BISCUITS  Αττική   10480.80    5845.0   \n2        3435                         CHOCOLATE  Αττική   43941.14   34656.0   \n3        3435                            COFFEE  Αττική    6115.90    5059.0   \n4        3435                             DAIRY  Αττική    3157.00    2080.0   \n...       ...                               ...     ...        ...       ...   \n3292    10884                       SOFT DRINKS  Αττική   34130.54   31972.0   \n3293    10884  TICKETING AND ADMISSION SERVICES  Αττική   66159.90    3401.0   \n3294    10884                           TOBACCO  Αττική  435476.75   99541.0   \n3295    10884                     TOBACCO COMPL  Αττική   15430.00   20181.0   \n3296    10884                              TOYS  Αττική    1074.75     777.0   \n\n      Average_Price  \n0          3.470383  \n1          1.914825  \n2          1.208003  \n3          1.486962  \n4          1.536078  \n...             ...  \n3292       1.399605  \n3293      19.035465  \n3294       6.087118  \n3295      10.894068  \n3296       1.228902  \n\n[1455 rows x 6 columns]",
      "text/html": "<div>\n<style scoped>\n    .dataframe tbody tr th:only-of-type {\n        vertical-align: middle;\n    }\n\n    .dataframe tbody tr th {\n        vertical-align: top;\n    }\n\n    .dataframe thead th {\n        text-align: right;\n    }\n</style>\n<table border=\"1\" class=\"dataframe\">\n  <thead>\n    <tr style=\"text-align: right;\">\n      <th></th>\n      <th>StoreId</th>\n      <th>Category</th>\n      <th>Area</th>\n      <th>Revenue</th>\n      <th>Quantity</th>\n      <th>Average_Price</th>\n    </tr>\n  </thead>\n  <tbody>\n    <tr>\n      <th>0</th>\n      <td>3435</td>\n      <td>ALCOHOLIC BEVERAGES</td>\n      <td>Αττική</td>\n      <td>133290.69</td>\n      <td>76194.0</td>\n      <td>3.470383</td>\n    </tr>\n    <tr>\n      <th>1</th>\n      <td>3435</td>\n      <td>BISCUITS</td>\n      <td>Αττική</td>\n      <td>10480.80</td>\n      <td>5845.0</td>\n      <td>1.914825</td>\n    </tr>\n    <tr>\n      <th>2</th>\n      <td>3435</td>\n      <td>CHOCOLATE</td>\n      <td>Αττική</td>\n      <td>43941.14</td>\n      <td>34656.0</td>\n      <td>1.208003</td>\n    </tr>\n    <tr>\n      <th>3</th>\n      <td>3435</td>\n      <td>COFFEE</td>\n      <td>Αττική</td>\n      <td>6115.90</td>\n      <td>5059.0</td>\n      <td>1.486962</td>\n    </tr>\n    <tr>\n      <th>4</th>\n      <td>3435</td>\n      <td>DAIRY</td>\n      <td>Αττική</td>\n      <td>3157.00</td>\n      <td>2080.0</td>\n      <td>1.536078</td>\n    </tr>\n    <tr>\n      <th>...</th>\n      <td>...</td>\n      <td>...</td>\n      <td>...</td>\n      <td>...</td>\n      <td>...</td>\n      <td>...</td>\n    </tr>\n    <tr>\n      <th>3292</th>\n      <td>10884</td>\n      <td>SOFT DRINKS</td>\n      <td>Αττική</td>\n      <td>34130.54</td>\n      <td>31972.0</td>\n      <td>1.399605</td>\n    </tr>\n    <tr>\n      <th>3293</th>\n      <td>10884</td>\n      <td>TICKETING AND ADMISSION SERVICES</td>\n      <td>Αττική</td>\n      <td>66159.90</td>\n      <td>3401.0</td>\n      <td>19.035465</td>\n    </tr>\n    <tr>\n      <th>3294</th>\n      <td>10884</td>\n      <td>TOBACCO</td>\n      <td>Αττική</td>\n      <td>435476.75</td>\n      <td>99541.0</td>\n      <td>6.087118</td>\n    </tr>\n    <tr>\n      <th>3295</th>\n      <td>10884</td>\n      <td>TOBACCO COMPL</td>\n      <td>Αττική</td>\n      <td>15430.00</td>\n      <td>20181.0</td>\n      <td>10.894068</td>\n    </tr>\n    <tr>\n      <th>3296</th>\n      <td>10884</td>\n      <td>TOYS</td>\n      <td>Αττική</td>\n      <td>1074.75</td>\n      <td>777.0</td>\n      <td>1.228902</td>\n    </tr>\n  </tbody>\n</table>\n<p>1455 rows × 6 columns</p>\n</div>"
     },
     "execution_count": 227,
     "metadata": {},
     "output_type": "execute_result"
    }
   ],
   "source": [
    "data1_grouped_kiosk"
   ],
   "metadata": {
    "collapsed": false,
    "ExecuteTime": {
     "end_time": "2024-01-04T12:31:35.860476600Z",
     "start_time": "2024-01-04T12:31:35.850999200Z"
    }
   },
   "id": "ac95de15c10454b7",
   "execution_count": 227
  },
  {
   "cell_type": "code",
   "outputs": [
    {
     "data": {
      "text/plain": "             Area                          Category       Revenue  \\\n0          Αττική               ALCOHOLIC BEVERAGES  2.224112e+06   \n1          Αττική                          BISCUITS  2.948597e+05   \n2          Αττική                         CHOCOLATE  8.435025e+05   \n3          Αττική                            COFFEE  1.305983e+05   \n4          Αττική                             DAIRY  6.975418e+04   \n..            ...                               ...           ...   \n103  Πελοπόννησος                       SOFT DRINKS  8.673377e+05   \n104  Πελοπόννησος  TICKETING AND ADMISSION SERVICES  1.929142e+06   \n105  Πελοπόννησος                           TOBACCO  1.170156e+07   \n106  Πελοπόννησος                     TOBACCO COMPL  3.449703e+05   \n107  Πελοπόννησος                              TOYS  3.486894e+04   \n\n        Quantity  Average_Price  \n0    1244761.000       4.306251  \n1     158457.000       1.932477  \n2     637549.000       1.255829  \n3     101463.000       1.799529  \n4      31541.000       1.863712  \n..           ...            ...  \n103   748967.000       1.362730  \n104   121424.000      16.901979  \n105  2718021.000       5.042026  \n106  1191426.416       7.987858  \n107    24738.000       2.074643  \n\n[108 rows x 5 columns]",
      "text/html": "<div>\n<style scoped>\n    .dataframe tbody tr th:only-of-type {\n        vertical-align: middle;\n    }\n\n    .dataframe tbody tr th {\n        vertical-align: top;\n    }\n\n    .dataframe thead th {\n        text-align: right;\n    }\n</style>\n<table border=\"1\" class=\"dataframe\">\n  <thead>\n    <tr style=\"text-align: right;\">\n      <th></th>\n      <th>Area</th>\n      <th>Category</th>\n      <th>Revenue</th>\n      <th>Quantity</th>\n      <th>Average_Price</th>\n    </tr>\n  </thead>\n  <tbody>\n    <tr>\n      <th>0</th>\n      <td>Αττική</td>\n      <td>ALCOHOLIC BEVERAGES</td>\n      <td>2.224112e+06</td>\n      <td>1244761.000</td>\n      <td>4.306251</td>\n    </tr>\n    <tr>\n      <th>1</th>\n      <td>Αττική</td>\n      <td>BISCUITS</td>\n      <td>2.948597e+05</td>\n      <td>158457.000</td>\n      <td>1.932477</td>\n    </tr>\n    <tr>\n      <th>2</th>\n      <td>Αττική</td>\n      <td>CHOCOLATE</td>\n      <td>8.435025e+05</td>\n      <td>637549.000</td>\n      <td>1.255829</td>\n    </tr>\n    <tr>\n      <th>3</th>\n      <td>Αττική</td>\n      <td>COFFEE</td>\n      <td>1.305983e+05</td>\n      <td>101463.000</td>\n      <td>1.799529</td>\n    </tr>\n    <tr>\n      <th>4</th>\n      <td>Αττική</td>\n      <td>DAIRY</td>\n      <td>6.975418e+04</td>\n      <td>31541.000</td>\n      <td>1.863712</td>\n    </tr>\n    <tr>\n      <th>...</th>\n      <td>...</td>\n      <td>...</td>\n      <td>...</td>\n      <td>...</td>\n      <td>...</td>\n    </tr>\n    <tr>\n      <th>103</th>\n      <td>Πελοπόννησος</td>\n      <td>SOFT DRINKS</td>\n      <td>8.673377e+05</td>\n      <td>748967.000</td>\n      <td>1.362730</td>\n    </tr>\n    <tr>\n      <th>104</th>\n      <td>Πελοπόννησος</td>\n      <td>TICKETING AND ADMISSION SERVICES</td>\n      <td>1.929142e+06</td>\n      <td>121424.000</td>\n      <td>16.901979</td>\n    </tr>\n    <tr>\n      <th>105</th>\n      <td>Πελοπόννησος</td>\n      <td>TOBACCO</td>\n      <td>1.170156e+07</td>\n      <td>2718021.000</td>\n      <td>5.042026</td>\n    </tr>\n    <tr>\n      <th>106</th>\n      <td>Πελοπόννησος</td>\n      <td>TOBACCO COMPL</td>\n      <td>3.449703e+05</td>\n      <td>1191426.416</td>\n      <td>7.987858</td>\n    </tr>\n    <tr>\n      <th>107</th>\n      <td>Πελοπόννησος</td>\n      <td>TOYS</td>\n      <td>3.486894e+04</td>\n      <td>24738.000</td>\n      <td>2.074643</td>\n    </tr>\n  </tbody>\n</table>\n<p>108 rows × 5 columns</p>\n</div>"
     },
     "execution_count": 228,
     "metadata": {},
     "output_type": "execute_result"
    }
   ],
   "source": [
    "# Group by Area and Subcategory and calculate the sum of the revenue\n",
    "data1_grouped_kiosk = data1_grouped_kiosk.groupby(['Area', 'Category']).agg(\n",
    "    {'Revenue': 'sum', 'Quantity': 'sum', 'Average_Price': 'mean'}).reset_index()\n",
    "data1_grouped_kiosk"
   ],
   "metadata": {
    "collapsed": false,
    "ExecuteTime": {
     "end_time": "2024-01-04T12:31:35.916165600Z",
     "start_time": "2024-01-04T12:31:35.857477Z"
    }
   },
   "id": "c4769abfa11e1996",
   "execution_count": 228
  },
  {
   "cell_type": "code",
   "outputs": [
    {
     "data": {
      "text/plain": "                         Area       Revenue      Quantity  Average_Price\n0                      Αττική  5.659161e+07  1.914790e+07       3.341644\n1  Δυτική και Κεντρική Ελλάδα  1.156298e+07  3.510833e+06       3.053955\n2                       Κρήτη  8.937910e+06  3.137664e+06       3.293782\n3         Μακεδονία και Θράκη  2.037837e+07  6.667072e+06       3.392288\n4                       Νησιά  1.367641e+07  4.264125e+06       3.870259\n5                Πελοπόννησος  1.744485e+07  6.315637e+06       3.474728",
      "text/html": "<div>\n<style scoped>\n    .dataframe tbody tr th:only-of-type {\n        vertical-align: middle;\n    }\n\n    .dataframe tbody tr th {\n        vertical-align: top;\n    }\n\n    .dataframe thead th {\n        text-align: right;\n    }\n</style>\n<table border=\"1\" class=\"dataframe\">\n  <thead>\n    <tr style=\"text-align: right;\">\n      <th></th>\n      <th>Area</th>\n      <th>Revenue</th>\n      <th>Quantity</th>\n      <th>Average_Price</th>\n    </tr>\n  </thead>\n  <tbody>\n    <tr>\n      <th>0</th>\n      <td>Αττική</td>\n      <td>5.659161e+07</td>\n      <td>1.914790e+07</td>\n      <td>3.341644</td>\n    </tr>\n    <tr>\n      <th>1</th>\n      <td>Δυτική και Κεντρική Ελλάδα</td>\n      <td>1.156298e+07</td>\n      <td>3.510833e+06</td>\n      <td>3.053955</td>\n    </tr>\n    <tr>\n      <th>2</th>\n      <td>Κρήτη</td>\n      <td>8.937910e+06</td>\n      <td>3.137664e+06</td>\n      <td>3.293782</td>\n    </tr>\n    <tr>\n      <th>3</th>\n      <td>Μακεδονία και Θράκη</td>\n      <td>2.037837e+07</td>\n      <td>6.667072e+06</td>\n      <td>3.392288</td>\n    </tr>\n    <tr>\n      <th>4</th>\n      <td>Νησιά</td>\n      <td>1.367641e+07</td>\n      <td>4.264125e+06</td>\n      <td>3.870259</td>\n    </tr>\n    <tr>\n      <th>5</th>\n      <td>Πελοπόννησος</td>\n      <td>1.744485e+07</td>\n      <td>6.315637e+06</td>\n      <td>3.474728</td>\n    </tr>\n  </tbody>\n</table>\n</div>"
     },
     "execution_count": 229,
     "metadata": {},
     "output_type": "execute_result"
    }
   ],
   "source": [
    "# Calculate the total revenue per area \n",
    "data1_grouped_kiosk_area = data1_grouped_kiosk.groupby(['Area']).agg(\n",
    "    {'Revenue': 'sum', 'Quantity': 'sum', 'Average_Price': 'mean'}).reset_index()\n",
    "data1_grouped_kiosk_area"
   ],
   "metadata": {
    "collapsed": false,
    "ExecuteTime": {
     "end_time": "2024-01-04T12:31:35.917166900Z",
     "start_time": "2024-01-04T12:31:35.866659800Z"
    }
   },
   "id": "564b5f153514bb73",
   "execution_count": 229
  },
  {
   "cell_type": "code",
   "outputs": [
    {
     "data": {
      "text/plain": "             Area                          Category       Revenue  \\\n0          Αττική               ALCOHOLIC BEVERAGES  2.224112e+06   \n1          Αττική                          BISCUITS  2.948597e+05   \n2          Αττική                         CHOCOLATE  8.435025e+05   \n3          Αττική                            COFFEE  1.305983e+05   \n4          Αττική                             DAIRY  6.975418e+04   \n..            ...                               ...           ...   \n103  Πελοπόννησος                       SOFT DRINKS  8.673377e+05   \n104  Πελοπόννησος  TICKETING AND ADMISSION SERVICES  1.929142e+06   \n105  Πελοπόννησος                           TOBACCO  1.170156e+07   \n106  Πελοπόννησος                     TOBACCO COMPL  3.449703e+05   \n107  Πελοπόννησος                              TOYS  3.486894e+04   \n\n        Quantity  Average_Price  Revenue_total  Quantity_total  \\\n0    1244761.000       4.306251   5.659161e+07    1.914790e+07   \n1     158457.000       1.932477   5.659161e+07    1.914790e+07   \n2     637549.000       1.255829   5.659161e+07    1.914790e+07   \n3     101463.000       1.799529   5.659161e+07    1.914790e+07   \n4      31541.000       1.863712   5.659161e+07    1.914790e+07   \n..           ...            ...            ...             ...   \n103   748967.000       1.362730   1.744485e+07    6.315637e+06   \n104   121424.000      16.901979   1.744485e+07    6.315637e+06   \n105  2718021.000       5.042026   1.744485e+07    6.315637e+06   \n106  1191426.416       7.987858   1.744485e+07    6.315637e+06   \n107    24738.000       2.074643   1.744485e+07    6.315637e+06   \n\n     Average_Price_total  Revenue_percentage  \n0               3.341644            0.039301  \n1               3.341644            0.005210  \n2               3.341644            0.014905  \n3               3.341644            0.002308  \n4               3.341644            0.001233  \n..                   ...                 ...  \n103             3.474728            0.049719  \n104             3.474728            0.110585  \n105             3.474728            0.670775  \n106             3.474728            0.019775  \n107             3.474728            0.001999  \n\n[108 rows x 9 columns]",
      "text/html": "<div>\n<style scoped>\n    .dataframe tbody tr th:only-of-type {\n        vertical-align: middle;\n    }\n\n    .dataframe tbody tr th {\n        vertical-align: top;\n    }\n\n    .dataframe thead th {\n        text-align: right;\n    }\n</style>\n<table border=\"1\" class=\"dataframe\">\n  <thead>\n    <tr style=\"text-align: right;\">\n      <th></th>\n      <th>Area</th>\n      <th>Category</th>\n      <th>Revenue</th>\n      <th>Quantity</th>\n      <th>Average_Price</th>\n      <th>Revenue_total</th>\n      <th>Quantity_total</th>\n      <th>Average_Price_total</th>\n      <th>Revenue_percentage</th>\n    </tr>\n  </thead>\n  <tbody>\n    <tr>\n      <th>0</th>\n      <td>Αττική</td>\n      <td>ALCOHOLIC BEVERAGES</td>\n      <td>2.224112e+06</td>\n      <td>1244761.000</td>\n      <td>4.306251</td>\n      <td>5.659161e+07</td>\n      <td>1.914790e+07</td>\n      <td>3.341644</td>\n      <td>0.039301</td>\n    </tr>\n    <tr>\n      <th>1</th>\n      <td>Αττική</td>\n      <td>BISCUITS</td>\n      <td>2.948597e+05</td>\n      <td>158457.000</td>\n      <td>1.932477</td>\n      <td>5.659161e+07</td>\n      <td>1.914790e+07</td>\n      <td>3.341644</td>\n      <td>0.005210</td>\n    </tr>\n    <tr>\n      <th>2</th>\n      <td>Αττική</td>\n      <td>CHOCOLATE</td>\n      <td>8.435025e+05</td>\n      <td>637549.000</td>\n      <td>1.255829</td>\n      <td>5.659161e+07</td>\n      <td>1.914790e+07</td>\n      <td>3.341644</td>\n      <td>0.014905</td>\n    </tr>\n    <tr>\n      <th>3</th>\n      <td>Αττική</td>\n      <td>COFFEE</td>\n      <td>1.305983e+05</td>\n      <td>101463.000</td>\n      <td>1.799529</td>\n      <td>5.659161e+07</td>\n      <td>1.914790e+07</td>\n      <td>3.341644</td>\n      <td>0.002308</td>\n    </tr>\n    <tr>\n      <th>4</th>\n      <td>Αττική</td>\n      <td>DAIRY</td>\n      <td>6.975418e+04</td>\n      <td>31541.000</td>\n      <td>1.863712</td>\n      <td>5.659161e+07</td>\n      <td>1.914790e+07</td>\n      <td>3.341644</td>\n      <td>0.001233</td>\n    </tr>\n    <tr>\n      <th>...</th>\n      <td>...</td>\n      <td>...</td>\n      <td>...</td>\n      <td>...</td>\n      <td>...</td>\n      <td>...</td>\n      <td>...</td>\n      <td>...</td>\n      <td>...</td>\n    </tr>\n    <tr>\n      <th>103</th>\n      <td>Πελοπόννησος</td>\n      <td>SOFT DRINKS</td>\n      <td>8.673377e+05</td>\n      <td>748967.000</td>\n      <td>1.362730</td>\n      <td>1.744485e+07</td>\n      <td>6.315637e+06</td>\n      <td>3.474728</td>\n      <td>0.049719</td>\n    </tr>\n    <tr>\n      <th>104</th>\n      <td>Πελοπόννησος</td>\n      <td>TICKETING AND ADMISSION SERVICES</td>\n      <td>1.929142e+06</td>\n      <td>121424.000</td>\n      <td>16.901979</td>\n      <td>1.744485e+07</td>\n      <td>6.315637e+06</td>\n      <td>3.474728</td>\n      <td>0.110585</td>\n    </tr>\n    <tr>\n      <th>105</th>\n      <td>Πελοπόννησος</td>\n      <td>TOBACCO</td>\n      <td>1.170156e+07</td>\n      <td>2718021.000</td>\n      <td>5.042026</td>\n      <td>1.744485e+07</td>\n      <td>6.315637e+06</td>\n      <td>3.474728</td>\n      <td>0.670775</td>\n    </tr>\n    <tr>\n      <th>106</th>\n      <td>Πελοπόννησος</td>\n      <td>TOBACCO COMPL</td>\n      <td>3.449703e+05</td>\n      <td>1191426.416</td>\n      <td>7.987858</td>\n      <td>1.744485e+07</td>\n      <td>6.315637e+06</td>\n      <td>3.474728</td>\n      <td>0.019775</td>\n    </tr>\n    <tr>\n      <th>107</th>\n      <td>Πελοπόννησος</td>\n      <td>TOYS</td>\n      <td>3.486894e+04</td>\n      <td>24738.000</td>\n      <td>2.074643</td>\n      <td>1.744485e+07</td>\n      <td>6.315637e+06</td>\n      <td>3.474728</td>\n      <td>0.001999</td>\n    </tr>\n  </tbody>\n</table>\n<p>108 rows × 9 columns</p>\n</div>"
     },
     "execution_count": 230,
     "metadata": {},
     "output_type": "execute_result"
    }
   ],
   "source": [
    "# For each subcategory, calculate the percentage of revenue per area\n",
    "data1_grouped_kiosk = data1_grouped_kiosk.merge(data1_grouped_kiosk_area, on='Area', suffixes=('', '_total'))\n",
    "data1_grouped_kiosk['Revenue_percentage'] = (data1_grouped_kiosk['Revenue'] / data1_grouped_kiosk['Revenue_total'])\n",
    "data1_grouped_kiosk"
   ],
   "metadata": {
    "collapsed": false,
    "ExecuteTime": {
     "end_time": "2024-01-04T12:31:35.954190600Z",
     "start_time": "2024-01-04T12:31:35.873514900Z"
    }
   },
   "id": "7bb1d8a16465bb8f",
   "execution_count": 230
  },
  {
   "cell_type": "code",
   "outputs": [
    {
     "data": {
      "text/plain": "                           Area                          Category  \\\n15                       Αττική                           TOBACCO   \n14                       Αττική  TICKETING AND ADMISSION SERVICES   \n13                       Αττική                       SOFT DRINKS   \n0                        Αττική               ALCOHOLIC BEVERAGES   \n12                       Αττική                            SNACKS   \n33   Δυτική και Κεντρική Ελλάδα                           TOBACCO   \n32   Δυτική και Κεντρική Ελλάδα  TICKETING AND ADMISSION SERVICES   \n31   Δυτική και Κεντρική Ελλάδα                       SOFT DRINKS   \n34   Δυτική και Κεντρική Ελλάδα                     TOBACCO COMPL   \n30   Δυτική και Κεντρική Ελλάδα                            SNACKS   \n51                        Κρήτη                           TOBACCO   \n50                        Κρήτη  TICKETING AND ADMISSION SERVICES   \n49                        Κρήτη                       SOFT DRINKS   \n48                        Κρήτη                            SNACKS   \n52                        Κρήτη                     TOBACCO COMPL   \n69          Μακεδονία και Θράκη                           TOBACCO   \n68          Μακεδονία και Θράκη  TICKETING AND ADMISSION SERVICES   \n67          Μακεδονία και Θράκη                       SOFT DRINKS   \n54          Μακεδονία και Θράκη               ALCOHOLIC BEVERAGES   \n70          Μακεδονία και Θράκη                     TOBACCO COMPL   \n87                        Νησιά                           TOBACCO   \n86                        Νησιά  TICKETING AND ADMISSION SERVICES   \n85                        Νησιά                       SOFT DRINKS   \n88                        Νησιά                     TOBACCO COMPL   \n72                        Νησιά               ALCOHOLIC BEVERAGES   \n105                Πελοπόννησος                           TOBACCO   \n104                Πελοπόννησος  TICKETING AND ADMISSION SERVICES   \n103                Πελοπόννησος                       SOFT DRINKS   \n90                 Πελοπόννησος               ALCOHOLIC BEVERAGES   \n102                Πελοπόννησος                            SNACKS   \n\n         Revenue   Quantity  Average_Price  Revenue_total  Quantity_total  \\\n15   38746456.62  8883107.0       5.385440   5.659161e+07    1.914790e+07   \n14    4374789.46   255047.0      14.999683   5.659161e+07    1.914790e+07   \n13    3521382.35  3048309.0       1.341465   5.659161e+07    1.914790e+07   \n0     2224112.27  1244761.0       4.306251   5.659161e+07    1.914790e+07   \n12    1587268.88  1104197.0       1.459466   5.659161e+07    1.914790e+07   \n33    8140947.11  1894715.0       4.808513   1.156298e+07    3.510833e+06   \n32    1705293.00    99093.0      16.663068   1.156298e+07    3.510833e+06   \n31     456432.97   432068.0       1.240181   1.156298e+07    3.510833e+06   \n34     237218.44   354045.0       8.092772   1.156298e+07    3.510833e+06   \n30     201046.87   158064.0       1.319202   1.156298e+07    3.510833e+06   \n51    6002556.73  1357402.0       5.335776   8.937910e+06    3.137664e+06   \n50     836253.50   155073.0      10.087035   8.937910e+06    3.137664e+06   \n49     538251.77   482771.0       1.364100   8.937910e+06    3.137664e+06   \n48     291819.13   195137.0       1.538940   8.937910e+06    3.137664e+06   \n52     260668.21   331317.0       9.831569   8.937910e+06    3.137664e+06   \n69   14609002.24  3357930.0       5.139826   2.037837e+07    6.667072e+06   \n68    1795665.48   130084.0      15.292861   2.037837e+07    6.667072e+06   \n67    1029782.83   977134.0       1.262520   2.037837e+07    6.667072e+06   \n54     651516.87   351735.0       4.589600   2.037837e+07    6.667072e+06   \n70     507908.30   637285.0       9.648870   2.037837e+07    6.667072e+06   \n87    9347549.14  2101194.0       5.556937   1.367641e+07    4.264125e+06   \n86    1566581.50    90518.0      14.985939   1.367641e+07    4.264125e+06   \n85     757899.40   639921.0       1.402318   1.367641e+07    4.264125e+06   \n88     374201.12   465475.0      10.931630   1.367641e+07    4.264125e+06   \n72     361296.37   204144.0       4.356306   1.367641e+07    4.264125e+06   \n105  11701558.49  2718021.0       5.042026   1.744485e+07    6.315637e+06   \n104   1929142.42   121424.0      16.901979   1.744485e+07    6.315637e+06   \n103    867337.68   748967.0       1.362730   1.744485e+07    6.315637e+06   \n90     561715.12   298786.0       5.901260   1.744485e+07    6.315637e+06   \n102    399797.92   309470.0       1.366206   1.744485e+07    6.315637e+06   \n\n     Average_Price_total  Revenue_percentage  \n15              3.341644            0.684668  \n14              3.341644            0.077305  \n13              3.341644            0.062224  \n0               3.341644            0.039301  \n12              3.341644            0.028048  \n33              3.053955            0.704053  \n32              3.053955            0.147479  \n31              3.053955            0.039474  \n34              3.053955            0.020515  \n30              3.053955            0.017387  \n51              3.293782            0.671584  \n50              3.293782            0.093563  \n49              3.293782            0.060221  \n48              3.293782            0.032650  \n52              3.293782            0.029164  \n69              3.392288            0.716888  \n68              3.392288            0.088116  \n67              3.392288            0.050533  \n54              3.392288            0.031971  \n70              3.392288            0.024924  \n87              3.870259            0.683480  \n86              3.870259            0.114546  \n85              3.870259            0.055417  \n88              3.870259            0.027361  \n72              3.870259            0.026417  \n105             3.474728            0.670775  \n104             3.474728            0.110585  \n103             3.474728            0.049719  \n90              3.474728            0.032199  \n102             3.474728            0.022918  ",
      "text/html": "<div>\n<style scoped>\n    .dataframe tbody tr th:only-of-type {\n        vertical-align: middle;\n    }\n\n    .dataframe tbody tr th {\n        vertical-align: top;\n    }\n\n    .dataframe thead th {\n        text-align: right;\n    }\n</style>\n<table border=\"1\" class=\"dataframe\">\n  <thead>\n    <tr style=\"text-align: right;\">\n      <th></th>\n      <th>Area</th>\n      <th>Category</th>\n      <th>Revenue</th>\n      <th>Quantity</th>\n      <th>Average_Price</th>\n      <th>Revenue_total</th>\n      <th>Quantity_total</th>\n      <th>Average_Price_total</th>\n      <th>Revenue_percentage</th>\n    </tr>\n  </thead>\n  <tbody>\n    <tr>\n      <th>15</th>\n      <td>Αττική</td>\n      <td>TOBACCO</td>\n      <td>38746456.62</td>\n      <td>8883107.0</td>\n      <td>5.385440</td>\n      <td>5.659161e+07</td>\n      <td>1.914790e+07</td>\n      <td>3.341644</td>\n      <td>0.684668</td>\n    </tr>\n    <tr>\n      <th>14</th>\n      <td>Αττική</td>\n      <td>TICKETING AND ADMISSION SERVICES</td>\n      <td>4374789.46</td>\n      <td>255047.0</td>\n      <td>14.999683</td>\n      <td>5.659161e+07</td>\n      <td>1.914790e+07</td>\n      <td>3.341644</td>\n      <td>0.077305</td>\n    </tr>\n    <tr>\n      <th>13</th>\n      <td>Αττική</td>\n      <td>SOFT DRINKS</td>\n      <td>3521382.35</td>\n      <td>3048309.0</td>\n      <td>1.341465</td>\n      <td>5.659161e+07</td>\n      <td>1.914790e+07</td>\n      <td>3.341644</td>\n      <td>0.062224</td>\n    </tr>\n    <tr>\n      <th>0</th>\n      <td>Αττική</td>\n      <td>ALCOHOLIC BEVERAGES</td>\n      <td>2224112.27</td>\n      <td>1244761.0</td>\n      <td>4.306251</td>\n      <td>5.659161e+07</td>\n      <td>1.914790e+07</td>\n      <td>3.341644</td>\n      <td>0.039301</td>\n    </tr>\n    <tr>\n      <th>12</th>\n      <td>Αττική</td>\n      <td>SNACKS</td>\n      <td>1587268.88</td>\n      <td>1104197.0</td>\n      <td>1.459466</td>\n      <td>5.659161e+07</td>\n      <td>1.914790e+07</td>\n      <td>3.341644</td>\n      <td>0.028048</td>\n    </tr>\n    <tr>\n      <th>33</th>\n      <td>Δυτική και Κεντρική Ελλάδα</td>\n      <td>TOBACCO</td>\n      <td>8140947.11</td>\n      <td>1894715.0</td>\n      <td>4.808513</td>\n      <td>1.156298e+07</td>\n      <td>3.510833e+06</td>\n      <td>3.053955</td>\n      <td>0.704053</td>\n    </tr>\n    <tr>\n      <th>32</th>\n      <td>Δυτική και Κεντρική Ελλάδα</td>\n      <td>TICKETING AND ADMISSION SERVICES</td>\n      <td>1705293.00</td>\n      <td>99093.0</td>\n      <td>16.663068</td>\n      <td>1.156298e+07</td>\n      <td>3.510833e+06</td>\n      <td>3.053955</td>\n      <td>0.147479</td>\n    </tr>\n    <tr>\n      <th>31</th>\n      <td>Δυτική και Κεντρική Ελλάδα</td>\n      <td>SOFT DRINKS</td>\n      <td>456432.97</td>\n      <td>432068.0</td>\n      <td>1.240181</td>\n      <td>1.156298e+07</td>\n      <td>3.510833e+06</td>\n      <td>3.053955</td>\n      <td>0.039474</td>\n    </tr>\n    <tr>\n      <th>34</th>\n      <td>Δυτική και Κεντρική Ελλάδα</td>\n      <td>TOBACCO COMPL</td>\n      <td>237218.44</td>\n      <td>354045.0</td>\n      <td>8.092772</td>\n      <td>1.156298e+07</td>\n      <td>3.510833e+06</td>\n      <td>3.053955</td>\n      <td>0.020515</td>\n    </tr>\n    <tr>\n      <th>30</th>\n      <td>Δυτική και Κεντρική Ελλάδα</td>\n      <td>SNACKS</td>\n      <td>201046.87</td>\n      <td>158064.0</td>\n      <td>1.319202</td>\n      <td>1.156298e+07</td>\n      <td>3.510833e+06</td>\n      <td>3.053955</td>\n      <td>0.017387</td>\n    </tr>\n    <tr>\n      <th>51</th>\n      <td>Κρήτη</td>\n      <td>TOBACCO</td>\n      <td>6002556.73</td>\n      <td>1357402.0</td>\n      <td>5.335776</td>\n      <td>8.937910e+06</td>\n      <td>3.137664e+06</td>\n      <td>3.293782</td>\n      <td>0.671584</td>\n    </tr>\n    <tr>\n      <th>50</th>\n      <td>Κρήτη</td>\n      <td>TICKETING AND ADMISSION SERVICES</td>\n      <td>836253.50</td>\n      <td>155073.0</td>\n      <td>10.087035</td>\n      <td>8.937910e+06</td>\n      <td>3.137664e+06</td>\n      <td>3.293782</td>\n      <td>0.093563</td>\n    </tr>\n    <tr>\n      <th>49</th>\n      <td>Κρήτη</td>\n      <td>SOFT DRINKS</td>\n      <td>538251.77</td>\n      <td>482771.0</td>\n      <td>1.364100</td>\n      <td>8.937910e+06</td>\n      <td>3.137664e+06</td>\n      <td>3.293782</td>\n      <td>0.060221</td>\n    </tr>\n    <tr>\n      <th>48</th>\n      <td>Κρήτη</td>\n      <td>SNACKS</td>\n      <td>291819.13</td>\n      <td>195137.0</td>\n      <td>1.538940</td>\n      <td>8.937910e+06</td>\n      <td>3.137664e+06</td>\n      <td>3.293782</td>\n      <td>0.032650</td>\n    </tr>\n    <tr>\n      <th>52</th>\n      <td>Κρήτη</td>\n      <td>TOBACCO COMPL</td>\n      <td>260668.21</td>\n      <td>331317.0</td>\n      <td>9.831569</td>\n      <td>8.937910e+06</td>\n      <td>3.137664e+06</td>\n      <td>3.293782</td>\n      <td>0.029164</td>\n    </tr>\n    <tr>\n      <th>69</th>\n      <td>Μακεδονία και Θράκη</td>\n      <td>TOBACCO</td>\n      <td>14609002.24</td>\n      <td>3357930.0</td>\n      <td>5.139826</td>\n      <td>2.037837e+07</td>\n      <td>6.667072e+06</td>\n      <td>3.392288</td>\n      <td>0.716888</td>\n    </tr>\n    <tr>\n      <th>68</th>\n      <td>Μακεδονία και Θράκη</td>\n      <td>TICKETING AND ADMISSION SERVICES</td>\n      <td>1795665.48</td>\n      <td>130084.0</td>\n      <td>15.292861</td>\n      <td>2.037837e+07</td>\n      <td>6.667072e+06</td>\n      <td>3.392288</td>\n      <td>0.088116</td>\n    </tr>\n    <tr>\n      <th>67</th>\n      <td>Μακεδονία και Θράκη</td>\n      <td>SOFT DRINKS</td>\n      <td>1029782.83</td>\n      <td>977134.0</td>\n      <td>1.262520</td>\n      <td>2.037837e+07</td>\n      <td>6.667072e+06</td>\n      <td>3.392288</td>\n      <td>0.050533</td>\n    </tr>\n    <tr>\n      <th>54</th>\n      <td>Μακεδονία και Θράκη</td>\n      <td>ALCOHOLIC BEVERAGES</td>\n      <td>651516.87</td>\n      <td>351735.0</td>\n      <td>4.589600</td>\n      <td>2.037837e+07</td>\n      <td>6.667072e+06</td>\n      <td>3.392288</td>\n      <td>0.031971</td>\n    </tr>\n    <tr>\n      <th>70</th>\n      <td>Μακεδονία και Θράκη</td>\n      <td>TOBACCO COMPL</td>\n      <td>507908.30</td>\n      <td>637285.0</td>\n      <td>9.648870</td>\n      <td>2.037837e+07</td>\n      <td>6.667072e+06</td>\n      <td>3.392288</td>\n      <td>0.024924</td>\n    </tr>\n    <tr>\n      <th>87</th>\n      <td>Νησιά</td>\n      <td>TOBACCO</td>\n      <td>9347549.14</td>\n      <td>2101194.0</td>\n      <td>5.556937</td>\n      <td>1.367641e+07</td>\n      <td>4.264125e+06</td>\n      <td>3.870259</td>\n      <td>0.683480</td>\n    </tr>\n    <tr>\n      <th>86</th>\n      <td>Νησιά</td>\n      <td>TICKETING AND ADMISSION SERVICES</td>\n      <td>1566581.50</td>\n      <td>90518.0</td>\n      <td>14.985939</td>\n      <td>1.367641e+07</td>\n      <td>4.264125e+06</td>\n      <td>3.870259</td>\n      <td>0.114546</td>\n    </tr>\n    <tr>\n      <th>85</th>\n      <td>Νησιά</td>\n      <td>SOFT DRINKS</td>\n      <td>757899.40</td>\n      <td>639921.0</td>\n      <td>1.402318</td>\n      <td>1.367641e+07</td>\n      <td>4.264125e+06</td>\n      <td>3.870259</td>\n      <td>0.055417</td>\n    </tr>\n    <tr>\n      <th>88</th>\n      <td>Νησιά</td>\n      <td>TOBACCO COMPL</td>\n      <td>374201.12</td>\n      <td>465475.0</td>\n      <td>10.931630</td>\n      <td>1.367641e+07</td>\n      <td>4.264125e+06</td>\n      <td>3.870259</td>\n      <td>0.027361</td>\n    </tr>\n    <tr>\n      <th>72</th>\n      <td>Νησιά</td>\n      <td>ALCOHOLIC BEVERAGES</td>\n      <td>361296.37</td>\n      <td>204144.0</td>\n      <td>4.356306</td>\n      <td>1.367641e+07</td>\n      <td>4.264125e+06</td>\n      <td>3.870259</td>\n      <td>0.026417</td>\n    </tr>\n    <tr>\n      <th>105</th>\n      <td>Πελοπόννησος</td>\n      <td>TOBACCO</td>\n      <td>11701558.49</td>\n      <td>2718021.0</td>\n      <td>5.042026</td>\n      <td>1.744485e+07</td>\n      <td>6.315637e+06</td>\n      <td>3.474728</td>\n      <td>0.670775</td>\n    </tr>\n    <tr>\n      <th>104</th>\n      <td>Πελοπόννησος</td>\n      <td>TICKETING AND ADMISSION SERVICES</td>\n      <td>1929142.42</td>\n      <td>121424.0</td>\n      <td>16.901979</td>\n      <td>1.744485e+07</td>\n      <td>6.315637e+06</td>\n      <td>3.474728</td>\n      <td>0.110585</td>\n    </tr>\n    <tr>\n      <th>103</th>\n      <td>Πελοπόννησος</td>\n      <td>SOFT DRINKS</td>\n      <td>867337.68</td>\n      <td>748967.0</td>\n      <td>1.362730</td>\n      <td>1.744485e+07</td>\n      <td>6.315637e+06</td>\n      <td>3.474728</td>\n      <td>0.049719</td>\n    </tr>\n    <tr>\n      <th>90</th>\n      <td>Πελοπόννησος</td>\n      <td>ALCOHOLIC BEVERAGES</td>\n      <td>561715.12</td>\n      <td>298786.0</td>\n      <td>5.901260</td>\n      <td>1.744485e+07</td>\n      <td>6.315637e+06</td>\n      <td>3.474728</td>\n      <td>0.032199</td>\n    </tr>\n    <tr>\n      <th>102</th>\n      <td>Πελοπόννησος</td>\n      <td>SNACKS</td>\n      <td>399797.92</td>\n      <td>309470.0</td>\n      <td>1.366206</td>\n      <td>1.744485e+07</td>\n      <td>6.315637e+06</td>\n      <td>3.474728</td>\n      <td>0.022918</td>\n    </tr>\n  </tbody>\n</table>\n</div>"
     },
     "execution_count": 231,
     "metadata": {},
     "output_type": "execute_result"
    }
   ],
   "source": [
    "# Group by Area and keep the top 3 categories of each area\n",
    "data1_grouped_kiosk = data1_grouped_kiosk.sort_values(['Area', 'Revenue_percentage'], ascending=[True, False])\n",
    "data1_grouped_kiosk = data1_grouped_kiosk.groupby('Area').head(5)\n",
    "data1_grouped_kiosk"
   ],
   "metadata": {
    "collapsed": false,
    "ExecuteTime": {
     "end_time": "2024-01-04T12:31:35.978189800Z",
     "start_time": "2024-01-04T12:31:35.882065900Z"
    }
   },
   "id": "5b019ae0f5e9ac20",
   "execution_count": 231
  },
  {
   "cell_type": "code",
   "outputs": [
    {
     "data": {
      "text/plain": "                         Area  Revenue_percentage\n0                      Αττική            0.891546\n1  Δυτική και Κεντρική Ελλάδα            0.928908\n2                       Κρήτη            0.887182\n3         Μακεδονία και Θράκη            0.912432\n4                       Νησιά            0.907221\n5                Πελοπόννησος            0.886196",
      "text/html": "<div>\n<style scoped>\n    .dataframe tbody tr th:only-of-type {\n        vertical-align: middle;\n    }\n\n    .dataframe tbody tr th {\n        vertical-align: top;\n    }\n\n    .dataframe thead th {\n        text-align: right;\n    }\n</style>\n<table border=\"1\" class=\"dataframe\">\n  <thead>\n    <tr style=\"text-align: right;\">\n      <th></th>\n      <th>Area</th>\n      <th>Revenue_percentage</th>\n    </tr>\n  </thead>\n  <tbody>\n    <tr>\n      <th>0</th>\n      <td>Αττική</td>\n      <td>0.891546</td>\n    </tr>\n    <tr>\n      <th>1</th>\n      <td>Δυτική και Κεντρική Ελλάδα</td>\n      <td>0.928908</td>\n    </tr>\n    <tr>\n      <th>2</th>\n      <td>Κρήτη</td>\n      <td>0.887182</td>\n    </tr>\n    <tr>\n      <th>3</th>\n      <td>Μακεδονία και Θράκη</td>\n      <td>0.912432</td>\n    </tr>\n    <tr>\n      <th>4</th>\n      <td>Νησιά</td>\n      <td>0.907221</td>\n    </tr>\n    <tr>\n      <th>5</th>\n      <td>Πελοπόννησος</td>\n      <td>0.886196</td>\n    </tr>\n  </tbody>\n</table>\n</div>"
     },
     "execution_count": 232,
     "metadata": {},
     "output_type": "execute_result"
    }
   ],
   "source": [
    "# Group by Area and calculate the sum of the percentage of revenue\n",
    "data1_grouped_kiosk_area = data1_grouped_kiosk.groupby(['Area']).agg(\n",
    "    {'Revenue_percentage': 'sum'}).reset_index()\n",
    "data1_grouped_kiosk_area"
   ],
   "metadata": {
    "collapsed": false,
    "ExecuteTime": {
     "end_time": "2024-01-04T12:31:35.978189800Z",
     "start_time": "2024-01-04T12:31:35.898132300Z"
    }
   },
   "id": "98768cc05debddc8",
   "execution_count": 232
  },
  {
   "cell_type": "markdown",
   "source": [
    "## Now the same for mini-markets"
   ],
   "metadata": {
    "collapsed": false
   },
   "id": "1507c8f508d7b0fe"
  },
  {
   "cell_type": "code",
   "outputs": [],
   "source": [],
   "metadata": {
    "collapsed": false,
    "ExecuteTime": {
     "end_time": "2024-01-04T12:31:35.979189700Z",
     "start_time": "2024-01-04T12:31:35.902951700Z"
    }
   },
   "id": "6743c96b595502e2",
   "execution_count": 232
  },
  {
   "cell_type": "code",
   "outputs": [
    {
     "data": {
      "text/plain": "      StoreId                          Category         Type  \\\n85       3545               ALCOHOLIC BEVERAGES  Mini-Market   \n86       3545                          BISCUITS  Mini-Market   \n87       3545                         CHOCOLATE  Mini-Market   \n88       3545                            COFFEE  Mini-Market   \n89       3545                             DAIRY  Mini-Market   \n...       ...                               ...          ...   \n3344    10963                       SOFT DRINKS  Mini-Market   \n3345    10963  TICKETING AND ADMISSION SERVICES  Mini-Market   \n3346    10963                           TOBACCO  Mini-Market   \n3347    10963                     TOBACCO COMPL  Mini-Market   \n3348    10963                              TOYS  Mini-Market   \n\n                            Area    Revenue  Quantity  Average_Price  \n85                        Αττική   12736.68    6708.0       5.172544  \n86                        Αττική    2037.50    1006.0       2.011174  \n87                        Αττική    9140.00    6309.0       1.151632  \n88                        Αττική    3149.00    1094.0       3.843351  \n89                        Αττική    5025.15    1622.0       2.804571  \n...                          ...        ...       ...            ...  \n3344  Δυτική και Κεντρική Ελλάδα   17042.89   13351.0       1.339156  \n3345  Δυτική και Κεντρική Ελλάδα   24878.50    1903.0      12.609595  \n3346  Δυτική και Κεντρική Ελλάδα  318587.70   73404.0       4.735000  \n3347  Δυτική και Κεντρική Ελλάδα    4425.96    6108.0       5.364182  \n3348  Δυτική και Κεντρική Ελλάδα    5078.05    2931.0       1.407894  \n\n[1894 rows x 7 columns]",
      "text/html": "<div>\n<style scoped>\n    .dataframe tbody tr th:only-of-type {\n        vertical-align: middle;\n    }\n\n    .dataframe tbody tr th {\n        vertical-align: top;\n    }\n\n    .dataframe thead th {\n        text-align: right;\n    }\n</style>\n<table border=\"1\" class=\"dataframe\">\n  <thead>\n    <tr style=\"text-align: right;\">\n      <th></th>\n      <th>StoreId</th>\n      <th>Category</th>\n      <th>Type</th>\n      <th>Area</th>\n      <th>Revenue</th>\n      <th>Quantity</th>\n      <th>Average_Price</th>\n    </tr>\n  </thead>\n  <tbody>\n    <tr>\n      <th>85</th>\n      <td>3545</td>\n      <td>ALCOHOLIC BEVERAGES</td>\n      <td>Mini-Market</td>\n      <td>Αττική</td>\n      <td>12736.68</td>\n      <td>6708.0</td>\n      <td>5.172544</td>\n    </tr>\n    <tr>\n      <th>86</th>\n      <td>3545</td>\n      <td>BISCUITS</td>\n      <td>Mini-Market</td>\n      <td>Αττική</td>\n      <td>2037.50</td>\n      <td>1006.0</td>\n      <td>2.011174</td>\n    </tr>\n    <tr>\n      <th>87</th>\n      <td>3545</td>\n      <td>CHOCOLATE</td>\n      <td>Mini-Market</td>\n      <td>Αττική</td>\n      <td>9140.00</td>\n      <td>6309.0</td>\n      <td>1.151632</td>\n    </tr>\n    <tr>\n      <th>88</th>\n      <td>3545</td>\n      <td>COFFEE</td>\n      <td>Mini-Market</td>\n      <td>Αττική</td>\n      <td>3149.00</td>\n      <td>1094.0</td>\n      <td>3.843351</td>\n    </tr>\n    <tr>\n      <th>89</th>\n      <td>3545</td>\n      <td>DAIRY</td>\n      <td>Mini-Market</td>\n      <td>Αττική</td>\n      <td>5025.15</td>\n      <td>1622.0</td>\n      <td>2.804571</td>\n    </tr>\n    <tr>\n      <th>...</th>\n      <td>...</td>\n      <td>...</td>\n      <td>...</td>\n      <td>...</td>\n      <td>...</td>\n      <td>...</td>\n      <td>...</td>\n    </tr>\n    <tr>\n      <th>3344</th>\n      <td>10963</td>\n      <td>SOFT DRINKS</td>\n      <td>Mini-Market</td>\n      <td>Δυτική και Κεντρική Ελλάδα</td>\n      <td>17042.89</td>\n      <td>13351.0</td>\n      <td>1.339156</td>\n    </tr>\n    <tr>\n      <th>3345</th>\n      <td>10963</td>\n      <td>TICKETING AND ADMISSION SERVICES</td>\n      <td>Mini-Market</td>\n      <td>Δυτική και Κεντρική Ελλάδα</td>\n      <td>24878.50</td>\n      <td>1903.0</td>\n      <td>12.609595</td>\n    </tr>\n    <tr>\n      <th>3346</th>\n      <td>10963</td>\n      <td>TOBACCO</td>\n      <td>Mini-Market</td>\n      <td>Δυτική και Κεντρική Ελλάδα</td>\n      <td>318587.70</td>\n      <td>73404.0</td>\n      <td>4.735000</td>\n    </tr>\n    <tr>\n      <th>3347</th>\n      <td>10963</td>\n      <td>TOBACCO COMPL</td>\n      <td>Mini-Market</td>\n      <td>Δυτική και Κεντρική Ελλάδα</td>\n      <td>4425.96</td>\n      <td>6108.0</td>\n      <td>5.364182</td>\n    </tr>\n    <tr>\n      <th>3348</th>\n      <td>10963</td>\n      <td>TOYS</td>\n      <td>Mini-Market</td>\n      <td>Δυτική και Κεντρική Ελλάδα</td>\n      <td>5078.05</td>\n      <td>2931.0</td>\n      <td>1.407894</td>\n    </tr>\n  </tbody>\n</table>\n<p>1894 rows × 7 columns</p>\n</div>"
     },
     "execution_count": 233,
     "metadata": {},
     "output_type": "execute_result"
    }
   ],
   "source": [
    "data1_grouped_mini_market"
   ],
   "metadata": {
    "collapsed": false,
    "ExecuteTime": {
     "end_time": "2024-01-04T12:31:35.998189900Z",
     "start_time": "2024-01-04T12:31:35.904464400Z"
    }
   },
   "id": "994fdec26257b627",
   "execution_count": 233
  },
  {
   "cell_type": "code",
   "outputs": [
    {
     "ename": "KeyError",
     "evalue": "'Revenue_percentage'",
     "output_type": "error",
     "traceback": [
      "\u001B[1;31m---------------------------------------------------------------------------\u001B[0m",
      "\u001B[1;31mKeyError\u001B[0m                                  Traceback (most recent call last)",
      "\u001B[1;32m~\\AppData\\Local\\Temp\\ipykernel_36668\\1481871489.py\u001B[0m in \u001B[0;36m?\u001B[1;34m()\u001B[0m\n\u001B[0;32m      1\u001B[0m \u001B[1;31m# For each StoreId get the top 3 categories by revenue\u001B[0m\u001B[1;33m\u001B[0m\u001B[1;33m\u001B[0m\u001B[0m\n\u001B[1;32m----> 2\u001B[1;33m \u001B[0mdata1_grouped_mini_market_store\u001B[0m \u001B[1;33m=\u001B[0m \u001B[0mdata1_grouped_mini_market\u001B[0m\u001B[1;33m.\u001B[0m\u001B[0msort_values\u001B[0m\u001B[1;33m(\u001B[0m\u001B[1;33m[\u001B[0m\u001B[1;34m'StoreId'\u001B[0m\u001B[1;33m,\u001B[0m \u001B[1;34m'Revenue_percentage'\u001B[0m\u001B[1;33m]\u001B[0m\u001B[1;33m,\u001B[0m \u001B[0mascending\u001B[0m\u001B[1;33m=\u001B[0m\u001B[1;33m[\u001B[0m\u001B[1;32mTrue\u001B[0m\u001B[1;33m,\u001B[0m \u001B[1;32mFalse\u001B[0m\u001B[1;33m]\u001B[0m\u001B[1;33m)\u001B[0m\u001B[1;33m\u001B[0m\u001B[1;33m\u001B[0m\u001B[0m\n\u001B[0m\u001B[0;32m      3\u001B[0m \u001B[0mdata1_grouped_mini_market_store\u001B[0m\u001B[1;33m\u001B[0m\u001B[1;33m\u001B[0m\u001B[0m\n",
      "\u001B[1;32m~\\AppData\\Local\\Programs\\Python\\Python311\\Lib\\site-packages\\pandas\\core\\frame.py\u001B[0m in \u001B[0;36m?\u001B[1;34m(self, by, axis, ascending, inplace, kind, na_position, ignore_index, key)\u001B[0m\n\u001B[0;32m   6926\u001B[0m                 \u001B[1;34mf\"Length of ascending ({len(ascending)})\"\u001B[0m  \u001B[1;31m# type: ignore[arg-type]\u001B[0m\u001B[1;33m\u001B[0m\u001B[1;33m\u001B[0m\u001B[0m\n\u001B[0;32m   6927\u001B[0m                 \u001B[1;34mf\" != length of by ({len(by)})\"\u001B[0m\u001B[1;33m\u001B[0m\u001B[1;33m\u001B[0m\u001B[0m\n\u001B[0;32m   6928\u001B[0m             )\n\u001B[0;32m   6929\u001B[0m         \u001B[1;32mif\u001B[0m \u001B[0mlen\u001B[0m\u001B[1;33m(\u001B[0m\u001B[0mby\u001B[0m\u001B[1;33m)\u001B[0m \u001B[1;33m>\u001B[0m \u001B[1;36m1\u001B[0m\u001B[1;33m:\u001B[0m\u001B[1;33m\u001B[0m\u001B[1;33m\u001B[0m\u001B[0m\n\u001B[1;32m-> 6930\u001B[1;33m             \u001B[0mkeys\u001B[0m \u001B[1;33m=\u001B[0m \u001B[1;33m[\u001B[0m\u001B[0mself\u001B[0m\u001B[1;33m.\u001B[0m\u001B[0m_get_label_or_level_values\u001B[0m\u001B[1;33m(\u001B[0m\u001B[0mx\u001B[0m\u001B[1;33m,\u001B[0m \u001B[0maxis\u001B[0m\u001B[1;33m=\u001B[0m\u001B[0maxis\u001B[0m\u001B[1;33m)\u001B[0m \u001B[1;32mfor\u001B[0m \u001B[0mx\u001B[0m \u001B[1;32min\u001B[0m \u001B[0mby\u001B[0m\u001B[1;33m]\u001B[0m\u001B[1;33m\u001B[0m\u001B[1;33m\u001B[0m\u001B[0m\n\u001B[0m\u001B[0;32m   6931\u001B[0m \u001B[1;33m\u001B[0m\u001B[0m\n\u001B[0;32m   6932\u001B[0m             \u001B[1;31m# need to rewrap columns in Series to apply key function\u001B[0m\u001B[1;33m\u001B[0m\u001B[1;33m\u001B[0m\u001B[0m\n\u001B[0;32m   6933\u001B[0m             \u001B[1;32mif\u001B[0m \u001B[0mkey\u001B[0m \u001B[1;32mis\u001B[0m \u001B[1;32mnot\u001B[0m \u001B[1;32mNone\u001B[0m\u001B[1;33m:\u001B[0m\u001B[1;33m\u001B[0m\u001B[1;33m\u001B[0m\u001B[0m\n",
      "\u001B[1;32m~\\AppData\\Local\\Programs\\Python\\Python311\\Lib\\site-packages\\pandas\\core\\frame.py\u001B[0m in \u001B[0;36m?\u001B[1;34m(.0)\u001B[0m\n\u001B[1;32m-> 6930\u001B[1;33m         \u001B[1;33m...\u001B[0m     \u001B[0mkey\u001B[0m\u001B[1;33m=\u001B[0m\u001B[1;32mlambda\u001B[0m \u001B[0mx\u001B[0m\u001B[1;33m:\u001B[0m \u001B[0mnp\u001B[0m\u001B[1;33m.\u001B[0m\u001B[0margsort\u001B[0m\u001B[1;33m(\u001B[0m\u001B[0mindex_natsorted\u001B[0m\u001B[1;33m(\u001B[0m\u001B[0mdf\u001B[0m\u001B[1;33m[\u001B[0m\u001B[1;34m\"time\"\u001B[0m\u001B[1;33m]\u001B[0m\u001B[1;33m)\u001B[0m\u001B[1;33m)\u001B[0m\u001B[1;33m\u001B[0m\u001B[1;33m\u001B[0m\u001B[0m\n\u001B[0m",
      "\u001B[1;32m~\\AppData\\Local\\Programs\\Python\\Python311\\Lib\\site-packages\\pandas\\core\\generic.py\u001B[0m in \u001B[0;36m?\u001B[1;34m(self, key, axis)\u001B[0m\n\u001B[0;32m   1840\u001B[0m             \u001B[0mvalues\u001B[0m \u001B[1;33m=\u001B[0m \u001B[0mself\u001B[0m\u001B[1;33m.\u001B[0m\u001B[0mxs\u001B[0m\u001B[1;33m(\u001B[0m\u001B[0mkey\u001B[0m\u001B[1;33m,\u001B[0m \u001B[0maxis\u001B[0m\u001B[1;33m=\u001B[0m\u001B[0mother_axes\u001B[0m\u001B[1;33m[\u001B[0m\u001B[1;36m0\u001B[0m\u001B[1;33m]\u001B[0m\u001B[1;33m)\u001B[0m\u001B[1;33m.\u001B[0m\u001B[0m_values\u001B[0m\u001B[1;33m\u001B[0m\u001B[1;33m\u001B[0m\u001B[0m\n\u001B[0;32m   1841\u001B[0m         \u001B[1;32melif\u001B[0m \u001B[0mself\u001B[0m\u001B[1;33m.\u001B[0m\u001B[0m_is_level_reference\u001B[0m\u001B[1;33m(\u001B[0m\u001B[0mkey\u001B[0m\u001B[1;33m,\u001B[0m \u001B[0maxis\u001B[0m\u001B[1;33m=\u001B[0m\u001B[0maxis\u001B[0m\u001B[1;33m)\u001B[0m\u001B[1;33m:\u001B[0m\u001B[1;33m\u001B[0m\u001B[1;33m\u001B[0m\u001B[0m\n\u001B[0;32m   1842\u001B[0m             \u001B[0mvalues\u001B[0m \u001B[1;33m=\u001B[0m \u001B[0mself\u001B[0m\u001B[1;33m.\u001B[0m\u001B[0maxes\u001B[0m\u001B[1;33m[\u001B[0m\u001B[0maxis\u001B[0m\u001B[1;33m]\u001B[0m\u001B[1;33m.\u001B[0m\u001B[0mget_level_values\u001B[0m\u001B[1;33m(\u001B[0m\u001B[0mkey\u001B[0m\u001B[1;33m)\u001B[0m\u001B[1;33m.\u001B[0m\u001B[0m_values\u001B[0m\u001B[1;33m\u001B[0m\u001B[1;33m\u001B[0m\u001B[0m\n\u001B[0;32m   1843\u001B[0m         \u001B[1;32melse\u001B[0m\u001B[1;33m:\u001B[0m\u001B[1;33m\u001B[0m\u001B[1;33m\u001B[0m\u001B[0m\n\u001B[1;32m-> 1844\u001B[1;33m             \u001B[1;32mraise\u001B[0m \u001B[0mKeyError\u001B[0m\u001B[1;33m(\u001B[0m\u001B[0mkey\u001B[0m\u001B[1;33m)\u001B[0m\u001B[1;33m\u001B[0m\u001B[1;33m\u001B[0m\u001B[0m\n\u001B[0m\u001B[0;32m   1845\u001B[0m \u001B[1;33m\u001B[0m\u001B[0m\n\u001B[0;32m   1846\u001B[0m         \u001B[1;31m# Check for duplicates\u001B[0m\u001B[1;33m\u001B[0m\u001B[1;33m\u001B[0m\u001B[0m\n\u001B[0;32m   1847\u001B[0m         \u001B[1;32mif\u001B[0m \u001B[0mvalues\u001B[0m\u001B[1;33m.\u001B[0m\u001B[0mndim\u001B[0m \u001B[1;33m>\u001B[0m \u001B[1;36m1\u001B[0m\u001B[1;33m:\u001B[0m\u001B[1;33m\u001B[0m\u001B[1;33m\u001B[0m\u001B[0m\n",
      "\u001B[1;31mKeyError\u001B[0m: 'Revenue_percentage'"
     ]
    }
   ],
   "source": [
    "# For each StoreId get the top 3 categories by revenue\n",
    "data1_grouped_mini_market_store = data1_grouped_mini_market.sort_values(['StoreId', 'Revenue_percentage'], ascending=[True, False])\n",
    "data1_grouped_mini_market_store"
   ],
   "metadata": {
    "collapsed": false,
    "ExecuteTime": {
     "end_time": "2024-01-04T12:31:36.029190900Z",
     "start_time": "2024-01-04T12:31:35.912165800Z"
    }
   },
   "id": "685359461f216cd3",
   "execution_count": 234
  },
  {
   "cell_type": "code",
   "outputs": [],
   "source": [
    "# Group by Area and Subcategory and calculate the sum of the revenue\n",
    "data1_grouped_mini_market = data1_grouped_mini_market.groupby(['Area', 'Category']).agg(\n",
    "    {'Revenue': 'sum', 'Quantity': 'sum', 'Average_Price': 'mean'}).reset_index()\n",
    "data1_grouped_mini_market"
   ],
   "metadata": {
    "collapsed": false,
    "ExecuteTime": {
     "start_time": "2024-01-04T12:31:35.930191300Z"
    }
   },
   "id": "ce1ed4602a33b488",
   "execution_count": null
  },
  {
   "cell_type": "code",
   "outputs": [],
   "source": [
    "# Calculate the total revenue per area \n",
    "data1_grouped_mini_market_area = data1_grouped_mini_market.groupby(['Area']).agg(\n",
    "    {'Revenue': 'sum', 'Quantity': 'sum', 'Average_Price': 'mean'}).reset_index()\n",
    "data1_grouped_mini_market_area"
   ],
   "metadata": {
    "collapsed": false,
    "ExecuteTime": {
     "start_time": "2024-01-04T12:31:35.931192600Z"
    }
   },
   "id": "aa79c6ac612244a6",
   "execution_count": null
  },
  {
   "cell_type": "code",
   "outputs": [],
   "source": [
    "# For each subcategory, calculate the percentage of revenue per area\n",
    "data1_grouped_mini_market = data1_grouped_mini_market.merge(data1_grouped_mini_market_area, on='Area', suffixes=('', '_total'))\n",
    "data1_grouped_mini_market['Revenue_percentage'] = (data1_grouped_mini_market['Revenue'] / data1_grouped_mini_market['Revenue_total'])\n",
    "data1_grouped_mini_market"
   ],
   "metadata": {
    "collapsed": false,
    "ExecuteTime": {
     "start_time": "2024-01-04T12:31:35.932192100Z"
    }
   },
   "id": "ecb742c3007ea249",
   "execution_count": null
  },
  {
   "cell_type": "code",
   "outputs": [],
   "source": [
    "# Group by Area and keep the top 3 categories of each area\n",
    "data1_grouped_mini_market = data1_grouped_mini_market.sort_values(['Area', 'Revenue_percentage'], ascending=[True, False])\n",
    "data1_grouped_mini_market = data1_grouped_mini_market.groupby('Area').head(5)\n",
    "data1_grouped_mini_market"
   ],
   "metadata": {
    "collapsed": false,
    "ExecuteTime": {
     "start_time": "2024-01-04T12:31:35.933192200Z"
    }
   },
   "id": "993c73595fbc8c30",
   "execution_count": null
  },
  {
   "cell_type": "code",
   "outputs": [],
   "source": [
    "# Νοw get the stores for each area\n"
   ],
   "metadata": {
    "collapsed": false,
    "ExecuteTime": {
     "start_time": "2024-01-04T12:31:35.934192400Z"
    }
   },
   "id": "f2bad78c36c1185e"
  },
  {
   "cell_type": "markdown",
   "source": [
    "## Clustering for kiosks"
   ],
   "metadata": {
    "collapsed": false
   },
   "id": "9df1540d8cb4b4e8"
  },
  {
   "cell_type": "code",
   "outputs": [],
   "source": [
    "from sklearn.preprocessing import StandardScaler, OneHotEncoder\n",
    "from sklearn.compose import ColumnTransformer\n",
    "\n",
    "# Selecting relevant columns\n",
    "data_for_clustering = data1_grouped_kiosk[['Subcategory', 'Area', 'Average_Price', 'Revenue']]\n",
    "\n",
    "preprocessor = ColumnTransformer(\n",
    "    transformers=[\n",
    "        ('num', StandardScaler(), ['Average_Price', 'Revenue']),\n",
    "        ('cat', OneHotEncoder(), ['Subcategory', 'Area'])\n",
    "    ])"
   ],
   "metadata": {
    "collapsed": false,
    "ExecuteTime": {
     "start_time": "2024-01-04T12:31:35.935191500Z"
    }
   },
   "id": "7172899700cc3aed",
   "execution_count": null
  },
  {
   "cell_type": "code",
   "outputs": [],
   "source": [
    "# Apply the transformations\n",
    "data_preprocessed = preprocessor.fit_transform(data_for_clustering)"
   ],
   "metadata": {
    "collapsed": false,
    "ExecuteTime": {
     "start_time": "2024-01-04T12:31:35.936192900Z"
    }
   },
   "id": "56a6b33084b7ca40",
   "execution_count": null
  },
  {
   "cell_type": "code",
   "outputs": [],
   "source": [
    "from yellowbrick.cluster import KElbowVisualizer\n",
    "from sklearn.cluster import KMeans\n",
    "import numpy as np\n",
    "data_preprocessed_array = np.asarray(data_preprocessed)\n",
    "\n",
    "# Perform the elbow method to find the optimal number of clusters\n",
    "model = KMeans(n_init='auto', max_iter=1000, random_state=0)\n",
    "visualizer = KElbowVisualizer(model, k=(2, 10))\n",
    "visualizer.fit(data_preprocessed_array)\n",
    "visualizer.show()"
   ],
   "metadata": {
    "collapsed": false,
    "ExecuteTime": {
     "start_time": "2024-01-04T12:31:35.937192300Z"
    }
   },
   "id": "1b24a1b43368a85f",
   "execution_count": null
  },
  {
   "cell_type": "code",
   "outputs": [],
   "source": [],
   "metadata": {
    "collapsed": false,
    "ExecuteTime": {
     "start_time": "2024-01-04T12:31:35.937192300Z"
    }
   },
   "id": "a998323db5f4bade"
  }
 ],
 "metadata": {
  "kernelspec": {
   "display_name": "Python 3",
   "language": "python",
   "name": "python3"
  },
  "language_info": {
   "codemirror_mode": {
    "name": "ipython",
    "version": 2
   },
   "file_extension": ".py",
   "mimetype": "text/x-python",
   "name": "python",
   "nbconvert_exporter": "python",
   "pygments_lexer": "ipython2",
   "version": "2.7.6"
  }
 },
 "nbformat": 4,
 "nbformat_minor": 5
}
